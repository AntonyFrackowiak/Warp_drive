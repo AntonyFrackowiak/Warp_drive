{
 "cells": [
  {
   "cell_type": "markdown",
   "id": "8fff6b7b-2df2-4520-bfc9-99e6473300a4",
   "metadata": {},
   "source": [
    "# R-Warp design with one velocity component (case with vorticity) "
   ]
  },
  {
   "cell_type": "code",
   "execution_count": 1,
   "id": "c9f51ba1-18af-4d21-a12c-e3178c097a5e",
   "metadata": {},
   "outputs": [],
   "source": [
    "%display latex"
   ]
  },
  {
   "cell_type": "markdown",
   "id": "e1663ab0-0dec-4bf8-946c-640ecdbac40e",
   "metadata": {},
   "source": [
    "# 1. Manifold"
   ]
  },
  {
   "cell_type": "code",
   "execution_count": 2,
   "id": "9d2f406d-00c5-42c7-abe0-220283fe3fb9",
   "metadata": {},
   "outputs": [],
   "source": [
    "M = Manifold(4, 'M', structure=\"Lorentzian\")\n",
    "N = Manifold(3, 'N', ambient=M, structure=\"Riemannian\")"
   ]
  },
  {
   "cell_type": "markdown",
   "id": "2dec60a3-3e1e-4ecd-b4a5-95e95067031c",
   "metadata": {},
   "source": [
    "# 2. Chart"
   ]
  },
  {
   "cell_type": "code",
   "execution_count": 3,
   "id": "a9604301-490e-4da7-82de-640ab25ea9e8",
   "metadata": {},
   "outputs": [],
   "source": [
    "C.<t,x,y,z> = M.chart(r't:(-oo,+oo) x:(-oo,+oo) y:(-oo,+oo) z:(-oo,+oo)')"
   ]
  },
  {
   "cell_type": "markdown",
   "id": "24458909-e975-4ffc-8224-06a0e8a327a5",
   "metadata": {},
   "source": [
    "# 3. Metric"
   ]
  },
  {
   "cell_type": "code",
   "execution_count": 4,
   "id": "251328d2-3d69-4281-866b-1e9013b1c27e",
   "metadata": {},
   "outputs": [],
   "source": [
    " g=M.metric(name='dS^2')"
   ]
  },
  {
   "cell_type": "markdown",
   "id": "15dc9b90-79d4-4f28-a44b-de1804d1fdf5",
   "metadata": {},
   "source": [
    "# 3.1. Functions"
   ]
  },
  {
   "cell_type": "code",
   "execution_count": 5,
   "id": "5665595b-3dee-48f5-bb62-34cad4ddc1ff",
   "metadata": {},
   "outputs": [],
   "source": [
    "V = M.scalar_field(function('V')(t,x,y,z), name='V')"
   ]
  },
  {
   "cell_type": "markdown",
   "id": "da71c55e-91d3-44ac-a36d-b8ba6fce5f03",
   "metadata": {},
   "source": [
    "# 3.2. Components of the metric"
   ]
  },
  {
   "cell_type": "code",
   "execution_count": 6,
   "id": "fb9e4865-accd-447b-8ba3-1bbfac2d8aef",
   "metadata": {},
   "outputs": [],
   "source": [
    "g[0,0]=-1 + V**2\n",
    "g[1,1]=1\n",
    "g[0,1]=-V\n",
    "g[2,2]=1\n",
    "g[3,3]=1"
   ]
  },
  {
   "cell_type": "code",
   "execution_count": 7,
   "id": "d1efaaf3-90b7-4397-a1bb-3f6f72835034",
   "metadata": {},
   "outputs": [
    {
     "data": {
      "text/html": [
       "<html>\\(\\displaystyle \\left(\\begin{array}{rrrr}\n",
       "V\\left(t, x, y, z\\right)^{2} - 1 & -V\\left(t, x, y, z\\right) & 0 & 0 \\\\\n",
       "-V\\left(t, x, y, z\\right) & 1 & 0 & 0 \\\\\n",
       "0 & 0 & 1 & 0 \\\\\n",
       "0 & 0 & 0 & 1\n",
       "\\end{array}\\right)\\)</html>"
      ],
      "text/latex": [
       "$\\displaystyle \\left(\\begin{array}{rrrr}\n",
       "V\\left(t, x, y, z\\right)^{2} - 1 & -V\\left(t, x, y, z\\right) & 0 & 0 \\\\\n",
       "-V\\left(t, x, y, z\\right) & 1 & 0 & 0 \\\\\n",
       "0 & 0 & 1 & 0 \\\\\n",
       "0 & 0 & 0 & 1\n",
       "\\end{array}\\right)$"
      ],
      "text/plain": [
       "[V(t, x, y, z)^2 - 1      -V(t, x, y, z)                   0                   0]\n",
       "[     -V(t, x, y, z)                   1                   0                   0]\n",
       "[                  0                   0                   1                   0]\n",
       "[                  0                   0                   0                   1]"
      ]
     },
     "execution_count": 7,
     "metadata": {},
     "output_type": "execute_result"
    }
   ],
   "source": [
    "g[:]"
   ]
  },
  {
   "cell_type": "markdown",
   "id": "b8b12b18-eefe-4329-8433-e7f44658bef2",
   "metadata": {},
   "source": [
    "# 3.3. Inverse metrical"
   ]
  },
  {
   "cell_type": "code",
   "execution_count": 8,
   "id": "ea2417b4-362b-440b-81af-98aa8f50e41d",
   "metadata": {},
   "outputs": [],
   "source": [
    "ginv=g.inverse()"
   ]
  },
  {
   "cell_type": "code",
   "execution_count": 9,
   "id": "90adc8bb-8aa9-4851-8c8b-1980927e2042",
   "metadata": {},
   "outputs": [
    {
     "data": {
      "text/html": [
       "<html>\\(\\displaystyle \\left(\\begin{array}{rrrr}\n",
       "-1 & -V\\left(t, x, y, z\\right) & 0 & 0 \\\\\n",
       "-V\\left(t, x, y, z\\right) & -V\\left(t, x, y, z\\right)^{2} + 1 & 0 & 0 \\\\\n",
       "0 & 0 & 1 & 0 \\\\\n",
       "0 & 0 & 0 & 1\n",
       "\\end{array}\\right)\\)</html>"
      ],
      "text/latex": [
       "$\\displaystyle \\left(\\begin{array}{rrrr}\n",
       "-1 & -V\\left(t, x, y, z\\right) & 0 & 0 \\\\\n",
       "-V\\left(t, x, y, z\\right) & -V\\left(t, x, y, z\\right)^{2} + 1 & 0 & 0 \\\\\n",
       "0 & 0 & 1 & 0 \\\\\n",
       "0 & 0 & 0 & 1\n",
       "\\end{array}\\right)$"
      ],
      "text/plain": [
       "[                  -1       -V(t, x, y, z)                    0                    0]\n",
       "[      -V(t, x, y, z) -V(t, x, y, z)^2 + 1                    0                    0]\n",
       "[                   0                    0                    1                    0]\n",
       "[                   0                    0                    0                    1]"
      ]
     },
     "execution_count": 9,
     "metadata": {},
     "output_type": "execute_result"
    }
   ],
   "source": [
    "ginv[:]"
   ]
  },
  {
   "cell_type": "markdown",
   "id": "a6b58d39-1b9d-4a80-b39e-c52fd866a480",
   "metadata": {},
   "source": [
    "# 4. Connection"
   ]
  },
  {
   "cell_type": "code",
   "execution_count": 10,
   "id": "5f33afb4-160a-418a-aee9-025a59d883c8",
   "metadata": {},
   "outputs": [],
   "source": [
    "nab = g.connection()"
   ]
  },
  {
   "cell_type": "markdown",
   "id": "a6601fac-43cd-466d-aba0-88437bd6e80a",
   "metadata": {},
   "source": [
    "# 5. Christoffel symbols"
   ]
  },
  {
   "cell_type": "code",
   "execution_count": 11,
   "id": "f095b7eb-5931-451f-a326-9272f4ffc10f",
   "metadata": {},
   "outputs": [
    {
     "data": {
      "text/html": [
       "<html>\\(\\displaystyle \\begin{array}{lcl} \\Gamma_{ \\phantom{\\, t} \\, t \\, t }^{ \\, t \\phantom{\\, t} \\phantom{\\, t} } & = & V\\left(t, x, y, z\\right)^{2} \\frac{\\partial\\,V}{\\partial x} \\\\ \\Gamma_{ \\phantom{\\, t} \\, t \\, x }^{ \\, t \\phantom{\\, t} \\phantom{\\, x} } & = & -V\\left(t, x, y, z\\right) \\frac{\\partial\\,V}{\\partial x} \\\\ \\Gamma_{ \\phantom{\\, t} \\, t \\, y }^{ \\, t \\phantom{\\, t} \\phantom{\\, y} } & = & -\\frac{1}{2} \\, V\\left(t, x, y, z\\right) \\frac{\\partial\\,V}{\\partial y} \\\\ \\Gamma_{ \\phantom{\\, t} \\, t \\, z }^{ \\, t \\phantom{\\, t} \\phantom{\\, z} } & = & -\\frac{1}{2} \\, V\\left(t, x, y, z\\right) \\frac{\\partial\\,V}{\\partial z} \\\\ \\Gamma_{ \\phantom{\\, t} \\, x \\, x }^{ \\, t \\phantom{\\, x} \\phantom{\\, x} } & = & \\frac{\\partial\\,V}{\\partial x} \\\\ \\Gamma_{ \\phantom{\\, t} \\, x \\, y }^{ \\, t \\phantom{\\, x} \\phantom{\\, y} } & = & \\frac{1}{2} \\, \\frac{\\partial\\,V}{\\partial y} \\\\ \\Gamma_{ \\phantom{\\, t} \\, x \\, z }^{ \\, t \\phantom{\\, x} \\phantom{\\, z} } & = & \\frac{1}{2} \\, \\frac{\\partial\\,V}{\\partial z} \\\\ \\Gamma_{ \\phantom{\\, x} \\, t \\, t }^{ \\, x \\phantom{\\, t} \\phantom{\\, t} } & = & {\\left(V\\left(t, x, y, z\\right)^{3} - V\\left(t, x, y, z\\right)\\right)} \\frac{\\partial\\,V}{\\partial x} - \\frac{\\partial\\,V}{\\partial t} \\\\ \\Gamma_{ \\phantom{\\, x} \\, t \\, x }^{ \\, x \\phantom{\\, t} \\phantom{\\, x} } & = & -V\\left(t, x, y, z\\right)^{2} \\frac{\\partial\\,V}{\\partial x} \\\\ \\Gamma_{ \\phantom{\\, x} \\, t \\, y }^{ \\, x \\phantom{\\, t} \\phantom{\\, y} } & = & -\\frac{1}{2} \\, {\\left(V\\left(t, x, y, z\\right)^{2} + 1\\right)} \\frac{\\partial\\,V}{\\partial y} \\\\ \\Gamma_{ \\phantom{\\, x} \\, t \\, z }^{ \\, x \\phantom{\\, t} \\phantom{\\, z} } & = & -\\frac{1}{2} \\, {\\left(V\\left(t, x, y, z\\right)^{2} + 1\\right)} \\frac{\\partial\\,V}{\\partial z} \\\\ \\Gamma_{ \\phantom{\\, x} \\, x \\, x }^{ \\, x \\phantom{\\, x} \\phantom{\\, x} } & = & V\\left(t, x, y, z\\right) \\frac{\\partial\\,V}{\\partial x} \\\\ \\Gamma_{ \\phantom{\\, x} \\, x \\, y }^{ \\, x \\phantom{\\, x} \\phantom{\\, y} } & = & \\frac{1}{2} \\, V\\left(t, x, y, z\\right) \\frac{\\partial\\,V}{\\partial y} \\\\ \\Gamma_{ \\phantom{\\, x} \\, x \\, z }^{ \\, x \\phantom{\\, x} \\phantom{\\, z} } & = & \\frac{1}{2} \\, V\\left(t, x, y, z\\right) \\frac{\\partial\\,V}{\\partial z} \\\\ \\Gamma_{ \\phantom{\\, y} \\, t \\, t }^{ \\, y \\phantom{\\, t} \\phantom{\\, t} } & = & -V\\left(t, x, y, z\\right) \\frac{\\partial\\,V}{\\partial y} \\\\ \\Gamma_{ \\phantom{\\, y} \\, t \\, x }^{ \\, y \\phantom{\\, t} \\phantom{\\, x} } & = & \\frac{1}{2} \\, \\frac{\\partial\\,V}{\\partial y} \\\\ \\Gamma_{ \\phantom{\\, z} \\, t \\, t }^{ \\, z \\phantom{\\, t} \\phantom{\\, t} } & = & -V\\left(t, x, y, z\\right) \\frac{\\partial\\,V}{\\partial z} \\\\ \\Gamma_{ \\phantom{\\, z} \\, t \\, x }^{ \\, z \\phantom{\\, t} \\phantom{\\, x} } & = & \\frac{1}{2} \\, \\frac{\\partial\\,V}{\\partial z} \\end{array}\\)</html>"
      ],
      "text/latex": [
       "$\\displaystyle \\begin{array}{lcl} \\Gamma_{ \\phantom{\\, t} \\, t \\, t }^{ \\, t \\phantom{\\, t} \\phantom{\\, t} } & = & V\\left(t, x, y, z\\right)^{2} \\frac{\\partial\\,V}{\\partial x} \\\\ \\Gamma_{ \\phantom{\\, t} \\, t \\, x }^{ \\, t \\phantom{\\, t} \\phantom{\\, x} } & = & -V\\left(t, x, y, z\\right) \\frac{\\partial\\,V}{\\partial x} \\\\ \\Gamma_{ \\phantom{\\, t} \\, t \\, y }^{ \\, t \\phantom{\\, t} \\phantom{\\, y} } & = & -\\frac{1}{2} \\, V\\left(t, x, y, z\\right) \\frac{\\partial\\,V}{\\partial y} \\\\ \\Gamma_{ \\phantom{\\, t} \\, t \\, z }^{ \\, t \\phantom{\\, t} \\phantom{\\, z} } & = & -\\frac{1}{2} \\, V\\left(t, x, y, z\\right) \\frac{\\partial\\,V}{\\partial z} \\\\ \\Gamma_{ \\phantom{\\, t} \\, x \\, x }^{ \\, t \\phantom{\\, x} \\phantom{\\, x} } & = & \\frac{\\partial\\,V}{\\partial x} \\\\ \\Gamma_{ \\phantom{\\, t} \\, x \\, y }^{ \\, t \\phantom{\\, x} \\phantom{\\, y} } & = & \\frac{1}{2} \\, \\frac{\\partial\\,V}{\\partial y} \\\\ \\Gamma_{ \\phantom{\\, t} \\, x \\, z }^{ \\, t \\phantom{\\, x} \\phantom{\\, z} } & = & \\frac{1}{2} \\, \\frac{\\partial\\,V}{\\partial z} \\\\ \\Gamma_{ \\phantom{\\, x} \\, t \\, t }^{ \\, x \\phantom{\\, t} \\phantom{\\, t} } & = & {\\left(V\\left(t, x, y, z\\right)^{3} - V\\left(t, x, y, z\\right)\\right)} \\frac{\\partial\\,V}{\\partial x} - \\frac{\\partial\\,V}{\\partial t} \\\\ \\Gamma_{ \\phantom{\\, x} \\, t \\, x }^{ \\, x \\phantom{\\, t} \\phantom{\\, x} } & = & -V\\left(t, x, y, z\\right)^{2} \\frac{\\partial\\,V}{\\partial x} \\\\ \\Gamma_{ \\phantom{\\, x} \\, t \\, y }^{ \\, x \\phantom{\\, t} \\phantom{\\, y} } & = & -\\frac{1}{2} \\, {\\left(V\\left(t, x, y, z\\right)^{2} + 1\\right)} \\frac{\\partial\\,V}{\\partial y} \\\\ \\Gamma_{ \\phantom{\\, x} \\, t \\, z }^{ \\, x \\phantom{\\, t} \\phantom{\\, z} } & = & -\\frac{1}{2} \\, {\\left(V\\left(t, x, y, z\\right)^{2} + 1\\right)} \\frac{\\partial\\,V}{\\partial z} \\\\ \\Gamma_{ \\phantom{\\, x} \\, x \\, x }^{ \\, x \\phantom{\\, x} \\phantom{\\, x} } & = & V\\left(t, x, y, z\\right) \\frac{\\partial\\,V}{\\partial x} \\\\ \\Gamma_{ \\phantom{\\, x} \\, x \\, y }^{ \\, x \\phantom{\\, x} \\phantom{\\, y} } & = & \\frac{1}{2} \\, V\\left(t, x, y, z\\right) \\frac{\\partial\\,V}{\\partial y} \\\\ \\Gamma_{ \\phantom{\\, x} \\, x \\, z }^{ \\, x \\phantom{\\, x} \\phantom{\\, z} } & = & \\frac{1}{2} \\, V\\left(t, x, y, z\\right) \\frac{\\partial\\,V}{\\partial z} \\\\ \\Gamma_{ \\phantom{\\, y} \\, t \\, t }^{ \\, y \\phantom{\\, t} \\phantom{\\, t} } & = & -V\\left(t, x, y, z\\right) \\frac{\\partial\\,V}{\\partial y} \\\\ \\Gamma_{ \\phantom{\\, y} \\, t \\, x }^{ \\, y \\phantom{\\, t} \\phantom{\\, x} } & = & \\frac{1}{2} \\, \\frac{\\partial\\,V}{\\partial y} \\\\ \\Gamma_{ \\phantom{\\, z} \\, t \\, t }^{ \\, z \\phantom{\\, t} \\phantom{\\, t} } & = & -V\\left(t, x, y, z\\right) \\frac{\\partial\\,V}{\\partial z} \\\\ \\Gamma_{ \\phantom{\\, z} \\, t \\, x }^{ \\, z \\phantom{\\, t} \\phantom{\\, x} } & = & \\frac{1}{2} \\, \\frac{\\partial\\,V}{\\partial z} \\end{array}$"
      ],
      "text/plain": [
       "Gam^t_tt = V(t, x, y, z)^2*d(V)/dx \n",
       "Gam^t_tx = -V(t, x, y, z)*d(V)/dx \n",
       "Gam^t_ty = -1/2*V(t, x, y, z)*d(V)/dy \n",
       "Gam^t_tz = -1/2*V(t, x, y, z)*d(V)/dz \n",
       "Gam^t_xx = d(V)/dx \n",
       "Gam^t_xy = 1/2*d(V)/dy \n",
       "Gam^t_xz = 1/2*d(V)/dz \n",
       "Gam^x_tt = (V(t, x, y, z)^3 - V(t, x, y, z))*d(V)/dx - d(V)/dt \n",
       "Gam^x_tx = -V(t, x, y, z)^2*d(V)/dx \n",
       "Gam^x_ty = -1/2*(V(t, x, y, z)^2 + 1)*d(V)/dy \n",
       "Gam^x_tz = -1/2*(V(t, x, y, z)^2 + 1)*d(V)/dz \n",
       "Gam^x_xx = V(t, x, y, z)*d(V)/dx \n",
       "Gam^x_xy = 1/2*V(t, x, y, z)*d(V)/dy \n",
       "Gam^x_xz = 1/2*V(t, x, y, z)*d(V)/dz \n",
       "Gam^y_tt = -V(t, x, y, z)*d(V)/dy \n",
       "Gam^y_tx = 1/2*d(V)/dy \n",
       "Gam^z_tt = -V(t, x, y, z)*d(V)/dz \n",
       "Gam^z_tx = 1/2*d(V)/dz "
      ]
     },
     "execution_count": 11,
     "metadata": {},
     "output_type": "execute_result"
    }
   ],
   "source": [
    "nab.display(only_nonredundant=True)"
   ]
  },
  {
   "cell_type": "markdown",
   "id": "2dd65415-b40c-4a82-845e-b84c2a52a637",
   "metadata": {},
   "source": [
    "# 5.1. Curvature"
   ]
  },
  {
   "cell_type": "code",
   "execution_count": 12,
   "id": "147baa94-a024-4f1d-98cc-ddf8f9e405ce",
   "metadata": {},
   "outputs": [],
   "source": [
    "Ric=g.ricci()\n",
    "Scal=Ric['_{ij}']*ginv['^{ij}']\n",
    "Ein = Ric-(Scal/2)*g\n",
    "Riem = g.riemann()"
   ]
  },
  {
   "cell_type": "markdown",
   "id": "10c8762e-5d8d-4681-84df-5ff320beb040",
   "metadata": {},
   "source": [
    "# 5.2. Riemann and Ricci Tensors"
   ]
  },
  {
   "cell_type": "code",
   "execution_count": 13,
   "id": "44cf94f9-5215-45b8-9061-c39da7a5af26",
   "metadata": {},
   "outputs": [
    {
     "data": {
      "text/html": [
       "<html>\\(\\displaystyle \\mathrm{Riem}\\left(dS^2\\right) = \\left( -V\\left(t, x, y, z\\right) \\left(\\frac{\\partial\\,V}{\\partial x}\\right)^{2} - V\\left(t, x, y, z\\right)^{2} \\frac{\\partial^2\\,V}{\\partial x ^ 2} + \\frac{1}{4} \\, V\\left(t, x, y, z\\right) \\left(\\frac{\\partial\\,V}{\\partial y}\\right)^{2} + \\frac{1}{4} \\, V\\left(t, x, y, z\\right) \\left(\\frac{\\partial\\,V}{\\partial z}\\right)^{2} - V\\left(t, x, y, z\\right) \\frac{\\partial^2\\,V}{\\partial t\\partial x} \\right) \\frac{\\partial}{\\partial t }\\otimes \\mathrm{d} t\\otimes \\mathrm{d} t\\otimes \\mathrm{d} x + \\left( -V\\left(t, x, y, z\\right)^{2} \\frac{\\partial^2\\,V}{\\partial x\\partial y} - V\\left(t, x, y, z\\right) \\frac{\\partial\\,V}{\\partial x} \\frac{\\partial\\,V}{\\partial y} - \\frac{1}{2} \\, V\\left(t, x, y, z\\right) \\frac{\\partial^2\\,V}{\\partial t\\partial y} \\right) \\frac{\\partial}{\\partial t }\\otimes \\mathrm{d} t\\otimes \\mathrm{d} t\\otimes \\mathrm{d} y + \\left( -V\\left(t, x, y, z\\right)^{2} \\frac{\\partial^2\\,V}{\\partial x\\partial z} - V\\left(t, x, y, z\\right) \\frac{\\partial\\,V}{\\partial x} \\frac{\\partial\\,V}{\\partial z} - \\frac{1}{2} \\, V\\left(t, x, y, z\\right) \\frac{\\partial^2\\,V}{\\partial t\\partial z} \\right) \\frac{\\partial}{\\partial t }\\otimes \\mathrm{d} t\\otimes \\mathrm{d} t\\otimes \\mathrm{d} z + \\left( V\\left(t, x, y, z\\right) \\left(\\frac{\\partial\\,V}{\\partial x}\\right)^{2} + V\\left(t, x, y, z\\right)^{2} \\frac{\\partial^2\\,V}{\\partial x ^ 2} - \\frac{1}{4} \\, V\\left(t, x, y, z\\right) \\left(\\frac{\\partial\\,V}{\\partial y}\\right)^{2} - \\frac{1}{4} \\, V\\left(t, x, y, z\\right) \\left(\\frac{\\partial\\,V}{\\partial z}\\right)^{2} + V\\left(t, x, y, z\\right) \\frac{\\partial^2\\,V}{\\partial t\\partial x} \\right) \\frac{\\partial}{\\partial t }\\otimes \\mathrm{d} t\\otimes \\mathrm{d} x\\otimes \\mathrm{d} t + \\frac{1}{2} \\, V\\left(t, x, y, z\\right) \\frac{\\partial^2\\,V}{\\partial x\\partial y} \\frac{\\partial}{\\partial t }\\otimes \\mathrm{d} t\\otimes \\mathrm{d} x\\otimes \\mathrm{d} y + \\frac{1}{2} \\, V\\left(t, x, y, z\\right) \\frac{\\partial^2\\,V}{\\partial x\\partial z} \\frac{\\partial}{\\partial t }\\otimes \\mathrm{d} t\\otimes \\mathrm{d} x\\otimes \\mathrm{d} z + \\left( V\\left(t, x, y, z\\right)^{2} \\frac{\\partial^2\\,V}{\\partial x\\partial y} + V\\left(t, x, y, z\\right) \\frac{\\partial\\,V}{\\partial x} \\frac{\\partial\\,V}{\\partial y} + \\frac{1}{2} \\, V\\left(t, x, y, z\\right) \\frac{\\partial^2\\,V}{\\partial t\\partial y} \\right) \\frac{\\partial}{\\partial t }\\otimes \\mathrm{d} t\\otimes \\mathrm{d} y\\otimes \\mathrm{d} t -\\frac{1}{2} \\, V\\left(t, x, y, z\\right) \\frac{\\partial^2\\,V}{\\partial x\\partial y} \\frac{\\partial}{\\partial t }\\otimes \\mathrm{d} t\\otimes \\mathrm{d} y\\otimes \\mathrm{d} x + \\left( V\\left(t, x, y, z\\right)^{2} \\frac{\\partial^2\\,V}{\\partial x\\partial z} + V\\left(t, x, y, z\\right) \\frac{\\partial\\,V}{\\partial x} \\frac{\\partial\\,V}{\\partial z} + \\frac{1}{2} \\, V\\left(t, x, y, z\\right) \\frac{\\partial^2\\,V}{\\partial t\\partial z} \\right) \\frac{\\partial}{\\partial t }\\otimes \\mathrm{d} t\\otimes \\mathrm{d} z\\otimes \\mathrm{d} t -\\frac{1}{2} \\, V\\left(t, x, y, z\\right) \\frac{\\partial^2\\,V}{\\partial x\\partial z} \\frac{\\partial}{\\partial t }\\otimes \\mathrm{d} t\\otimes \\mathrm{d} z\\otimes \\mathrm{d} x + \\left( \\left(\\frac{\\partial\\,V}{\\partial x}\\right)^{2} + V\\left(t, x, y, z\\right) \\frac{\\partial^2\\,V}{\\partial x ^ 2} - \\frac{1}{4} \\, \\left(\\frac{\\partial\\,V}{\\partial y}\\right)^{2} - \\frac{1}{4} \\, \\left(\\frac{\\partial\\,V}{\\partial z}\\right)^{2} + \\frac{\\partial^2\\,V}{\\partial t\\partial x} \\right) \\frac{\\partial}{\\partial t }\\otimes \\mathrm{d} x\\otimes \\mathrm{d} t\\otimes \\mathrm{d} x + \\left( V\\left(t, x, y, z\\right) \\frac{\\partial^2\\,V}{\\partial x\\partial y} + \\frac{\\partial\\,V}{\\partial x} \\frac{\\partial\\,V}{\\partial y} + \\frac{1}{2} \\, \\frac{\\partial^2\\,V}{\\partial t\\partial y} \\right) \\frac{\\partial}{\\partial t }\\otimes \\mathrm{d} x\\otimes \\mathrm{d} t\\otimes \\mathrm{d} y + \\left( V\\left(t, x, y, z\\right) \\frac{\\partial^2\\,V}{\\partial x\\partial z} + \\frac{\\partial\\,V}{\\partial x} \\frac{\\partial\\,V}{\\partial z} + \\frac{1}{2} \\, \\frac{\\partial^2\\,V}{\\partial t\\partial z} \\right) \\frac{\\partial}{\\partial t }\\otimes \\mathrm{d} x\\otimes \\mathrm{d} t\\otimes \\mathrm{d} z + \\left( -\\left(\\frac{\\partial\\,V}{\\partial x}\\right)^{2} - V\\left(t, x, y, z\\right) \\frac{\\partial^2\\,V}{\\partial x ^ 2} + \\frac{1}{4} \\, \\left(\\frac{\\partial\\,V}{\\partial y}\\right)^{2} + \\frac{1}{4} \\, \\left(\\frac{\\partial\\,V}{\\partial z}\\right)^{2} - \\frac{\\partial^2\\,V}{\\partial t\\partial x} \\right) \\frac{\\partial}{\\partial t }\\otimes \\mathrm{d} x\\otimes \\mathrm{d} x\\otimes \\mathrm{d} t -\\frac{1}{2} \\, \\frac{\\partial^2\\,V}{\\partial x\\partial y} \\frac{\\partial}{\\partial t }\\otimes \\mathrm{d} x\\otimes \\mathrm{d} x\\otimes \\mathrm{d} y -\\frac{1}{2} \\, \\frac{\\partial^2\\,V}{\\partial x\\partial z} \\frac{\\partial}{\\partial t }\\otimes \\mathrm{d} x\\otimes \\mathrm{d} x\\otimes \\mathrm{d} z + \\left( -V\\left(t, x, y, z\\right) \\frac{\\partial^2\\,V}{\\partial x\\partial y} - \\frac{\\partial\\,V}{\\partial x} \\frac{\\partial\\,V}{\\partial y} - \\frac{1}{2} \\, \\frac{\\partial^2\\,V}{\\partial t\\partial y} \\right) \\frac{\\partial}{\\partial t }\\otimes \\mathrm{d} x\\otimes \\mathrm{d} y\\otimes \\mathrm{d} t + \\frac{1}{2} \\, \\frac{\\partial^2\\,V}{\\partial x\\partial y} \\frac{\\partial}{\\partial t }\\otimes \\mathrm{d} x\\otimes \\mathrm{d} y\\otimes \\mathrm{d} x + \\left( -V\\left(t, x, y, z\\right) \\frac{\\partial^2\\,V}{\\partial x\\partial z} - \\frac{\\partial\\,V}{\\partial x} \\frac{\\partial\\,V}{\\partial z} - \\frac{1}{2} \\, \\frac{\\partial^2\\,V}{\\partial t\\partial z} \\right) \\frac{\\partial}{\\partial t }\\otimes \\mathrm{d} x\\otimes \\mathrm{d} z\\otimes \\mathrm{d} t + \\frac{1}{2} \\, \\frac{\\partial^2\\,V}{\\partial x\\partial z} \\frac{\\partial}{\\partial t }\\otimes \\mathrm{d} x\\otimes \\mathrm{d} z\\otimes \\mathrm{d} x + \\left( \\frac{1}{2} \\, V\\left(t, x, y, z\\right) \\frac{\\partial^2\\,V}{\\partial x\\partial y} + \\frac{\\partial\\,V}{\\partial x} \\frac{\\partial\\,V}{\\partial y} + \\frac{1}{2} \\, \\frac{\\partial^2\\,V}{\\partial t\\partial y} \\right) \\frac{\\partial}{\\partial t }\\otimes \\mathrm{d} y\\otimes \\mathrm{d} t\\otimes \\mathrm{d} x + \\left( \\frac{3}{4} \\, \\left(\\frac{\\partial\\,V}{\\partial y}\\right)^{2} + \\frac{1}{2} \\, V\\left(t, x, y, z\\right) \\frac{\\partial^2\\,V}{\\partial y ^ 2} \\right) \\frac{\\partial}{\\partial t }\\otimes \\mathrm{d} y\\otimes \\mathrm{d} t\\otimes \\mathrm{d} y + \\left( \\frac{1}{2} \\, V\\left(t, x, y, z\\right) \\frac{\\partial^2\\,V}{\\partial y\\partial z} + \\frac{3}{4} \\, \\frac{\\partial\\,V}{\\partial y} \\frac{\\partial\\,V}{\\partial z} \\right) \\frac{\\partial}{\\partial t }\\otimes \\mathrm{d} y\\otimes \\mathrm{d} t\\otimes \\mathrm{d} z + \\left( -\\frac{1}{2} \\, V\\left(t, x, y, z\\right) \\frac{\\partial^2\\,V}{\\partial x\\partial y} - \\frac{\\partial\\,V}{\\partial x} \\frac{\\partial\\,V}{\\partial y} - \\frac{1}{2} \\, \\frac{\\partial^2\\,V}{\\partial t\\partial y} \\right) \\frac{\\partial}{\\partial t }\\otimes \\mathrm{d} y\\otimes \\mathrm{d} x\\otimes \\mathrm{d} t -\\frac{1}{2} \\, \\frac{\\partial^2\\,V}{\\partial y ^ 2} \\frac{\\partial}{\\partial t }\\otimes \\mathrm{d} y\\otimes \\mathrm{d} x\\otimes \\mathrm{d} y -\\frac{1}{2} \\, \\frac{\\partial^2\\,V}{\\partial y\\partial z} \\frac{\\partial}{\\partial t }\\otimes \\mathrm{d} y\\otimes \\mathrm{d} x\\otimes \\mathrm{d} z + \\left( -\\frac{3}{4} \\, \\left(\\frac{\\partial\\,V}{\\partial y}\\right)^{2} - \\frac{1}{2} \\, V\\left(t, x, y, z\\right) \\frac{\\partial^2\\,V}{\\partial y ^ 2} \\right) \\frac{\\partial}{\\partial t }\\otimes \\mathrm{d} y\\otimes \\mathrm{d} y\\otimes \\mathrm{d} t + \\frac{1}{2} \\, \\frac{\\partial^2\\,V}{\\partial y ^ 2} \\frac{\\partial}{\\partial t }\\otimes \\mathrm{d} y\\otimes \\mathrm{d} y\\otimes \\mathrm{d} x + \\left( -\\frac{1}{2} \\, V\\left(t, x, y, z\\right) \\frac{\\partial^2\\,V}{\\partial y\\partial z} - \\frac{3}{4} \\, \\frac{\\partial\\,V}{\\partial y} \\frac{\\partial\\,V}{\\partial z} \\right) \\frac{\\partial}{\\partial t }\\otimes \\mathrm{d} y\\otimes \\mathrm{d} z\\otimes \\mathrm{d} t + \\frac{1}{2} \\, \\frac{\\partial^2\\,V}{\\partial y\\partial z} \\frac{\\partial}{\\partial t }\\otimes \\mathrm{d} y\\otimes \\mathrm{d} z\\otimes \\mathrm{d} x + \\left( \\frac{1}{2} \\, V\\left(t, x, y, z\\right) \\frac{\\partial^2\\,V}{\\partial x\\partial z} + \\frac{\\partial\\,V}{\\partial x} \\frac{\\partial\\,V}{\\partial z} + \\frac{1}{2} \\, \\frac{\\partial^2\\,V}{\\partial t\\partial z} \\right) \\frac{\\partial}{\\partial t }\\otimes \\mathrm{d} z\\otimes \\mathrm{d} t\\otimes \\mathrm{d} x + \\left( \\frac{1}{2} \\, V\\left(t, x, y, z\\right) \\frac{\\partial^2\\,V}{\\partial y\\partial z} + \\frac{3}{4} \\, \\frac{\\partial\\,V}{\\partial y} \\frac{\\partial\\,V}{\\partial z} \\right) \\frac{\\partial}{\\partial t }\\otimes \\mathrm{d} z\\otimes \\mathrm{d} t\\otimes \\mathrm{d} y + \\left( \\frac{3}{4} \\, \\left(\\frac{\\partial\\,V}{\\partial z}\\right)^{2} + \\frac{1}{2} \\, V\\left(t, x, y, z\\right) \\frac{\\partial^2\\,V}{\\partial z ^ 2} \\right) \\frac{\\partial}{\\partial t }\\otimes \\mathrm{d} z\\otimes \\mathrm{d} t\\otimes \\mathrm{d} z + \\left( -\\frac{1}{2} \\, V\\left(t, x, y, z\\right) \\frac{\\partial^2\\,V}{\\partial x\\partial z} - \\frac{\\partial\\,V}{\\partial x} \\frac{\\partial\\,V}{\\partial z} - \\frac{1}{2} \\, \\frac{\\partial^2\\,V}{\\partial t\\partial z} \\right) \\frac{\\partial}{\\partial t }\\otimes \\mathrm{d} z\\otimes \\mathrm{d} x\\otimes \\mathrm{d} t -\\frac{1}{2} \\, \\frac{\\partial^2\\,V}{\\partial y\\partial z} \\frac{\\partial}{\\partial t }\\otimes \\mathrm{d} z\\otimes \\mathrm{d} x\\otimes \\mathrm{d} y -\\frac{1}{2} \\, \\frac{\\partial^2\\,V}{\\partial z ^ 2} \\frac{\\partial}{\\partial t }\\otimes \\mathrm{d} z\\otimes \\mathrm{d} x\\otimes \\mathrm{d} z + \\left( -\\frac{1}{2} \\, V\\left(t, x, y, z\\right) \\frac{\\partial^2\\,V}{\\partial y\\partial z} - \\frac{3}{4} \\, \\frac{\\partial\\,V}{\\partial y} \\frac{\\partial\\,V}{\\partial z} \\right) \\frac{\\partial}{\\partial t }\\otimes \\mathrm{d} z\\otimes \\mathrm{d} y\\otimes \\mathrm{d} t + \\frac{1}{2} \\, \\frac{\\partial^2\\,V}{\\partial y\\partial z} \\frac{\\partial}{\\partial t }\\otimes \\mathrm{d} z\\otimes \\mathrm{d} y\\otimes \\mathrm{d} x + \\left( -\\frac{3}{4} \\, \\left(\\frac{\\partial\\,V}{\\partial z}\\right)^{2} - \\frac{1}{2} \\, V\\left(t, x, y, z\\right) \\frac{\\partial^2\\,V}{\\partial z ^ 2} \\right) \\frac{\\partial}{\\partial t }\\otimes \\mathrm{d} z\\otimes \\mathrm{d} z\\otimes \\mathrm{d} t + \\frac{1}{2} \\, \\frac{\\partial^2\\,V}{\\partial z ^ 2} \\frac{\\partial}{\\partial t }\\otimes \\mathrm{d} z\\otimes \\mathrm{d} z\\otimes \\mathrm{d} x + \\left( -{\\left(V\\left(t, x, y, z\\right)^{2} - 1\\right)} \\left(\\frac{\\partial\\,V}{\\partial x}\\right)^{2} + \\frac{1}{4} \\, {\\left(V\\left(t, x, y, z\\right)^{2} - 1\\right)} \\left(\\frac{\\partial\\,V}{\\partial y}\\right)^{2} + \\frac{1}{4} \\, {\\left(V\\left(t, x, y, z\\right)^{2} - 1\\right)} \\left(\\frac{\\partial\\,V}{\\partial z}\\right)^{2} - {\\left(V\\left(t, x, y, z\\right)^{2} - 1\\right)} \\frac{\\partial^2\\,V}{\\partial t\\partial x} - {\\left(V\\left(t, x, y, z\\right)^{3} - V\\left(t, x, y, z\\right)\\right)} \\frac{\\partial^2\\,V}{\\partial x ^ 2} \\right) \\frac{\\partial}{\\partial x }\\otimes \\mathrm{d} t\\otimes \\mathrm{d} t\\otimes \\mathrm{d} x + \\left( -{\\left(V\\left(t, x, y, z\\right)^{2} - 1\\right)} \\frac{\\partial\\,V}{\\partial x} \\frac{\\partial\\,V}{\\partial y} - \\frac{1}{2} \\, {\\left(V\\left(t, x, y, z\\right)^{2} - 1\\right)} \\frac{\\partial^2\\,V}{\\partial t\\partial y} - {\\left(V\\left(t, x, y, z\\right)^{3} - V\\left(t, x, y, z\\right)\\right)} \\frac{\\partial^2\\,V}{\\partial x\\partial y} \\right) \\frac{\\partial}{\\partial x }\\otimes \\mathrm{d} t\\otimes \\mathrm{d} t\\otimes \\mathrm{d} y + \\left( -{\\left(V\\left(t, x, y, z\\right)^{2} - 1\\right)} \\frac{\\partial\\,V}{\\partial x} \\frac{\\partial\\,V}{\\partial z} - \\frac{1}{2} \\, {\\left(V\\left(t, x, y, z\\right)^{2} - 1\\right)} \\frac{\\partial^2\\,V}{\\partial t\\partial z} - {\\left(V\\left(t, x, y, z\\right)^{3} - V\\left(t, x, y, z\\right)\\right)} \\frac{\\partial^2\\,V}{\\partial x\\partial z} \\right) \\frac{\\partial}{\\partial x }\\otimes \\mathrm{d} t\\otimes \\mathrm{d} t\\otimes \\mathrm{d} z + \\left( {\\left(V\\left(t, x, y, z\\right)^{2} - 1\\right)} \\left(\\frac{\\partial\\,V}{\\partial x}\\right)^{2} - \\frac{1}{4} \\, {\\left(V\\left(t, x, y, z\\right)^{2} - 1\\right)} \\left(\\frac{\\partial\\,V}{\\partial y}\\right)^{2} - \\frac{1}{4} \\, {\\left(V\\left(t, x, y, z\\right)^{2} - 1\\right)} \\left(\\frac{\\partial\\,V}{\\partial z}\\right)^{2} + {\\left(V\\left(t, x, y, z\\right)^{2} - 1\\right)} \\frac{\\partial^2\\,V}{\\partial t\\partial x} + {\\left(V\\left(t, x, y, z\\right)^{3} - V\\left(t, x, y, z\\right)\\right)} \\frac{\\partial^2\\,V}{\\partial x ^ 2} \\right) \\frac{\\partial}{\\partial x }\\otimes \\mathrm{d} t\\otimes \\mathrm{d} x\\otimes \\mathrm{d} t + \\frac{1}{2} \\, {\\left(V\\left(t, x, y, z\\right)^{2} - 1\\right)} \\frac{\\partial^2\\,V}{\\partial x\\partial y} \\frac{\\partial}{\\partial x }\\otimes \\mathrm{d} t\\otimes \\mathrm{d} x\\otimes \\mathrm{d} y + \\frac{1}{2} \\, {\\left(V\\left(t, x, y, z\\right)^{2} - 1\\right)} \\frac{\\partial^2\\,V}{\\partial x\\partial z} \\frac{\\partial}{\\partial x }\\otimes \\mathrm{d} t\\otimes \\mathrm{d} x\\otimes \\mathrm{d} z + \\left( {\\left(V\\left(t, x, y, z\\right)^{2} - 1\\right)} \\frac{\\partial\\,V}{\\partial x} \\frac{\\partial\\,V}{\\partial y} + \\frac{1}{2} \\, {\\left(V\\left(t, x, y, z\\right)^{2} - 1\\right)} \\frac{\\partial^2\\,V}{\\partial t\\partial y} + {\\left(V\\left(t, x, y, z\\right)^{3} - V\\left(t, x, y, z\\right)\\right)} \\frac{\\partial^2\\,V}{\\partial x\\partial y} \\right) \\frac{\\partial}{\\partial x }\\otimes \\mathrm{d} t\\otimes \\mathrm{d} y\\otimes \\mathrm{d} t -\\frac{1}{2} \\, {\\left(V\\left(t, x, y, z\\right)^{2} - 1\\right)} \\frac{\\partial^2\\,V}{\\partial x\\partial y} \\frac{\\partial}{\\partial x }\\otimes \\mathrm{d} t\\otimes \\mathrm{d} y\\otimes \\mathrm{d} x + \\left( {\\left(V\\left(t, x, y, z\\right)^{2} - 1\\right)} \\frac{\\partial\\,V}{\\partial x} \\frac{\\partial\\,V}{\\partial z} + \\frac{1}{2} \\, {\\left(V\\left(t, x, y, z\\right)^{2} - 1\\right)} \\frac{\\partial^2\\,V}{\\partial t\\partial z} + {\\left(V\\left(t, x, y, z\\right)^{3} - V\\left(t, x, y, z\\right)\\right)} \\frac{\\partial^2\\,V}{\\partial x\\partial z} \\right) \\frac{\\partial}{\\partial x }\\otimes \\mathrm{d} t\\otimes \\mathrm{d} z\\otimes \\mathrm{d} t -\\frac{1}{2} \\, {\\left(V\\left(t, x, y, z\\right)^{2} - 1\\right)} \\frac{\\partial^2\\,V}{\\partial x\\partial z} \\frac{\\partial}{\\partial x }\\otimes \\mathrm{d} t\\otimes \\mathrm{d} z\\otimes \\mathrm{d} x + \\left( V\\left(t, x, y, z\\right) \\left(\\frac{\\partial\\,V}{\\partial x}\\right)^{2} + V\\left(t, x, y, z\\right)^{2} \\frac{\\partial^2\\,V}{\\partial x ^ 2} - \\frac{1}{4} \\, V\\left(t, x, y, z\\right) \\left(\\frac{\\partial\\,V}{\\partial y}\\right)^{2} - \\frac{1}{4} \\, V\\left(t, x, y, z\\right) \\left(\\frac{\\partial\\,V}{\\partial z}\\right)^{2} + V\\left(t, x, y, z\\right) \\frac{\\partial^2\\,V}{\\partial t\\partial x} \\right) \\frac{\\partial}{\\partial x }\\otimes \\mathrm{d} x\\otimes \\mathrm{d} t\\otimes \\mathrm{d} x + \\left( V\\left(t, x, y, z\\right)^{2} \\frac{\\partial^2\\,V}{\\partial x\\partial y} + V\\left(t, x, y, z\\right) \\frac{\\partial\\,V}{\\partial x} \\frac{\\partial\\,V}{\\partial y} + \\frac{1}{2} \\, V\\left(t, x, y, z\\right) \\frac{\\partial^2\\,V}{\\partial t\\partial y} \\right) \\frac{\\partial}{\\partial x }\\otimes \\mathrm{d} x\\otimes \\mathrm{d} t\\otimes \\mathrm{d} y + \\left( V\\left(t, x, y, z\\right)^{2} \\frac{\\partial^2\\,V}{\\partial x\\partial z} + V\\left(t, x, y, z\\right) \\frac{\\partial\\,V}{\\partial x} \\frac{\\partial\\,V}{\\partial z} + \\frac{1}{2} \\, V\\left(t, x, y, z\\right) \\frac{\\partial^2\\,V}{\\partial t\\partial z} \\right) \\frac{\\partial}{\\partial x }\\otimes \\mathrm{d} x\\otimes \\mathrm{d} t\\otimes \\mathrm{d} z + \\left( -V\\left(t, x, y, z\\right) \\left(\\frac{\\partial\\,V}{\\partial x}\\right)^{2} - V\\left(t, x, y, z\\right)^{2} \\frac{\\partial^2\\,V}{\\partial x ^ 2} + \\frac{1}{4} \\, V\\left(t, x, y, z\\right) \\left(\\frac{\\partial\\,V}{\\partial y}\\right)^{2} + \\frac{1}{4} \\, V\\left(t, x, y, z\\right) \\left(\\frac{\\partial\\,V}{\\partial z}\\right)^{2} - V\\left(t, x, y, z\\right) \\frac{\\partial^2\\,V}{\\partial t\\partial x} \\right) \\frac{\\partial}{\\partial x }\\otimes \\mathrm{d} x\\otimes \\mathrm{d} x\\otimes \\mathrm{d} t -\\frac{1}{2} \\, V\\left(t, x, y, z\\right) \\frac{\\partial^2\\,V}{\\partial x\\partial y} \\frac{\\partial}{\\partial x }\\otimes \\mathrm{d} x\\otimes \\mathrm{d} x\\otimes \\mathrm{d} y -\\frac{1}{2} \\, V\\left(t, x, y, z\\right) \\frac{\\partial^2\\,V}{\\partial x\\partial z} \\frac{\\partial}{\\partial x }\\otimes \\mathrm{d} x\\otimes \\mathrm{d} x\\otimes \\mathrm{d} z + \\left( -V\\left(t, x, y, z\\right)^{2} \\frac{\\partial^2\\,V}{\\partial x\\partial y} - V\\left(t, x, y, z\\right) \\frac{\\partial\\,V}{\\partial x} \\frac{\\partial\\,V}{\\partial y} - \\frac{1}{2} \\, V\\left(t, x, y, z\\right) \\frac{\\partial^2\\,V}{\\partial t\\partial y} \\right) \\frac{\\partial}{\\partial x }\\otimes \\mathrm{d} x\\otimes \\mathrm{d} y\\otimes \\mathrm{d} t + \\frac{1}{2} \\, V\\left(t, x, y, z\\right) \\frac{\\partial^2\\,V}{\\partial x\\partial y} \\frac{\\partial}{\\partial x }\\otimes \\mathrm{d} x\\otimes \\mathrm{d} y\\otimes \\mathrm{d} x + \\left( -V\\left(t, x, y, z\\right)^{2} \\frac{\\partial^2\\,V}{\\partial x\\partial z} - V\\left(t, x, y, z\\right) \\frac{\\partial\\,V}{\\partial x} \\frac{\\partial\\,V}{\\partial z} - \\frac{1}{2} \\, V\\left(t, x, y, z\\right) \\frac{\\partial^2\\,V}{\\partial t\\partial z} \\right) \\frac{\\partial}{\\partial x }\\otimes \\mathrm{d} x\\otimes \\mathrm{d} z\\otimes \\mathrm{d} t + \\frac{1}{2} \\, V\\left(t, x, y, z\\right) \\frac{\\partial^2\\,V}{\\partial x\\partial z} \\frac{\\partial}{\\partial x }\\otimes \\mathrm{d} x\\otimes \\mathrm{d} z\\otimes \\mathrm{d} x + \\left( V\\left(t, x, y, z\\right) \\frac{\\partial\\,V}{\\partial x} \\frac{\\partial\\,V}{\\partial y} + \\frac{1}{2} \\, V\\left(t, x, y, z\\right) \\frac{\\partial^2\\,V}{\\partial t\\partial y} + \\frac{1}{2} \\, {\\left(V\\left(t, x, y, z\\right)^{2} + 1\\right)} \\frac{\\partial^2\\,V}{\\partial x\\partial y} \\right) \\frac{\\partial}{\\partial x }\\otimes \\mathrm{d} y\\otimes \\mathrm{d} t\\otimes \\mathrm{d} x + \\left( V\\left(t, x, y, z\\right) \\left(\\frac{\\partial\\,V}{\\partial y}\\right)^{2} + \\frac{1}{2} \\, {\\left(V\\left(t, x, y, z\\right)^{2} + 1\\right)} \\frac{\\partial^2\\,V}{\\partial y ^ 2} \\right) \\frac{\\partial}{\\partial x }\\otimes \\mathrm{d} y\\otimes \\mathrm{d} t\\otimes \\mathrm{d} y + \\left( V\\left(t, x, y, z\\right) \\frac{\\partial\\,V}{\\partial y} \\frac{\\partial\\,V}{\\partial z} + \\frac{1}{2} \\, {\\left(V\\left(t, x, y, z\\right)^{2} + 1\\right)} \\frac{\\partial^2\\,V}{\\partial y\\partial z} \\right) \\frac{\\partial}{\\partial x }\\otimes \\mathrm{d} y\\otimes \\mathrm{d} t\\otimes \\mathrm{d} z + \\left( -V\\left(t, x, y, z\\right) \\frac{\\partial\\,V}{\\partial x} \\frac{\\partial\\,V}{\\partial y} - \\frac{1}{2} \\, V\\left(t, x, y, z\\right) \\frac{\\partial^2\\,V}{\\partial t\\partial y} - \\frac{1}{2} \\, {\\left(V\\left(t, x, y, z\\right)^{2} + 1\\right)} \\frac{\\partial^2\\,V}{\\partial x\\partial y} \\right) \\frac{\\partial}{\\partial x }\\otimes \\mathrm{d} y\\otimes \\mathrm{d} x\\otimes \\mathrm{d} t + \\left( -\\frac{1}{4} \\, \\left(\\frac{\\partial\\,V}{\\partial y}\\right)^{2} - \\frac{1}{2} \\, V\\left(t, x, y, z\\right) \\frac{\\partial^2\\,V}{\\partial y ^ 2} \\right) \\frac{\\partial}{\\partial x }\\otimes \\mathrm{d} y\\otimes \\mathrm{d} x\\otimes \\mathrm{d} y + \\left( -\\frac{1}{2} \\, V\\left(t, x, y, z\\right) \\frac{\\partial^2\\,V}{\\partial y\\partial z} - \\frac{1}{4} \\, \\frac{\\partial\\,V}{\\partial y} \\frac{\\partial\\,V}{\\partial z} \\right) \\frac{\\partial}{\\partial x }\\otimes \\mathrm{d} y\\otimes \\mathrm{d} x\\otimes \\mathrm{d} z + \\left( -V\\left(t, x, y, z\\right) \\left(\\frac{\\partial\\,V}{\\partial y}\\right)^{2} - \\frac{1}{2} \\, {\\left(V\\left(t, x, y, z\\right)^{2} + 1\\right)} \\frac{\\partial^2\\,V}{\\partial y ^ 2} \\right) \\frac{\\partial}{\\partial x }\\otimes \\mathrm{d} y\\otimes \\mathrm{d} y\\otimes \\mathrm{d} t + \\left( \\frac{1}{4} \\, \\left(\\frac{\\partial\\,V}{\\partial y}\\right)^{2} + \\frac{1}{2} \\, V\\left(t, x, y, z\\right) \\frac{\\partial^2\\,V}{\\partial y ^ 2} \\right) \\frac{\\partial}{\\partial x }\\otimes \\mathrm{d} y\\otimes \\mathrm{d} y\\otimes \\mathrm{d} x + \\left( -V\\left(t, x, y, z\\right) \\frac{\\partial\\,V}{\\partial y} \\frac{\\partial\\,V}{\\partial z} - \\frac{1}{2} \\, {\\left(V\\left(t, x, y, z\\right)^{2} + 1\\right)} \\frac{\\partial^2\\,V}{\\partial y\\partial z} \\right) \\frac{\\partial}{\\partial x }\\otimes \\mathrm{d} y\\otimes \\mathrm{d} z\\otimes \\mathrm{d} t + \\left( \\frac{1}{2} \\, V\\left(t, x, y, z\\right) \\frac{\\partial^2\\,V}{\\partial y\\partial z} + \\frac{1}{4} \\, \\frac{\\partial\\,V}{\\partial y} \\frac{\\partial\\,V}{\\partial z} \\right) \\frac{\\partial}{\\partial x }\\otimes \\mathrm{d} y\\otimes \\mathrm{d} z\\otimes \\mathrm{d} x + \\left( V\\left(t, x, y, z\\right) \\frac{\\partial\\,V}{\\partial x} \\frac{\\partial\\,V}{\\partial z} + \\frac{1}{2} \\, V\\left(t, x, y, z\\right) \\frac{\\partial^2\\,V}{\\partial t\\partial z} + \\frac{1}{2} \\, {\\left(V\\left(t, x, y, z\\right)^{2} + 1\\right)} \\frac{\\partial^2\\,V}{\\partial x\\partial z} \\right) \\frac{\\partial}{\\partial x }\\otimes \\mathrm{d} z\\otimes \\mathrm{d} t\\otimes \\mathrm{d} x + \\left( V\\left(t, x, y, z\\right) \\frac{\\partial\\,V}{\\partial y} \\frac{\\partial\\,V}{\\partial z} + \\frac{1}{2} \\, {\\left(V\\left(t, x, y, z\\right)^{2} + 1\\right)} \\frac{\\partial^2\\,V}{\\partial y\\partial z} \\right) \\frac{\\partial}{\\partial x }\\otimes \\mathrm{d} z\\otimes \\mathrm{d} t\\otimes \\mathrm{d} y + \\left( V\\left(t, x, y, z\\right) \\left(\\frac{\\partial\\,V}{\\partial z}\\right)^{2} + \\frac{1}{2} \\, {\\left(V\\left(t, x, y, z\\right)^{2} + 1\\right)} \\frac{\\partial^2\\,V}{\\partial z ^ 2} \\right) \\frac{\\partial}{\\partial x }\\otimes \\mathrm{d} z\\otimes \\mathrm{d} t\\otimes \\mathrm{d} z + \\left( -V\\left(t, x, y, z\\right) \\frac{\\partial\\,V}{\\partial x} \\frac{\\partial\\,V}{\\partial z} - \\frac{1}{2} \\, V\\left(t, x, y, z\\right) \\frac{\\partial^2\\,V}{\\partial t\\partial z} - \\frac{1}{2} \\, {\\left(V\\left(t, x, y, z\\right)^{2} + 1\\right)} \\frac{\\partial^2\\,V}{\\partial x\\partial z} \\right) \\frac{\\partial}{\\partial x }\\otimes \\mathrm{d} z\\otimes \\mathrm{d} x\\otimes \\mathrm{d} t + \\left( -\\frac{1}{2} \\, V\\left(t, x, y, z\\right) \\frac{\\partial^2\\,V}{\\partial y\\partial z} - \\frac{1}{4} \\, \\frac{\\partial\\,V}{\\partial y} \\frac{\\partial\\,V}{\\partial z} \\right) \\frac{\\partial}{\\partial x }\\otimes \\mathrm{d} z\\otimes \\mathrm{d} x\\otimes \\mathrm{d} y + \\left( -\\frac{1}{4} \\, \\left(\\frac{\\partial\\,V}{\\partial z}\\right)^{2} - \\frac{1}{2} \\, V\\left(t, x, y, z\\right) \\frac{\\partial^2\\,V}{\\partial z ^ 2} \\right) \\frac{\\partial}{\\partial x }\\otimes \\mathrm{d} z\\otimes \\mathrm{d} x\\otimes \\mathrm{d} z + \\left( -V\\left(t, x, y, z\\right) \\frac{\\partial\\,V}{\\partial y} \\frac{\\partial\\,V}{\\partial z} - \\frac{1}{2} \\, {\\left(V\\left(t, x, y, z\\right)^{2} + 1\\right)} \\frac{\\partial^2\\,V}{\\partial y\\partial z} \\right) \\frac{\\partial}{\\partial x }\\otimes \\mathrm{d} z\\otimes \\mathrm{d} y\\otimes \\mathrm{d} t + \\left( \\frac{1}{2} \\, V\\left(t, x, y, z\\right) \\frac{\\partial^2\\,V}{\\partial y\\partial z} + \\frac{1}{4} \\, \\frac{\\partial\\,V}{\\partial y} \\frac{\\partial\\,V}{\\partial z} \\right) \\frac{\\partial}{\\partial x }\\otimes \\mathrm{d} z\\otimes \\mathrm{d} y\\otimes \\mathrm{d} x + \\left( -V\\left(t, x, y, z\\right) \\left(\\frac{\\partial\\,V}{\\partial z}\\right)^{2} - \\frac{1}{2} \\, {\\left(V\\left(t, x, y, z\\right)^{2} + 1\\right)} \\frac{\\partial^2\\,V}{\\partial z ^ 2} \\right) \\frac{\\partial}{\\partial x }\\otimes \\mathrm{d} z\\otimes \\mathrm{d} z\\otimes \\mathrm{d} t + \\left( \\frac{1}{4} \\, \\left(\\frac{\\partial\\,V}{\\partial z}\\right)^{2} + \\frac{1}{2} \\, V\\left(t, x, y, z\\right) \\frac{\\partial^2\\,V}{\\partial z ^ 2} \\right) \\frac{\\partial}{\\partial x }\\otimes \\mathrm{d} z\\otimes \\mathrm{d} z\\otimes \\mathrm{d} x + \\left( V\\left(t, x, y, z\\right) \\frac{\\partial^2\\,V}{\\partial x\\partial y} + \\frac{\\partial\\,V}{\\partial x} \\frac{\\partial\\,V}{\\partial y} + \\frac{1}{2} \\, \\frac{\\partial^2\\,V}{\\partial t\\partial y} \\right) \\frac{\\partial}{\\partial y }\\otimes \\mathrm{d} t\\otimes \\mathrm{d} t\\otimes \\mathrm{d} x + \\left( \\frac{1}{4} \\, {\\left(V\\left(t, x, y, z\\right)^{2} + 3\\right)} \\left(\\frac{\\partial\\,V}{\\partial y}\\right)^{2} + V\\left(t, x, y, z\\right) \\frac{\\partial^2\\,V}{\\partial y ^ 2} \\right) \\frac{\\partial}{\\partial y }\\otimes \\mathrm{d} t\\otimes \\mathrm{d} t\\otimes \\mathrm{d} y + \\left( \\frac{1}{4} \\, {\\left(V\\left(t, x, y, z\\right)^{2} + 3\\right)} \\frac{\\partial\\,V}{\\partial y} \\frac{\\partial\\,V}{\\partial z} + V\\left(t, x, y, z\\right) \\frac{\\partial^2\\,V}{\\partial y\\partial z} \\right) \\frac{\\partial}{\\partial y }\\otimes \\mathrm{d} t\\otimes \\mathrm{d} t\\otimes \\mathrm{d} z + \\left( -V\\left(t, x, y, z\\right) \\frac{\\partial^2\\,V}{\\partial x\\partial y} - \\frac{\\partial\\,V}{\\partial x} \\frac{\\partial\\,V}{\\partial y} - \\frac{1}{2} \\, \\frac{\\partial^2\\,V}{\\partial t\\partial y} \\right) \\frac{\\partial}{\\partial y }\\otimes \\mathrm{d} t\\otimes \\mathrm{d} x\\otimes \\mathrm{d} t + \\left( -\\frac{1}{4} \\, V\\left(t, x, y, z\\right) \\left(\\frac{\\partial\\,V}{\\partial y}\\right)^{2} - \\frac{1}{2} \\, \\frac{\\partial^2\\,V}{\\partial y ^ 2} \\right) \\frac{\\partial}{\\partial y }\\otimes \\mathrm{d} t\\otimes \\mathrm{d} x\\otimes \\mathrm{d} y + \\left( -\\frac{1}{4} \\, V\\left(t, x, y, z\\right) \\frac{\\partial\\,V}{\\partial y} \\frac{\\partial\\,V}{\\partial z} - \\frac{1}{2} \\, \\frac{\\partial^2\\,V}{\\partial y\\partial z} \\right) \\frac{\\partial}{\\partial y }\\otimes \\mathrm{d} t\\otimes \\mathrm{d} x\\otimes \\mathrm{d} z + \\left( -\\frac{1}{4} \\, {\\left(V\\left(t, x, y, z\\right)^{2} + 3\\right)} \\left(\\frac{\\partial\\,V}{\\partial y}\\right)^{2} - V\\left(t, x, y, z\\right) \\frac{\\partial^2\\,V}{\\partial y ^ 2} \\right) \\frac{\\partial}{\\partial y }\\otimes \\mathrm{d} t\\otimes \\mathrm{d} y\\otimes \\mathrm{d} t + \\left( \\frac{1}{4} \\, V\\left(t, x, y, z\\right) \\left(\\frac{\\partial\\,V}{\\partial y}\\right)^{2} + \\frac{1}{2} \\, \\frac{\\partial^2\\,V}{\\partial y ^ 2} \\right) \\frac{\\partial}{\\partial y }\\otimes \\mathrm{d} t\\otimes \\mathrm{d} y\\otimes \\mathrm{d} x + \\left( -\\frac{1}{4} \\, {\\left(V\\left(t, x, y, z\\right)^{2} + 3\\right)} \\frac{\\partial\\,V}{\\partial y} \\frac{\\partial\\,V}{\\partial z} - V\\left(t, x, y, z\\right) \\frac{\\partial^2\\,V}{\\partial y\\partial z} \\right) \\frac{\\partial}{\\partial y }\\otimes \\mathrm{d} t\\otimes \\mathrm{d} z\\otimes \\mathrm{d} t + \\left( \\frac{1}{4} \\, V\\left(t, x, y, z\\right) \\frac{\\partial\\,V}{\\partial y} \\frac{\\partial\\,V}{\\partial z} + \\frac{1}{2} \\, \\frac{\\partial^2\\,V}{\\partial y\\partial z} \\right) \\frac{\\partial}{\\partial y }\\otimes \\mathrm{d} t\\otimes \\mathrm{d} z\\otimes \\mathrm{d} x -\\frac{1}{2} \\, \\frac{\\partial^2\\,V}{\\partial x\\partial y} \\frac{\\partial}{\\partial y }\\otimes \\mathrm{d} x\\otimes \\mathrm{d} t\\otimes \\mathrm{d} x + \\left( -\\frac{1}{4} \\, V\\left(t, x, y, z\\right) \\left(\\frac{\\partial\\,V}{\\partial y}\\right)^{2} - \\frac{1}{2} \\, \\frac{\\partial^2\\,V}{\\partial y ^ 2} \\right) \\frac{\\partial}{\\partial y }\\otimes \\mathrm{d} x\\otimes \\mathrm{d} t\\otimes \\mathrm{d} y + \\left( -\\frac{1}{4} \\, V\\left(t, x, y, z\\right) \\frac{\\partial\\,V}{\\partial y} \\frac{\\partial\\,V}{\\partial z} - \\frac{1}{2} \\, \\frac{\\partial^2\\,V}{\\partial y\\partial z} \\right) \\frac{\\partial}{\\partial y }\\otimes \\mathrm{d} x\\otimes \\mathrm{d} t\\otimes \\mathrm{d} z + \\frac{1}{2} \\, \\frac{\\partial^2\\,V}{\\partial x\\partial y} \\frac{\\partial}{\\partial y }\\otimes \\mathrm{d} x\\otimes \\mathrm{d} x\\otimes \\mathrm{d} t + \\frac{1}{4} \\, \\left(\\frac{\\partial\\,V}{\\partial y}\\right)^{2} \\frac{\\partial}{\\partial y }\\otimes \\mathrm{d} x\\otimes \\mathrm{d} x\\otimes \\mathrm{d} y + \\frac{1}{4} \\, \\frac{\\partial\\,V}{\\partial y} \\frac{\\partial\\,V}{\\partial z} \\frac{\\partial}{\\partial y }\\otimes \\mathrm{d} x\\otimes \\mathrm{d} x\\otimes \\mathrm{d} z + \\left( \\frac{1}{4} \\, V\\left(t, x, y, z\\right) \\left(\\frac{\\partial\\,V}{\\partial y}\\right)^{2} + \\frac{1}{2} \\, \\frac{\\partial^2\\,V}{\\partial y ^ 2} \\right) \\frac{\\partial}{\\partial y }\\otimes \\mathrm{d} x\\otimes \\mathrm{d} y\\otimes \\mathrm{d} t -\\frac{1}{4} \\, \\left(\\frac{\\partial\\,V}{\\partial y}\\right)^{2} \\frac{\\partial}{\\partial y }\\otimes \\mathrm{d} x\\otimes \\mathrm{d} y\\otimes \\mathrm{d} x + \\left( \\frac{1}{4} \\, V\\left(t, x, y, z\\right) \\frac{\\partial\\,V}{\\partial y} \\frac{\\partial\\,V}{\\partial z} + \\frac{1}{2} \\, \\frac{\\partial^2\\,V}{\\partial y\\partial z} \\right) \\frac{\\partial}{\\partial y }\\otimes \\mathrm{d} x\\otimes \\mathrm{d} z\\otimes \\mathrm{d} t -\\frac{1}{4} \\, \\frac{\\partial\\,V}{\\partial y} \\frac{\\partial\\,V}{\\partial z} \\frac{\\partial}{\\partial y }\\otimes \\mathrm{d} x\\otimes \\mathrm{d} z\\otimes \\mathrm{d} x + \\left( V\\left(t, x, y, z\\right) \\frac{\\partial^2\\,V}{\\partial x\\partial z} + \\frac{\\partial\\,V}{\\partial x} \\frac{\\partial\\,V}{\\partial z} + \\frac{1}{2} \\, \\frac{\\partial^2\\,V}{\\partial t\\partial z} \\right) \\frac{\\partial}{\\partial z }\\otimes \\mathrm{d} t\\otimes \\mathrm{d} t\\otimes \\mathrm{d} x + \\left( \\frac{1}{4} \\, {\\left(V\\left(t, x, y, z\\right)^{2} + 3\\right)} \\frac{\\partial\\,V}{\\partial y} \\frac{\\partial\\,V}{\\partial z} + V\\left(t, x, y, z\\right) \\frac{\\partial^2\\,V}{\\partial y\\partial z} \\right) \\frac{\\partial}{\\partial z }\\otimes \\mathrm{d} t\\otimes \\mathrm{d} t\\otimes \\mathrm{d} y + \\left( \\frac{1}{4} \\, {\\left(V\\left(t, x, y, z\\right)^{2} + 3\\right)} \\left(\\frac{\\partial\\,V}{\\partial z}\\right)^{2} + V\\left(t, x, y, z\\right) \\frac{\\partial^2\\,V}{\\partial z ^ 2} \\right) \\frac{\\partial}{\\partial z }\\otimes \\mathrm{d} t\\otimes \\mathrm{d} t\\otimes \\mathrm{d} z + \\left( -V\\left(t, x, y, z\\right) \\frac{\\partial^2\\,V}{\\partial x\\partial z} - \\frac{\\partial\\,V}{\\partial x} \\frac{\\partial\\,V}{\\partial z} - \\frac{1}{2} \\, \\frac{\\partial^2\\,V}{\\partial t\\partial z} \\right) \\frac{\\partial}{\\partial z }\\otimes \\mathrm{d} t\\otimes \\mathrm{d} x\\otimes \\mathrm{d} t + \\left( -\\frac{1}{4} \\, V\\left(t, x, y, z\\right) \\frac{\\partial\\,V}{\\partial y} \\frac{\\partial\\,V}{\\partial z} - \\frac{1}{2} \\, \\frac{\\partial^2\\,V}{\\partial y\\partial z} \\right) \\frac{\\partial}{\\partial z }\\otimes \\mathrm{d} t\\otimes \\mathrm{d} x\\otimes \\mathrm{d} y + \\left( -\\frac{1}{4} \\, V\\left(t, x, y, z\\right) \\left(\\frac{\\partial\\,V}{\\partial z}\\right)^{2} - \\frac{1}{2} \\, \\frac{\\partial^2\\,V}{\\partial z ^ 2} \\right) \\frac{\\partial}{\\partial z }\\otimes \\mathrm{d} t\\otimes \\mathrm{d} x\\otimes \\mathrm{d} z + \\left( -\\frac{1}{4} \\, {\\left(V\\left(t, x, y, z\\right)^{2} + 3\\right)} \\frac{\\partial\\,V}{\\partial y} \\frac{\\partial\\,V}{\\partial z} - V\\left(t, x, y, z\\right) \\frac{\\partial^2\\,V}{\\partial y\\partial z} \\right) \\frac{\\partial}{\\partial z }\\otimes \\mathrm{d} t\\otimes \\mathrm{d} y\\otimes \\mathrm{d} t + \\left( \\frac{1}{4} \\, V\\left(t, x, y, z\\right) \\frac{\\partial\\,V}{\\partial y} \\frac{\\partial\\,V}{\\partial z} + \\frac{1}{2} \\, \\frac{\\partial^2\\,V}{\\partial y\\partial z} \\right) \\frac{\\partial}{\\partial z }\\otimes \\mathrm{d} t\\otimes \\mathrm{d} y\\otimes \\mathrm{d} x + \\left( -\\frac{1}{4} \\, {\\left(V\\left(t, x, y, z\\right)^{2} + 3\\right)} \\left(\\frac{\\partial\\,V}{\\partial z}\\right)^{2} - V\\left(t, x, y, z\\right) \\frac{\\partial^2\\,V}{\\partial z ^ 2} \\right) \\frac{\\partial}{\\partial z }\\otimes \\mathrm{d} t\\otimes \\mathrm{d} z\\otimes \\mathrm{d} t + \\left( \\frac{1}{4} \\, V\\left(t, x, y, z\\right) \\left(\\frac{\\partial\\,V}{\\partial z}\\right)^{2} + \\frac{1}{2} \\, \\frac{\\partial^2\\,V}{\\partial z ^ 2} \\right) \\frac{\\partial}{\\partial z }\\otimes \\mathrm{d} t\\otimes \\mathrm{d} z\\otimes \\mathrm{d} x -\\frac{1}{2} \\, \\frac{\\partial^2\\,V}{\\partial x\\partial z} \\frac{\\partial}{\\partial z }\\otimes \\mathrm{d} x\\otimes \\mathrm{d} t\\otimes \\mathrm{d} x + \\left( -\\frac{1}{4} \\, V\\left(t, x, y, z\\right) \\frac{\\partial\\,V}{\\partial y} \\frac{\\partial\\,V}{\\partial z} - \\frac{1}{2} \\, \\frac{\\partial^2\\,V}{\\partial y\\partial z} \\right) \\frac{\\partial}{\\partial z }\\otimes \\mathrm{d} x\\otimes \\mathrm{d} t\\otimes \\mathrm{d} y + \\left( -\\frac{1}{4} \\, V\\left(t, x, y, z\\right) \\left(\\frac{\\partial\\,V}{\\partial z}\\right)^{2} - \\frac{1}{2} \\, \\frac{\\partial^2\\,V}{\\partial z ^ 2} \\right) \\frac{\\partial}{\\partial z }\\otimes \\mathrm{d} x\\otimes \\mathrm{d} t\\otimes \\mathrm{d} z + \\frac{1}{2} \\, \\frac{\\partial^2\\,V}{\\partial x\\partial z} \\frac{\\partial}{\\partial z }\\otimes \\mathrm{d} x\\otimes \\mathrm{d} x\\otimes \\mathrm{d} t + \\frac{1}{4} \\, \\frac{\\partial\\,V}{\\partial y} \\frac{\\partial\\,V}{\\partial z} \\frac{\\partial}{\\partial z }\\otimes \\mathrm{d} x\\otimes \\mathrm{d} x\\otimes \\mathrm{d} y + \\frac{1}{4} \\, \\left(\\frac{\\partial\\,V}{\\partial z}\\right)^{2} \\frac{\\partial}{\\partial z }\\otimes \\mathrm{d} x\\otimes \\mathrm{d} x\\otimes \\mathrm{d} z + \\left( \\frac{1}{4} \\, V\\left(t, x, y, z\\right) \\frac{\\partial\\,V}{\\partial y} \\frac{\\partial\\,V}{\\partial z} + \\frac{1}{2} \\, \\frac{\\partial^2\\,V}{\\partial y\\partial z} \\right) \\frac{\\partial}{\\partial z }\\otimes \\mathrm{d} x\\otimes \\mathrm{d} y\\otimes \\mathrm{d} t -\\frac{1}{4} \\, \\frac{\\partial\\,V}{\\partial y} \\frac{\\partial\\,V}{\\partial z} \\frac{\\partial}{\\partial z }\\otimes \\mathrm{d} x\\otimes \\mathrm{d} y\\otimes \\mathrm{d} x + \\left( \\frac{1}{4} \\, V\\left(t, x, y, z\\right) \\left(\\frac{\\partial\\,V}{\\partial z}\\right)^{2} + \\frac{1}{2} \\, \\frac{\\partial^2\\,V}{\\partial z ^ 2} \\right) \\frac{\\partial}{\\partial z }\\otimes \\mathrm{d} x\\otimes \\mathrm{d} z\\otimes \\mathrm{d} t -\\frac{1}{4} \\, \\left(\\frac{\\partial\\,V}{\\partial z}\\right)^{2} \\frac{\\partial}{\\partial z }\\otimes \\mathrm{d} x\\otimes \\mathrm{d} z\\otimes \\mathrm{d} x\\)</html>"
      ],
      "text/latex": [
       "$\\displaystyle \\mathrm{Riem}\\left(dS^2\\right) = \\left( -V\\left(t, x, y, z\\right) \\left(\\frac{\\partial\\,V}{\\partial x}\\right)^{2} - V\\left(t, x, y, z\\right)^{2} \\frac{\\partial^2\\,V}{\\partial x ^ 2} + \\frac{1}{4} \\, V\\left(t, x, y, z\\right) \\left(\\frac{\\partial\\,V}{\\partial y}\\right)^{2} + \\frac{1}{4} \\, V\\left(t, x, y, z\\right) \\left(\\frac{\\partial\\,V}{\\partial z}\\right)^{2} - V\\left(t, x, y, z\\right) \\frac{\\partial^2\\,V}{\\partial t\\partial x} \\right) \\frac{\\partial}{\\partial t }\\otimes \\mathrm{d} t\\otimes \\mathrm{d} t\\otimes \\mathrm{d} x + \\left( -V\\left(t, x, y, z\\right)^{2} \\frac{\\partial^2\\,V}{\\partial x\\partial y} - V\\left(t, x, y, z\\right) \\frac{\\partial\\,V}{\\partial x} \\frac{\\partial\\,V}{\\partial y} - \\frac{1}{2} \\, V\\left(t, x, y, z\\right) \\frac{\\partial^2\\,V}{\\partial t\\partial y} \\right) \\frac{\\partial}{\\partial t }\\otimes \\mathrm{d} t\\otimes \\mathrm{d} t\\otimes \\mathrm{d} y + \\left( -V\\left(t, x, y, z\\right)^{2} \\frac{\\partial^2\\,V}{\\partial x\\partial z} - V\\left(t, x, y, z\\right) \\frac{\\partial\\,V}{\\partial x} \\frac{\\partial\\,V}{\\partial z} - \\frac{1}{2} \\, V\\left(t, x, y, z\\right) \\frac{\\partial^2\\,V}{\\partial t\\partial z} \\right) \\frac{\\partial}{\\partial t }\\otimes \\mathrm{d} t\\otimes \\mathrm{d} t\\otimes \\mathrm{d} z + \\left( V\\left(t, x, y, z\\right) \\left(\\frac{\\partial\\,V}{\\partial x}\\right)^{2} + V\\left(t, x, y, z\\right)^{2} \\frac{\\partial^2\\,V}{\\partial x ^ 2} - \\frac{1}{4} \\, V\\left(t, x, y, z\\right) \\left(\\frac{\\partial\\,V}{\\partial y}\\right)^{2} - \\frac{1}{4} \\, V\\left(t, x, y, z\\right) \\left(\\frac{\\partial\\,V}{\\partial z}\\right)^{2} + V\\left(t, x, y, z\\right) \\frac{\\partial^2\\,V}{\\partial t\\partial x} \\right) \\frac{\\partial}{\\partial t }\\otimes \\mathrm{d} t\\otimes \\mathrm{d} x\\otimes \\mathrm{d} t + \\frac{1}{2} \\, V\\left(t, x, y, z\\right) \\frac{\\partial^2\\,V}{\\partial x\\partial y} \\frac{\\partial}{\\partial t }\\otimes \\mathrm{d} t\\otimes \\mathrm{d} x\\otimes \\mathrm{d} y + \\frac{1}{2} \\, V\\left(t, x, y, z\\right) \\frac{\\partial^2\\,V}{\\partial x\\partial z} \\frac{\\partial}{\\partial t }\\otimes \\mathrm{d} t\\otimes \\mathrm{d} x\\otimes \\mathrm{d} z + \\left( V\\left(t, x, y, z\\right)^{2} \\frac{\\partial^2\\,V}{\\partial x\\partial y} + V\\left(t, x, y, z\\right) \\frac{\\partial\\,V}{\\partial x} \\frac{\\partial\\,V}{\\partial y} + \\frac{1}{2} \\, V\\left(t, x, y, z\\right) \\frac{\\partial^2\\,V}{\\partial t\\partial y} \\right) \\frac{\\partial}{\\partial t }\\otimes \\mathrm{d} t\\otimes \\mathrm{d} y\\otimes \\mathrm{d} t -\\frac{1}{2} \\, V\\left(t, x, y, z\\right) \\frac{\\partial^2\\,V}{\\partial x\\partial y} \\frac{\\partial}{\\partial t }\\otimes \\mathrm{d} t\\otimes \\mathrm{d} y\\otimes \\mathrm{d} x + \\left( V\\left(t, x, y, z\\right)^{2} \\frac{\\partial^2\\,V}{\\partial x\\partial z} + V\\left(t, x, y, z\\right) \\frac{\\partial\\,V}{\\partial x} \\frac{\\partial\\,V}{\\partial z} + \\frac{1}{2} \\, V\\left(t, x, y, z\\right) \\frac{\\partial^2\\,V}{\\partial t\\partial z} \\right) \\frac{\\partial}{\\partial t }\\otimes \\mathrm{d} t\\otimes \\mathrm{d} z\\otimes \\mathrm{d} t -\\frac{1}{2} \\, V\\left(t, x, y, z\\right) \\frac{\\partial^2\\,V}{\\partial x\\partial z} \\frac{\\partial}{\\partial t }\\otimes \\mathrm{d} t\\otimes \\mathrm{d} z\\otimes \\mathrm{d} x + \\left( \\left(\\frac{\\partial\\,V}{\\partial x}\\right)^{2} + V\\left(t, x, y, z\\right) \\frac{\\partial^2\\,V}{\\partial x ^ 2} - \\frac{1}{4} \\, \\left(\\frac{\\partial\\,V}{\\partial y}\\right)^{2} - \\frac{1}{4} \\, \\left(\\frac{\\partial\\,V}{\\partial z}\\right)^{2} + \\frac{\\partial^2\\,V}{\\partial t\\partial x} \\right) \\frac{\\partial}{\\partial t }\\otimes \\mathrm{d} x\\otimes \\mathrm{d} t\\otimes \\mathrm{d} x + \\left( V\\left(t, x, y, z\\right) \\frac{\\partial^2\\,V}{\\partial x\\partial y} + \\frac{\\partial\\,V}{\\partial x} \\frac{\\partial\\,V}{\\partial y} + \\frac{1}{2} \\, \\frac{\\partial^2\\,V}{\\partial t\\partial y} \\right) \\frac{\\partial}{\\partial t }\\otimes \\mathrm{d} x\\otimes \\mathrm{d} t\\otimes \\mathrm{d} y + \\left( V\\left(t, x, y, z\\right) \\frac{\\partial^2\\,V}{\\partial x\\partial z} + \\frac{\\partial\\,V}{\\partial x} \\frac{\\partial\\,V}{\\partial z} + \\frac{1}{2} \\, \\frac{\\partial^2\\,V}{\\partial t\\partial z} \\right) \\frac{\\partial}{\\partial t }\\otimes \\mathrm{d} x\\otimes \\mathrm{d} t\\otimes \\mathrm{d} z + \\left( -\\left(\\frac{\\partial\\,V}{\\partial x}\\right)^{2} - V\\left(t, x, y, z\\right) \\frac{\\partial^2\\,V}{\\partial x ^ 2} + \\frac{1}{4} \\, \\left(\\frac{\\partial\\,V}{\\partial y}\\right)^{2} + \\frac{1}{4} \\, \\left(\\frac{\\partial\\,V}{\\partial z}\\right)^{2} - \\frac{\\partial^2\\,V}{\\partial t\\partial x} \\right) \\frac{\\partial}{\\partial t }\\otimes \\mathrm{d} x\\otimes \\mathrm{d} x\\otimes \\mathrm{d} t -\\frac{1}{2} \\, \\frac{\\partial^2\\,V}{\\partial x\\partial y} \\frac{\\partial}{\\partial t }\\otimes \\mathrm{d} x\\otimes \\mathrm{d} x\\otimes \\mathrm{d} y -\\frac{1}{2} \\, \\frac{\\partial^2\\,V}{\\partial x\\partial z} \\frac{\\partial}{\\partial t }\\otimes \\mathrm{d} x\\otimes \\mathrm{d} x\\otimes \\mathrm{d} z + \\left( -V\\left(t, x, y, z\\right) \\frac{\\partial^2\\,V}{\\partial x\\partial y} - \\frac{\\partial\\,V}{\\partial x} \\frac{\\partial\\,V}{\\partial y} - \\frac{1}{2} \\, \\frac{\\partial^2\\,V}{\\partial t\\partial y} \\right) \\frac{\\partial}{\\partial t }\\otimes \\mathrm{d} x\\otimes \\mathrm{d} y\\otimes \\mathrm{d} t + \\frac{1}{2} \\, \\frac{\\partial^2\\,V}{\\partial x\\partial y} \\frac{\\partial}{\\partial t }\\otimes \\mathrm{d} x\\otimes \\mathrm{d} y\\otimes \\mathrm{d} x + \\left( -V\\left(t, x, y, z\\right) \\frac{\\partial^2\\,V}{\\partial x\\partial z} - \\frac{\\partial\\,V}{\\partial x} \\frac{\\partial\\,V}{\\partial z} - \\frac{1}{2} \\, \\frac{\\partial^2\\,V}{\\partial t\\partial z} \\right) \\frac{\\partial}{\\partial t }\\otimes \\mathrm{d} x\\otimes \\mathrm{d} z\\otimes \\mathrm{d} t + \\frac{1}{2} \\, \\frac{\\partial^2\\,V}{\\partial x\\partial z} \\frac{\\partial}{\\partial t }\\otimes \\mathrm{d} x\\otimes \\mathrm{d} z\\otimes \\mathrm{d} x + \\left( \\frac{1}{2} \\, V\\left(t, x, y, z\\right) \\frac{\\partial^2\\,V}{\\partial x\\partial y} + \\frac{\\partial\\,V}{\\partial x} \\frac{\\partial\\,V}{\\partial y} + \\frac{1}{2} \\, \\frac{\\partial^2\\,V}{\\partial t\\partial y} \\right) \\frac{\\partial}{\\partial t }\\otimes \\mathrm{d} y\\otimes \\mathrm{d} t\\otimes \\mathrm{d} x + \\left( \\frac{3}{4} \\, \\left(\\frac{\\partial\\,V}{\\partial y}\\right)^{2} + \\frac{1}{2} \\, V\\left(t, x, y, z\\right) \\frac{\\partial^2\\,V}{\\partial y ^ 2} \\right) \\frac{\\partial}{\\partial t }\\otimes \\mathrm{d} y\\otimes \\mathrm{d} t\\otimes \\mathrm{d} y + \\left( \\frac{1}{2} \\, V\\left(t, x, y, z\\right) \\frac{\\partial^2\\,V}{\\partial y\\partial z} + \\frac{3}{4} \\, \\frac{\\partial\\,V}{\\partial y} \\frac{\\partial\\,V}{\\partial z} \\right) \\frac{\\partial}{\\partial t }\\otimes \\mathrm{d} y\\otimes \\mathrm{d} t\\otimes \\mathrm{d} z + \\left( -\\frac{1}{2} \\, V\\left(t, x, y, z\\right) \\frac{\\partial^2\\,V}{\\partial x\\partial y} - \\frac{\\partial\\,V}{\\partial x} \\frac{\\partial\\,V}{\\partial y} - \\frac{1}{2} \\, \\frac{\\partial^2\\,V}{\\partial t\\partial y} \\right) \\frac{\\partial}{\\partial t }\\otimes \\mathrm{d} y\\otimes \\mathrm{d} x\\otimes \\mathrm{d} t -\\frac{1}{2} \\, \\frac{\\partial^2\\,V}{\\partial y ^ 2} \\frac{\\partial}{\\partial t }\\otimes \\mathrm{d} y\\otimes \\mathrm{d} x\\otimes \\mathrm{d} y -\\frac{1}{2} \\, \\frac{\\partial^2\\,V}{\\partial y\\partial z} \\frac{\\partial}{\\partial t }\\otimes \\mathrm{d} y\\otimes \\mathrm{d} x\\otimes \\mathrm{d} z + \\left( -\\frac{3}{4} \\, \\left(\\frac{\\partial\\,V}{\\partial y}\\right)^{2} - \\frac{1}{2} \\, V\\left(t, x, y, z\\right) \\frac{\\partial^2\\,V}{\\partial y ^ 2} \\right) \\frac{\\partial}{\\partial t }\\otimes \\mathrm{d} y\\otimes \\mathrm{d} y\\otimes \\mathrm{d} t + \\frac{1}{2} \\, \\frac{\\partial^2\\,V}{\\partial y ^ 2} \\frac{\\partial}{\\partial t }\\otimes \\mathrm{d} y\\otimes \\mathrm{d} y\\otimes \\mathrm{d} x + \\left( -\\frac{1}{2} \\, V\\left(t, x, y, z\\right) \\frac{\\partial^2\\,V}{\\partial y\\partial z} - \\frac{3}{4} \\, \\frac{\\partial\\,V}{\\partial y} \\frac{\\partial\\,V}{\\partial z} \\right) \\frac{\\partial}{\\partial t }\\otimes \\mathrm{d} y\\otimes \\mathrm{d} z\\otimes \\mathrm{d} t + \\frac{1}{2} \\, \\frac{\\partial^2\\,V}{\\partial y\\partial z} \\frac{\\partial}{\\partial t }\\otimes \\mathrm{d} y\\otimes \\mathrm{d} z\\otimes \\mathrm{d} x + \\left( \\frac{1}{2} \\, V\\left(t, x, y, z\\right) \\frac{\\partial^2\\,V}{\\partial x\\partial z} + \\frac{\\partial\\,V}{\\partial x} \\frac{\\partial\\,V}{\\partial z} + \\frac{1}{2} \\, \\frac{\\partial^2\\,V}{\\partial t\\partial z} \\right) \\frac{\\partial}{\\partial t }\\otimes \\mathrm{d} z\\otimes \\mathrm{d} t\\otimes \\mathrm{d} x + \\left( \\frac{1}{2} \\, V\\left(t, x, y, z\\right) \\frac{\\partial^2\\,V}{\\partial y\\partial z} + \\frac{3}{4} \\, \\frac{\\partial\\,V}{\\partial y} \\frac{\\partial\\,V}{\\partial z} \\right) \\frac{\\partial}{\\partial t }\\otimes \\mathrm{d} z\\otimes \\mathrm{d} t\\otimes \\mathrm{d} y + \\left( \\frac{3}{4} \\, \\left(\\frac{\\partial\\,V}{\\partial z}\\right)^{2} + \\frac{1}{2} \\, V\\left(t, x, y, z\\right) \\frac{\\partial^2\\,V}{\\partial z ^ 2} \\right) \\frac{\\partial}{\\partial t }\\otimes \\mathrm{d} z\\otimes \\mathrm{d} t\\otimes \\mathrm{d} z + \\left( -\\frac{1}{2} \\, V\\left(t, x, y, z\\right) \\frac{\\partial^2\\,V}{\\partial x\\partial z} - \\frac{\\partial\\,V}{\\partial x} \\frac{\\partial\\,V}{\\partial z} - \\frac{1}{2} \\, \\frac{\\partial^2\\,V}{\\partial t\\partial z} \\right) \\frac{\\partial}{\\partial t }\\otimes \\mathrm{d} z\\otimes \\mathrm{d} x\\otimes \\mathrm{d} t -\\frac{1}{2} \\, \\frac{\\partial^2\\,V}{\\partial y\\partial z} \\frac{\\partial}{\\partial t }\\otimes \\mathrm{d} z\\otimes \\mathrm{d} x\\otimes \\mathrm{d} y -\\frac{1}{2} \\, \\frac{\\partial^2\\,V}{\\partial z ^ 2} \\frac{\\partial}{\\partial t }\\otimes \\mathrm{d} z\\otimes \\mathrm{d} x\\otimes \\mathrm{d} z + \\left( -\\frac{1}{2} \\, V\\left(t, x, y, z\\right) \\frac{\\partial^2\\,V}{\\partial y\\partial z} - \\frac{3}{4} \\, \\frac{\\partial\\,V}{\\partial y} \\frac{\\partial\\,V}{\\partial z} \\right) \\frac{\\partial}{\\partial t }\\otimes \\mathrm{d} z\\otimes \\mathrm{d} y\\otimes \\mathrm{d} t + \\frac{1}{2} \\, \\frac{\\partial^2\\,V}{\\partial y\\partial z} \\frac{\\partial}{\\partial t }\\otimes \\mathrm{d} z\\otimes \\mathrm{d} y\\otimes \\mathrm{d} x + \\left( -\\frac{3}{4} \\, \\left(\\frac{\\partial\\,V}{\\partial z}\\right)^{2} - \\frac{1}{2} \\, V\\left(t, x, y, z\\right) \\frac{\\partial^2\\,V}{\\partial z ^ 2} \\right) \\frac{\\partial}{\\partial t }\\otimes \\mathrm{d} z\\otimes \\mathrm{d} z\\otimes \\mathrm{d} t + \\frac{1}{2} \\, \\frac{\\partial^2\\,V}{\\partial z ^ 2} \\frac{\\partial}{\\partial t }\\otimes \\mathrm{d} z\\otimes \\mathrm{d} z\\otimes \\mathrm{d} x + \\left( -{\\left(V\\left(t, x, y, z\\right)^{2} - 1\\right)} \\left(\\frac{\\partial\\,V}{\\partial x}\\right)^{2} + \\frac{1}{4} \\, {\\left(V\\left(t, x, y, z\\right)^{2} - 1\\right)} \\left(\\frac{\\partial\\,V}{\\partial y}\\right)^{2} + \\frac{1}{4} \\, {\\left(V\\left(t, x, y, z\\right)^{2} - 1\\right)} \\left(\\frac{\\partial\\,V}{\\partial z}\\right)^{2} - {\\left(V\\left(t, x, y, z\\right)^{2} - 1\\right)} \\frac{\\partial^2\\,V}{\\partial t\\partial x} - {\\left(V\\left(t, x, y, z\\right)^{3} - V\\left(t, x, y, z\\right)\\right)} \\frac{\\partial^2\\,V}{\\partial x ^ 2} \\right) \\frac{\\partial}{\\partial x }\\otimes \\mathrm{d} t\\otimes \\mathrm{d} t\\otimes \\mathrm{d} x + \\left( -{\\left(V\\left(t, x, y, z\\right)^{2} - 1\\right)} \\frac{\\partial\\,V}{\\partial x} \\frac{\\partial\\,V}{\\partial y} - \\frac{1}{2} \\, {\\left(V\\left(t, x, y, z\\right)^{2} - 1\\right)} \\frac{\\partial^2\\,V}{\\partial t\\partial y} - {\\left(V\\left(t, x, y, z\\right)^{3} - V\\left(t, x, y, z\\right)\\right)} \\frac{\\partial^2\\,V}{\\partial x\\partial y} \\right) \\frac{\\partial}{\\partial x }\\otimes \\mathrm{d} t\\otimes \\mathrm{d} t\\otimes \\mathrm{d} y + \\left( -{\\left(V\\left(t, x, y, z\\right)^{2} - 1\\right)} \\frac{\\partial\\,V}{\\partial x} \\frac{\\partial\\,V}{\\partial z} - \\frac{1}{2} \\, {\\left(V\\left(t, x, y, z\\right)^{2} - 1\\right)} \\frac{\\partial^2\\,V}{\\partial t\\partial z} - {\\left(V\\left(t, x, y, z\\right)^{3} - V\\left(t, x, y, z\\right)\\right)} \\frac{\\partial^2\\,V}{\\partial x\\partial z} \\right) \\frac{\\partial}{\\partial x }\\otimes \\mathrm{d} t\\otimes \\mathrm{d} t\\otimes \\mathrm{d} z + \\left( {\\left(V\\left(t, x, y, z\\right)^{2} - 1\\right)} \\left(\\frac{\\partial\\,V}{\\partial x}\\right)^{2} - \\frac{1}{4} \\, {\\left(V\\left(t, x, y, z\\right)^{2} - 1\\right)} \\left(\\frac{\\partial\\,V}{\\partial y}\\right)^{2} - \\frac{1}{4} \\, {\\left(V\\left(t, x, y, z\\right)^{2} - 1\\right)} \\left(\\frac{\\partial\\,V}{\\partial z}\\right)^{2} + {\\left(V\\left(t, x, y, z\\right)^{2} - 1\\right)} \\frac{\\partial^2\\,V}{\\partial t\\partial x} + {\\left(V\\left(t, x, y, z\\right)^{3} - V\\left(t, x, y, z\\right)\\right)} \\frac{\\partial^2\\,V}{\\partial x ^ 2} \\right) \\frac{\\partial}{\\partial x }\\otimes \\mathrm{d} t\\otimes \\mathrm{d} x\\otimes \\mathrm{d} t + \\frac{1}{2} \\, {\\left(V\\left(t, x, y, z\\right)^{2} - 1\\right)} \\frac{\\partial^2\\,V}{\\partial x\\partial y} \\frac{\\partial}{\\partial x }\\otimes \\mathrm{d} t\\otimes \\mathrm{d} x\\otimes \\mathrm{d} y + \\frac{1}{2} \\, {\\left(V\\left(t, x, y, z\\right)^{2} - 1\\right)} \\frac{\\partial^2\\,V}{\\partial x\\partial z} \\frac{\\partial}{\\partial x }\\otimes \\mathrm{d} t\\otimes \\mathrm{d} x\\otimes \\mathrm{d} z + \\left( {\\left(V\\left(t, x, y, z\\right)^{2} - 1\\right)} \\frac{\\partial\\,V}{\\partial x} \\frac{\\partial\\,V}{\\partial y} + \\frac{1}{2} \\, {\\left(V\\left(t, x, y, z\\right)^{2} - 1\\right)} \\frac{\\partial^2\\,V}{\\partial t\\partial y} + {\\left(V\\left(t, x, y, z\\right)^{3} - V\\left(t, x, y, z\\right)\\right)} \\frac{\\partial^2\\,V}{\\partial x\\partial y} \\right) \\frac{\\partial}{\\partial x }\\otimes \\mathrm{d} t\\otimes \\mathrm{d} y\\otimes \\mathrm{d} t -\\frac{1}{2} \\, {\\left(V\\left(t, x, y, z\\right)^{2} - 1\\right)} \\frac{\\partial^2\\,V}{\\partial x\\partial y} \\frac{\\partial}{\\partial x }\\otimes \\mathrm{d} t\\otimes \\mathrm{d} y\\otimes \\mathrm{d} x + \\left( {\\left(V\\left(t, x, y, z\\right)^{2} - 1\\right)} \\frac{\\partial\\,V}{\\partial x} \\frac{\\partial\\,V}{\\partial z} + \\frac{1}{2} \\, {\\left(V\\left(t, x, y, z\\right)^{2} - 1\\right)} \\frac{\\partial^2\\,V}{\\partial t\\partial z} + {\\left(V\\left(t, x, y, z\\right)^{3} - V\\left(t, x, y, z\\right)\\right)} \\frac{\\partial^2\\,V}{\\partial x\\partial z} \\right) \\frac{\\partial}{\\partial x }\\otimes \\mathrm{d} t\\otimes \\mathrm{d} z\\otimes \\mathrm{d} t -\\frac{1}{2} \\, {\\left(V\\left(t, x, y, z\\right)^{2} - 1\\right)} \\frac{\\partial^2\\,V}{\\partial x\\partial z} \\frac{\\partial}{\\partial x }\\otimes \\mathrm{d} t\\otimes \\mathrm{d} z\\otimes \\mathrm{d} x + \\left( V\\left(t, x, y, z\\right) \\left(\\frac{\\partial\\,V}{\\partial x}\\right)^{2} + V\\left(t, x, y, z\\right)^{2} \\frac{\\partial^2\\,V}{\\partial x ^ 2} - \\frac{1}{4} \\, V\\left(t, x, y, z\\right) \\left(\\frac{\\partial\\,V}{\\partial y}\\right)^{2} - \\frac{1}{4} \\, V\\left(t, x, y, z\\right) \\left(\\frac{\\partial\\,V}{\\partial z}\\right)^{2} + V\\left(t, x, y, z\\right) \\frac{\\partial^2\\,V}{\\partial t\\partial x} \\right) \\frac{\\partial}{\\partial x }\\otimes \\mathrm{d} x\\otimes \\mathrm{d} t\\otimes \\mathrm{d} x + \\left( V\\left(t, x, y, z\\right)^{2} \\frac{\\partial^2\\,V}{\\partial x\\partial y} + V\\left(t, x, y, z\\right) \\frac{\\partial\\,V}{\\partial x} \\frac{\\partial\\,V}{\\partial y} + \\frac{1}{2} \\, V\\left(t, x, y, z\\right) \\frac{\\partial^2\\,V}{\\partial t\\partial y} \\right) \\frac{\\partial}{\\partial x }\\otimes \\mathrm{d} x\\otimes \\mathrm{d} t\\otimes \\mathrm{d} y + \\left( V\\left(t, x, y, z\\right)^{2} \\frac{\\partial^2\\,V}{\\partial x\\partial z} + V\\left(t, x, y, z\\right) \\frac{\\partial\\,V}{\\partial x} \\frac{\\partial\\,V}{\\partial z} + \\frac{1}{2} \\, V\\left(t, x, y, z\\right) \\frac{\\partial^2\\,V}{\\partial t\\partial z} \\right) \\frac{\\partial}{\\partial x }\\otimes \\mathrm{d} x\\otimes \\mathrm{d} t\\otimes \\mathrm{d} z + \\left( -V\\left(t, x, y, z\\right) \\left(\\frac{\\partial\\,V}{\\partial x}\\right)^{2} - V\\left(t, x, y, z\\right)^{2} \\frac{\\partial^2\\,V}{\\partial x ^ 2} + \\frac{1}{4} \\, V\\left(t, x, y, z\\right) \\left(\\frac{\\partial\\,V}{\\partial y}\\right)^{2} + \\frac{1}{4} \\, V\\left(t, x, y, z\\right) \\left(\\frac{\\partial\\,V}{\\partial z}\\right)^{2} - V\\left(t, x, y, z\\right) \\frac{\\partial^2\\,V}{\\partial t\\partial x} \\right) \\frac{\\partial}{\\partial x }\\otimes \\mathrm{d} x\\otimes \\mathrm{d} x\\otimes \\mathrm{d} t -\\frac{1}{2} \\, V\\left(t, x, y, z\\right) \\frac{\\partial^2\\,V}{\\partial x\\partial y} \\frac{\\partial}{\\partial x }\\otimes \\mathrm{d} x\\otimes \\mathrm{d} x\\otimes \\mathrm{d} y -\\frac{1}{2} \\, V\\left(t, x, y, z\\right) \\frac{\\partial^2\\,V}{\\partial x\\partial z} \\frac{\\partial}{\\partial x }\\otimes \\mathrm{d} x\\otimes \\mathrm{d} x\\otimes \\mathrm{d} z + \\left( -V\\left(t, x, y, z\\right)^{2} \\frac{\\partial^2\\,V}{\\partial x\\partial y} - V\\left(t, x, y, z\\right) \\frac{\\partial\\,V}{\\partial x} \\frac{\\partial\\,V}{\\partial y} - \\frac{1}{2} \\, V\\left(t, x, y, z\\right) \\frac{\\partial^2\\,V}{\\partial t\\partial y} \\right) \\frac{\\partial}{\\partial x }\\otimes \\mathrm{d} x\\otimes \\mathrm{d} y\\otimes \\mathrm{d} t + \\frac{1}{2} \\, V\\left(t, x, y, z\\right) \\frac{\\partial^2\\,V}{\\partial x\\partial y} \\frac{\\partial}{\\partial x }\\otimes \\mathrm{d} x\\otimes \\mathrm{d} y\\otimes \\mathrm{d} x + \\left( -V\\left(t, x, y, z\\right)^{2} \\frac{\\partial^2\\,V}{\\partial x\\partial z} - V\\left(t, x, y, z\\right) \\frac{\\partial\\,V}{\\partial x} \\frac{\\partial\\,V}{\\partial z} - \\frac{1}{2} \\, V\\left(t, x, y, z\\right) \\frac{\\partial^2\\,V}{\\partial t\\partial z} \\right) \\frac{\\partial}{\\partial x }\\otimes \\mathrm{d} x\\otimes \\mathrm{d} z\\otimes \\mathrm{d} t + \\frac{1}{2} \\, V\\left(t, x, y, z\\right) \\frac{\\partial^2\\,V}{\\partial x\\partial z} \\frac{\\partial}{\\partial x }\\otimes \\mathrm{d} x\\otimes \\mathrm{d} z\\otimes \\mathrm{d} x + \\left( V\\left(t, x, y, z\\right) \\frac{\\partial\\,V}{\\partial x} \\frac{\\partial\\,V}{\\partial y} + \\frac{1}{2} \\, V\\left(t, x, y, z\\right) \\frac{\\partial^2\\,V}{\\partial t\\partial y} + \\frac{1}{2} \\, {\\left(V\\left(t, x, y, z\\right)^{2} + 1\\right)} \\frac{\\partial^2\\,V}{\\partial x\\partial y} \\right) \\frac{\\partial}{\\partial x }\\otimes \\mathrm{d} y\\otimes \\mathrm{d} t\\otimes \\mathrm{d} x + \\left( V\\left(t, x, y, z\\right) \\left(\\frac{\\partial\\,V}{\\partial y}\\right)^{2} + \\frac{1}{2} \\, {\\left(V\\left(t, x, y, z\\right)^{2} + 1\\right)} \\frac{\\partial^2\\,V}{\\partial y ^ 2} \\right) \\frac{\\partial}{\\partial x }\\otimes \\mathrm{d} y\\otimes \\mathrm{d} t\\otimes \\mathrm{d} y + \\left( V\\left(t, x, y, z\\right) \\frac{\\partial\\,V}{\\partial y} \\frac{\\partial\\,V}{\\partial z} + \\frac{1}{2} \\, {\\left(V\\left(t, x, y, z\\right)^{2} + 1\\right)} \\frac{\\partial^2\\,V}{\\partial y\\partial z} \\right) \\frac{\\partial}{\\partial x }\\otimes \\mathrm{d} y\\otimes \\mathrm{d} t\\otimes \\mathrm{d} z + \\left( -V\\left(t, x, y, z\\right) \\frac{\\partial\\,V}{\\partial x} \\frac{\\partial\\,V}{\\partial y} - \\frac{1}{2} \\, V\\left(t, x, y, z\\right) \\frac{\\partial^2\\,V}{\\partial t\\partial y} - \\frac{1}{2} \\, {\\left(V\\left(t, x, y, z\\right)^{2} + 1\\right)} \\frac{\\partial^2\\,V}{\\partial x\\partial y} \\right) \\frac{\\partial}{\\partial x }\\otimes \\mathrm{d} y\\otimes \\mathrm{d} x\\otimes \\mathrm{d} t + \\left( -\\frac{1}{4} \\, \\left(\\frac{\\partial\\,V}{\\partial y}\\right)^{2} - \\frac{1}{2} \\, V\\left(t, x, y, z\\right) \\frac{\\partial^2\\,V}{\\partial y ^ 2} \\right) \\frac{\\partial}{\\partial x }\\otimes \\mathrm{d} y\\otimes \\mathrm{d} x\\otimes \\mathrm{d} y + \\left( -\\frac{1}{2} \\, V\\left(t, x, y, z\\right) \\frac{\\partial^2\\,V}{\\partial y\\partial z} - \\frac{1}{4} \\, \\frac{\\partial\\,V}{\\partial y} \\frac{\\partial\\,V}{\\partial z} \\right) \\frac{\\partial}{\\partial x }\\otimes \\mathrm{d} y\\otimes \\mathrm{d} x\\otimes \\mathrm{d} z + \\left( -V\\left(t, x, y, z\\right) \\left(\\frac{\\partial\\,V}{\\partial y}\\right)^{2} - \\frac{1}{2} \\, {\\left(V\\left(t, x, y, z\\right)^{2} + 1\\right)} \\frac{\\partial^2\\,V}{\\partial y ^ 2} \\right) \\frac{\\partial}{\\partial x }\\otimes \\mathrm{d} y\\otimes \\mathrm{d} y\\otimes \\mathrm{d} t + \\left( \\frac{1}{4} \\, \\left(\\frac{\\partial\\,V}{\\partial y}\\right)^{2} + \\frac{1}{2} \\, V\\left(t, x, y, z\\right) \\frac{\\partial^2\\,V}{\\partial y ^ 2} \\right) \\frac{\\partial}{\\partial x }\\otimes \\mathrm{d} y\\otimes \\mathrm{d} y\\otimes \\mathrm{d} x + \\left( -V\\left(t, x, y, z\\right) \\frac{\\partial\\,V}{\\partial y} \\frac{\\partial\\,V}{\\partial z} - \\frac{1}{2} \\, {\\left(V\\left(t, x, y, z\\right)^{2} + 1\\right)} \\frac{\\partial^2\\,V}{\\partial y\\partial z} \\right) \\frac{\\partial}{\\partial x }\\otimes \\mathrm{d} y\\otimes \\mathrm{d} z\\otimes \\mathrm{d} t + \\left( \\frac{1}{2} \\, V\\left(t, x, y, z\\right) \\frac{\\partial^2\\,V}{\\partial y\\partial z} + \\frac{1}{4} \\, \\frac{\\partial\\,V}{\\partial y} \\frac{\\partial\\,V}{\\partial z} \\right) \\frac{\\partial}{\\partial x }\\otimes \\mathrm{d} y\\otimes \\mathrm{d} z\\otimes \\mathrm{d} x + \\left( V\\left(t, x, y, z\\right) \\frac{\\partial\\,V}{\\partial x} \\frac{\\partial\\,V}{\\partial z} + \\frac{1}{2} \\, V\\left(t, x, y, z\\right) \\frac{\\partial^2\\,V}{\\partial t\\partial z} + \\frac{1}{2} \\, {\\left(V\\left(t, x, y, z\\right)^{2} + 1\\right)} \\frac{\\partial^2\\,V}{\\partial x\\partial z} \\right) \\frac{\\partial}{\\partial x }\\otimes \\mathrm{d} z\\otimes \\mathrm{d} t\\otimes \\mathrm{d} x + \\left( V\\left(t, x, y, z\\right) \\frac{\\partial\\,V}{\\partial y} \\frac{\\partial\\,V}{\\partial z} + \\frac{1}{2} \\, {\\left(V\\left(t, x, y, z\\right)^{2} + 1\\right)} \\frac{\\partial^2\\,V}{\\partial y\\partial z} \\right) \\frac{\\partial}{\\partial x }\\otimes \\mathrm{d} z\\otimes \\mathrm{d} t\\otimes \\mathrm{d} y + \\left( V\\left(t, x, y, z\\right) \\left(\\frac{\\partial\\,V}{\\partial z}\\right)^{2} + \\frac{1}{2} \\, {\\left(V\\left(t, x, y, z\\right)^{2} + 1\\right)} \\frac{\\partial^2\\,V}{\\partial z ^ 2} \\right) \\frac{\\partial}{\\partial x }\\otimes \\mathrm{d} z\\otimes \\mathrm{d} t\\otimes \\mathrm{d} z + \\left( -V\\left(t, x, y, z\\right) \\frac{\\partial\\,V}{\\partial x} \\frac{\\partial\\,V}{\\partial z} - \\frac{1}{2} \\, V\\left(t, x, y, z\\right) \\frac{\\partial^2\\,V}{\\partial t\\partial z} - \\frac{1}{2} \\, {\\left(V\\left(t, x, y, z\\right)^{2} + 1\\right)} \\frac{\\partial^2\\,V}{\\partial x\\partial z} \\right) \\frac{\\partial}{\\partial x }\\otimes \\mathrm{d} z\\otimes \\mathrm{d} x\\otimes \\mathrm{d} t + \\left( -\\frac{1}{2} \\, V\\left(t, x, y, z\\right) \\frac{\\partial^2\\,V}{\\partial y\\partial z} - \\frac{1}{4} \\, \\frac{\\partial\\,V}{\\partial y} \\frac{\\partial\\,V}{\\partial z} \\right) \\frac{\\partial}{\\partial x }\\otimes \\mathrm{d} z\\otimes \\mathrm{d} x\\otimes \\mathrm{d} y + \\left( -\\frac{1}{4} \\, \\left(\\frac{\\partial\\,V}{\\partial z}\\right)^{2} - \\frac{1}{2} \\, V\\left(t, x, y, z\\right) \\frac{\\partial^2\\,V}{\\partial z ^ 2} \\right) \\frac{\\partial}{\\partial x }\\otimes \\mathrm{d} z\\otimes \\mathrm{d} x\\otimes \\mathrm{d} z + \\left( -V\\left(t, x, y, z\\right) \\frac{\\partial\\,V}{\\partial y} \\frac{\\partial\\,V}{\\partial z} - \\frac{1}{2} \\, {\\left(V\\left(t, x, y, z\\right)^{2} + 1\\right)} \\frac{\\partial^2\\,V}{\\partial y\\partial z} \\right) \\frac{\\partial}{\\partial x }\\otimes \\mathrm{d} z\\otimes \\mathrm{d} y\\otimes \\mathrm{d} t + \\left( \\frac{1}{2} \\, V\\left(t, x, y, z\\right) \\frac{\\partial^2\\,V}{\\partial y\\partial z} + \\frac{1}{4} \\, \\frac{\\partial\\,V}{\\partial y} \\frac{\\partial\\,V}{\\partial z} \\right) \\frac{\\partial}{\\partial x }\\otimes \\mathrm{d} z\\otimes \\mathrm{d} y\\otimes \\mathrm{d} x + \\left( -V\\left(t, x, y, z\\right) \\left(\\frac{\\partial\\,V}{\\partial z}\\right)^{2} - \\frac{1}{2} \\, {\\left(V\\left(t, x, y, z\\right)^{2} + 1\\right)} \\frac{\\partial^2\\,V}{\\partial z ^ 2} \\right) \\frac{\\partial}{\\partial x }\\otimes \\mathrm{d} z\\otimes \\mathrm{d} z\\otimes \\mathrm{d} t + \\left( \\frac{1}{4} \\, \\left(\\frac{\\partial\\,V}{\\partial z}\\right)^{2} + \\frac{1}{2} \\, V\\left(t, x, y, z\\right) \\frac{\\partial^2\\,V}{\\partial z ^ 2} \\right) \\frac{\\partial}{\\partial x }\\otimes \\mathrm{d} z\\otimes \\mathrm{d} z\\otimes \\mathrm{d} x + \\left( V\\left(t, x, y, z\\right) \\frac{\\partial^2\\,V}{\\partial x\\partial y} + \\frac{\\partial\\,V}{\\partial x} \\frac{\\partial\\,V}{\\partial y} + \\frac{1}{2} \\, \\frac{\\partial^2\\,V}{\\partial t\\partial y} \\right) \\frac{\\partial}{\\partial y }\\otimes \\mathrm{d} t\\otimes \\mathrm{d} t\\otimes \\mathrm{d} x + \\left( \\frac{1}{4} \\, {\\left(V\\left(t, x, y, z\\right)^{2} + 3\\right)} \\left(\\frac{\\partial\\,V}{\\partial y}\\right)^{2} + V\\left(t, x, y, z\\right) \\frac{\\partial^2\\,V}{\\partial y ^ 2} \\right) \\frac{\\partial}{\\partial y }\\otimes \\mathrm{d} t\\otimes \\mathrm{d} t\\otimes \\mathrm{d} y + \\left( \\frac{1}{4} \\, {\\left(V\\left(t, x, y, z\\right)^{2} + 3\\right)} \\frac{\\partial\\,V}{\\partial y} \\frac{\\partial\\,V}{\\partial z} + V\\left(t, x, y, z\\right) \\frac{\\partial^2\\,V}{\\partial y\\partial z} \\right) \\frac{\\partial}{\\partial y }\\otimes \\mathrm{d} t\\otimes \\mathrm{d} t\\otimes \\mathrm{d} z + \\left( -V\\left(t, x, y, z\\right) \\frac{\\partial^2\\,V}{\\partial x\\partial y} - \\frac{\\partial\\,V}{\\partial x} \\frac{\\partial\\,V}{\\partial y} - \\frac{1}{2} \\, \\frac{\\partial^2\\,V}{\\partial t\\partial y} \\right) \\frac{\\partial}{\\partial y }\\otimes \\mathrm{d} t\\otimes \\mathrm{d} x\\otimes \\mathrm{d} t + \\left( -\\frac{1}{4} \\, V\\left(t, x, y, z\\right) \\left(\\frac{\\partial\\,V}{\\partial y}\\right)^{2} - \\frac{1}{2} \\, \\frac{\\partial^2\\,V}{\\partial y ^ 2} \\right) \\frac{\\partial}{\\partial y }\\otimes \\mathrm{d} t\\otimes \\mathrm{d} x\\otimes \\mathrm{d} y + \\left( -\\frac{1}{4} \\, V\\left(t, x, y, z\\right) \\frac{\\partial\\,V}{\\partial y} \\frac{\\partial\\,V}{\\partial z} - \\frac{1}{2} \\, \\frac{\\partial^2\\,V}{\\partial y\\partial z} \\right) \\frac{\\partial}{\\partial y }\\otimes \\mathrm{d} t\\otimes \\mathrm{d} x\\otimes \\mathrm{d} z + \\left( -\\frac{1}{4} \\, {\\left(V\\left(t, x, y, z\\right)^{2} + 3\\right)} \\left(\\frac{\\partial\\,V}{\\partial y}\\right)^{2} - V\\left(t, x, y, z\\right) \\frac{\\partial^2\\,V}{\\partial y ^ 2} \\right) \\frac{\\partial}{\\partial y }\\otimes \\mathrm{d} t\\otimes \\mathrm{d} y\\otimes \\mathrm{d} t + \\left( \\frac{1}{4} \\, V\\left(t, x, y, z\\right) \\left(\\frac{\\partial\\,V}{\\partial y}\\right)^{2} + \\frac{1}{2} \\, \\frac{\\partial^2\\,V}{\\partial y ^ 2} \\right) \\frac{\\partial}{\\partial y }\\otimes \\mathrm{d} t\\otimes \\mathrm{d} y\\otimes \\mathrm{d} x + \\left( -\\frac{1}{4} \\, {\\left(V\\left(t, x, y, z\\right)^{2} + 3\\right)} \\frac{\\partial\\,V}{\\partial y} \\frac{\\partial\\,V}{\\partial z} - V\\left(t, x, y, z\\right) \\frac{\\partial^2\\,V}{\\partial y\\partial z} \\right) \\frac{\\partial}{\\partial y }\\otimes \\mathrm{d} t\\otimes \\mathrm{d} z\\otimes \\mathrm{d} t + \\left( \\frac{1}{4} \\, V\\left(t, x, y, z\\right) \\frac{\\partial\\,V}{\\partial y} \\frac{\\partial\\,V}{\\partial z} + \\frac{1}{2} \\, \\frac{\\partial^2\\,V}{\\partial y\\partial z} \\right) \\frac{\\partial}{\\partial y }\\otimes \\mathrm{d} t\\otimes \\mathrm{d} z\\otimes \\mathrm{d} x -\\frac{1}{2} \\, \\frac{\\partial^2\\,V}{\\partial x\\partial y} \\frac{\\partial}{\\partial y }\\otimes \\mathrm{d} x\\otimes \\mathrm{d} t\\otimes \\mathrm{d} x + \\left( -\\frac{1}{4} \\, V\\left(t, x, y, z\\right) \\left(\\frac{\\partial\\,V}{\\partial y}\\right)^{2} - \\frac{1}{2} \\, \\frac{\\partial^2\\,V}{\\partial y ^ 2} \\right) \\frac{\\partial}{\\partial y }\\otimes \\mathrm{d} x\\otimes \\mathrm{d} t\\otimes \\mathrm{d} y + \\left( -\\frac{1}{4} \\, V\\left(t, x, y, z\\right) \\frac{\\partial\\,V}{\\partial y} \\frac{\\partial\\,V}{\\partial z} - \\frac{1}{2} \\, \\frac{\\partial^2\\,V}{\\partial y\\partial z} \\right) \\frac{\\partial}{\\partial y }\\otimes \\mathrm{d} x\\otimes \\mathrm{d} t\\otimes \\mathrm{d} z + \\frac{1}{2} \\, \\frac{\\partial^2\\,V}{\\partial x\\partial y} \\frac{\\partial}{\\partial y }\\otimes \\mathrm{d} x\\otimes \\mathrm{d} x\\otimes \\mathrm{d} t + \\frac{1}{4} \\, \\left(\\frac{\\partial\\,V}{\\partial y}\\right)^{2} \\frac{\\partial}{\\partial y }\\otimes \\mathrm{d} x\\otimes \\mathrm{d} x\\otimes \\mathrm{d} y + \\frac{1}{4} \\, \\frac{\\partial\\,V}{\\partial y} \\frac{\\partial\\,V}{\\partial z} \\frac{\\partial}{\\partial y }\\otimes \\mathrm{d} x\\otimes \\mathrm{d} x\\otimes \\mathrm{d} z + \\left( \\frac{1}{4} \\, V\\left(t, x, y, z\\right) \\left(\\frac{\\partial\\,V}{\\partial y}\\right)^{2} + \\frac{1}{2} \\, \\frac{\\partial^2\\,V}{\\partial y ^ 2} \\right) \\frac{\\partial}{\\partial y }\\otimes \\mathrm{d} x\\otimes \\mathrm{d} y\\otimes \\mathrm{d} t -\\frac{1}{4} \\, \\left(\\frac{\\partial\\,V}{\\partial y}\\right)^{2} \\frac{\\partial}{\\partial y }\\otimes \\mathrm{d} x\\otimes \\mathrm{d} y\\otimes \\mathrm{d} x + \\left( \\frac{1}{4} \\, V\\left(t, x, y, z\\right) \\frac{\\partial\\,V}{\\partial y} \\frac{\\partial\\,V}{\\partial z} + \\frac{1}{2} \\, \\frac{\\partial^2\\,V}{\\partial y\\partial z} \\right) \\frac{\\partial}{\\partial y }\\otimes \\mathrm{d} x\\otimes \\mathrm{d} z\\otimes \\mathrm{d} t -\\frac{1}{4} \\, \\frac{\\partial\\,V}{\\partial y} \\frac{\\partial\\,V}{\\partial z} \\frac{\\partial}{\\partial y }\\otimes \\mathrm{d} x\\otimes \\mathrm{d} z\\otimes \\mathrm{d} x + \\left( V\\left(t, x, y, z\\right) \\frac{\\partial^2\\,V}{\\partial x\\partial z} + \\frac{\\partial\\,V}{\\partial x} \\frac{\\partial\\,V}{\\partial z} + \\frac{1}{2} \\, \\frac{\\partial^2\\,V}{\\partial t\\partial z} \\right) \\frac{\\partial}{\\partial z }\\otimes \\mathrm{d} t\\otimes \\mathrm{d} t\\otimes \\mathrm{d} x + \\left( \\frac{1}{4} \\, {\\left(V\\left(t, x, y, z\\right)^{2} + 3\\right)} \\frac{\\partial\\,V}{\\partial y} \\frac{\\partial\\,V}{\\partial z} + V\\left(t, x, y, z\\right) \\frac{\\partial^2\\,V}{\\partial y\\partial z} \\right) \\frac{\\partial}{\\partial z }\\otimes \\mathrm{d} t\\otimes \\mathrm{d} t\\otimes \\mathrm{d} y + \\left( \\frac{1}{4} \\, {\\left(V\\left(t, x, y, z\\right)^{2} + 3\\right)} \\left(\\frac{\\partial\\,V}{\\partial z}\\right)^{2} + V\\left(t, x, y, z\\right) \\frac{\\partial^2\\,V}{\\partial z ^ 2} \\right) \\frac{\\partial}{\\partial z }\\otimes \\mathrm{d} t\\otimes \\mathrm{d} t\\otimes \\mathrm{d} z + \\left( -V\\left(t, x, y, z\\right) \\frac{\\partial^2\\,V}{\\partial x\\partial z} - \\frac{\\partial\\,V}{\\partial x} \\frac{\\partial\\,V}{\\partial z} - \\frac{1}{2} \\, \\frac{\\partial^2\\,V}{\\partial t\\partial z} \\right) \\frac{\\partial}{\\partial z }\\otimes \\mathrm{d} t\\otimes \\mathrm{d} x\\otimes \\mathrm{d} t + \\left( -\\frac{1}{4} \\, V\\left(t, x, y, z\\right) \\frac{\\partial\\,V}{\\partial y} \\frac{\\partial\\,V}{\\partial z} - \\frac{1}{2} \\, \\frac{\\partial^2\\,V}{\\partial y\\partial z} \\right) \\frac{\\partial}{\\partial z }\\otimes \\mathrm{d} t\\otimes \\mathrm{d} x\\otimes \\mathrm{d} y + \\left( -\\frac{1}{4} \\, V\\left(t, x, y, z\\right) \\left(\\frac{\\partial\\,V}{\\partial z}\\right)^{2} - \\frac{1}{2} \\, \\frac{\\partial^2\\,V}{\\partial z ^ 2} \\right) \\frac{\\partial}{\\partial z }\\otimes \\mathrm{d} t\\otimes \\mathrm{d} x\\otimes \\mathrm{d} z + \\left( -\\frac{1}{4} \\, {\\left(V\\left(t, x, y, z\\right)^{2} + 3\\right)} \\frac{\\partial\\,V}{\\partial y} \\frac{\\partial\\,V}{\\partial z} - V\\left(t, x, y, z\\right) \\frac{\\partial^2\\,V}{\\partial y\\partial z} \\right) \\frac{\\partial}{\\partial z }\\otimes \\mathrm{d} t\\otimes \\mathrm{d} y\\otimes \\mathrm{d} t + \\left( \\frac{1}{4} \\, V\\left(t, x, y, z\\right) \\frac{\\partial\\,V}{\\partial y} \\frac{\\partial\\,V}{\\partial z} + \\frac{1}{2} \\, \\frac{\\partial^2\\,V}{\\partial y\\partial z} \\right) \\frac{\\partial}{\\partial z }\\otimes \\mathrm{d} t\\otimes \\mathrm{d} y\\otimes \\mathrm{d} x + \\left( -\\frac{1}{4} \\, {\\left(V\\left(t, x, y, z\\right)^{2} + 3\\right)} \\left(\\frac{\\partial\\,V}{\\partial z}\\right)^{2} - V\\left(t, x, y, z\\right) \\frac{\\partial^2\\,V}{\\partial z ^ 2} \\right) \\frac{\\partial}{\\partial z }\\otimes \\mathrm{d} t\\otimes \\mathrm{d} z\\otimes \\mathrm{d} t + \\left( \\frac{1}{4} \\, V\\left(t, x, y, z\\right) \\left(\\frac{\\partial\\,V}{\\partial z}\\right)^{2} + \\frac{1}{2} \\, \\frac{\\partial^2\\,V}{\\partial z ^ 2} \\right) \\frac{\\partial}{\\partial z }\\otimes \\mathrm{d} t\\otimes \\mathrm{d} z\\otimes \\mathrm{d} x -\\frac{1}{2} \\, \\frac{\\partial^2\\,V}{\\partial x\\partial z} \\frac{\\partial}{\\partial z }\\otimes \\mathrm{d} x\\otimes \\mathrm{d} t\\otimes \\mathrm{d} x + \\left( -\\frac{1}{4} \\, V\\left(t, x, y, z\\right) \\frac{\\partial\\,V}{\\partial y} \\frac{\\partial\\,V}{\\partial z} - \\frac{1}{2} \\, \\frac{\\partial^2\\,V}{\\partial y\\partial z} \\right) \\frac{\\partial}{\\partial z }\\otimes \\mathrm{d} x\\otimes \\mathrm{d} t\\otimes \\mathrm{d} y + \\left( -\\frac{1}{4} \\, V\\left(t, x, y, z\\right) \\left(\\frac{\\partial\\,V}{\\partial z}\\right)^{2} - \\frac{1}{2} \\, \\frac{\\partial^2\\,V}{\\partial z ^ 2} \\right) \\frac{\\partial}{\\partial z }\\otimes \\mathrm{d} x\\otimes \\mathrm{d} t\\otimes \\mathrm{d} z + \\frac{1}{2} \\, \\frac{\\partial^2\\,V}{\\partial x\\partial z} \\frac{\\partial}{\\partial z }\\otimes \\mathrm{d} x\\otimes \\mathrm{d} x\\otimes \\mathrm{d} t + \\frac{1}{4} \\, \\frac{\\partial\\,V}{\\partial y} \\frac{\\partial\\,V}{\\partial z} \\frac{\\partial}{\\partial z }\\otimes \\mathrm{d} x\\otimes \\mathrm{d} x\\otimes \\mathrm{d} y + \\frac{1}{4} \\, \\left(\\frac{\\partial\\,V}{\\partial z}\\right)^{2} \\frac{\\partial}{\\partial z }\\otimes \\mathrm{d} x\\otimes \\mathrm{d} x\\otimes \\mathrm{d} z + \\left( \\frac{1}{4} \\, V\\left(t, x, y, z\\right) \\frac{\\partial\\,V}{\\partial y} \\frac{\\partial\\,V}{\\partial z} + \\frac{1}{2} \\, \\frac{\\partial^2\\,V}{\\partial y\\partial z} \\right) \\frac{\\partial}{\\partial z }\\otimes \\mathrm{d} x\\otimes \\mathrm{d} y\\otimes \\mathrm{d} t -\\frac{1}{4} \\, \\frac{\\partial\\,V}{\\partial y} \\frac{\\partial\\,V}{\\partial z} \\frac{\\partial}{\\partial z }\\otimes \\mathrm{d} x\\otimes \\mathrm{d} y\\otimes \\mathrm{d} x + \\left( \\frac{1}{4} \\, V\\left(t, x, y, z\\right) \\left(\\frac{\\partial\\,V}{\\partial z}\\right)^{2} + \\frac{1}{2} \\, \\frac{\\partial^2\\,V}{\\partial z ^ 2} \\right) \\frac{\\partial}{\\partial z }\\otimes \\mathrm{d} x\\otimes \\mathrm{d} z\\otimes \\mathrm{d} t -\\frac{1}{4} \\, \\left(\\frac{\\partial\\,V}{\\partial z}\\right)^{2} \\frac{\\partial}{\\partial z }\\otimes \\mathrm{d} x\\otimes \\mathrm{d} z\\otimes \\mathrm{d} x$"
      ],
      "text/plain": [
       "Riem(dS^2) = (-V(t, x, y, z)*(d(V)/dx)^2 - V(t, x, y, z)^2*d^2(V)/dx^2 + 1/4*V(t, x, y, z)*(d(V)/dy)^2 + 1/4*V(t, x, y, z)*(d(V)/dz)^2 - V(t, x, y, z)*d^2(V)/dtdx) ∂/∂t⊗dt⊗dt⊗dx + (-V(t, x, y, z)^2*d^2(V)/dxdy - V(t, x, y, z)*d(V)/dx*d(V)/dy - 1/2*V(t, x, y, z)*d^2(V)/dtdy) ∂/∂t⊗dt⊗dt⊗dy + (-V(t, x, y, z)^2*d^2(V)/dxdz - V(t, x, y, z)*d(V)/dx*d(V)/dz - 1/2*V(t, x, y, z)*d^2(V)/dtdz) ∂/∂t⊗dt⊗dt⊗dz + (V(t, x, y, z)*(d(V)/dx)^2 + V(t, x, y, z)^2*d^2(V)/dx^2 - 1/4*V(t, x, y, z)*(d(V)/dy)^2 - 1/4*V(t, x, y, z)*(d(V)/dz)^2 + V(t, x, y, z)*d^2(V)/dtdx) ∂/∂t⊗dt⊗dx⊗dt + 1/2*V(t, x, y, z)*d^2(V)/dxdy ∂/∂t⊗dt⊗dx⊗dy + 1/2*V(t, x, y, z)*d^2(V)/dxdz ∂/∂t⊗dt⊗dx⊗dz + (V(t, x, y, z)^2*d^2(V)/dxdy + V(t, x, y, z)*d(V)/dx*d(V)/dy + 1/2*V(t, x, y, z)*d^2(V)/dtdy) ∂/∂t⊗dt⊗dy⊗dt - 1/2*V(t, x, y, z)*d^2(V)/dxdy ∂/∂t⊗dt⊗dy⊗dx + (V(t, x, y, z)^2*d^2(V)/dxdz + V(t, x, y, z)*d(V)/dx*d(V)/dz + 1/2*V(t, x, y, z)*d^2(V)/dtdz) ∂/∂t⊗dt⊗dz⊗dt - 1/2*V(t, x, y, z)*d^2(V)/dxdz ∂/∂t⊗dt⊗dz⊗dx + ((d(V)/dx)^2 + V(t, x, y, z)*d^2(V)/dx^2 - 1/4*(d(V)/dy)^2 - 1/4*(d(V)/dz)^2 + d^2(V)/dtdx) ∂/∂t⊗dx⊗dt⊗dx + (V(t, x, y, z)*d^2(V)/dxdy + d(V)/dx*d(V)/dy + 1/2*d^2(V)/dtdy) ∂/∂t⊗dx⊗dt⊗dy + (V(t, x, y, z)*d^2(V)/dxdz + d(V)/dx*d(V)/dz + 1/2*d^2(V)/dtdz) ∂/∂t⊗dx⊗dt⊗dz + (-(d(V)/dx)^2 - V(t, x, y, z)*d^2(V)/dx^2 + 1/4*(d(V)/dy)^2 + 1/4*(d(V)/dz)^2 - d^2(V)/dtdx) ∂/∂t⊗dx⊗dx⊗dt - 1/2*d^2(V)/dxdy ∂/∂t⊗dx⊗dx⊗dy - 1/2*d^2(V)/dxdz ∂/∂t⊗dx⊗dx⊗dz + (-V(t, x, y, z)*d^2(V)/dxdy - d(V)/dx*d(V)/dy - 1/2*d^2(V)/dtdy) ∂/∂t⊗dx⊗dy⊗dt + 1/2*d^2(V)/dxdy ∂/∂t⊗dx⊗dy⊗dx + (-V(t, x, y, z)*d^2(V)/dxdz - d(V)/dx*d(V)/dz - 1/2*d^2(V)/dtdz) ∂/∂t⊗dx⊗dz⊗dt + 1/2*d^2(V)/dxdz ∂/∂t⊗dx⊗dz⊗dx + (1/2*V(t, x, y, z)*d^2(V)/dxdy + d(V)/dx*d(V)/dy + 1/2*d^2(V)/dtdy) ∂/∂t⊗dy⊗dt⊗dx + (3/4*(d(V)/dy)^2 + 1/2*V(t, x, y, z)*d^2(V)/dy^2) ∂/∂t⊗dy⊗dt⊗dy + (1/2*V(t, x, y, z)*d^2(V)/dydz + 3/4*d(V)/dy*d(V)/dz) ∂/∂t⊗dy⊗dt⊗dz + (-1/2*V(t, x, y, z)*d^2(V)/dxdy - d(V)/dx*d(V)/dy - 1/2*d^2(V)/dtdy) ∂/∂t⊗dy⊗dx⊗dt - 1/2*d^2(V)/dy^2 ∂/∂t⊗dy⊗dx⊗dy - 1/2*d^2(V)/dydz ∂/∂t⊗dy⊗dx⊗dz + (-3/4*(d(V)/dy)^2 - 1/2*V(t, x, y, z)*d^2(V)/dy^2) ∂/∂t⊗dy⊗dy⊗dt + 1/2*d^2(V)/dy^2 ∂/∂t⊗dy⊗dy⊗dx + (-1/2*V(t, x, y, z)*d^2(V)/dydz - 3/4*d(V)/dy*d(V)/dz) ∂/∂t⊗dy⊗dz⊗dt + 1/2*d^2(V)/dydz ∂/∂t⊗dy⊗dz⊗dx + (1/2*V(t, x, y, z)*d^2(V)/dxdz + d(V)/dx*d(V)/dz + 1/2*d^2(V)/dtdz) ∂/∂t⊗dz⊗dt⊗dx + (1/2*V(t, x, y, z)*d^2(V)/dydz + 3/4*d(V)/dy*d(V)/dz) ∂/∂t⊗dz⊗dt⊗dy + (3/4*(d(V)/dz)^2 + 1/2*V(t, x, y, z)*d^2(V)/dz^2) ∂/∂t⊗dz⊗dt⊗dz + (-1/2*V(t, x, y, z)*d^2(V)/dxdz - d(V)/dx*d(V)/dz - 1/2*d^2(V)/dtdz) ∂/∂t⊗dz⊗dx⊗dt - 1/2*d^2(V)/dydz ∂/∂t⊗dz⊗dx⊗dy - 1/2*d^2(V)/dz^2 ∂/∂t⊗dz⊗dx⊗dz + (-1/2*V(t, x, y, z)*d^2(V)/dydz - 3/4*d(V)/dy*d(V)/dz) ∂/∂t⊗dz⊗dy⊗dt + 1/2*d^2(V)/dydz ∂/∂t⊗dz⊗dy⊗dx + (-3/4*(d(V)/dz)^2 - 1/2*V(t, x, y, z)*d^2(V)/dz^2) ∂/∂t⊗dz⊗dz⊗dt + 1/2*d^2(V)/dz^2 ∂/∂t⊗dz⊗dz⊗dx + (-(V(t, x, y, z)^2 - 1)*(d(V)/dx)^2 + 1/4*(V(t, x, y, z)^2 - 1)*(d(V)/dy)^2 + 1/4*(V(t, x, y, z)^2 - 1)*(d(V)/dz)^2 - (V(t, x, y, z)^2 - 1)*d^2(V)/dtdx - (V(t, x, y, z)^3 - V(t, x, y, z))*d^2(V)/dx^2) ∂/∂x⊗dt⊗dt⊗dx + (-(V(t, x, y, z)^2 - 1)*d(V)/dx*d(V)/dy - 1/2*(V(t, x, y, z)^2 - 1)*d^2(V)/dtdy - (V(t, x, y, z)^3 - V(t, x, y, z))*d^2(V)/dxdy) ∂/∂x⊗dt⊗dt⊗dy + (-(V(t, x, y, z)^2 - 1)*d(V)/dx*d(V)/dz - 1/2*(V(t, x, y, z)^2 - 1)*d^2(V)/dtdz - (V(t, x, y, z)^3 - V(t, x, y, z))*d^2(V)/dxdz) ∂/∂x⊗dt⊗dt⊗dz + ((V(t, x, y, z)^2 - 1)*(d(V)/dx)^2 - 1/4*(V(t, x, y, z)^2 - 1)*(d(V)/dy)^2 - 1/4*(V(t, x, y, z)^2 - 1)*(d(V)/dz)^2 + (V(t, x, y, z)^2 - 1)*d^2(V)/dtdx + (V(t, x, y, z)^3 - V(t, x, y, z))*d^2(V)/dx^2) ∂/∂x⊗dt⊗dx⊗dt + 1/2*(V(t, x, y, z)^2 - 1)*d^2(V)/dxdy ∂/∂x⊗dt⊗dx⊗dy + 1/2*(V(t, x, y, z)^2 - 1)*d^2(V)/dxdz ∂/∂x⊗dt⊗dx⊗dz + ((V(t, x, y, z)^2 - 1)*d(V)/dx*d(V)/dy + 1/2*(V(t, x, y, z)^2 - 1)*d^2(V)/dtdy + (V(t, x, y, z)^3 - V(t, x, y, z))*d^2(V)/dxdy) ∂/∂x⊗dt⊗dy⊗dt - 1/2*(V(t, x, y, z)^2 - 1)*d^2(V)/dxdy ∂/∂x⊗dt⊗dy⊗dx + ((V(t, x, y, z)^2 - 1)*d(V)/dx*d(V)/dz + 1/2*(V(t, x, y, z)^2 - 1)*d^2(V)/dtdz + (V(t, x, y, z)^3 - V(t, x, y, z))*d^2(V)/dxdz) ∂/∂x⊗dt⊗dz⊗dt - 1/2*(V(t, x, y, z)^2 - 1)*d^2(V)/dxdz ∂/∂x⊗dt⊗dz⊗dx + (V(t, x, y, z)*(d(V)/dx)^2 + V(t, x, y, z)^2*d^2(V)/dx^2 - 1/4*V(t, x, y, z)*(d(V)/dy)^2 - 1/4*V(t, x, y, z)*(d(V)/dz)^2 + V(t, x, y, z)*d^2(V)/dtdx) ∂/∂x⊗dx⊗dt⊗dx + (V(t, x, y, z)^2*d^2(V)/dxdy + V(t, x, y, z)*d(V)/dx*d(V)/dy + 1/2*V(t, x, y, z)*d^2(V)/dtdy) ∂/∂x⊗dx⊗dt⊗dy + (V(t, x, y, z)^2*d^2(V)/dxdz + V(t, x, y, z)*d(V)/dx*d(V)/dz + 1/2*V(t, x, y, z)*d^2(V)/dtdz) ∂/∂x⊗dx⊗dt⊗dz + (-V(t, x, y, z)*(d(V)/dx)^2 - V(t, x, y, z)^2*d^2(V)/dx^2 + 1/4*V(t, x, y, z)*(d(V)/dy)^2 + 1/4*V(t, x, y, z)*(d(V)/dz)^2 - V(t, x, y, z)*d^2(V)/dtdx) ∂/∂x⊗dx⊗dx⊗dt - 1/2*V(t, x, y, z)*d^2(V)/dxdy ∂/∂x⊗dx⊗dx⊗dy - 1/2*V(t, x, y, z)*d^2(V)/dxdz ∂/∂x⊗dx⊗dx⊗dz + (-V(t, x, y, z)^2*d^2(V)/dxdy - V(t, x, y, z)*d(V)/dx*d(V)/dy - 1/2*V(t, x, y, z)*d^2(V)/dtdy) ∂/∂x⊗dx⊗dy⊗dt + 1/2*V(t, x, y, z)*d^2(V)/dxdy ∂/∂x⊗dx⊗dy⊗dx + (-V(t, x, y, z)^2*d^2(V)/dxdz - V(t, x, y, z)*d(V)/dx*d(V)/dz - 1/2*V(t, x, y, z)*d^2(V)/dtdz) ∂/∂x⊗dx⊗dz⊗dt + 1/2*V(t, x, y, z)*d^2(V)/dxdz ∂/∂x⊗dx⊗dz⊗dx + (V(t, x, y, z)*d(V)/dx*d(V)/dy + 1/2*V(t, x, y, z)*d^2(V)/dtdy + 1/2*(V(t, x, y, z)^2 + 1)*d^2(V)/dxdy) ∂/∂x⊗dy⊗dt⊗dx + (V(t, x, y, z)*(d(V)/dy)^2 + 1/2*(V(t, x, y, z)^2 + 1)*d^2(V)/dy^2) ∂/∂x⊗dy⊗dt⊗dy + (V(t, x, y, z)*d(V)/dy*d(V)/dz + 1/2*(V(t, x, y, z)^2 + 1)*d^2(V)/dydz) ∂/∂x⊗dy⊗dt⊗dz + (-V(t, x, y, z)*d(V)/dx*d(V)/dy - 1/2*V(t, x, y, z)*d^2(V)/dtdy - 1/2*(V(t, x, y, z)^2 + 1)*d^2(V)/dxdy) ∂/∂x⊗dy⊗dx⊗dt + (-1/4*(d(V)/dy)^2 - 1/2*V(t, x, y, z)*d^2(V)/dy^2) ∂/∂x⊗dy⊗dx⊗dy + (-1/2*V(t, x, y, z)*d^2(V)/dydz - 1/4*d(V)/dy*d(V)/dz) ∂/∂x⊗dy⊗dx⊗dz + (-V(t, x, y, z)*(d(V)/dy)^2 - 1/2*(V(t, x, y, z)^2 + 1)*d^2(V)/dy^2) ∂/∂x⊗dy⊗dy⊗dt + (1/4*(d(V)/dy)^2 + 1/2*V(t, x, y, z)*d^2(V)/dy^2) ∂/∂x⊗dy⊗dy⊗dx + (-V(t, x, y, z)*d(V)/dy*d(V)/dz - 1/2*(V(t, x, y, z)^2 + 1)*d^2(V)/dydz) ∂/∂x⊗dy⊗dz⊗dt + (1/2*V(t, x, y, z)*d^2(V)/dydz + 1/4*d(V)/dy*d(V)/dz) ∂/∂x⊗dy⊗dz⊗dx + (V(t, x, y, z)*d(V)/dx*d(V)/dz + 1/2*V(t, x, y, z)*d^2(V)/dtdz + 1/2*(V(t, x, y, z)^2 + 1)*d^2(V)/dxdz) ∂/∂x⊗dz⊗dt⊗dx + (V(t, x, y, z)*d(V)/dy*d(V)/dz + 1/2*(V(t, x, y, z)^2 + 1)*d^2(V)/dydz) ∂/∂x⊗dz⊗dt⊗dy + (V(t, x, y, z)*(d(V)/dz)^2 + 1/2*(V(t, x, y, z)^2 + 1)*d^2(V)/dz^2) ∂/∂x⊗dz⊗dt⊗dz + (-V(t, x, y, z)*d(V)/dx*d(V)/dz - 1/2*V(t, x, y, z)*d^2(V)/dtdz - 1/2*(V(t, x, y, z)^2 + 1)*d^2(V)/dxdz) ∂/∂x⊗dz⊗dx⊗dt + (-1/2*V(t, x, y, z)*d^2(V)/dydz - 1/4*d(V)/dy*d(V)/dz) ∂/∂x⊗dz⊗dx⊗dy + (-1/4*(d(V)/dz)^2 - 1/2*V(t, x, y, z)*d^2(V)/dz^2) ∂/∂x⊗dz⊗dx⊗dz + (-V(t, x, y, z)*d(V)/dy*d(V)/dz - 1/2*(V(t, x, y, z)^2 + 1)*d^2(V)/dydz) ∂/∂x⊗dz⊗dy⊗dt + (1/2*V(t, x, y, z)*d^2(V)/dydz + 1/4*d(V)/dy*d(V)/dz) ∂/∂x⊗dz⊗dy⊗dx + (-V(t, x, y, z)*(d(V)/dz)^2 - 1/2*(V(t, x, y, z)^2 + 1)*d^2(V)/dz^2) ∂/∂x⊗dz⊗dz⊗dt + (1/4*(d(V)/dz)^2 + 1/2*V(t, x, y, z)*d^2(V)/dz^2) ∂/∂x⊗dz⊗dz⊗dx + (V(t, x, y, z)*d^2(V)/dxdy + d(V)/dx*d(V)/dy + 1/2*d^2(V)/dtdy) ∂/∂y⊗dt⊗dt⊗dx + (1/4*(V(t, x, y, z)^2 + 3)*(d(V)/dy)^2 + V(t, x, y, z)*d^2(V)/dy^2) ∂/∂y⊗dt⊗dt⊗dy + (1/4*(V(t, x, y, z)^2 + 3)*d(V)/dy*d(V)/dz + V(t, x, y, z)*d^2(V)/dydz) ∂/∂y⊗dt⊗dt⊗dz + (-V(t, x, y, z)*d^2(V)/dxdy - d(V)/dx*d(V)/dy - 1/2*d^2(V)/dtdy) ∂/∂y⊗dt⊗dx⊗dt + (-1/4*V(t, x, y, z)*(d(V)/dy)^2 - 1/2*d^2(V)/dy^2) ∂/∂y⊗dt⊗dx⊗dy + (-1/4*V(t, x, y, z)*d(V)/dy*d(V)/dz - 1/2*d^2(V)/dydz) ∂/∂y⊗dt⊗dx⊗dz + (-1/4*(V(t, x, y, z)^2 + 3)*(d(V)/dy)^2 - V(t, x, y, z)*d^2(V)/dy^2) ∂/∂y⊗dt⊗dy⊗dt + (1/4*V(t, x, y, z)*(d(V)/dy)^2 + 1/2*d^2(V)/dy^2) ∂/∂y⊗dt⊗dy⊗dx + (-1/4*(V(t, x, y, z)^2 + 3)*d(V)/dy*d(V)/dz - V(t, x, y, z)*d^2(V)/dydz) ∂/∂y⊗dt⊗dz⊗dt + (1/4*V(t, x, y, z)*d(V)/dy*d(V)/dz + 1/2*d^2(V)/dydz) ∂/∂y⊗dt⊗dz⊗dx - 1/2*d^2(V)/dxdy ∂/∂y⊗dx⊗dt⊗dx + (-1/4*V(t, x, y, z)*(d(V)/dy)^2 - 1/2*d^2(V)/dy^2) ∂/∂y⊗dx⊗dt⊗dy + (-1/4*V(t, x, y, z)*d(V)/dy*d(V)/dz - 1/2*d^2(V)/dydz) ∂/∂y⊗dx⊗dt⊗dz + 1/2*d^2(V)/dxdy ∂/∂y⊗dx⊗dx⊗dt + 1/4*(d(V)/dy)^2 ∂/∂y⊗dx⊗dx⊗dy + 1/4*d(V)/dy*d(V)/dz ∂/∂y⊗dx⊗dx⊗dz + (1/4*V(t, x, y, z)*(d(V)/dy)^2 + 1/2*d^2(V)/dy^2) ∂/∂y⊗dx⊗dy⊗dt - 1/4*(d(V)/dy)^2 ∂/∂y⊗dx⊗dy⊗dx + (1/4*V(t, x, y, z)*d(V)/dy*d(V)/dz + 1/2*d^2(V)/dydz) ∂/∂y⊗dx⊗dz⊗dt - 1/4*d(V)/dy*d(V)/dz ∂/∂y⊗dx⊗dz⊗dx + (V(t, x, y, z)*d^2(V)/dxdz + d(V)/dx*d(V)/dz + 1/2*d^2(V)/dtdz) ∂/∂z⊗dt⊗dt⊗dx + (1/4*(V(t, x, y, z)^2 + 3)*d(V)/dy*d(V)/dz + V(t, x, y, z)*d^2(V)/dydz) ∂/∂z⊗dt⊗dt⊗dy + (1/4*(V(t, x, y, z)^2 + 3)*(d(V)/dz)^2 + V(t, x, y, z)*d^2(V)/dz^2) ∂/∂z⊗dt⊗dt⊗dz + (-V(t, x, y, z)*d^2(V)/dxdz - d(V)/dx*d(V)/dz - 1/2*d^2(V)/dtdz) ∂/∂z⊗dt⊗dx⊗dt + (-1/4*V(t, x, y, z)*d(V)/dy*d(V)/dz - 1/2*d^2(V)/dydz) ∂/∂z⊗dt⊗dx⊗dy + (-1/4*V(t, x, y, z)*(d(V)/dz)^2 - 1/2*d^2(V)/dz^2) ∂/∂z⊗dt⊗dx⊗dz + (-1/4*(V(t, x, y, z)^2 + 3)*d(V)/dy*d(V)/dz - V(t, x, y, z)*d^2(V)/dydz) ∂/∂z⊗dt⊗dy⊗dt + (1/4*V(t, x, y, z)*d(V)/dy*d(V)/dz + 1/2*d^2(V)/dydz) ∂/∂z⊗dt⊗dy⊗dx + (-1/4*(V(t, x, y, z)^2 + 3)*(d(V)/dz)^2 - V(t, x, y, z)*d^2(V)/dz^2) ∂/∂z⊗dt⊗dz⊗dt + (1/4*V(t, x, y, z)*(d(V)/dz)^2 + 1/2*d^2(V)/dz^2) ∂/∂z⊗dt⊗dz⊗dx - 1/2*d^2(V)/dxdz ∂/∂z⊗dx⊗dt⊗dx + (-1/4*V(t, x, y, z)*d(V)/dy*d(V)/dz - 1/2*d^2(V)/dydz) ∂/∂z⊗dx⊗dt⊗dy + (-1/4*V(t, x, y, z)*(d(V)/dz)^2 - 1/2*d^2(V)/dz^2) ∂/∂z⊗dx⊗dt⊗dz + 1/2*d^2(V)/dxdz ∂/∂z⊗dx⊗dx⊗dt + 1/4*d(V)/dy*d(V)/dz ∂/∂z⊗dx⊗dx⊗dy + 1/4*(d(V)/dz)^2 ∂/∂z⊗dx⊗dx⊗dz + (1/4*V(t, x, y, z)*d(V)/dy*d(V)/dz + 1/2*d^2(V)/dydz) ∂/∂z⊗dx⊗dy⊗dt - 1/4*d(V)/dy*d(V)/dz ∂/∂z⊗dx⊗dy⊗dx + (1/4*V(t, x, y, z)*(d(V)/dz)^2 + 1/2*d^2(V)/dz^2) ∂/∂z⊗dx⊗dz⊗dt - 1/4*(d(V)/dz)^2 ∂/∂z⊗dx⊗dz⊗dx"
      ]
     },
     "execution_count": 13,
     "metadata": {},
     "output_type": "execute_result"
    }
   ],
   "source": [
    "Riem.display()"
   ]
  },
  {
   "cell_type": "code",
   "execution_count": 14,
   "id": "e7f24c67-fa95-43bf-8f52-d0d931806276",
   "metadata": {},
   "outputs": [
    {
     "data": {
      "text/html": [
       "<html>\\(\\displaystyle \\mathrm{Ric}\\left(dS^2\\right) = \\left( {\\left(V\\left(t, x, y, z\\right)^{2} - 1\\right)} \\left(\\frac{\\partial\\,V}{\\partial x}\\right)^{2} - \\frac{1}{2} \\, {\\left(V\\left(t, x, y, z\\right)^{2} + 1\\right)} \\left(\\frac{\\partial\\,V}{\\partial y}\\right)^{2} - \\frac{1}{2} \\, {\\left(V\\left(t, x, y, z\\right)^{2} + 1\\right)} \\left(\\frac{\\partial\\,V}{\\partial z}\\right)^{2} + {\\left(V\\left(t, x, y, z\\right)^{2} - 1\\right)} \\frac{\\partial^2\\,V}{\\partial t\\partial x} + {\\left(V\\left(t, x, y, z\\right)^{3} - V\\left(t, x, y, z\\right)\\right)} \\frac{\\partial^2\\,V}{\\partial x ^ 2} - V\\left(t, x, y, z\\right) \\frac{\\partial^2\\,V}{\\partial y ^ 2} - V\\left(t, x, y, z\\right) \\frac{\\partial^2\\,V}{\\partial z ^ 2} \\right) \\mathrm{d} t\\otimes \\mathrm{d} t + \\left( -V\\left(t, x, y, z\\right) \\left(\\frac{\\partial\\,V}{\\partial x}\\right)^{2} - V\\left(t, x, y, z\\right)^{2} \\frac{\\partial^2\\,V}{\\partial x ^ 2} + \\frac{1}{2} \\, V\\left(t, x, y, z\\right) \\left(\\frac{\\partial\\,V}{\\partial y}\\right)^{2} + \\frac{1}{2} \\, V\\left(t, x, y, z\\right) \\left(\\frac{\\partial\\,V}{\\partial z}\\right)^{2} - V\\left(t, x, y, z\\right) \\frac{\\partial^2\\,V}{\\partial t\\partial x} + \\frac{1}{2} \\, \\frac{\\partial^2\\,V}{\\partial y ^ 2} + \\frac{1}{2} \\, \\frac{\\partial^2\\,V}{\\partial z ^ 2} \\right) \\mathrm{d} t\\otimes \\mathrm{d} x + \\left( -V\\left(t, x, y, z\\right) \\frac{\\partial\\,V}{\\partial x} \\frac{\\partial\\,V}{\\partial y} - \\frac{1}{2} \\, V\\left(t, x, y, z\\right) \\frac{\\partial^2\\,V}{\\partial t\\partial y} - \\frac{1}{2} \\, {\\left(V\\left(t, x, y, z\\right)^{2} + 1\\right)} \\frac{\\partial^2\\,V}{\\partial x\\partial y} \\right) \\mathrm{d} t\\otimes \\mathrm{d} y + \\left( -V\\left(t, x, y, z\\right) \\frac{\\partial\\,V}{\\partial x} \\frac{\\partial\\,V}{\\partial z} - \\frac{1}{2} \\, V\\left(t, x, y, z\\right) \\frac{\\partial^2\\,V}{\\partial t\\partial z} - \\frac{1}{2} \\, {\\left(V\\left(t, x, y, z\\right)^{2} + 1\\right)} \\frac{\\partial^2\\,V}{\\partial x\\partial z} \\right) \\mathrm{d} t\\otimes \\mathrm{d} z + \\left( -V\\left(t, x, y, z\\right) \\left(\\frac{\\partial\\,V}{\\partial x}\\right)^{2} - V\\left(t, x, y, z\\right)^{2} \\frac{\\partial^2\\,V}{\\partial x ^ 2} + \\frac{1}{2} \\, V\\left(t, x, y, z\\right) \\left(\\frac{\\partial\\,V}{\\partial y}\\right)^{2} + \\frac{1}{2} \\, V\\left(t, x, y, z\\right) \\left(\\frac{\\partial\\,V}{\\partial z}\\right)^{2} - V\\left(t, x, y, z\\right) \\frac{\\partial^2\\,V}{\\partial t\\partial x} + \\frac{1}{2} \\, \\frac{\\partial^2\\,V}{\\partial y ^ 2} + \\frac{1}{2} \\, \\frac{\\partial^2\\,V}{\\partial z ^ 2} \\right) \\mathrm{d} x\\otimes \\mathrm{d} t + \\left( \\left(\\frac{\\partial\\,V}{\\partial x}\\right)^{2} + V\\left(t, x, y, z\\right) \\frac{\\partial^2\\,V}{\\partial x ^ 2} - \\frac{1}{2} \\, \\left(\\frac{\\partial\\,V}{\\partial y}\\right)^{2} - \\frac{1}{2} \\, \\left(\\frac{\\partial\\,V}{\\partial z}\\right)^{2} + \\frac{\\partial^2\\,V}{\\partial t\\partial x} \\right) \\mathrm{d} x\\otimes \\mathrm{d} x + \\left( \\frac{1}{2} \\, V\\left(t, x, y, z\\right) \\frac{\\partial^2\\,V}{\\partial x\\partial y} + \\frac{\\partial\\,V}{\\partial x} \\frac{\\partial\\,V}{\\partial y} + \\frac{1}{2} \\, \\frac{\\partial^2\\,V}{\\partial t\\partial y} \\right) \\mathrm{d} x\\otimes \\mathrm{d} y + \\left( \\frac{1}{2} \\, V\\left(t, x, y, z\\right) \\frac{\\partial^2\\,V}{\\partial x\\partial z} + \\frac{\\partial\\,V}{\\partial x} \\frac{\\partial\\,V}{\\partial z} + \\frac{1}{2} \\, \\frac{\\partial^2\\,V}{\\partial t\\partial z} \\right) \\mathrm{d} x\\otimes \\mathrm{d} z + \\left( -V\\left(t, x, y, z\\right) \\frac{\\partial\\,V}{\\partial x} \\frac{\\partial\\,V}{\\partial y} - \\frac{1}{2} \\, V\\left(t, x, y, z\\right) \\frac{\\partial^2\\,V}{\\partial t\\partial y} - \\frac{1}{2} \\, {\\left(V\\left(t, x, y, z\\right)^{2} + 1\\right)} \\frac{\\partial^2\\,V}{\\partial x\\partial y} \\right) \\mathrm{d} y\\otimes \\mathrm{d} t + \\left( \\frac{1}{2} \\, V\\left(t, x, y, z\\right) \\frac{\\partial^2\\,V}{\\partial x\\partial y} + \\frac{\\partial\\,V}{\\partial x} \\frac{\\partial\\,V}{\\partial y} + \\frac{1}{2} \\, \\frac{\\partial^2\\,V}{\\partial t\\partial y} \\right) \\mathrm{d} y\\otimes \\mathrm{d} x + \\frac{1}{2} \\, \\left(\\frac{\\partial\\,V}{\\partial y}\\right)^{2} \\mathrm{d} y\\otimes \\mathrm{d} y + \\frac{1}{2} \\, \\frac{\\partial\\,V}{\\partial y} \\frac{\\partial\\,V}{\\partial z} \\mathrm{d} y\\otimes \\mathrm{d} z + \\left( -V\\left(t, x, y, z\\right) \\frac{\\partial\\,V}{\\partial x} \\frac{\\partial\\,V}{\\partial z} - \\frac{1}{2} \\, V\\left(t, x, y, z\\right) \\frac{\\partial^2\\,V}{\\partial t\\partial z} - \\frac{1}{2} \\, {\\left(V\\left(t, x, y, z\\right)^{2} + 1\\right)} \\frac{\\partial^2\\,V}{\\partial x\\partial z} \\right) \\mathrm{d} z\\otimes \\mathrm{d} t + \\left( \\frac{1}{2} \\, V\\left(t, x, y, z\\right) \\frac{\\partial^2\\,V}{\\partial x\\partial z} + \\frac{\\partial\\,V}{\\partial x} \\frac{\\partial\\,V}{\\partial z} + \\frac{1}{2} \\, \\frac{\\partial^2\\,V}{\\partial t\\partial z} \\right) \\mathrm{d} z\\otimes \\mathrm{d} x + \\frac{1}{2} \\, \\frac{\\partial\\,V}{\\partial y} \\frac{\\partial\\,V}{\\partial z} \\mathrm{d} z\\otimes \\mathrm{d} y + \\frac{1}{2} \\, \\left(\\frac{\\partial\\,V}{\\partial z}\\right)^{2} \\mathrm{d} z\\otimes \\mathrm{d} z\\)</html>"
      ],
      "text/latex": [
       "$\\displaystyle \\mathrm{Ric}\\left(dS^2\\right) = \\left( {\\left(V\\left(t, x, y, z\\right)^{2} - 1\\right)} \\left(\\frac{\\partial\\,V}{\\partial x}\\right)^{2} - \\frac{1}{2} \\, {\\left(V\\left(t, x, y, z\\right)^{2} + 1\\right)} \\left(\\frac{\\partial\\,V}{\\partial y}\\right)^{2} - \\frac{1}{2} \\, {\\left(V\\left(t, x, y, z\\right)^{2} + 1\\right)} \\left(\\frac{\\partial\\,V}{\\partial z}\\right)^{2} + {\\left(V\\left(t, x, y, z\\right)^{2} - 1\\right)} \\frac{\\partial^2\\,V}{\\partial t\\partial x} + {\\left(V\\left(t, x, y, z\\right)^{3} - V\\left(t, x, y, z\\right)\\right)} \\frac{\\partial^2\\,V}{\\partial x ^ 2} - V\\left(t, x, y, z\\right) \\frac{\\partial^2\\,V}{\\partial y ^ 2} - V\\left(t, x, y, z\\right) \\frac{\\partial^2\\,V}{\\partial z ^ 2} \\right) \\mathrm{d} t\\otimes \\mathrm{d} t + \\left( -V\\left(t, x, y, z\\right) \\left(\\frac{\\partial\\,V}{\\partial x}\\right)^{2} - V\\left(t, x, y, z\\right)^{2} \\frac{\\partial^2\\,V}{\\partial x ^ 2} + \\frac{1}{2} \\, V\\left(t, x, y, z\\right) \\left(\\frac{\\partial\\,V}{\\partial y}\\right)^{2} + \\frac{1}{2} \\, V\\left(t, x, y, z\\right) \\left(\\frac{\\partial\\,V}{\\partial z}\\right)^{2} - V\\left(t, x, y, z\\right) \\frac{\\partial^2\\,V}{\\partial t\\partial x} + \\frac{1}{2} \\, \\frac{\\partial^2\\,V}{\\partial y ^ 2} + \\frac{1}{2} \\, \\frac{\\partial^2\\,V}{\\partial z ^ 2} \\right) \\mathrm{d} t\\otimes \\mathrm{d} x + \\left( -V\\left(t, x, y, z\\right) \\frac{\\partial\\,V}{\\partial x} \\frac{\\partial\\,V}{\\partial y} - \\frac{1}{2} \\, V\\left(t, x, y, z\\right) \\frac{\\partial^2\\,V}{\\partial t\\partial y} - \\frac{1}{2} \\, {\\left(V\\left(t, x, y, z\\right)^{2} + 1\\right)} \\frac{\\partial^2\\,V}{\\partial x\\partial y} \\right) \\mathrm{d} t\\otimes \\mathrm{d} y + \\left( -V\\left(t, x, y, z\\right) \\frac{\\partial\\,V}{\\partial x} \\frac{\\partial\\,V}{\\partial z} - \\frac{1}{2} \\, V\\left(t, x, y, z\\right) \\frac{\\partial^2\\,V}{\\partial t\\partial z} - \\frac{1}{2} \\, {\\left(V\\left(t, x, y, z\\right)^{2} + 1\\right)} \\frac{\\partial^2\\,V}{\\partial x\\partial z} \\right) \\mathrm{d} t\\otimes \\mathrm{d} z + \\left( -V\\left(t, x, y, z\\right) \\left(\\frac{\\partial\\,V}{\\partial x}\\right)^{2} - V\\left(t, x, y, z\\right)^{2} \\frac{\\partial^2\\,V}{\\partial x ^ 2} + \\frac{1}{2} \\, V\\left(t, x, y, z\\right) \\left(\\frac{\\partial\\,V}{\\partial y}\\right)^{2} + \\frac{1}{2} \\, V\\left(t, x, y, z\\right) \\left(\\frac{\\partial\\,V}{\\partial z}\\right)^{2} - V\\left(t, x, y, z\\right) \\frac{\\partial^2\\,V}{\\partial t\\partial x} + \\frac{1}{2} \\, \\frac{\\partial^2\\,V}{\\partial y ^ 2} + \\frac{1}{2} \\, \\frac{\\partial^2\\,V}{\\partial z ^ 2} \\right) \\mathrm{d} x\\otimes \\mathrm{d} t + \\left( \\left(\\frac{\\partial\\,V}{\\partial x}\\right)^{2} + V\\left(t, x, y, z\\right) \\frac{\\partial^2\\,V}{\\partial x ^ 2} - \\frac{1}{2} \\, \\left(\\frac{\\partial\\,V}{\\partial y}\\right)^{2} - \\frac{1}{2} \\, \\left(\\frac{\\partial\\,V}{\\partial z}\\right)^{2} + \\frac{\\partial^2\\,V}{\\partial t\\partial x} \\right) \\mathrm{d} x\\otimes \\mathrm{d} x + \\left( \\frac{1}{2} \\, V\\left(t, x, y, z\\right) \\frac{\\partial^2\\,V}{\\partial x\\partial y} + \\frac{\\partial\\,V}{\\partial x} \\frac{\\partial\\,V}{\\partial y} + \\frac{1}{2} \\, \\frac{\\partial^2\\,V}{\\partial t\\partial y} \\right) \\mathrm{d} x\\otimes \\mathrm{d} y + \\left( \\frac{1}{2} \\, V\\left(t, x, y, z\\right) \\frac{\\partial^2\\,V}{\\partial x\\partial z} + \\frac{\\partial\\,V}{\\partial x} \\frac{\\partial\\,V}{\\partial z} + \\frac{1}{2} \\, \\frac{\\partial^2\\,V}{\\partial t\\partial z} \\right) \\mathrm{d} x\\otimes \\mathrm{d} z + \\left( -V\\left(t, x, y, z\\right) \\frac{\\partial\\,V}{\\partial x} \\frac{\\partial\\,V}{\\partial y} - \\frac{1}{2} \\, V\\left(t, x, y, z\\right) \\frac{\\partial^2\\,V}{\\partial t\\partial y} - \\frac{1}{2} \\, {\\left(V\\left(t, x, y, z\\right)^{2} + 1\\right)} \\frac{\\partial^2\\,V}{\\partial x\\partial y} \\right) \\mathrm{d} y\\otimes \\mathrm{d} t + \\left( \\frac{1}{2} \\, V\\left(t, x, y, z\\right) \\frac{\\partial^2\\,V}{\\partial x\\partial y} + \\frac{\\partial\\,V}{\\partial x} \\frac{\\partial\\,V}{\\partial y} + \\frac{1}{2} \\, \\frac{\\partial^2\\,V}{\\partial t\\partial y} \\right) \\mathrm{d} y\\otimes \\mathrm{d} x + \\frac{1}{2} \\, \\left(\\frac{\\partial\\,V}{\\partial y}\\right)^{2} \\mathrm{d} y\\otimes \\mathrm{d} y + \\frac{1}{2} \\, \\frac{\\partial\\,V}{\\partial y} \\frac{\\partial\\,V}{\\partial z} \\mathrm{d} y\\otimes \\mathrm{d} z + \\left( -V\\left(t, x, y, z\\right) \\frac{\\partial\\,V}{\\partial x} \\frac{\\partial\\,V}{\\partial z} - \\frac{1}{2} \\, V\\left(t, x, y, z\\right) \\frac{\\partial^2\\,V}{\\partial t\\partial z} - \\frac{1}{2} \\, {\\left(V\\left(t, x, y, z\\right)^{2} + 1\\right)} \\frac{\\partial^2\\,V}{\\partial x\\partial z} \\right) \\mathrm{d} z\\otimes \\mathrm{d} t + \\left( \\frac{1}{2} \\, V\\left(t, x, y, z\\right) \\frac{\\partial^2\\,V}{\\partial x\\partial z} + \\frac{\\partial\\,V}{\\partial x} \\frac{\\partial\\,V}{\\partial z} + \\frac{1}{2} \\, \\frac{\\partial^2\\,V}{\\partial t\\partial z} \\right) \\mathrm{d} z\\otimes \\mathrm{d} x + \\frac{1}{2} \\, \\frac{\\partial\\,V}{\\partial y} \\frac{\\partial\\,V}{\\partial z} \\mathrm{d} z\\otimes \\mathrm{d} y + \\frac{1}{2} \\, \\left(\\frac{\\partial\\,V}{\\partial z}\\right)^{2} \\mathrm{d} z\\otimes \\mathrm{d} z$"
      ],
      "text/plain": [
       "Ric(dS^2) = ((V(t, x, y, z)^2 - 1)*(d(V)/dx)^2 - 1/2*(V(t, x, y, z)^2 + 1)*(d(V)/dy)^2 - 1/2*(V(t, x, y, z)^2 + 1)*(d(V)/dz)^2 + (V(t, x, y, z)^2 - 1)*d^2(V)/dtdx + (V(t, x, y, z)^3 - V(t, x, y, z))*d^2(V)/dx^2 - V(t, x, y, z)*d^2(V)/dy^2 - V(t, x, y, z)*d^2(V)/dz^2) dt⊗dt + (-V(t, x, y, z)*(d(V)/dx)^2 - V(t, x, y, z)^2*d^2(V)/dx^2 + 1/2*V(t, x, y, z)*(d(V)/dy)^2 + 1/2*V(t, x, y, z)*(d(V)/dz)^2 - V(t, x, y, z)*d^2(V)/dtdx + 1/2*d^2(V)/dy^2 + 1/2*d^2(V)/dz^2) dt⊗dx + (-V(t, x, y, z)*d(V)/dx*d(V)/dy - 1/2*V(t, x, y, z)*d^2(V)/dtdy - 1/2*(V(t, x, y, z)^2 + 1)*d^2(V)/dxdy) dt⊗dy + (-V(t, x, y, z)*d(V)/dx*d(V)/dz - 1/2*V(t, x, y, z)*d^2(V)/dtdz - 1/2*(V(t, x, y, z)^2 + 1)*d^2(V)/dxdz) dt⊗dz + (-V(t, x, y, z)*(d(V)/dx)^2 - V(t, x, y, z)^2*d^2(V)/dx^2 + 1/2*V(t, x, y, z)*(d(V)/dy)^2 + 1/2*V(t, x, y, z)*(d(V)/dz)^2 - V(t, x, y, z)*d^2(V)/dtdx + 1/2*d^2(V)/dy^2 + 1/2*d^2(V)/dz^2) dx⊗dt + ((d(V)/dx)^2 + V(t, x, y, z)*d^2(V)/dx^2 - 1/2*(d(V)/dy)^2 - 1/2*(d(V)/dz)^2 + d^2(V)/dtdx) dx⊗dx + (1/2*V(t, x, y, z)*d^2(V)/dxdy + d(V)/dx*d(V)/dy + 1/2*d^2(V)/dtdy) dx⊗dy + (1/2*V(t, x, y, z)*d^2(V)/dxdz + d(V)/dx*d(V)/dz + 1/2*d^2(V)/dtdz) dx⊗dz + (-V(t, x, y, z)*d(V)/dx*d(V)/dy - 1/2*V(t, x, y, z)*d^2(V)/dtdy - 1/2*(V(t, x, y, z)^2 + 1)*d^2(V)/dxdy) dy⊗dt + (1/2*V(t, x, y, z)*d^2(V)/dxdy + d(V)/dx*d(V)/dy + 1/2*d^2(V)/dtdy) dy⊗dx + 1/2*(d(V)/dy)^2 dy⊗dy + 1/2*d(V)/dy*d(V)/dz dy⊗dz + (-V(t, x, y, z)*d(V)/dx*d(V)/dz - 1/2*V(t, x, y, z)*d^2(V)/dtdz - 1/2*(V(t, x, y, z)^2 + 1)*d^2(V)/dxdz) dz⊗dt + (1/2*V(t, x, y, z)*d^2(V)/dxdz + d(V)/dx*d(V)/dz + 1/2*d^2(V)/dtdz) dz⊗dx + 1/2*d(V)/dy*d(V)/dz dz⊗dy + 1/2*(d(V)/dz)^2 dz⊗dz"
      ]
     },
     "execution_count": 14,
     "metadata": {},
     "output_type": "execute_result"
    }
   ],
   "source": [
    "Ric.display()"
   ]
  },
  {
   "cell_type": "markdown",
   "id": "df8769ee-e9ca-4eef-a551-880a8d4b4e03",
   "metadata": {},
   "source": [
    "# 5.3. Components of Ricci"
   ]
  },
  {
   "cell_type": "code",
   "execution_count": 15,
   "id": "a99a95a0-55d2-4708-88b5-2541f2a62d3b",
   "metadata": {},
   "outputs": [
    {
     "data": {
      "text/html": [
       "<html>\\(\\displaystyle \\left(\\begin{array}{rrrr}\n",
       "{\\left(V\\left(t, x, y, z\\right)^{2} - 1\\right)} \\left(\\frac{\\partial\\,V}{\\partial x}\\right)^{2} - \\frac{1}{2} \\, {\\left(V\\left(t, x, y, z\\right)^{2} + 1\\right)} \\left(\\frac{\\partial\\,V}{\\partial y}\\right)^{2} - \\frac{1}{2} \\, {\\left(V\\left(t, x, y, z\\right)^{2} + 1\\right)} \\left(\\frac{\\partial\\,V}{\\partial z}\\right)^{2} + {\\left(V\\left(t, x, y, z\\right)^{2} - 1\\right)} \\frac{\\partial^2\\,V}{\\partial t\\partial x} + {\\left(V\\left(t, x, y, z\\right)^{3} - V\\left(t, x, y, z\\right)\\right)} \\frac{\\partial^2\\,V}{\\partial x ^ 2} - V\\left(t, x, y, z\\right) \\frac{\\partial^2\\,V}{\\partial y ^ 2} - V\\left(t, x, y, z\\right) \\frac{\\partial^2\\,V}{\\partial z ^ 2} & -V\\left(t, x, y, z\\right) \\left(\\frac{\\partial\\,V}{\\partial x}\\right)^{2} - V\\left(t, x, y, z\\right)^{2} \\frac{\\partial^2\\,V}{\\partial x ^ 2} + \\frac{1}{2} \\, V\\left(t, x, y, z\\right) \\left(\\frac{\\partial\\,V}{\\partial y}\\right)^{2} + \\frac{1}{2} \\, V\\left(t, x, y, z\\right) \\left(\\frac{\\partial\\,V}{\\partial z}\\right)^{2} - V\\left(t, x, y, z\\right) \\frac{\\partial^2\\,V}{\\partial t\\partial x} + \\frac{1}{2} \\, \\frac{\\partial^2\\,V}{\\partial y ^ 2} + \\frac{1}{2} \\, \\frac{\\partial^2\\,V}{\\partial z ^ 2} & -V\\left(t, x, y, z\\right) \\frac{\\partial\\,V}{\\partial x} \\frac{\\partial\\,V}{\\partial y} - \\frac{1}{2} \\, V\\left(t, x, y, z\\right) \\frac{\\partial^2\\,V}{\\partial t\\partial y} - \\frac{1}{2} \\, {\\left(V\\left(t, x, y, z\\right)^{2} + 1\\right)} \\frac{\\partial^2\\,V}{\\partial x\\partial y} & -V\\left(t, x, y, z\\right) \\frac{\\partial\\,V}{\\partial x} \\frac{\\partial\\,V}{\\partial z} - \\frac{1}{2} \\, V\\left(t, x, y, z\\right) \\frac{\\partial^2\\,V}{\\partial t\\partial z} - \\frac{1}{2} \\, {\\left(V\\left(t, x, y, z\\right)^{2} + 1\\right)} \\frac{\\partial^2\\,V}{\\partial x\\partial z} \\\\\n",
       "-V\\left(t, x, y, z\\right) \\left(\\frac{\\partial\\,V}{\\partial x}\\right)^{2} - V\\left(t, x, y, z\\right)^{2} \\frac{\\partial^2\\,V}{\\partial x ^ 2} + \\frac{1}{2} \\, V\\left(t, x, y, z\\right) \\left(\\frac{\\partial\\,V}{\\partial y}\\right)^{2} + \\frac{1}{2} \\, V\\left(t, x, y, z\\right) \\left(\\frac{\\partial\\,V}{\\partial z}\\right)^{2} - V\\left(t, x, y, z\\right) \\frac{\\partial^2\\,V}{\\partial t\\partial x} + \\frac{1}{2} \\, \\frac{\\partial^2\\,V}{\\partial y ^ 2} + \\frac{1}{2} \\, \\frac{\\partial^2\\,V}{\\partial z ^ 2} & \\left(\\frac{\\partial\\,V}{\\partial x}\\right)^{2} + V\\left(t, x, y, z\\right) \\frac{\\partial^2\\,V}{\\partial x ^ 2} - \\frac{1}{2} \\, \\left(\\frac{\\partial\\,V}{\\partial y}\\right)^{2} - \\frac{1}{2} \\, \\left(\\frac{\\partial\\,V}{\\partial z}\\right)^{2} + \\frac{\\partial^2\\,V}{\\partial t\\partial x} & \\frac{1}{2} \\, V\\left(t, x, y, z\\right) \\frac{\\partial^2\\,V}{\\partial x\\partial y} + \\frac{\\partial\\,V}{\\partial x} \\frac{\\partial\\,V}{\\partial y} + \\frac{1}{2} \\, \\frac{\\partial^2\\,V}{\\partial t\\partial y} & \\frac{1}{2} \\, V\\left(t, x, y, z\\right) \\frac{\\partial^2\\,V}{\\partial x\\partial z} + \\frac{\\partial\\,V}{\\partial x} \\frac{\\partial\\,V}{\\partial z} + \\frac{1}{2} \\, \\frac{\\partial^2\\,V}{\\partial t\\partial z} \\\\\n",
       "-V\\left(t, x, y, z\\right) \\frac{\\partial\\,V}{\\partial x} \\frac{\\partial\\,V}{\\partial y} - \\frac{1}{2} \\, V\\left(t, x, y, z\\right) \\frac{\\partial^2\\,V}{\\partial t\\partial y} - \\frac{1}{2} \\, {\\left(V\\left(t, x, y, z\\right)^{2} + 1\\right)} \\frac{\\partial^2\\,V}{\\partial x\\partial y} & \\frac{1}{2} \\, V\\left(t, x, y, z\\right) \\frac{\\partial^2\\,V}{\\partial x\\partial y} + \\frac{\\partial\\,V}{\\partial x} \\frac{\\partial\\,V}{\\partial y} + \\frac{1}{2} \\, \\frac{\\partial^2\\,V}{\\partial t\\partial y} & \\frac{1}{2} \\, \\left(\\frac{\\partial\\,V}{\\partial y}\\right)^{2} & \\frac{1}{2} \\, \\frac{\\partial\\,V}{\\partial y} \\frac{\\partial\\,V}{\\partial z} \\\\\n",
       "-V\\left(t, x, y, z\\right) \\frac{\\partial\\,V}{\\partial x} \\frac{\\partial\\,V}{\\partial z} - \\frac{1}{2} \\, V\\left(t, x, y, z\\right) \\frac{\\partial^2\\,V}{\\partial t\\partial z} - \\frac{1}{2} \\, {\\left(V\\left(t, x, y, z\\right)^{2} + 1\\right)} \\frac{\\partial^2\\,V}{\\partial x\\partial z} & \\frac{1}{2} \\, V\\left(t, x, y, z\\right) \\frac{\\partial^2\\,V}{\\partial x\\partial z} + \\frac{\\partial\\,V}{\\partial x} \\frac{\\partial\\,V}{\\partial z} + \\frac{1}{2} \\, \\frac{\\partial^2\\,V}{\\partial t\\partial z} & \\frac{1}{2} \\, \\frac{\\partial\\,V}{\\partial y} \\frac{\\partial\\,V}{\\partial z} & \\frac{1}{2} \\, \\left(\\frac{\\partial\\,V}{\\partial z}\\right)^{2}\n",
       "\\end{array}\\right)\\)</html>"
      ],
      "text/latex": [
       "$\\displaystyle \\left(\\begin{array}{rrrr}\n",
       "{\\left(V\\left(t, x, y, z\\right)^{2} - 1\\right)} \\left(\\frac{\\partial\\,V}{\\partial x}\\right)^{2} - \\frac{1}{2} \\, {\\left(V\\left(t, x, y, z\\right)^{2} + 1\\right)} \\left(\\frac{\\partial\\,V}{\\partial y}\\right)^{2} - \\frac{1}{2} \\, {\\left(V\\left(t, x, y, z\\right)^{2} + 1\\right)} \\left(\\frac{\\partial\\,V}{\\partial z}\\right)^{2} + {\\left(V\\left(t, x, y, z\\right)^{2} - 1\\right)} \\frac{\\partial^2\\,V}{\\partial t\\partial x} + {\\left(V\\left(t, x, y, z\\right)^{3} - V\\left(t, x, y, z\\right)\\right)} \\frac{\\partial^2\\,V}{\\partial x ^ 2} - V\\left(t, x, y, z\\right) \\frac{\\partial^2\\,V}{\\partial y ^ 2} - V\\left(t, x, y, z\\right) \\frac{\\partial^2\\,V}{\\partial z ^ 2} & -V\\left(t, x, y, z\\right) \\left(\\frac{\\partial\\,V}{\\partial x}\\right)^{2} - V\\left(t, x, y, z\\right)^{2} \\frac{\\partial^2\\,V}{\\partial x ^ 2} + \\frac{1}{2} \\, V\\left(t, x, y, z\\right) \\left(\\frac{\\partial\\,V}{\\partial y}\\right)^{2} + \\frac{1}{2} \\, V\\left(t, x, y, z\\right) \\left(\\frac{\\partial\\,V}{\\partial z}\\right)^{2} - V\\left(t, x, y, z\\right) \\frac{\\partial^2\\,V}{\\partial t\\partial x} + \\frac{1}{2} \\, \\frac{\\partial^2\\,V}{\\partial y ^ 2} + \\frac{1}{2} \\, \\frac{\\partial^2\\,V}{\\partial z ^ 2} & -V\\left(t, x, y, z\\right) \\frac{\\partial\\,V}{\\partial x} \\frac{\\partial\\,V}{\\partial y} - \\frac{1}{2} \\, V\\left(t, x, y, z\\right) \\frac{\\partial^2\\,V}{\\partial t\\partial y} - \\frac{1}{2} \\, {\\left(V\\left(t, x, y, z\\right)^{2} + 1\\right)} \\frac{\\partial^2\\,V}{\\partial x\\partial y} & -V\\left(t, x, y, z\\right) \\frac{\\partial\\,V}{\\partial x} \\frac{\\partial\\,V}{\\partial z} - \\frac{1}{2} \\, V\\left(t, x, y, z\\right) \\frac{\\partial^2\\,V}{\\partial t\\partial z} - \\frac{1}{2} \\, {\\left(V\\left(t, x, y, z\\right)^{2} + 1\\right)} \\frac{\\partial^2\\,V}{\\partial x\\partial z} \\\\\n",
       "-V\\left(t, x, y, z\\right) \\left(\\frac{\\partial\\,V}{\\partial x}\\right)^{2} - V\\left(t, x, y, z\\right)^{2} \\frac{\\partial^2\\,V}{\\partial x ^ 2} + \\frac{1}{2} \\, V\\left(t, x, y, z\\right) \\left(\\frac{\\partial\\,V}{\\partial y}\\right)^{2} + \\frac{1}{2} \\, V\\left(t, x, y, z\\right) \\left(\\frac{\\partial\\,V}{\\partial z}\\right)^{2} - V\\left(t, x, y, z\\right) \\frac{\\partial^2\\,V}{\\partial t\\partial x} + \\frac{1}{2} \\, \\frac{\\partial^2\\,V}{\\partial y ^ 2} + \\frac{1}{2} \\, \\frac{\\partial^2\\,V}{\\partial z ^ 2} & \\left(\\frac{\\partial\\,V}{\\partial x}\\right)^{2} + V\\left(t, x, y, z\\right) \\frac{\\partial^2\\,V}{\\partial x ^ 2} - \\frac{1}{2} \\, \\left(\\frac{\\partial\\,V}{\\partial y}\\right)^{2} - \\frac{1}{2} \\, \\left(\\frac{\\partial\\,V}{\\partial z}\\right)^{2} + \\frac{\\partial^2\\,V}{\\partial t\\partial x} & \\frac{1}{2} \\, V\\left(t, x, y, z\\right) \\frac{\\partial^2\\,V}{\\partial x\\partial y} + \\frac{\\partial\\,V}{\\partial x} \\frac{\\partial\\,V}{\\partial y} + \\frac{1}{2} \\, \\frac{\\partial^2\\,V}{\\partial t\\partial y} & \\frac{1}{2} \\, V\\left(t, x, y, z\\right) \\frac{\\partial^2\\,V}{\\partial x\\partial z} + \\frac{\\partial\\,V}{\\partial x} \\frac{\\partial\\,V}{\\partial z} + \\frac{1}{2} \\, \\frac{\\partial^2\\,V}{\\partial t\\partial z} \\\\\n",
       "-V\\left(t, x, y, z\\right) \\frac{\\partial\\,V}{\\partial x} \\frac{\\partial\\,V}{\\partial y} - \\frac{1}{2} \\, V\\left(t, x, y, z\\right) \\frac{\\partial^2\\,V}{\\partial t\\partial y} - \\frac{1}{2} \\, {\\left(V\\left(t, x, y, z\\right)^{2} + 1\\right)} \\frac{\\partial^2\\,V}{\\partial x\\partial y} & \\frac{1}{2} \\, V\\left(t, x, y, z\\right) \\frac{\\partial^2\\,V}{\\partial x\\partial y} + \\frac{\\partial\\,V}{\\partial x} \\frac{\\partial\\,V}{\\partial y} + \\frac{1}{2} \\, \\frac{\\partial^2\\,V}{\\partial t\\partial y} & \\frac{1}{2} \\, \\left(\\frac{\\partial\\,V}{\\partial y}\\right)^{2} & \\frac{1}{2} \\, \\frac{\\partial\\,V}{\\partial y} \\frac{\\partial\\,V}{\\partial z} \\\\\n",
       "-V\\left(t, x, y, z\\right) \\frac{\\partial\\,V}{\\partial x} \\frac{\\partial\\,V}{\\partial z} - \\frac{1}{2} \\, V\\left(t, x, y, z\\right) \\frac{\\partial^2\\,V}{\\partial t\\partial z} - \\frac{1}{2} \\, {\\left(V\\left(t, x, y, z\\right)^{2} + 1\\right)} \\frac{\\partial^2\\,V}{\\partial x\\partial z} & \\frac{1}{2} \\, V\\left(t, x, y, z\\right) \\frac{\\partial^2\\,V}{\\partial x\\partial z} + \\frac{\\partial\\,V}{\\partial x} \\frac{\\partial\\,V}{\\partial z} + \\frac{1}{2} \\, \\frac{\\partial^2\\,V}{\\partial t\\partial z} & \\frac{1}{2} \\, \\frac{\\partial\\,V}{\\partial y} \\frac{\\partial\\,V}{\\partial z} & \\frac{1}{2} \\, \\left(\\frac{\\partial\\,V}{\\partial z}\\right)^{2}\n",
       "\\end{array}\\right)$"
      ],
      "text/plain": [
       "[(V(t, x, y, z)^2 - 1)*(d(V)/dx)^2 - 1/2*(V(t, x, y, z)^2 + 1)*(d(V)/dy)^2 - 1/2*(V(t, x, y, z)^2 + 1)*(d(V)/dz)^2 + (V(t, x, y, z)^2 - 1)*d^2(V)/dtdx + (V(t, x, y, z)^3 - V(t, x, y, z))*d^2(V)/dx^2 - V(t, x, y, z)*d^2(V)/dy^2 - V(t, x, y, z)*d^2(V)/dz^2                                                                      -V(t, x, y, z)*(d(V)/dx)^2 - V(t, x, y, z)^2*d^2(V)/dx^2 + 1/2*V(t, x, y, z)*(d(V)/dy)^2 + 1/2*V(t, x, y, z)*(d(V)/dz)^2 - V(t, x, y, z)*d^2(V)/dtdx + 1/2*d^2(V)/dy^2 + 1/2*d^2(V)/dz^2                                                                                                                                                        -V(t, x, y, z)*d(V)/dx*d(V)/dy - 1/2*V(t, x, y, z)*d^2(V)/dtdy - 1/2*(V(t, x, y, z)^2 + 1)*d^2(V)/dxdy                                                                                                                                                        -V(t, x, y, z)*d(V)/dx*d(V)/dz - 1/2*V(t, x, y, z)*d^2(V)/dtdz - 1/2*(V(t, x, y, z)^2 + 1)*d^2(V)/dxdz]\n",
       "[                                                                     -V(t, x, y, z)*(d(V)/dx)^2 - V(t, x, y, z)^2*d^2(V)/dx^2 + 1/2*V(t, x, y, z)*(d(V)/dy)^2 + 1/2*V(t, x, y, z)*(d(V)/dz)^2 - V(t, x, y, z)*d^2(V)/dtdx + 1/2*d^2(V)/dy^2 + 1/2*d^2(V)/dz^2                                                                                                                                                                     (d(V)/dx)^2 + V(t, x, y, z)*d^2(V)/dx^2 - 1/2*(d(V)/dy)^2 - 1/2*(d(V)/dz)^2 + d^2(V)/dtdx                                                                                                                                                                                             1/2*V(t, x, y, z)*d^2(V)/dxdy + d(V)/dx*d(V)/dy + 1/2*d^2(V)/dtdy                                                                                                                                                                                             1/2*V(t, x, y, z)*d^2(V)/dxdz + d(V)/dx*d(V)/dz + 1/2*d^2(V)/dtdz]\n",
       "[                                                                                                                                                       -V(t, x, y, z)*d(V)/dx*d(V)/dy - 1/2*V(t, x, y, z)*d^2(V)/dtdy - 1/2*(V(t, x, y, z)^2 + 1)*d^2(V)/dxdy                                                                                                                                                                                             1/2*V(t, x, y, z)*d^2(V)/dxdy + d(V)/dx*d(V)/dy + 1/2*d^2(V)/dtdy                                                                                                                                                                                                                                               1/2*(d(V)/dy)^2                                                                                                                                                                                                                                           1/2*d(V)/dy*d(V)/dz]\n",
       "[                                                                                                                                                       -V(t, x, y, z)*d(V)/dx*d(V)/dz - 1/2*V(t, x, y, z)*d^2(V)/dtdz - 1/2*(V(t, x, y, z)^2 + 1)*d^2(V)/dxdz                                                                                                                                                                                             1/2*V(t, x, y, z)*d^2(V)/dxdz + d(V)/dx*d(V)/dz + 1/2*d^2(V)/dtdz                                                                                                                                                                                                                                           1/2*d(V)/dy*d(V)/dz                                                                                                                                                                                                                                               1/2*(d(V)/dz)^2]"
      ]
     },
     "execution_count": 15,
     "metadata": {},
     "output_type": "execute_result"
    }
   ],
   "source": [
    "Ric[:]"
   ]
  },
  {
   "cell_type": "markdown",
   "id": "1a3b57f9-a217-4f64-bc69-19245d9d232c",
   "metadata": {},
   "source": [
    "# 5.4. Ricci scalar"
   ]
  },
  {
   "cell_type": "code",
   "execution_count": 16,
   "id": "da6598e5-5c54-4ed7-9331-6c8b5e7f8c64",
   "metadata": {},
   "outputs": [
    {
     "data": {
      "text/html": [
       "<html>\\(\\displaystyle 2 \\, \\frac{\\partial}{\\partial x}V\\left(t, x, y, z\\right)^{2} + 2 \\, V\\left(t, x, y, z\\right) \\frac{\\partial^{2}}{(\\partial x)^{2}}V\\left(t, x, y, z\\right) + \\frac{1}{2} \\, \\frac{\\partial}{\\partial y}V\\left(t, x, y, z\\right)^{2} + \\frac{1}{2} \\, \\frac{\\partial}{\\partial z}V\\left(t, x, y, z\\right)^{2} + 2 \\, \\frac{\\partial^{2}}{\\partial t\\partial x}V\\left(t, x, y, z\\right)\\)</html>"
      ],
      "text/latex": [
       "$\\displaystyle 2 \\, \\frac{\\partial}{\\partial x}V\\left(t, x, y, z\\right)^{2} + 2 \\, V\\left(t, x, y, z\\right) \\frac{\\partial^{2}}{(\\partial x)^{2}}V\\left(t, x, y, z\\right) + \\frac{1}{2} \\, \\frac{\\partial}{\\partial y}V\\left(t, x, y, z\\right)^{2} + \\frac{1}{2} \\, \\frac{\\partial}{\\partial z}V\\left(t, x, y, z\\right)^{2} + 2 \\, \\frac{\\partial^{2}}{\\partial t\\partial x}V\\left(t, x, y, z\\right)$"
      ],
      "text/plain": [
       "2*diff(V(t, x, y, z), x)^2 + 2*V(t, x, y, z)*diff(V(t, x, y, z), x, x) + 1/2*diff(V(t, x, y, z), y)^2 + 1/2*diff(V(t, x, y, z), z)^2 + 2*diff(V(t, x, y, z), t, x)"
      ]
     },
     "execution_count": 16,
     "metadata": {},
     "output_type": "execute_result"
    }
   ],
   "source": [
    "Scal.expr()"
   ]
  },
  {
   "cell_type": "markdown",
   "id": "7b86b1c8-bf46-420c-9fce-23a90535db95",
   "metadata": {},
   "source": [
    "# 5.5. Components of Einstein tensor"
   ]
  },
  {
   "cell_type": "code",
   "execution_count": 17,
   "id": "850522e6-af5b-4e21-a44c-2f4b38c41fe2",
   "metadata": {},
   "outputs": [
    {
     "data": {
      "text/html": [
       "<html>\\(\\displaystyle \\left(\\begin{array}{rrrr}\n",
       "-\\frac{1}{4} \\, {\\left(3 \\, V\\left(t, x, y, z\\right)^{2} + 1\\right)} \\left(\\frac{\\partial\\,V}{\\partial y}\\right)^{2} - \\frac{1}{4} \\, {\\left(3 \\, V\\left(t, x, y, z\\right)^{2} + 1\\right)} \\left(\\frac{\\partial\\,V}{\\partial z}\\right)^{2} - V\\left(t, x, y, z\\right) \\frac{\\partial^2\\,V}{\\partial y ^ 2} - V\\left(t, x, y, z\\right) \\frac{\\partial^2\\,V}{\\partial z ^ 2} & \\frac{3}{4} \\, V\\left(t, x, y, z\\right) \\left(\\frac{\\partial\\,V}{\\partial y}\\right)^{2} + \\frac{3}{4} \\, V\\left(t, x, y, z\\right) \\left(\\frac{\\partial\\,V}{\\partial z}\\right)^{2} + \\frac{1}{2} \\, \\frac{\\partial^2\\,V}{\\partial y ^ 2} + \\frac{1}{2} \\, \\frac{\\partial^2\\,V}{\\partial z ^ 2} & -V\\left(t, x, y, z\\right) \\frac{\\partial\\,V}{\\partial x} \\frac{\\partial\\,V}{\\partial y} - \\frac{1}{2} \\, V\\left(t, x, y, z\\right) \\frac{\\partial^2\\,V}{\\partial t\\partial y} - \\frac{1}{2} \\, {\\left(V\\left(t, x, y, z\\right)^{2} + 1\\right)} \\frac{\\partial^2\\,V}{\\partial x\\partial y} & -V\\left(t, x, y, z\\right) \\frac{\\partial\\,V}{\\partial x} \\frac{\\partial\\,V}{\\partial z} - \\frac{1}{2} \\, V\\left(t, x, y, z\\right) \\frac{\\partial^2\\,V}{\\partial t\\partial z} - \\frac{1}{2} \\, {\\left(V\\left(t, x, y, z\\right)^{2} + 1\\right)} \\frac{\\partial^2\\,V}{\\partial x\\partial z} \\\\\n",
       "\\frac{3}{4} \\, V\\left(t, x, y, z\\right) \\left(\\frac{\\partial\\,V}{\\partial y}\\right)^{2} + \\frac{3}{4} \\, V\\left(t, x, y, z\\right) \\left(\\frac{\\partial\\,V}{\\partial z}\\right)^{2} + \\frac{1}{2} \\, \\frac{\\partial^2\\,V}{\\partial y ^ 2} + \\frac{1}{2} \\, \\frac{\\partial^2\\,V}{\\partial z ^ 2} & -\\frac{3}{4} \\, \\left(\\frac{\\partial\\,V}{\\partial y}\\right)^{2} - \\frac{3}{4} \\, \\left(\\frac{\\partial\\,V}{\\partial z}\\right)^{2} & \\frac{1}{2} \\, V\\left(t, x, y, z\\right) \\frac{\\partial^2\\,V}{\\partial x\\partial y} + \\frac{\\partial\\,V}{\\partial x} \\frac{\\partial\\,V}{\\partial y} + \\frac{1}{2} \\, \\frac{\\partial^2\\,V}{\\partial t\\partial y} & \\frac{1}{2} \\, V\\left(t, x, y, z\\right) \\frac{\\partial^2\\,V}{\\partial x\\partial z} + \\frac{\\partial\\,V}{\\partial x} \\frac{\\partial\\,V}{\\partial z} + \\frac{1}{2} \\, \\frac{\\partial^2\\,V}{\\partial t\\partial z} \\\\\n",
       "-V\\left(t, x, y, z\\right) \\frac{\\partial\\,V}{\\partial x} \\frac{\\partial\\,V}{\\partial y} - \\frac{1}{2} \\, V\\left(t, x, y, z\\right) \\frac{\\partial^2\\,V}{\\partial t\\partial y} - \\frac{1}{2} \\, {\\left(V\\left(t, x, y, z\\right)^{2} + 1\\right)} \\frac{\\partial^2\\,V}{\\partial x\\partial y} & \\frac{1}{2} \\, V\\left(t, x, y, z\\right) \\frac{\\partial^2\\,V}{\\partial x\\partial y} + \\frac{\\partial\\,V}{\\partial x} \\frac{\\partial\\,V}{\\partial y} + \\frac{1}{2} \\, \\frac{\\partial^2\\,V}{\\partial t\\partial y} & -\\left(\\frac{\\partial\\,V}{\\partial x}\\right)^{2} - V\\left(t, x, y, z\\right) \\frac{\\partial^2\\,V}{\\partial x ^ 2} + \\frac{1}{4} \\, \\left(\\frac{\\partial\\,V}{\\partial y}\\right)^{2} - \\frac{1}{4} \\, \\left(\\frac{\\partial\\,V}{\\partial z}\\right)^{2} - \\frac{\\partial^2\\,V}{\\partial t\\partial x} & \\frac{1}{2} \\, \\frac{\\partial\\,V}{\\partial y} \\frac{\\partial\\,V}{\\partial z} \\\\\n",
       "-V\\left(t, x, y, z\\right) \\frac{\\partial\\,V}{\\partial x} \\frac{\\partial\\,V}{\\partial z} - \\frac{1}{2} \\, V\\left(t, x, y, z\\right) \\frac{\\partial^2\\,V}{\\partial t\\partial z} - \\frac{1}{2} \\, {\\left(V\\left(t, x, y, z\\right)^{2} + 1\\right)} \\frac{\\partial^2\\,V}{\\partial x\\partial z} & \\frac{1}{2} \\, V\\left(t, x, y, z\\right) \\frac{\\partial^2\\,V}{\\partial x\\partial z} + \\frac{\\partial\\,V}{\\partial x} \\frac{\\partial\\,V}{\\partial z} + \\frac{1}{2} \\, \\frac{\\partial^2\\,V}{\\partial t\\partial z} & \\frac{1}{2} \\, \\frac{\\partial\\,V}{\\partial y} \\frac{\\partial\\,V}{\\partial z} & -\\left(\\frac{\\partial\\,V}{\\partial x}\\right)^{2} - V\\left(t, x, y, z\\right) \\frac{\\partial^2\\,V}{\\partial x ^ 2} - \\frac{1}{4} \\, \\left(\\frac{\\partial\\,V}{\\partial y}\\right)^{2} + \\frac{1}{4} \\, \\left(\\frac{\\partial\\,V}{\\partial z}\\right)^{2} - \\frac{\\partial^2\\,V}{\\partial t\\partial x}\n",
       "\\end{array}\\right)\\)</html>"
      ],
      "text/latex": [
       "$\\displaystyle \\left(\\begin{array}{rrrr}\n",
       "-\\frac{1}{4} \\, {\\left(3 \\, V\\left(t, x, y, z\\right)^{2} + 1\\right)} \\left(\\frac{\\partial\\,V}{\\partial y}\\right)^{2} - \\frac{1}{4} \\, {\\left(3 \\, V\\left(t, x, y, z\\right)^{2} + 1\\right)} \\left(\\frac{\\partial\\,V}{\\partial z}\\right)^{2} - V\\left(t, x, y, z\\right) \\frac{\\partial^2\\,V}{\\partial y ^ 2} - V\\left(t, x, y, z\\right) \\frac{\\partial^2\\,V}{\\partial z ^ 2} & \\frac{3}{4} \\, V\\left(t, x, y, z\\right) \\left(\\frac{\\partial\\,V}{\\partial y}\\right)^{2} + \\frac{3}{4} \\, V\\left(t, x, y, z\\right) \\left(\\frac{\\partial\\,V}{\\partial z}\\right)^{2} + \\frac{1}{2} \\, \\frac{\\partial^2\\,V}{\\partial y ^ 2} + \\frac{1}{2} \\, \\frac{\\partial^2\\,V}{\\partial z ^ 2} & -V\\left(t, x, y, z\\right) \\frac{\\partial\\,V}{\\partial x} \\frac{\\partial\\,V}{\\partial y} - \\frac{1}{2} \\, V\\left(t, x, y, z\\right) \\frac{\\partial^2\\,V}{\\partial t\\partial y} - \\frac{1}{2} \\, {\\left(V\\left(t, x, y, z\\right)^{2} + 1\\right)} \\frac{\\partial^2\\,V}{\\partial x\\partial y} & -V\\left(t, x, y, z\\right) \\frac{\\partial\\,V}{\\partial x} \\frac{\\partial\\,V}{\\partial z} - \\frac{1}{2} \\, V\\left(t, x, y, z\\right) \\frac{\\partial^2\\,V}{\\partial t\\partial z} - \\frac{1}{2} \\, {\\left(V\\left(t, x, y, z\\right)^{2} + 1\\right)} \\frac{\\partial^2\\,V}{\\partial x\\partial z} \\\\\n",
       "\\frac{3}{4} \\, V\\left(t, x, y, z\\right) \\left(\\frac{\\partial\\,V}{\\partial y}\\right)^{2} + \\frac{3}{4} \\, V\\left(t, x, y, z\\right) \\left(\\frac{\\partial\\,V}{\\partial z}\\right)^{2} + \\frac{1}{2} \\, \\frac{\\partial^2\\,V}{\\partial y ^ 2} + \\frac{1}{2} \\, \\frac{\\partial^2\\,V}{\\partial z ^ 2} & -\\frac{3}{4} \\, \\left(\\frac{\\partial\\,V}{\\partial y}\\right)^{2} - \\frac{3}{4} \\, \\left(\\frac{\\partial\\,V}{\\partial z}\\right)^{2} & \\frac{1}{2} \\, V\\left(t, x, y, z\\right) \\frac{\\partial^2\\,V}{\\partial x\\partial y} + \\frac{\\partial\\,V}{\\partial x} \\frac{\\partial\\,V}{\\partial y} + \\frac{1}{2} \\, \\frac{\\partial^2\\,V}{\\partial t\\partial y} & \\frac{1}{2} \\, V\\left(t, x, y, z\\right) \\frac{\\partial^2\\,V}{\\partial x\\partial z} + \\frac{\\partial\\,V}{\\partial x} \\frac{\\partial\\,V}{\\partial z} + \\frac{1}{2} \\, \\frac{\\partial^2\\,V}{\\partial t\\partial z} \\\\\n",
       "-V\\left(t, x, y, z\\right) \\frac{\\partial\\,V}{\\partial x} \\frac{\\partial\\,V}{\\partial y} - \\frac{1}{2} \\, V\\left(t, x, y, z\\right) \\frac{\\partial^2\\,V}{\\partial t\\partial y} - \\frac{1}{2} \\, {\\left(V\\left(t, x, y, z\\right)^{2} + 1\\right)} \\frac{\\partial^2\\,V}{\\partial x\\partial y} & \\frac{1}{2} \\, V\\left(t, x, y, z\\right) \\frac{\\partial^2\\,V}{\\partial x\\partial y} + \\frac{\\partial\\,V}{\\partial x} \\frac{\\partial\\,V}{\\partial y} + \\frac{1}{2} \\, \\frac{\\partial^2\\,V}{\\partial t\\partial y} & -\\left(\\frac{\\partial\\,V}{\\partial x}\\right)^{2} - V\\left(t, x, y, z\\right) \\frac{\\partial^2\\,V}{\\partial x ^ 2} + \\frac{1}{4} \\, \\left(\\frac{\\partial\\,V}{\\partial y}\\right)^{2} - \\frac{1}{4} \\, \\left(\\frac{\\partial\\,V}{\\partial z}\\right)^{2} - \\frac{\\partial^2\\,V}{\\partial t\\partial x} & \\frac{1}{2} \\, \\frac{\\partial\\,V}{\\partial y} \\frac{\\partial\\,V}{\\partial z} \\\\\n",
       "-V\\left(t, x, y, z\\right) \\frac{\\partial\\,V}{\\partial x} \\frac{\\partial\\,V}{\\partial z} - \\frac{1}{2} \\, V\\left(t, x, y, z\\right) \\frac{\\partial^2\\,V}{\\partial t\\partial z} - \\frac{1}{2} \\, {\\left(V\\left(t, x, y, z\\right)^{2} + 1\\right)} \\frac{\\partial^2\\,V}{\\partial x\\partial z} & \\frac{1}{2} \\, V\\left(t, x, y, z\\right) \\frac{\\partial^2\\,V}{\\partial x\\partial z} + \\frac{\\partial\\,V}{\\partial x} \\frac{\\partial\\,V}{\\partial z} + \\frac{1}{2} \\, \\frac{\\partial^2\\,V}{\\partial t\\partial z} & \\frac{1}{2} \\, \\frac{\\partial\\,V}{\\partial y} \\frac{\\partial\\,V}{\\partial z} & -\\left(\\frac{\\partial\\,V}{\\partial x}\\right)^{2} - V\\left(t, x, y, z\\right) \\frac{\\partial^2\\,V}{\\partial x ^ 2} - \\frac{1}{4} \\, \\left(\\frac{\\partial\\,V}{\\partial y}\\right)^{2} + \\frac{1}{4} \\, \\left(\\frac{\\partial\\,V}{\\partial z}\\right)^{2} - \\frac{\\partial^2\\,V}{\\partial t\\partial x}\n",
       "\\end{array}\\right)$"
      ],
      "text/plain": [
       "[-1/4*(3*V(t, x, y, z)^2 + 1)*(d(V)/dy)^2 - 1/4*(3*V(t, x, y, z)^2 + 1)*(d(V)/dz)^2 - V(t, x, y, z)*d^2(V)/dy^2 - V(t, x, y, z)*d^2(V)/dz^2                                          3/4*V(t, x, y, z)*(d(V)/dy)^2 + 3/4*V(t, x, y, z)*(d(V)/dz)^2 + 1/2*d^2(V)/dy^2 + 1/2*d^2(V)/dz^2                                     -V(t, x, y, z)*d(V)/dx*d(V)/dy - 1/2*V(t, x, y, z)*d^2(V)/dtdy - 1/2*(V(t, x, y, z)^2 + 1)*d^2(V)/dxdy                                     -V(t, x, y, z)*d(V)/dx*d(V)/dz - 1/2*V(t, x, y, z)*d^2(V)/dtdz - 1/2*(V(t, x, y, z)^2 + 1)*d^2(V)/dxdz]\n",
       "[                                         3/4*V(t, x, y, z)*(d(V)/dy)^2 + 3/4*V(t, x, y, z)*(d(V)/dz)^2 + 1/2*d^2(V)/dy^2 + 1/2*d^2(V)/dz^2                                                                                                         -3/4*(d(V)/dy)^2 - 3/4*(d(V)/dz)^2                                                                          1/2*V(t, x, y, z)*d^2(V)/dxdy + d(V)/dx*d(V)/dy + 1/2*d^2(V)/dtdy                                                                          1/2*V(t, x, y, z)*d^2(V)/dxdz + d(V)/dx*d(V)/dz + 1/2*d^2(V)/dtdz]\n",
       "[                                    -V(t, x, y, z)*d(V)/dx*d(V)/dy - 1/2*V(t, x, y, z)*d^2(V)/dtdy - 1/2*(V(t, x, y, z)^2 + 1)*d^2(V)/dxdy                                                                          1/2*V(t, x, y, z)*d^2(V)/dxdy + d(V)/dx*d(V)/dy + 1/2*d^2(V)/dtdy                                                 -(d(V)/dx)^2 - V(t, x, y, z)*d^2(V)/dx^2 + 1/4*(d(V)/dy)^2 - 1/4*(d(V)/dz)^2 - d^2(V)/dtdx                                                                                                                        1/2*d(V)/dy*d(V)/dz]\n",
       "[                                    -V(t, x, y, z)*d(V)/dx*d(V)/dz - 1/2*V(t, x, y, z)*d^2(V)/dtdz - 1/2*(V(t, x, y, z)^2 + 1)*d^2(V)/dxdz                                                                          1/2*V(t, x, y, z)*d^2(V)/dxdz + d(V)/dx*d(V)/dz + 1/2*d^2(V)/dtdz                                                                                                                        1/2*d(V)/dy*d(V)/dz                                                 -(d(V)/dx)^2 - V(t, x, y, z)*d^2(V)/dx^2 - 1/4*(d(V)/dy)^2 + 1/4*(d(V)/dz)^2 - d^2(V)/dtdx]"
      ]
     },
     "execution_count": 17,
     "metadata": {},
     "output_type": "execute_result"
    }
   ],
   "source": [
    "Ein[:]"
   ]
  },
  {
   "cell_type": "markdown",
   "id": "ed0ea206-d46f-41c2-a937-549df264385a",
   "metadata": {},
   "source": [
    "# 6. Energy Momentum Tensor (EMT)"
   ]
  },
  {
   "cell_type": "code",
   "execution_count": 18,
   "id": "b294e4b0-2b27-4bfe-9e09-79d186a64173",
   "metadata": {},
   "outputs": [],
   "source": [
    "var('Lambda_')\n",
    "var('G')\n",
    "T = 1/(8*pi*G) * ( Ein + g*Lambda_ )"
   ]
  },
  {
   "cell_type": "code",
   "execution_count": 19,
   "id": "a5a05504-baf6-43f7-b128-b84a7475fbc2",
   "metadata": {},
   "outputs": [
    {
     "data": {
      "text/html": [
       "<html>\\(\\displaystyle \\left(\\begin{array}{rrrr}\n",
       "\\frac{4 \\, \\Lambda V\\left(t, x, y, z\\right)^{2} - {\\left(3 \\, V\\left(t, x, y, z\\right)^{2} + 1\\right)} \\left(\\frac{\\partial\\,V}{\\partial y}\\right)^{2} - {\\left(3 \\, V\\left(t, x, y, z\\right)^{2} + 1\\right)} \\left(\\frac{\\partial\\,V}{\\partial z}\\right)^{2} - 4 \\, V\\left(t, x, y, z\\right) \\frac{\\partial^2\\,V}{\\partial y ^ 2} - 4 \\, V\\left(t, x, y, z\\right) \\frac{\\partial^2\\,V}{\\partial z ^ 2} - 4 \\, \\Lambda}{32 \\, \\pi G} & \\frac{3 \\, V\\left(t, x, y, z\\right) \\left(\\frac{\\partial\\,V}{\\partial y}\\right)^{2} + 3 \\, V\\left(t, x, y, z\\right) \\left(\\frac{\\partial\\,V}{\\partial z}\\right)^{2} - 4 \\, \\Lambda V\\left(t, x, y, z\\right) + 2 \\, \\frac{\\partial^2\\,V}{\\partial y ^ 2} + 2 \\, \\frac{\\partial^2\\,V}{\\partial z ^ 2}}{32 \\, \\pi G} & -\\frac{2 \\, V\\left(t, x, y, z\\right) \\frac{\\partial\\,V}{\\partial x} \\frac{\\partial\\,V}{\\partial y} + V\\left(t, x, y, z\\right) \\frac{\\partial^2\\,V}{\\partial t\\partial y} + {\\left(V\\left(t, x, y, z\\right)^{2} + 1\\right)} \\frac{\\partial^2\\,V}{\\partial x\\partial y}}{16 \\, \\pi G} & -\\frac{2 \\, V\\left(t, x, y, z\\right) \\frac{\\partial\\,V}{\\partial x} \\frac{\\partial\\,V}{\\partial z} + V\\left(t, x, y, z\\right) \\frac{\\partial^2\\,V}{\\partial t\\partial z} + {\\left(V\\left(t, x, y, z\\right)^{2} + 1\\right)} \\frac{\\partial^2\\,V}{\\partial x\\partial z}}{16 \\, \\pi G} \\\\\n",
       "\\frac{3 \\, V\\left(t, x, y, z\\right) \\left(\\frac{\\partial\\,V}{\\partial y}\\right)^{2} + 3 \\, V\\left(t, x, y, z\\right) \\left(\\frac{\\partial\\,V}{\\partial z}\\right)^{2} - 4 \\, \\Lambda V\\left(t, x, y, z\\right) + 2 \\, \\frac{\\partial^2\\,V}{\\partial y ^ 2} + 2 \\, \\frac{\\partial^2\\,V}{\\partial z ^ 2}}{32 \\, \\pi G} & -\\frac{3 \\, \\left(\\frac{\\partial\\,V}{\\partial y}\\right)^{2} + 3 \\, \\left(\\frac{\\partial\\,V}{\\partial z}\\right)^{2} - 4 \\, \\Lambda}{32 \\, \\pi G} & \\frac{V\\left(t, x, y, z\\right) \\frac{\\partial^2\\,V}{\\partial x\\partial y} + 2 \\, \\frac{\\partial\\,V}{\\partial x} \\frac{\\partial\\,V}{\\partial y} + \\frac{\\partial^2\\,V}{\\partial t\\partial y}}{16 \\, \\pi G} & \\frac{V\\left(t, x, y, z\\right) \\frac{\\partial^2\\,V}{\\partial x\\partial z} + 2 \\, \\frac{\\partial\\,V}{\\partial x} \\frac{\\partial\\,V}{\\partial z} + \\frac{\\partial^2\\,V}{\\partial t\\partial z}}{16 \\, \\pi G} \\\\\n",
       "-\\frac{2 \\, V\\left(t, x, y, z\\right) \\frac{\\partial\\,V}{\\partial x} \\frac{\\partial\\,V}{\\partial y} + V\\left(t, x, y, z\\right) \\frac{\\partial^2\\,V}{\\partial t\\partial y} + {\\left(V\\left(t, x, y, z\\right)^{2} + 1\\right)} \\frac{\\partial^2\\,V}{\\partial x\\partial y}}{16 \\, \\pi G} & \\frac{V\\left(t, x, y, z\\right) \\frac{\\partial^2\\,V}{\\partial x\\partial y} + 2 \\, \\frac{\\partial\\,V}{\\partial x} \\frac{\\partial\\,V}{\\partial y} + \\frac{\\partial^2\\,V}{\\partial t\\partial y}}{16 \\, \\pi G} & -\\frac{4 \\, \\left(\\frac{\\partial\\,V}{\\partial x}\\right)^{2} + 4 \\, V\\left(t, x, y, z\\right) \\frac{\\partial^2\\,V}{\\partial x ^ 2} - \\left(\\frac{\\partial\\,V}{\\partial y}\\right)^{2} + \\left(\\frac{\\partial\\,V}{\\partial z}\\right)^{2} - 4 \\, \\Lambda + 4 \\, \\frac{\\partial^2\\,V}{\\partial t\\partial x}}{32 \\, \\pi G} & \\frac{\\frac{\\partial\\,V}{\\partial y} \\frac{\\partial\\,V}{\\partial z}}{16 \\, \\pi G} \\\\\n",
       "-\\frac{2 \\, V\\left(t, x, y, z\\right) \\frac{\\partial\\,V}{\\partial x} \\frac{\\partial\\,V}{\\partial z} + V\\left(t, x, y, z\\right) \\frac{\\partial^2\\,V}{\\partial t\\partial z} + {\\left(V\\left(t, x, y, z\\right)^{2} + 1\\right)} \\frac{\\partial^2\\,V}{\\partial x\\partial z}}{16 \\, \\pi G} & \\frac{V\\left(t, x, y, z\\right) \\frac{\\partial^2\\,V}{\\partial x\\partial z} + 2 \\, \\frac{\\partial\\,V}{\\partial x} \\frac{\\partial\\,V}{\\partial z} + \\frac{\\partial^2\\,V}{\\partial t\\partial z}}{16 \\, \\pi G} & \\frac{\\frac{\\partial\\,V}{\\partial y} \\frac{\\partial\\,V}{\\partial z}}{16 \\, \\pi G} & -\\frac{4 \\, \\left(\\frac{\\partial\\,V}{\\partial x}\\right)^{2} + 4 \\, V\\left(t, x, y, z\\right) \\frac{\\partial^2\\,V}{\\partial x ^ 2} + \\left(\\frac{\\partial\\,V}{\\partial y}\\right)^{2} - \\left(\\frac{\\partial\\,V}{\\partial z}\\right)^{2} - 4 \\, \\Lambda + 4 \\, \\frac{\\partial^2\\,V}{\\partial t\\partial x}}{32 \\, \\pi G}\n",
       "\\end{array}\\right)\\)</html>"
      ],
      "text/latex": [
       "$\\displaystyle \\left(\\begin{array}{rrrr}\n",
       "\\frac{4 \\, \\Lambda V\\left(t, x, y, z\\right)^{2} - {\\left(3 \\, V\\left(t, x, y, z\\right)^{2} + 1\\right)} \\left(\\frac{\\partial\\,V}{\\partial y}\\right)^{2} - {\\left(3 \\, V\\left(t, x, y, z\\right)^{2} + 1\\right)} \\left(\\frac{\\partial\\,V}{\\partial z}\\right)^{2} - 4 \\, V\\left(t, x, y, z\\right) \\frac{\\partial^2\\,V}{\\partial y ^ 2} - 4 \\, V\\left(t, x, y, z\\right) \\frac{\\partial^2\\,V}{\\partial z ^ 2} - 4 \\, \\Lambda}{32 \\, \\pi G} & \\frac{3 \\, V\\left(t, x, y, z\\right) \\left(\\frac{\\partial\\,V}{\\partial y}\\right)^{2} + 3 \\, V\\left(t, x, y, z\\right) \\left(\\frac{\\partial\\,V}{\\partial z}\\right)^{2} - 4 \\, \\Lambda V\\left(t, x, y, z\\right) + 2 \\, \\frac{\\partial^2\\,V}{\\partial y ^ 2} + 2 \\, \\frac{\\partial^2\\,V}{\\partial z ^ 2}}{32 \\, \\pi G} & -\\frac{2 \\, V\\left(t, x, y, z\\right) \\frac{\\partial\\,V}{\\partial x} \\frac{\\partial\\,V}{\\partial y} + V\\left(t, x, y, z\\right) \\frac{\\partial^2\\,V}{\\partial t\\partial y} + {\\left(V\\left(t, x, y, z\\right)^{2} + 1\\right)} \\frac{\\partial^2\\,V}{\\partial x\\partial y}}{16 \\, \\pi G} & -\\frac{2 \\, V\\left(t, x, y, z\\right) \\frac{\\partial\\,V}{\\partial x} \\frac{\\partial\\,V}{\\partial z} + V\\left(t, x, y, z\\right) \\frac{\\partial^2\\,V}{\\partial t\\partial z} + {\\left(V\\left(t, x, y, z\\right)^{2} + 1\\right)} \\frac{\\partial^2\\,V}{\\partial x\\partial z}}{16 \\, \\pi G} \\\\\n",
       "\\frac{3 \\, V\\left(t, x, y, z\\right) \\left(\\frac{\\partial\\,V}{\\partial y}\\right)^{2} + 3 \\, V\\left(t, x, y, z\\right) \\left(\\frac{\\partial\\,V}{\\partial z}\\right)^{2} - 4 \\, \\Lambda V\\left(t, x, y, z\\right) + 2 \\, \\frac{\\partial^2\\,V}{\\partial y ^ 2} + 2 \\, \\frac{\\partial^2\\,V}{\\partial z ^ 2}}{32 \\, \\pi G} & -\\frac{3 \\, \\left(\\frac{\\partial\\,V}{\\partial y}\\right)^{2} + 3 \\, \\left(\\frac{\\partial\\,V}{\\partial z}\\right)^{2} - 4 \\, \\Lambda}{32 \\, \\pi G} & \\frac{V\\left(t, x, y, z\\right) \\frac{\\partial^2\\,V}{\\partial x\\partial y} + 2 \\, \\frac{\\partial\\,V}{\\partial x} \\frac{\\partial\\,V}{\\partial y} + \\frac{\\partial^2\\,V}{\\partial t\\partial y}}{16 \\, \\pi G} & \\frac{V\\left(t, x, y, z\\right) \\frac{\\partial^2\\,V}{\\partial x\\partial z} + 2 \\, \\frac{\\partial\\,V}{\\partial x} \\frac{\\partial\\,V}{\\partial z} + \\frac{\\partial^2\\,V}{\\partial t\\partial z}}{16 \\, \\pi G} \\\\\n",
       "-\\frac{2 \\, V\\left(t, x, y, z\\right) \\frac{\\partial\\,V}{\\partial x} \\frac{\\partial\\,V}{\\partial y} + V\\left(t, x, y, z\\right) \\frac{\\partial^2\\,V}{\\partial t\\partial y} + {\\left(V\\left(t, x, y, z\\right)^{2} + 1\\right)} \\frac{\\partial^2\\,V}{\\partial x\\partial y}}{16 \\, \\pi G} & \\frac{V\\left(t, x, y, z\\right) \\frac{\\partial^2\\,V}{\\partial x\\partial y} + 2 \\, \\frac{\\partial\\,V}{\\partial x} \\frac{\\partial\\,V}{\\partial y} + \\frac{\\partial^2\\,V}{\\partial t\\partial y}}{16 \\, \\pi G} & -\\frac{4 \\, \\left(\\frac{\\partial\\,V}{\\partial x}\\right)^{2} + 4 \\, V\\left(t, x, y, z\\right) \\frac{\\partial^2\\,V}{\\partial x ^ 2} - \\left(\\frac{\\partial\\,V}{\\partial y}\\right)^{2} + \\left(\\frac{\\partial\\,V}{\\partial z}\\right)^{2} - 4 \\, \\Lambda + 4 \\, \\frac{\\partial^2\\,V}{\\partial t\\partial x}}{32 \\, \\pi G} & \\frac{\\frac{\\partial\\,V}{\\partial y} \\frac{\\partial\\,V}{\\partial z}}{16 \\, \\pi G} \\\\\n",
       "-\\frac{2 \\, V\\left(t, x, y, z\\right) \\frac{\\partial\\,V}{\\partial x} \\frac{\\partial\\,V}{\\partial z} + V\\left(t, x, y, z\\right) \\frac{\\partial^2\\,V}{\\partial t\\partial z} + {\\left(V\\left(t, x, y, z\\right)^{2} + 1\\right)} \\frac{\\partial^2\\,V}{\\partial x\\partial z}}{16 \\, \\pi G} & \\frac{V\\left(t, x, y, z\\right) \\frac{\\partial^2\\,V}{\\partial x\\partial z} + 2 \\, \\frac{\\partial\\,V}{\\partial x} \\frac{\\partial\\,V}{\\partial z} + \\frac{\\partial^2\\,V}{\\partial t\\partial z}}{16 \\, \\pi G} & \\frac{\\frac{\\partial\\,V}{\\partial y} \\frac{\\partial\\,V}{\\partial z}}{16 \\, \\pi G} & -\\frac{4 \\, \\left(\\frac{\\partial\\,V}{\\partial x}\\right)^{2} + 4 \\, V\\left(t, x, y, z\\right) \\frac{\\partial^2\\,V}{\\partial x ^ 2} + \\left(\\frac{\\partial\\,V}{\\partial y}\\right)^{2} - \\left(\\frac{\\partial\\,V}{\\partial z}\\right)^{2} - 4 \\, \\Lambda + 4 \\, \\frac{\\partial^2\\,V}{\\partial t\\partial x}}{32 \\, \\pi G}\n",
       "\\end{array}\\right)$"
      ],
      "text/plain": [
       "[1/32*(4*Lambda_*V(t, x, y, z)^2 - (3*V(t, x, y, z)^2 + 1)*(d(V)/dy)^2 - (3*V(t, x, y, z)^2 + 1)*(d(V)/dz)^2 - 4*V(t, x, y, z)*d^2(V)/dy^2 - 4*V(t, x, y, z)*d^2(V)/dz^2 - 4*Lambda_)/(pi*G)                                                           1/32*(3*V(t, x, y, z)*(d(V)/dy)^2 + 3*V(t, x, y, z)*(d(V)/dz)^2 - 4*Lambda_*V(t, x, y, z) + 2*d^2(V)/dy^2 + 2*d^2(V)/dz^2)/(pi*G)                                                                              -1/16*(2*V(t, x, y, z)*d(V)/dx*d(V)/dy + V(t, x, y, z)*d^2(V)/dtdy + (V(t, x, y, z)^2 + 1)*d^2(V)/dxdy)/(pi*G)                                                                              -1/16*(2*V(t, x, y, z)*d(V)/dx*d(V)/dz + V(t, x, y, z)*d^2(V)/dtdz + (V(t, x, y, z)^2 + 1)*d^2(V)/dxdz)/(pi*G)]\n",
       "[                                                          1/32*(3*V(t, x, y, z)*(d(V)/dy)^2 + 3*V(t, x, y, z)*(d(V)/dz)^2 - 4*Lambda_*V(t, x, y, z) + 2*d^2(V)/dy^2 + 2*d^2(V)/dz^2)/(pi*G)                                                                                                                                    -1/32*(3*(d(V)/dy)^2 + 3*(d(V)/dz)^2 - 4*Lambda_)/(pi*G)                                                                                                                   1/16*(V(t, x, y, z)*d^2(V)/dxdy + 2*d(V)/dx*d(V)/dy + d^2(V)/dtdy)/(pi*G)                                                                                                                   1/16*(V(t, x, y, z)*d^2(V)/dxdz + 2*d(V)/dx*d(V)/dz + d^2(V)/dtdz)/(pi*G)]\n",
       "[                                                                             -1/16*(2*V(t, x, y, z)*d(V)/dx*d(V)/dy + V(t, x, y, z)*d^2(V)/dtdy + (V(t, x, y, z)^2 + 1)*d^2(V)/dxdy)/(pi*G)                                                                                                                   1/16*(V(t, x, y, z)*d^2(V)/dxdy + 2*d(V)/dx*d(V)/dy + d^2(V)/dtdy)/(pi*G)                                                                          -1/32*(4*(d(V)/dx)^2 + 4*V(t, x, y, z)*d^2(V)/dx^2 - (d(V)/dy)^2 + (d(V)/dz)^2 - 4*Lambda_ + 4*d^2(V)/dtdx)/(pi*G)                                                                                                                                                                 1/16*d(V)/dy*d(V)/dz/(pi*G)]\n",
       "[                                                                             -1/16*(2*V(t, x, y, z)*d(V)/dx*d(V)/dz + V(t, x, y, z)*d^2(V)/dtdz + (V(t, x, y, z)^2 + 1)*d^2(V)/dxdz)/(pi*G)                                                                                                                   1/16*(V(t, x, y, z)*d^2(V)/dxdz + 2*d(V)/dx*d(V)/dz + d^2(V)/dtdz)/(pi*G)                                                                                                                                                                 1/16*d(V)/dy*d(V)/dz/(pi*G)                                                                          -1/32*(4*(d(V)/dx)^2 + 4*V(t, x, y, z)*d^2(V)/dx^2 + (d(V)/dy)^2 - (d(V)/dz)^2 - 4*Lambda_ + 4*d^2(V)/dtdx)/(pi*G)]"
      ]
     },
     "execution_count": 19,
     "metadata": {},
     "output_type": "execute_result"
    }
   ],
   "source": [
    "T[:]"
   ]
  },
  {
   "cell_type": "markdown",
   "id": "b8e83617-e8fd-45c9-b6ba-185145505366",
   "metadata": {},
   "source": [
    "# 6.1. Components of EMT"
   ]
  },
  {
   "cell_type": "markdown",
   "id": "c6e91625-348f-4278-9620-abc081f03cb9",
   "metadata": {},
   "source": [
    "# 6.1.1. Lapse function $N_0 = \\sqrt(|g^{00}|)$"
   ]
  },
  {
   "cell_type": "code",
   "execution_count": 20,
   "id": "bb26b2c5-4439-459b-a560-cd98726b29c9",
   "metadata": {},
   "outputs": [
    {
     "data": {
      "text/html": [
       "<html>\\(\\displaystyle \\left(t, x, y, z\\right) \\mapsto 1\\)</html>"
      ],
      "text/latex": [
       "$\\displaystyle \\left(t, x, y, z\\right) \\mapsto 1$"
      ],
      "text/plain": [
       "(t, x, y, z) ↦ 1"
      ]
     },
     "execution_count": 20,
     "metadata": {},
     "output_type": "execute_result"
    }
   ],
   "source": [
    "N_0 = sqrt(abs(ginv[0,0]))\n",
    "N_0.display()"
   ]
  },
  {
   "cell_type": "markdown",
   "id": "0436030c-bc4d-437e-a0f2-ae45dca1c117",
   "metadata": {},
   "source": [
    "# 6.1.2. Compute shift vector $N^i$"
   ]
  },
  {
   "cell_type": "code",
   "execution_count": 21,
   "id": "7a594265-e959-4f82-bef0-eba9caeba91b",
   "metadata": {},
   "outputs": [
    {
     "data": {
      "text/html": [
       "<html>\\(\\displaystyle \\left(-V\\left(t, x, y, z\\right), 0, 0\\right)\\)</html>"
      ],
      "text/latex": [
       "$\\displaystyle \\left(-V\\left(t, x, y, z\\right), 0, 0\\right)$"
      ],
      "text/plain": [
       "(-V(t, x, y, z), 0, 0)"
      ]
     },
     "execution_count": 21,
     "metadata": {},
     "output_type": "execute_result"
    }
   ],
   "source": [
    "N = [ginv[0, i] for i in range(1, 4)] \n",
    "N[0],N[1], N[2]"
   ]
  },
  {
   "cell_type": "markdown",
   "id": "8323ade0-9888-4c14-89a2-03aa3e78b916",
   "metadata": {},
   "source": [
    "# 6.1.3. Define the fluid 4-velocity $u^\\mu$"
   ]
  },
  {
   "cell_type": "code",
   "execution_count": 22,
   "id": "bc1ad471-63ff-477e-acdd-42bce13a4449",
   "metadata": {},
   "outputs": [
    {
     "data": {
      "text/html": [
       "<html>\\(\\displaystyle u = \\frac{\\partial}{\\partial t } + V\\left(t, x, y, z\\right) \\frac{\\partial}{\\partial x }\\)</html>"
      ],
      "text/latex": [
       "$\\displaystyle u = \\frac{\\partial}{\\partial t } + V\\left(t, x, y, z\\right) \\frac{\\partial}{\\partial x }$"
      ],
      "text/plain": [
       "u = ∂/∂t + V(t, x, y, z) ∂/∂x"
      ]
     },
     "execution_count": 22,
     "metadata": {},
     "output_type": "execute_result"
    }
   ],
   "source": [
    "u = M.vector_field(name=\"u\")\n",
    "u[0] = 1 / N_0 # u_MU = 1\n",
    "for i in range(1, 4):\n",
    "    u[i] = - N[i - 1] / N_0  # Spatial components : u_MU[1]=-V(t,x), u_MU[2]=0, u_MU[3]=0\n",
    "u.display()"
   ]
  },
  {
   "cell_type": "markdown",
   "id": "f728c980-d738-4223-aaed-86a2da8b982a",
   "metadata": {},
   "source": [
    "# 6.1.5. Energy density $\\epsilon$"
   ]
  },
  {
   "cell_type": "code",
   "execution_count": 23,
   "id": "ae62c5f7-cd6f-4fa9-bea0-f93cdbb6c356",
   "metadata": {},
   "outputs": [],
   "source": [
    "uu= u['^i'] * u['^j']"
   ]
  },
  {
   "cell_type": "code",
   "execution_count": 24,
   "id": "7c8d1579-e1c7-4d1d-bc0f-87e41b9caa8f",
   "metadata": {},
   "outputs": [
    {
     "data": {
      "text/html": [
       "<html>\\(\\displaystyle \\begin{array}{llcl} & M & \\longrightarrow & \\mathbb{R} \\\\ & \\left(t, x, y, z\\right) & \\longmapsto & -\\frac{\\left(\\frac{\\partial\\,V}{\\partial y}\\right)^{2} + \\left(\\frac{\\partial\\,V}{\\partial z}\\right)^{2} + 4 \\, \\Lambda}{32 \\, \\pi G} \\end{array}\\)</html>"
      ],
      "text/latex": [
       "$\\displaystyle \\begin{array}{llcl} & M & \\longrightarrow & \\mathbb{R} \\\\ & \\left(t, x, y, z\\right) & \\longmapsto & -\\frac{\\left(\\frac{\\partial\\,V}{\\partial y}\\right)^{2} + \\left(\\frac{\\partial\\,V}{\\partial z}\\right)^{2} + 4 \\, \\Lambda}{32 \\, \\pi G} \\end{array}$"
      ],
      "text/plain": [
       "M → ℝ\n",
       "(t, x, y, z) ↦ -1/32*((d(V)/dy)^2 + (d(V)/dz)^2 + 4*Lambda_)/(pi*G)"
      ]
     },
     "execution_count": 24,
     "metadata": {},
     "output_type": "execute_result"
    }
   ],
   "source": [
    "epsilon=uu['^{ij}'] * T['_{ij}']\n",
    "epsilon.display()"
   ]
  },
  {
   "cell_type": "markdown",
   "id": "532a633d-4157-48ae-8673-d559c985ea51",
   "metadata": {},
   "source": [
    "# 6.1.6. Pressure tensor $p_{ij} = p b_{ij}+\\pi_{ij}$"
   ]
  },
  {
   "cell_type": "code",
   "execution_count": 25,
   "id": "daa45a03-b737-45d8-9193-b679e2694bfa",
   "metadata": {},
   "outputs": [
    {
     "data": {
      "text/html": [
       "<html>\\(\\displaystyle \\left(-\\frac{3 \\, \\left(\\frac{\\partial\\,V}{\\partial y}\\right)^{2} + 3 \\, \\left(\\frac{\\partial\\,V}{\\partial z}\\right)^{2} - 4 \\, \\Lambda}{32 \\, \\pi G}, \\frac{V\\left(t, x, y, z\\right) \\frac{\\partial^2\\,V}{\\partial x\\partial y} + 2 \\, \\frac{\\partial\\,V}{\\partial x} \\frac{\\partial\\,V}{\\partial y} + \\frac{\\partial^2\\,V}{\\partial t\\partial y}}{16 \\, \\pi G}, \\frac{V\\left(t, x, y, z\\right) \\frac{\\partial^2\\,V}{\\partial x\\partial z} + 2 \\, \\frac{\\partial\\,V}{\\partial x} \\frac{\\partial\\,V}{\\partial z} + \\frac{\\partial^2\\,V}{\\partial t\\partial z}}{16 \\, \\pi G}\\right)\\)</html>"
      ],
      "text/latex": [
       "$\\displaystyle \\left(-\\frac{3 \\, \\left(\\frac{\\partial\\,V}{\\partial y}\\right)^{2} + 3 \\, \\left(\\frac{\\partial\\,V}{\\partial z}\\right)^{2} - 4 \\, \\Lambda}{32 \\, \\pi G}, \\frac{V\\left(t, x, y, z\\right) \\frac{\\partial^2\\,V}{\\partial x\\partial y} + 2 \\, \\frac{\\partial\\,V}{\\partial x} \\frac{\\partial\\,V}{\\partial y} + \\frac{\\partial^2\\,V}{\\partial t\\partial y}}{16 \\, \\pi G}, \\frac{V\\left(t, x, y, z\\right) \\frac{\\partial^2\\,V}{\\partial x\\partial z} + 2 \\, \\frac{\\partial\\,V}{\\partial x} \\frac{\\partial\\,V}{\\partial z} + \\frac{\\partial^2\\,V}{\\partial t\\partial z}}{16 \\, \\pi G}\\right)$"
      ],
      "text/plain": [
       "(-1/32*(3*(d(V)/dy)^2 + 3*(d(V)/dz)^2 - 4*Lambda_)/(pi*G),\n",
       " 1/16*(V(t, x, y, z)*d^2(V)/dxdy + 2*d(V)/dx*d(V)/dy + d^2(V)/dtdy)/(pi*G),\n",
       " 1/16*(V(t, x, y, z)*d^2(V)/dxdz + 2*d(V)/dx*d(V)/dz + d^2(V)/dtdz)/(pi*G))"
      ]
     },
     "execution_count": 25,
     "metadata": {},
     "output_type": "execute_result"
    }
   ],
   "source": [
    "T[1,1], T[1,2], T[1,3]"
   ]
  },
  {
   "cell_type": "code",
   "execution_count": 26,
   "id": "d58295b2-ee13-4c0b-a3e6-15517789ec63",
   "metadata": {},
   "outputs": [
    {
     "data": {
      "text/html": [
       "<html>\\(\\displaystyle \\left(\\frac{V\\left(t, x, y, z\\right) \\frac{\\partial^2\\,V}{\\partial x\\partial y} + 2 \\, \\frac{\\partial\\,V}{\\partial x} \\frac{\\partial\\,V}{\\partial y} + \\frac{\\partial^2\\,V}{\\partial t\\partial y}}{16 \\, \\pi G}, -\\frac{4 \\, \\left(\\frac{\\partial\\,V}{\\partial x}\\right)^{2} + 4 \\, V\\left(t, x, y, z\\right) \\frac{\\partial^2\\,V}{\\partial x ^ 2} - \\left(\\frac{\\partial\\,V}{\\partial y}\\right)^{2} + \\left(\\frac{\\partial\\,V}{\\partial z}\\right)^{2} - 4 \\, \\Lambda + 4 \\, \\frac{\\partial^2\\,V}{\\partial t\\partial x}}{32 \\, \\pi G}, \\frac{\\frac{\\partial\\,V}{\\partial y} \\frac{\\partial\\,V}{\\partial z}}{16 \\, \\pi G}\\right)\\)</html>"
      ],
      "text/latex": [
       "$\\displaystyle \\left(\\frac{V\\left(t, x, y, z\\right) \\frac{\\partial^2\\,V}{\\partial x\\partial y} + 2 \\, \\frac{\\partial\\,V}{\\partial x} \\frac{\\partial\\,V}{\\partial y} + \\frac{\\partial^2\\,V}{\\partial t\\partial y}}{16 \\, \\pi G}, -\\frac{4 \\, \\left(\\frac{\\partial\\,V}{\\partial x}\\right)^{2} + 4 \\, V\\left(t, x, y, z\\right) \\frac{\\partial^2\\,V}{\\partial x ^ 2} - \\left(\\frac{\\partial\\,V}{\\partial y}\\right)^{2} + \\left(\\frac{\\partial\\,V}{\\partial z}\\right)^{2} - 4 \\, \\Lambda + 4 \\, \\frac{\\partial^2\\,V}{\\partial t\\partial x}}{32 \\, \\pi G}, \\frac{\\frac{\\partial\\,V}{\\partial y} \\frac{\\partial\\,V}{\\partial z}}{16 \\, \\pi G}\\right)$"
      ],
      "text/plain": [
       "(1/16*(V(t, x, y, z)*d^2(V)/dxdy + 2*d(V)/dx*d(V)/dy + d^2(V)/dtdy)/(pi*G),\n",
       " -1/32*(4*(d(V)/dx)^2 + 4*V(t, x, y, z)*d^2(V)/dx^2 - (d(V)/dy)^2 + (d(V)/dz)^2 - 4*Lambda_ + 4*d^2(V)/dtdx)/(pi*G),\n",
       " 1/16*d(V)/dy*d(V)/dz/(pi*G))"
      ]
     },
     "execution_count": 26,
     "metadata": {},
     "output_type": "execute_result"
    }
   ],
   "source": [
    "T[2,1], T[2,2], T[2,3]"
   ]
  },
  {
   "cell_type": "code",
   "execution_count": 27,
   "id": "3a88bcb6-a88f-4a10-be0e-1adf27cbd6a0",
   "metadata": {},
   "outputs": [
    {
     "data": {
      "text/html": [
       "<html>\\(\\displaystyle \\left(\\frac{V\\left(t, x, y, z\\right) \\frac{\\partial^2\\,V}{\\partial x\\partial z} + 2 \\, \\frac{\\partial\\,V}{\\partial x} \\frac{\\partial\\,V}{\\partial z} + \\frac{\\partial^2\\,V}{\\partial t\\partial z}}{16 \\, \\pi G}, \\frac{\\frac{\\partial\\,V}{\\partial y} \\frac{\\partial\\,V}{\\partial z}}{16 \\, \\pi G}, -\\frac{4 \\, \\left(\\frac{\\partial\\,V}{\\partial x}\\right)^{2} + 4 \\, V\\left(t, x, y, z\\right) \\frac{\\partial^2\\,V}{\\partial x ^ 2} + \\left(\\frac{\\partial\\,V}{\\partial y}\\right)^{2} - \\left(\\frac{\\partial\\,V}{\\partial z}\\right)^{2} - 4 \\, \\Lambda + 4 \\, \\frac{\\partial^2\\,V}{\\partial t\\partial x}}{32 \\, \\pi G}\\right)\\)</html>"
      ],
      "text/latex": [
       "$\\displaystyle \\left(\\frac{V\\left(t, x, y, z\\right) \\frac{\\partial^2\\,V}{\\partial x\\partial z} + 2 \\, \\frac{\\partial\\,V}{\\partial x} \\frac{\\partial\\,V}{\\partial z} + \\frac{\\partial^2\\,V}{\\partial t\\partial z}}{16 \\, \\pi G}, \\frac{\\frac{\\partial\\,V}{\\partial y} \\frac{\\partial\\,V}{\\partial z}}{16 \\, \\pi G}, -\\frac{4 \\, \\left(\\frac{\\partial\\,V}{\\partial x}\\right)^{2} + 4 \\, V\\left(t, x, y, z\\right) \\frac{\\partial^2\\,V}{\\partial x ^ 2} + \\left(\\frac{\\partial\\,V}{\\partial y}\\right)^{2} - \\left(\\frac{\\partial\\,V}{\\partial z}\\right)^{2} - 4 \\, \\Lambda + 4 \\, \\frac{\\partial^2\\,V}{\\partial t\\partial x}}{32 \\, \\pi G}\\right)$"
      ],
      "text/plain": [
       "(1/16*(V(t, x, y, z)*d^2(V)/dxdz + 2*d(V)/dx*d(V)/dz + d^2(V)/dtdz)/(pi*G),\n",
       " 1/16*d(V)/dy*d(V)/dz/(pi*G),\n",
       " -1/32*(4*(d(V)/dx)^2 + 4*V(t, x, y, z)*d^2(V)/dx^2 + (d(V)/dy)^2 - (d(V)/dz)^2 - 4*Lambda_ + 4*d^2(V)/dtdx)/(pi*G))"
      ]
     },
     "execution_count": 27,
     "metadata": {},
     "output_type": "execute_result"
    }
   ],
   "source": [
    "T[3,1], T[3,2], T[3,3]"
   ]
  },
  {
   "cell_type": "markdown",
   "id": "35df209a-87ba-4ce5-85ab-49f263268e07",
   "metadata": {},
   "source": [
    "# 6.1.7. Define the spatial projector $b^{\\mu \\nu} = g^{\\mu\\nu} + u^\\mu u^\\nu = h^{\\mu\\nu}$"
   ]
  },
  {
   "cell_type": "code",
   "execution_count": 28,
   "id": "ffd4cf3c-b7ac-4cef-9854-5c1ad569021d",
   "metadata": {},
   "outputs": [
    {
     "data": {
      "text/html": [
       "<html>\\(\\displaystyle \\left(\\begin{array}{rrrr}\n",
       "0 & 0 & 0 & 0 \\\\\n",
       "0 & 1 & 0 & 0 \\\\\n",
       "0 & 0 & 1 & 0 \\\\\n",
       "0 & 0 & 0 & 1\n",
       "\\end{array}\\right)\\)</html>"
      ],
      "text/latex": [
       "$\\displaystyle \\left(\\begin{array}{rrrr}\n",
       "0 & 0 & 0 & 0 \\\\\n",
       "0 & 1 & 0 & 0 \\\\\n",
       "0 & 0 & 1 & 0 \\\\\n",
       "0 & 0 & 0 & 1\n",
       "\\end{array}\\right)$"
      ],
      "text/plain": [
       "[0 0 0 0]\n",
       "[0 1 0 0]\n",
       "[0 0 1 0]\n",
       "[0 0 0 1]"
      ]
     },
     "execution_count": 28,
     "metadata": {},
     "output_type": "execute_result"
    }
   ],
   "source": [
    "b = u['^i'] * u['^j'] + ginv\n",
    "b[:]"
   ]
  },
  {
   "cell_type": "code",
   "execution_count": 29,
   "id": "b41cf62c-3437-45bd-b387-2bcf792525ac",
   "metadata": {},
   "outputs": [
    {
     "data": {
      "text/html": [
       "<html>\\(\\displaystyle \\left(\\begin{array}{rrrr}\n",
       "1 & V\\left(t, x, y, z\\right) & 0 & 0 \\\\\n",
       "V\\left(t, x, y, z\\right) & V\\left(t, x, y, z\\right)^{2} & 0 & 0 \\\\\n",
       "0 & 0 & 0 & 0 \\\\\n",
       "0 & 0 & 0 & 0\n",
       "\\end{array}\\right)\\)</html>"
      ],
      "text/latex": [
       "$\\displaystyle \\left(\\begin{array}{rrrr}\n",
       "1 & V\\left(t, x, y, z\\right) & 0 & 0 \\\\\n",
       "V\\left(t, x, y, z\\right) & V\\left(t, x, y, z\\right)^{2} & 0 & 0 \\\\\n",
       "0 & 0 & 0 & 0 \\\\\n",
       "0 & 0 & 0 & 0\n",
       "\\end{array}\\right)$"
      ],
      "text/plain": [
       "[              1   V(t, x, y, z)               0               0]\n",
       "[  V(t, x, y, z) V(t, x, y, z)^2               0               0]\n",
       "[              0               0               0               0]\n",
       "[              0               0               0               0]"
      ]
     },
     "execution_count": 29,
     "metadata": {},
     "output_type": "execute_result"
    }
   ],
   "source": [
    "b1 = u['^i'] * u['^j']\n",
    "b1[:]"
   ]
  },
  {
   "cell_type": "markdown",
   "id": "c0bf9882-ed28-4dfd-8a1e-877dc5366d45",
   "metadata": {},
   "source": [
    "# 6.1.8. Spatial heat vector $q^k = -b^{ik}u^j T_{ij}$"
   ]
  },
  {
   "cell_type": "code",
   "execution_count": 30,
   "id": "73ce1794-d295-4676-8c98-37556d76f51a",
   "metadata": {},
   "outputs": [
    {
     "data": {
      "text/html": [
       "<html>\\(\\displaystyle \\left[0, -\\frac{\\frac{\\partial^2\\,V}{\\partial y ^ 2} + \\frac{\\partial^2\\,V}{\\partial z ^ 2}}{16 \\, \\pi G}, \\frac{\\frac{\\partial^2\\,V}{\\partial x\\partial y}}{16 \\, \\pi G}, \\frac{\\frac{\\partial^2\\,V}{\\partial x\\partial z}}{16 \\, \\pi G}\\right]\\)</html>"
      ],
      "text/latex": [
       "$\\displaystyle \\left[0, -\\frac{\\frac{\\partial^2\\,V}{\\partial y ^ 2} + \\frac{\\partial^2\\,V}{\\partial z ^ 2}}{16 \\, \\pi G}, \\frac{\\frac{\\partial^2\\,V}{\\partial x\\partial y}}{16 \\, \\pi G}, \\frac{\\frac{\\partial^2\\,V}{\\partial x\\partial z}}{16 \\, \\pi G}\\right]$"
      ],
      "text/plain": [
       "[0,\n",
       " -1/16*(d^2(V)/dy^2 + d^2(V)/dz^2)/(pi*G),\n",
       " 1/16*d^2(V)/dxdy/(pi*G),\n",
       " 1/16*d^2(V)/dxdz/(pi*G)]"
      ]
     },
     "execution_count": 30,
     "metadata": {},
     "output_type": "execute_result"
    }
   ],
   "source": [
    "bu = -b['^{ik}']*u['^j']\n",
    "q2 = bu['^{ikj}']*T['_{ij}']\n",
    "q2[:]\n"
   ]
  },
  {
   "cell_type": "markdown",
   "id": "f25a259c-569a-40a3-86c4-7cb816ef3c67",
   "metadata": {},
   "source": [
    "# $q_i = g_{ik} q^k $"
   ]
  },
  {
   "cell_type": "code",
   "execution_count": 31,
   "id": "d099e87e-d3b5-4c4e-afa1-914e8ffc6e60",
   "metadata": {},
   "outputs": [
    {
     "data": {
      "text/html": [
       "<html>\\(\\displaystyle \\left[\\frac{V\\left(t, x, y, z\\right) \\frac{\\partial^2\\,V}{\\partial y ^ 2} + V\\left(t, x, y, z\\right) \\frac{\\partial^2\\,V}{\\partial z ^ 2}}{16 \\, \\pi G}, -\\frac{\\frac{\\partial^2\\,V}{\\partial y ^ 2} + \\frac{\\partial^2\\,V}{\\partial z ^ 2}}{16 \\, \\pi G}, \\frac{\\frac{\\partial^2\\,V}{\\partial x\\partial y}}{16 \\, \\pi G}, \\frac{\\frac{\\partial^2\\,V}{\\partial x\\partial z}}{16 \\, \\pi G}\\right]\\)</html>"
      ],
      "text/latex": [
       "$\\displaystyle \\left[\\frac{V\\left(t, x, y, z\\right) \\frac{\\partial^2\\,V}{\\partial y ^ 2} + V\\left(t, x, y, z\\right) \\frac{\\partial^2\\,V}{\\partial z ^ 2}}{16 \\, \\pi G}, -\\frac{\\frac{\\partial^2\\,V}{\\partial y ^ 2} + \\frac{\\partial^2\\,V}{\\partial z ^ 2}}{16 \\, \\pi G}, \\frac{\\frac{\\partial^2\\,V}{\\partial x\\partial y}}{16 \\, \\pi G}, \\frac{\\frac{\\partial^2\\,V}{\\partial x\\partial z}}{16 \\, \\pi G}\\right]$"
      ],
      "text/plain": [
       "[1/16*(V(t, x, y, z)*d^2(V)/dy^2 + V(t, x, y, z)*d^2(V)/dz^2)/(pi*G),\n",
       " -1/16*(d^2(V)/dy^2 + d^2(V)/dz^2)/(pi*G),\n",
       " 1/16*d^2(V)/dxdy/(pi*G),\n",
       " 1/16*d^2(V)/dxdz/(pi*G)]"
      ]
     },
     "execution_count": 31,
     "metadata": {},
     "output_type": "execute_result"
    }
   ],
   "source": [
    "q_i = g['_{ij}']*q2['^i'] \n",
    "q_i[:]"
   ]
  },
  {
   "cell_type": "code",
   "execution_count": 32,
   "id": "2b5563b5-de20-4c63-908c-ca01fe1794c7",
   "metadata": {},
   "outputs": [
    {
     "data": {
      "text/html": [
       "<html>\\(\\displaystyle \\left(\\begin{array}{rrrr}\n",
       "V\\left(t, x, y, z\\right)^{2} - 1 & -V\\left(t, x, y, z\\right) & 0 & 0 \\\\\n",
       "-V\\left(t, x, y, z\\right) & 1 & 0 & 0 \\\\\n",
       "0 & 0 & 1 & 0 \\\\\n",
       "0 & 0 & 0 & 1\n",
       "\\end{array}\\right)\\)</html>"
      ],
      "text/latex": [
       "$\\displaystyle \\left(\\begin{array}{rrrr}\n",
       "V\\left(t, x, y, z\\right)^{2} - 1 & -V\\left(t, x, y, z\\right) & 0 & 0 \\\\\n",
       "-V\\left(t, x, y, z\\right) & 1 & 0 & 0 \\\\\n",
       "0 & 0 & 1 & 0 \\\\\n",
       "0 & 0 & 0 & 1\n",
       "\\end{array}\\right)$"
      ],
      "text/plain": [
       "[V(t, x, y, z)^2 - 1      -V(t, x, y, z)                   0                   0]\n",
       "[     -V(t, x, y, z)                   1                   0                   0]\n",
       "[                  0                   0                   1                   0]\n",
       "[                  0                   0                   0                   1]"
      ]
     },
     "execution_count": 32,
     "metadata": {},
     "output_type": "execute_result"
    }
   ],
   "source": [
    "g['_{ij}'][:]"
   ]
  },
  {
   "cell_type": "code",
   "execution_count": 33,
   "id": "ef968d49-133c-46b8-9bf8-d3171cacf36b",
   "metadata": {},
   "outputs": [
    {
     "data": {
      "text/html": [
       "<html>\\(\\displaystyle \\left(\\frac{3 \\, V\\left(t, x, y, z\\right) \\left(\\frac{\\partial\\,V}{\\partial y}\\right)^{2} + 3 \\, V\\left(t, x, y, z\\right) \\left(\\frac{\\partial\\,V}{\\partial z}\\right)^{2} - 4 \\, \\Lambda V\\left(t, x, y, z\\right) + 2 \\, \\frac{\\partial^2\\,V}{\\partial y ^ 2} + 2 \\, \\frac{\\partial^2\\,V}{\\partial z ^ 2}}{32 \\, \\pi G}, \\frac{3 \\, V\\left(t, x, y, z\\right) \\left(\\frac{\\partial\\,V}{\\partial y}\\right)^{2} + 3 \\, V\\left(t, x, y, z\\right) \\left(\\frac{\\partial\\,V}{\\partial z}\\right)^{2} - 4 \\, \\Lambda V\\left(t, x, y, z\\right) + 2 \\, \\frac{\\partial^2\\,V}{\\partial y ^ 2} + 2 \\, \\frac{\\partial^2\\,V}{\\partial z ^ 2}}{32 \\, \\pi G}\\right)\\)</html>"
      ],
      "text/latex": [
       "$\\displaystyle \\left(\\frac{3 \\, V\\left(t, x, y, z\\right) \\left(\\frac{\\partial\\,V}{\\partial y}\\right)^{2} + 3 \\, V\\left(t, x, y, z\\right) \\left(\\frac{\\partial\\,V}{\\partial z}\\right)^{2} - 4 \\, \\Lambda V\\left(t, x, y, z\\right) + 2 \\, \\frac{\\partial^2\\,V}{\\partial y ^ 2} + 2 \\, \\frac{\\partial^2\\,V}{\\partial z ^ 2}}{32 \\, \\pi G}, \\frac{3 \\, V\\left(t, x, y, z\\right) \\left(\\frac{\\partial\\,V}{\\partial y}\\right)^{2} + 3 \\, V\\left(t, x, y, z\\right) \\left(\\frac{\\partial\\,V}{\\partial z}\\right)^{2} - 4 \\, \\Lambda V\\left(t, x, y, z\\right) + 2 \\, \\frac{\\partial^2\\,V}{\\partial y ^ 2} + 2 \\, \\frac{\\partial^2\\,V}{\\partial z ^ 2}}{32 \\, \\pi G}\\right)$"
      ],
      "text/plain": [
       "(1/32*(3*V(t, x, y, z)*(d(V)/dy)^2 + 3*V(t, x, y, z)*(d(V)/dz)^2 - 4*Lambda_*V(t, x, y, z) + 2*d^2(V)/dy^2 + 2*d^2(V)/dz^2)/(pi*G),\n",
       " 1/32*(3*V(t, x, y, z)*(d(V)/dy)^2 + 3*V(t, x, y, z)*(d(V)/dz)^2 - 4*Lambda_*V(t, x, y, z) + 2*d^2(V)/dy^2 + 2*d^2(V)/dz^2)/(pi*G))"
      ]
     },
     "execution_count": 33,
     "metadata": {},
     "output_type": "execute_result"
    }
   ],
   "source": [
    "T[0,1],T[1,0]"
   ]
  },
  {
   "cell_type": "code",
   "execution_count": 34,
   "id": "ad95b152-36c9-4ffb-b64f-3fcdf5d96d14",
   "metadata": {
    "scrolled": true
   },
   "outputs": [
    {
     "data": {
      "text/html": [
       "<html>\\(\\displaystyle \\left(\\begin{array}{rrrr}\n",
       "0 & 0 & 0 & 0 \\\\\n",
       "\\frac{3 \\, V\\left(t, x, y, z\\right) \\left(\\frac{\\partial\\,V}{\\partial y}\\right)^{2} + 3 \\, V\\left(t, x, y, z\\right) \\left(\\frac{\\partial\\,V}{\\partial z}\\right)^{2} - 4 \\, \\Lambda V\\left(t, x, y, z\\right) + 2 \\, \\frac{\\partial^2\\,V}{\\partial y ^ 2} + 2 \\, \\frac{\\partial^2\\,V}{\\partial z ^ 2}}{32 \\, \\pi G} & -\\frac{3 \\, \\left(\\frac{\\partial\\,V}{\\partial y}\\right)^{2} + 3 \\, \\left(\\frac{\\partial\\,V}{\\partial z}\\right)^{2} - 4 \\, \\Lambda}{32 \\, \\pi G} & \\frac{V\\left(t, x, y, z\\right) \\frac{\\partial^2\\,V}{\\partial x\\partial y} + 2 \\, \\frac{\\partial\\,V}{\\partial x} \\frac{\\partial\\,V}{\\partial y} + \\frac{\\partial^2\\,V}{\\partial t\\partial y}}{16 \\, \\pi G} & \\frac{V\\left(t, x, y, z\\right) \\frac{\\partial^2\\,V}{\\partial x\\partial z} + 2 \\, \\frac{\\partial\\,V}{\\partial x} \\frac{\\partial\\,V}{\\partial z} + \\frac{\\partial^2\\,V}{\\partial t\\partial z}}{16 \\, \\pi G} \\\\\n",
       "-\\frac{2 \\, V\\left(t, x, y, z\\right) \\frac{\\partial\\,V}{\\partial x} \\frac{\\partial\\,V}{\\partial y} + V\\left(t, x, y, z\\right) \\frac{\\partial^2\\,V}{\\partial t\\partial y} + {\\left(V\\left(t, x, y, z\\right)^{2} + 1\\right)} \\frac{\\partial^2\\,V}{\\partial x\\partial y}}{16 \\, \\pi G} & \\frac{V\\left(t, x, y, z\\right) \\frac{\\partial^2\\,V}{\\partial x\\partial y} + 2 \\, \\frac{\\partial\\,V}{\\partial x} \\frac{\\partial\\,V}{\\partial y} + \\frac{\\partial^2\\,V}{\\partial t\\partial y}}{16 \\, \\pi G} & -\\frac{4 \\, \\left(\\frac{\\partial\\,V}{\\partial x}\\right)^{2} + 4 \\, V\\left(t, x, y, z\\right) \\frac{\\partial^2\\,V}{\\partial x ^ 2} - \\left(\\frac{\\partial\\,V}{\\partial y}\\right)^{2} + \\left(\\frac{\\partial\\,V}{\\partial z}\\right)^{2} - 4 \\, \\Lambda + 4 \\, \\frac{\\partial^2\\,V}{\\partial t\\partial x}}{32 \\, \\pi G} & \\frac{\\frac{\\partial\\,V}{\\partial y} \\frac{\\partial\\,V}{\\partial z}}{16 \\, \\pi G} \\\\\n",
       "-\\frac{2 \\, V\\left(t, x, y, z\\right) \\frac{\\partial\\,V}{\\partial x} \\frac{\\partial\\,V}{\\partial z} + V\\left(t, x, y, z\\right) \\frac{\\partial^2\\,V}{\\partial t\\partial z} + {\\left(V\\left(t, x, y, z\\right)^{2} + 1\\right)} \\frac{\\partial^2\\,V}{\\partial x\\partial z}}{16 \\, \\pi G} & \\frac{V\\left(t, x, y, z\\right) \\frac{\\partial^2\\,V}{\\partial x\\partial z} + 2 \\, \\frac{\\partial\\,V}{\\partial x} \\frac{\\partial\\,V}{\\partial z} + \\frac{\\partial^2\\,V}{\\partial t\\partial z}}{16 \\, \\pi G} & \\frac{\\frac{\\partial\\,V}{\\partial y} \\frac{\\partial\\,V}{\\partial z}}{16 \\, \\pi G} & -\\frac{4 \\, \\left(\\frac{\\partial\\,V}{\\partial x}\\right)^{2} + 4 \\, V\\left(t, x, y, z\\right) \\frac{\\partial^2\\,V}{\\partial x ^ 2} + \\left(\\frac{\\partial\\,V}{\\partial y}\\right)^{2} - \\left(\\frac{\\partial\\,V}{\\partial z}\\right)^{2} - 4 \\, \\Lambda + 4 \\, \\frac{\\partial^2\\,V}{\\partial t\\partial x}}{32 \\, \\pi G}\n",
       "\\end{array}\\right)\\)</html>"
      ],
      "text/latex": [
       "$\\displaystyle \\left(\\begin{array}{rrrr}\n",
       "0 & 0 & 0 & 0 \\\\\n",
       "\\frac{3 \\, V\\left(t, x, y, z\\right) \\left(\\frac{\\partial\\,V}{\\partial y}\\right)^{2} + 3 \\, V\\left(t, x, y, z\\right) \\left(\\frac{\\partial\\,V}{\\partial z}\\right)^{2} - 4 \\, \\Lambda V\\left(t, x, y, z\\right) + 2 \\, \\frac{\\partial^2\\,V}{\\partial y ^ 2} + 2 \\, \\frac{\\partial^2\\,V}{\\partial z ^ 2}}{32 \\, \\pi G} & -\\frac{3 \\, \\left(\\frac{\\partial\\,V}{\\partial y}\\right)^{2} + 3 \\, \\left(\\frac{\\partial\\,V}{\\partial z}\\right)^{2} - 4 \\, \\Lambda}{32 \\, \\pi G} & \\frac{V\\left(t, x, y, z\\right) \\frac{\\partial^2\\,V}{\\partial x\\partial y} + 2 \\, \\frac{\\partial\\,V}{\\partial x} \\frac{\\partial\\,V}{\\partial y} + \\frac{\\partial^2\\,V}{\\partial t\\partial y}}{16 \\, \\pi G} & \\frac{V\\left(t, x, y, z\\right) \\frac{\\partial^2\\,V}{\\partial x\\partial z} + 2 \\, \\frac{\\partial\\,V}{\\partial x} \\frac{\\partial\\,V}{\\partial z} + \\frac{\\partial^2\\,V}{\\partial t\\partial z}}{16 \\, \\pi G} \\\\\n",
       "-\\frac{2 \\, V\\left(t, x, y, z\\right) \\frac{\\partial\\,V}{\\partial x} \\frac{\\partial\\,V}{\\partial y} + V\\left(t, x, y, z\\right) \\frac{\\partial^2\\,V}{\\partial t\\partial y} + {\\left(V\\left(t, x, y, z\\right)^{2} + 1\\right)} \\frac{\\partial^2\\,V}{\\partial x\\partial y}}{16 \\, \\pi G} & \\frac{V\\left(t, x, y, z\\right) \\frac{\\partial^2\\,V}{\\partial x\\partial y} + 2 \\, \\frac{\\partial\\,V}{\\partial x} \\frac{\\partial\\,V}{\\partial y} + \\frac{\\partial^2\\,V}{\\partial t\\partial y}}{16 \\, \\pi G} & -\\frac{4 \\, \\left(\\frac{\\partial\\,V}{\\partial x}\\right)^{2} + 4 \\, V\\left(t, x, y, z\\right) \\frac{\\partial^2\\,V}{\\partial x ^ 2} - \\left(\\frac{\\partial\\,V}{\\partial y}\\right)^{2} + \\left(\\frac{\\partial\\,V}{\\partial z}\\right)^{2} - 4 \\, \\Lambda + 4 \\, \\frac{\\partial^2\\,V}{\\partial t\\partial x}}{32 \\, \\pi G} & \\frac{\\frac{\\partial\\,V}{\\partial y} \\frac{\\partial\\,V}{\\partial z}}{16 \\, \\pi G} \\\\\n",
       "-\\frac{2 \\, V\\left(t, x, y, z\\right) \\frac{\\partial\\,V}{\\partial x} \\frac{\\partial\\,V}{\\partial z} + V\\left(t, x, y, z\\right) \\frac{\\partial^2\\,V}{\\partial t\\partial z} + {\\left(V\\left(t, x, y, z\\right)^{2} + 1\\right)} \\frac{\\partial^2\\,V}{\\partial x\\partial z}}{16 \\, \\pi G} & \\frac{V\\left(t, x, y, z\\right) \\frac{\\partial^2\\,V}{\\partial x\\partial z} + 2 \\, \\frac{\\partial\\,V}{\\partial x} \\frac{\\partial\\,V}{\\partial z} + \\frac{\\partial^2\\,V}{\\partial t\\partial z}}{16 \\, \\pi G} & \\frac{\\frac{\\partial\\,V}{\\partial y} \\frac{\\partial\\,V}{\\partial z}}{16 \\, \\pi G} & -\\frac{4 \\, \\left(\\frac{\\partial\\,V}{\\partial x}\\right)^{2} + 4 \\, V\\left(t, x, y, z\\right) \\frac{\\partial^2\\,V}{\\partial x ^ 2} + \\left(\\frac{\\partial\\,V}{\\partial y}\\right)^{2} - \\left(\\frac{\\partial\\,V}{\\partial z}\\right)^{2} - 4 \\, \\Lambda + 4 \\, \\frac{\\partial^2\\,V}{\\partial t\\partial x}}{32 \\, \\pi G}\n",
       "\\end{array}\\right)$"
      ],
      "text/plain": [
       "[                                                                                                                                0                                                                                                                                 0                                                                                                                                 0                                                                                                                                 0]\n",
       "[1/32*(3*V(t, x, y, z)*(d(V)/dy)^2 + 3*V(t, x, y, z)*(d(V)/dz)^2 - 4*Lambda_*V(t, x, y, z) + 2*d^2(V)/dy^2 + 2*d^2(V)/dz^2)/(pi*G)                                                                          -1/32*(3*(d(V)/dy)^2 + 3*(d(V)/dz)^2 - 4*Lambda_)/(pi*G)                                                         1/16*(V(t, x, y, z)*d^2(V)/dxdy + 2*d(V)/dx*d(V)/dy + d^2(V)/dtdy)/(pi*G)                                                         1/16*(V(t, x, y, z)*d^2(V)/dxdz + 2*d(V)/dx*d(V)/dz + d^2(V)/dtdz)/(pi*G)]\n",
       "[                   -1/16*(2*V(t, x, y, z)*d(V)/dx*d(V)/dy + V(t, x, y, z)*d^2(V)/dtdy + (V(t, x, y, z)^2 + 1)*d^2(V)/dxdy)/(pi*G)                                                         1/16*(V(t, x, y, z)*d^2(V)/dxdy + 2*d(V)/dx*d(V)/dy + d^2(V)/dtdy)/(pi*G)                -1/32*(4*(d(V)/dx)^2 + 4*V(t, x, y, z)*d^2(V)/dx^2 - (d(V)/dy)^2 + (d(V)/dz)^2 - 4*Lambda_ + 4*d^2(V)/dtdx)/(pi*G)                                                                                                       1/16*d(V)/dy*d(V)/dz/(pi*G)]\n",
       "[                   -1/16*(2*V(t, x, y, z)*d(V)/dx*d(V)/dz + V(t, x, y, z)*d^2(V)/dtdz + (V(t, x, y, z)^2 + 1)*d^2(V)/dxdz)/(pi*G)                                                         1/16*(V(t, x, y, z)*d^2(V)/dxdz + 2*d(V)/dx*d(V)/dz + d^2(V)/dtdz)/(pi*G)                                                                                                       1/16*d(V)/dy*d(V)/dz/(pi*G)                -1/32*(4*(d(V)/dx)^2 + 4*V(t, x, y, z)*d^2(V)/dx^2 + (d(V)/dy)^2 - (d(V)/dz)^2 - 4*Lambda_ + 4*d^2(V)/dtdx)/(pi*G)]"
      ]
     },
     "execution_count": 34,
     "metadata": {},
     "output_type": "execute_result"
    }
   ],
   "source": [
    "p_mixed = b['^{ik}'] * T['_{kj}']\n",
    "p_mixed[:]"
   ]
  },
  {
   "cell_type": "code",
   "execution_count": 35,
   "id": "ab7c02bf-7afd-4a1a-a14c-8a1638d19e7d",
   "metadata": {},
   "outputs": [
    {
     "data": {
      "text/html": [
       "<html>\\(\\displaystyle \\mbox{Tensor field of type (1,1) on the 4-dimensional Lorentzian manifold M}\\)</html>"
      ],
      "text/latex": [
       "$\\displaystyle \\mbox{Tensor field of type (1,1) on the 4-dimensional Lorentzian manifold M}$"
      ],
      "text/plain": [
       "Tensor field of type (1,1) on the 4-dimensional Lorentzian manifold M"
      ]
     },
     "execution_count": 35,
     "metadata": {},
     "output_type": "execute_result"
    }
   ],
   "source": [
    "Ein_mixed = b['^{ik}'] * Ein['_{kj}']\n",
    "Ein_mixed"
   ]
  },
  {
   "cell_type": "code",
   "execution_count": 36,
   "id": "bdd423fb-7b86-402c-8ab3-dd12560de735",
   "metadata": {},
   "outputs": [
    {
     "data": {
      "text/html": [
       "<html>\\(\\displaystyle \\left(\\begin{array}{rrrr}\n",
       "\\frac{1}{4} \\, \\left(\\frac{\\partial\\,V}{\\partial y}\\right)^{2} + \\frac{1}{2} \\, V\\left(t, x, y, z\\right) \\frac{\\partial^2\\,V}{\\partial y ^ 2} + \\frac{1}{4} \\, \\left(\\frac{\\partial\\,V}{\\partial z}\\right)^{2} + \\frac{1}{2} \\, V\\left(t, x, y, z\\right) \\frac{\\partial^2\\,V}{\\partial z ^ 2} & -\\frac{1}{2} \\, \\frac{\\partial^2\\,V}{\\partial y ^ 2} - \\frac{1}{2} \\, \\frac{\\partial^2\\,V}{\\partial z ^ 2} & \\frac{1}{2} \\, \\frac{\\partial^2\\,V}{\\partial x\\partial y} & \\frac{1}{2} \\, \\frac{\\partial^2\\,V}{\\partial x\\partial z} \\\\\n",
       "V\\left(t, x, y, z\\right) \\left(\\frac{\\partial\\,V}{\\partial y}\\right)^{2} + V\\left(t, x, y, z\\right) \\left(\\frac{\\partial\\,V}{\\partial z}\\right)^{2} + \\frac{1}{2} \\, {\\left(V\\left(t, x, y, z\\right)^{2} + 1\\right)} \\frac{\\partial^2\\,V}{\\partial y ^ 2} + \\frac{1}{2} \\, {\\left(V\\left(t, x, y, z\\right)^{2} + 1\\right)} \\frac{\\partial^2\\,V}{\\partial z ^ 2} & -\\frac{3}{4} \\, \\left(\\frac{\\partial\\,V}{\\partial y}\\right)^{2} - \\frac{1}{2} \\, V\\left(t, x, y, z\\right) \\frac{\\partial^2\\,V}{\\partial y ^ 2} - \\frac{3}{4} \\, \\left(\\frac{\\partial\\,V}{\\partial z}\\right)^{2} - \\frac{1}{2} \\, V\\left(t, x, y, z\\right) \\frac{\\partial^2\\,V}{\\partial z ^ 2} & V\\left(t, x, y, z\\right) \\frac{\\partial^2\\,V}{\\partial x\\partial y} + \\frac{\\partial\\,V}{\\partial x} \\frac{\\partial\\,V}{\\partial y} + \\frac{1}{2} \\, \\frac{\\partial^2\\,V}{\\partial t\\partial y} & V\\left(t, x, y, z\\right) \\frac{\\partial^2\\,V}{\\partial x\\partial z} + \\frac{\\partial\\,V}{\\partial x} \\frac{\\partial\\,V}{\\partial z} + \\frac{1}{2} \\, \\frac{\\partial^2\\,V}{\\partial t\\partial z} \\\\\n",
       "-V\\left(t, x, y, z\\right) \\frac{\\partial\\,V}{\\partial x} \\frac{\\partial\\,V}{\\partial y} - \\frac{1}{2} \\, V\\left(t, x, y, z\\right) \\frac{\\partial^2\\,V}{\\partial t\\partial y} - \\frac{1}{2} \\, {\\left(V\\left(t, x, y, z\\right)^{2} + 1\\right)} \\frac{\\partial^2\\,V}{\\partial x\\partial y} & \\frac{1}{2} \\, V\\left(t, x, y, z\\right) \\frac{\\partial^2\\,V}{\\partial x\\partial y} + \\frac{\\partial\\,V}{\\partial x} \\frac{\\partial\\,V}{\\partial y} + \\frac{1}{2} \\, \\frac{\\partial^2\\,V}{\\partial t\\partial y} & -\\left(\\frac{\\partial\\,V}{\\partial x}\\right)^{2} - V\\left(t, x, y, z\\right) \\frac{\\partial^2\\,V}{\\partial x ^ 2} + \\frac{1}{4} \\, \\left(\\frac{\\partial\\,V}{\\partial y}\\right)^{2} - \\frac{1}{4} \\, \\left(\\frac{\\partial\\,V}{\\partial z}\\right)^{2} - \\frac{\\partial^2\\,V}{\\partial t\\partial x} & \\frac{1}{2} \\, \\frac{\\partial\\,V}{\\partial y} \\frac{\\partial\\,V}{\\partial z} \\\\\n",
       "-V\\left(t, x, y, z\\right) \\frac{\\partial\\,V}{\\partial x} \\frac{\\partial\\,V}{\\partial z} - \\frac{1}{2} \\, V\\left(t, x, y, z\\right) \\frac{\\partial^2\\,V}{\\partial t\\partial z} - \\frac{1}{2} \\, {\\left(V\\left(t, x, y, z\\right)^{2} + 1\\right)} \\frac{\\partial^2\\,V}{\\partial x\\partial z} & \\frac{1}{2} \\, V\\left(t, x, y, z\\right) \\frac{\\partial^2\\,V}{\\partial x\\partial z} + \\frac{\\partial\\,V}{\\partial x} \\frac{\\partial\\,V}{\\partial z} + \\frac{1}{2} \\, \\frac{\\partial^2\\,V}{\\partial t\\partial z} & \\frac{1}{2} \\, \\frac{\\partial\\,V}{\\partial y} \\frac{\\partial\\,V}{\\partial z} & -\\left(\\frac{\\partial\\,V}{\\partial x}\\right)^{2} - V\\left(t, x, y, z\\right) \\frac{\\partial^2\\,V}{\\partial x ^ 2} - \\frac{1}{4} \\, \\left(\\frac{\\partial\\,V}{\\partial y}\\right)^{2} + \\frac{1}{4} \\, \\left(\\frac{\\partial\\,V}{\\partial z}\\right)^{2} - \\frac{\\partial^2\\,V}{\\partial t\\partial x}\n",
       "\\end{array}\\right)\\)</html>"
      ],
      "text/latex": [
       "$\\displaystyle \\left(\\begin{array}{rrrr}\n",
       "\\frac{1}{4} \\, \\left(\\frac{\\partial\\,V}{\\partial y}\\right)^{2} + \\frac{1}{2} \\, V\\left(t, x, y, z\\right) \\frac{\\partial^2\\,V}{\\partial y ^ 2} + \\frac{1}{4} \\, \\left(\\frac{\\partial\\,V}{\\partial z}\\right)^{2} + \\frac{1}{2} \\, V\\left(t, x, y, z\\right) \\frac{\\partial^2\\,V}{\\partial z ^ 2} & -\\frac{1}{2} \\, \\frac{\\partial^2\\,V}{\\partial y ^ 2} - \\frac{1}{2} \\, \\frac{\\partial^2\\,V}{\\partial z ^ 2} & \\frac{1}{2} \\, \\frac{\\partial^2\\,V}{\\partial x\\partial y} & \\frac{1}{2} \\, \\frac{\\partial^2\\,V}{\\partial x\\partial z} \\\\\n",
       "V\\left(t, x, y, z\\right) \\left(\\frac{\\partial\\,V}{\\partial y}\\right)^{2} + V\\left(t, x, y, z\\right) \\left(\\frac{\\partial\\,V}{\\partial z}\\right)^{2} + \\frac{1}{2} \\, {\\left(V\\left(t, x, y, z\\right)^{2} + 1\\right)} \\frac{\\partial^2\\,V}{\\partial y ^ 2} + \\frac{1}{2} \\, {\\left(V\\left(t, x, y, z\\right)^{2} + 1\\right)} \\frac{\\partial^2\\,V}{\\partial z ^ 2} & -\\frac{3}{4} \\, \\left(\\frac{\\partial\\,V}{\\partial y}\\right)^{2} - \\frac{1}{2} \\, V\\left(t, x, y, z\\right) \\frac{\\partial^2\\,V}{\\partial y ^ 2} - \\frac{3}{4} \\, \\left(\\frac{\\partial\\,V}{\\partial z}\\right)^{2} - \\frac{1}{2} \\, V\\left(t, x, y, z\\right) \\frac{\\partial^2\\,V}{\\partial z ^ 2} & V\\left(t, x, y, z\\right) \\frac{\\partial^2\\,V}{\\partial x\\partial y} + \\frac{\\partial\\,V}{\\partial x} \\frac{\\partial\\,V}{\\partial y} + \\frac{1}{2} \\, \\frac{\\partial^2\\,V}{\\partial t\\partial y} & V\\left(t, x, y, z\\right) \\frac{\\partial^2\\,V}{\\partial x\\partial z} + \\frac{\\partial\\,V}{\\partial x} \\frac{\\partial\\,V}{\\partial z} + \\frac{1}{2} \\, \\frac{\\partial^2\\,V}{\\partial t\\partial z} \\\\\n",
       "-V\\left(t, x, y, z\\right) \\frac{\\partial\\,V}{\\partial x} \\frac{\\partial\\,V}{\\partial y} - \\frac{1}{2} \\, V\\left(t, x, y, z\\right) \\frac{\\partial^2\\,V}{\\partial t\\partial y} - \\frac{1}{2} \\, {\\left(V\\left(t, x, y, z\\right)^{2} + 1\\right)} \\frac{\\partial^2\\,V}{\\partial x\\partial y} & \\frac{1}{2} \\, V\\left(t, x, y, z\\right) \\frac{\\partial^2\\,V}{\\partial x\\partial y} + \\frac{\\partial\\,V}{\\partial x} \\frac{\\partial\\,V}{\\partial y} + \\frac{1}{2} \\, \\frac{\\partial^2\\,V}{\\partial t\\partial y} & -\\left(\\frac{\\partial\\,V}{\\partial x}\\right)^{2} - V\\left(t, x, y, z\\right) \\frac{\\partial^2\\,V}{\\partial x ^ 2} + \\frac{1}{4} \\, \\left(\\frac{\\partial\\,V}{\\partial y}\\right)^{2} - \\frac{1}{4} \\, \\left(\\frac{\\partial\\,V}{\\partial z}\\right)^{2} - \\frac{\\partial^2\\,V}{\\partial t\\partial x} & \\frac{1}{2} \\, \\frac{\\partial\\,V}{\\partial y} \\frac{\\partial\\,V}{\\partial z} \\\\\n",
       "-V\\left(t, x, y, z\\right) \\frac{\\partial\\,V}{\\partial x} \\frac{\\partial\\,V}{\\partial z} - \\frac{1}{2} \\, V\\left(t, x, y, z\\right) \\frac{\\partial^2\\,V}{\\partial t\\partial z} - \\frac{1}{2} \\, {\\left(V\\left(t, x, y, z\\right)^{2} + 1\\right)} \\frac{\\partial^2\\,V}{\\partial x\\partial z} & \\frac{1}{2} \\, V\\left(t, x, y, z\\right) \\frac{\\partial^2\\,V}{\\partial x\\partial z} + \\frac{\\partial\\,V}{\\partial x} \\frac{\\partial\\,V}{\\partial z} + \\frac{1}{2} \\, \\frac{\\partial^2\\,V}{\\partial t\\partial z} & \\frac{1}{2} \\, \\frac{\\partial\\,V}{\\partial y} \\frac{\\partial\\,V}{\\partial z} & -\\left(\\frac{\\partial\\,V}{\\partial x}\\right)^{2} - V\\left(t, x, y, z\\right) \\frac{\\partial^2\\,V}{\\partial x ^ 2} - \\frac{1}{4} \\, \\left(\\frac{\\partial\\,V}{\\partial y}\\right)^{2} + \\frac{1}{4} \\, \\left(\\frac{\\partial\\,V}{\\partial z}\\right)^{2} - \\frac{\\partial^2\\,V}{\\partial t\\partial x}\n",
       "\\end{array}\\right)$"
      ],
      "text/plain": [
       "[                                    1/4*(d(V)/dy)^2 + 1/2*V(t, x, y, z)*d^2(V)/dy^2 + 1/4*(d(V)/dz)^2 + 1/2*V(t, x, y, z)*d^2(V)/dz^2                                                                                                    -1/2*d^2(V)/dy^2 - 1/2*d^2(V)/dz^2                                                                                                                       1/2*d^2(V)/dxdy                                                                                                                       1/2*d^2(V)/dxdz]\n",
       "[V(t, x, y, z)*(d(V)/dy)^2 + V(t, x, y, z)*(d(V)/dz)^2 + 1/2*(V(t, x, y, z)^2 + 1)*d^2(V)/dy^2 + 1/2*(V(t, x, y, z)^2 + 1)*d^2(V)/dz^2                                    -3/4*(d(V)/dy)^2 - 1/2*V(t, x, y, z)*d^2(V)/dy^2 - 3/4*(d(V)/dz)^2 - 1/2*V(t, x, y, z)*d^2(V)/dz^2                                                                         V(t, x, y, z)*d^2(V)/dxdy + d(V)/dx*d(V)/dy + 1/2*d^2(V)/dtdy                                                                         V(t, x, y, z)*d^2(V)/dxdz + d(V)/dx*d(V)/dz + 1/2*d^2(V)/dtdz]\n",
       "[                               -V(t, x, y, z)*d(V)/dx*d(V)/dy - 1/2*V(t, x, y, z)*d^2(V)/dtdy - 1/2*(V(t, x, y, z)^2 + 1)*d^2(V)/dxdy                                                                     1/2*V(t, x, y, z)*d^2(V)/dxdy + d(V)/dx*d(V)/dy + 1/2*d^2(V)/dtdy                                            -(d(V)/dx)^2 - V(t, x, y, z)*d^2(V)/dx^2 + 1/4*(d(V)/dy)^2 - 1/4*(d(V)/dz)^2 - d^2(V)/dtdx                                                                                                                   1/2*d(V)/dy*d(V)/dz]\n",
       "[                               -V(t, x, y, z)*d(V)/dx*d(V)/dz - 1/2*V(t, x, y, z)*d^2(V)/dtdz - 1/2*(V(t, x, y, z)^2 + 1)*d^2(V)/dxdz                                                                     1/2*V(t, x, y, z)*d^2(V)/dxdz + d(V)/dx*d(V)/dz + 1/2*d^2(V)/dtdz                                                                                                                   1/2*d(V)/dy*d(V)/dz                                            -(d(V)/dx)^2 - V(t, x, y, z)*d^2(V)/dx^2 - 1/4*(d(V)/dy)^2 + 1/4*(d(V)/dz)^2 - d^2(V)/dtdx]"
      ]
     },
     "execution_count": 36,
     "metadata": {},
     "output_type": "execute_result"
    }
   ],
   "source": [
    "Ein_mixed = ginv['^{ik}'] * Ein['_{kj}']\n",
    "Ein_mixed[:]"
   ]
  },
  {
   "cell_type": "code",
   "execution_count": 37,
   "id": "22b7414b-d250-44e8-8133-279cdd48ee86",
   "metadata": {},
   "outputs": [
    {
     "data": {
      "text/html": [
       "<html>\\(\\displaystyle \\left(\\begin{array}{rrrr}\n",
       "\\frac{\\left(\\frac{\\partial\\,V}{\\partial y}\\right)^{2} + 2 \\, V\\left(t, x, y, z\\right) \\frac{\\partial^2\\,V}{\\partial y ^ 2} + \\left(\\frac{\\partial\\,V}{\\partial z}\\right)^{2} + 2 \\, V\\left(t, x, y, z\\right) \\frac{\\partial^2\\,V}{\\partial z ^ 2} + 4 \\, \\Lambda}{32 \\, \\pi G} & -\\frac{\\frac{\\partial^2\\,V}{\\partial y ^ 2} + \\frac{\\partial^2\\,V}{\\partial z ^ 2}}{16 \\, \\pi G} & \\frac{\\frac{\\partial^2\\,V}{\\partial x\\partial y}}{16 \\, \\pi G} & \\frac{\\frac{\\partial^2\\,V}{\\partial x\\partial z}}{16 \\, \\pi G} \\\\\n",
       "\\frac{2 \\, V\\left(t, x, y, z\\right) \\left(\\frac{\\partial\\,V}{\\partial y}\\right)^{2} + 2 \\, V\\left(t, x, y, z\\right) \\left(\\frac{\\partial\\,V}{\\partial z}\\right)^{2} + {\\left(V\\left(t, x, y, z\\right)^{2} + 1\\right)} \\frac{\\partial^2\\,V}{\\partial y ^ 2} + {\\left(V\\left(t, x, y, z\\right)^{2} + 1\\right)} \\frac{\\partial^2\\,V}{\\partial z ^ 2}}{16 \\, \\pi G} & -\\frac{3 \\, \\left(\\frac{\\partial\\,V}{\\partial y}\\right)^{2} + 2 \\, V\\left(t, x, y, z\\right) \\frac{\\partial^2\\,V}{\\partial y ^ 2} + 3 \\, \\left(\\frac{\\partial\\,V}{\\partial z}\\right)^{2} + 2 \\, V\\left(t, x, y, z\\right) \\frac{\\partial^2\\,V}{\\partial z ^ 2} - 4 \\, \\Lambda}{32 \\, \\pi G} & \\frac{2 \\, V\\left(t, x, y, z\\right) \\frac{\\partial^2\\,V}{\\partial x\\partial y} + 2 \\, \\frac{\\partial\\,V}{\\partial x} \\frac{\\partial\\,V}{\\partial y} + \\frac{\\partial^2\\,V}{\\partial t\\partial y}}{16 \\, \\pi G} & \\frac{2 \\, V\\left(t, x, y, z\\right) \\frac{\\partial^2\\,V}{\\partial x\\partial z} + 2 \\, \\frac{\\partial\\,V}{\\partial x} \\frac{\\partial\\,V}{\\partial z} + \\frac{\\partial^2\\,V}{\\partial t\\partial z}}{16 \\, \\pi G} \\\\\n",
       "-\\frac{2 \\, V\\left(t, x, y, z\\right) \\frac{\\partial\\,V}{\\partial x} \\frac{\\partial\\,V}{\\partial y} + V\\left(t, x, y, z\\right) \\frac{\\partial^2\\,V}{\\partial t\\partial y} + {\\left(V\\left(t, x, y, z\\right)^{2} + 1\\right)} \\frac{\\partial^2\\,V}{\\partial x\\partial y}}{16 \\, \\pi G} & \\frac{V\\left(t, x, y, z\\right) \\frac{\\partial^2\\,V}{\\partial x\\partial y} + 2 \\, \\frac{\\partial\\,V}{\\partial x} \\frac{\\partial\\,V}{\\partial y} + \\frac{\\partial^2\\,V}{\\partial t\\partial y}}{16 \\, \\pi G} & -\\frac{4 \\, \\left(\\frac{\\partial\\,V}{\\partial x}\\right)^{2} + 4 \\, V\\left(t, x, y, z\\right) \\frac{\\partial^2\\,V}{\\partial x ^ 2} - \\left(\\frac{\\partial\\,V}{\\partial y}\\right)^{2} + \\left(\\frac{\\partial\\,V}{\\partial z}\\right)^{2} - 4 \\, \\Lambda + 4 \\, \\frac{\\partial^2\\,V}{\\partial t\\partial x}}{32 \\, \\pi G} & \\frac{\\frac{\\partial\\,V}{\\partial y} \\frac{\\partial\\,V}{\\partial z}}{16 \\, \\pi G} \\\\\n",
       "-\\frac{2 \\, V\\left(t, x, y, z\\right) \\frac{\\partial\\,V}{\\partial x} \\frac{\\partial\\,V}{\\partial z} + V\\left(t, x, y, z\\right) \\frac{\\partial^2\\,V}{\\partial t\\partial z} + {\\left(V\\left(t, x, y, z\\right)^{2} + 1\\right)} \\frac{\\partial^2\\,V}{\\partial x\\partial z}}{16 \\, \\pi G} & \\frac{V\\left(t, x, y, z\\right) \\frac{\\partial^2\\,V}{\\partial x\\partial z} + 2 \\, \\frac{\\partial\\,V}{\\partial x} \\frac{\\partial\\,V}{\\partial z} + \\frac{\\partial^2\\,V}{\\partial t\\partial z}}{16 \\, \\pi G} & \\frac{\\frac{\\partial\\,V}{\\partial y} \\frac{\\partial\\,V}{\\partial z}}{16 \\, \\pi G} & -\\frac{4 \\, \\left(\\frac{\\partial\\,V}{\\partial x}\\right)^{2} + 4 \\, V\\left(t, x, y, z\\right) \\frac{\\partial^2\\,V}{\\partial x ^ 2} + \\left(\\frac{\\partial\\,V}{\\partial y}\\right)^{2} - \\left(\\frac{\\partial\\,V}{\\partial z}\\right)^{2} - 4 \\, \\Lambda + 4 \\, \\frac{\\partial^2\\,V}{\\partial t\\partial x}}{32 \\, \\pi G}\n",
       "\\end{array}\\right)\\)</html>"
      ],
      "text/latex": [
       "$\\displaystyle \\left(\\begin{array}{rrrr}\n",
       "\\frac{\\left(\\frac{\\partial\\,V}{\\partial y}\\right)^{2} + 2 \\, V\\left(t, x, y, z\\right) \\frac{\\partial^2\\,V}{\\partial y ^ 2} + \\left(\\frac{\\partial\\,V}{\\partial z}\\right)^{2} + 2 \\, V\\left(t, x, y, z\\right) \\frac{\\partial^2\\,V}{\\partial z ^ 2} + 4 \\, \\Lambda}{32 \\, \\pi G} & -\\frac{\\frac{\\partial^2\\,V}{\\partial y ^ 2} + \\frac{\\partial^2\\,V}{\\partial z ^ 2}}{16 \\, \\pi G} & \\frac{\\frac{\\partial^2\\,V}{\\partial x\\partial y}}{16 \\, \\pi G} & \\frac{\\frac{\\partial^2\\,V}{\\partial x\\partial z}}{16 \\, \\pi G} \\\\\n",
       "\\frac{2 \\, V\\left(t, x, y, z\\right) \\left(\\frac{\\partial\\,V}{\\partial y}\\right)^{2} + 2 \\, V\\left(t, x, y, z\\right) \\left(\\frac{\\partial\\,V}{\\partial z}\\right)^{2} + {\\left(V\\left(t, x, y, z\\right)^{2} + 1\\right)} \\frac{\\partial^2\\,V}{\\partial y ^ 2} + {\\left(V\\left(t, x, y, z\\right)^{2} + 1\\right)} \\frac{\\partial^2\\,V}{\\partial z ^ 2}}{16 \\, \\pi G} & -\\frac{3 \\, \\left(\\frac{\\partial\\,V}{\\partial y}\\right)^{2} + 2 \\, V\\left(t, x, y, z\\right) \\frac{\\partial^2\\,V}{\\partial y ^ 2} + 3 \\, \\left(\\frac{\\partial\\,V}{\\partial z}\\right)^{2} + 2 \\, V\\left(t, x, y, z\\right) \\frac{\\partial^2\\,V}{\\partial z ^ 2} - 4 \\, \\Lambda}{32 \\, \\pi G} & \\frac{2 \\, V\\left(t, x, y, z\\right) \\frac{\\partial^2\\,V}{\\partial x\\partial y} + 2 \\, \\frac{\\partial\\,V}{\\partial x} \\frac{\\partial\\,V}{\\partial y} + \\frac{\\partial^2\\,V}{\\partial t\\partial y}}{16 \\, \\pi G} & \\frac{2 \\, V\\left(t, x, y, z\\right) \\frac{\\partial^2\\,V}{\\partial x\\partial z} + 2 \\, \\frac{\\partial\\,V}{\\partial x} \\frac{\\partial\\,V}{\\partial z} + \\frac{\\partial^2\\,V}{\\partial t\\partial z}}{16 \\, \\pi G} \\\\\n",
       "-\\frac{2 \\, V\\left(t, x, y, z\\right) \\frac{\\partial\\,V}{\\partial x} \\frac{\\partial\\,V}{\\partial y} + V\\left(t, x, y, z\\right) \\frac{\\partial^2\\,V}{\\partial t\\partial y} + {\\left(V\\left(t, x, y, z\\right)^{2} + 1\\right)} \\frac{\\partial^2\\,V}{\\partial x\\partial y}}{16 \\, \\pi G} & \\frac{V\\left(t, x, y, z\\right) \\frac{\\partial^2\\,V}{\\partial x\\partial y} + 2 \\, \\frac{\\partial\\,V}{\\partial x} \\frac{\\partial\\,V}{\\partial y} + \\frac{\\partial^2\\,V}{\\partial t\\partial y}}{16 \\, \\pi G} & -\\frac{4 \\, \\left(\\frac{\\partial\\,V}{\\partial x}\\right)^{2} + 4 \\, V\\left(t, x, y, z\\right) \\frac{\\partial^2\\,V}{\\partial x ^ 2} - \\left(\\frac{\\partial\\,V}{\\partial y}\\right)^{2} + \\left(\\frac{\\partial\\,V}{\\partial z}\\right)^{2} - 4 \\, \\Lambda + 4 \\, \\frac{\\partial^2\\,V}{\\partial t\\partial x}}{32 \\, \\pi G} & \\frac{\\frac{\\partial\\,V}{\\partial y} \\frac{\\partial\\,V}{\\partial z}}{16 \\, \\pi G} \\\\\n",
       "-\\frac{2 \\, V\\left(t, x, y, z\\right) \\frac{\\partial\\,V}{\\partial x} \\frac{\\partial\\,V}{\\partial z} + V\\left(t, x, y, z\\right) \\frac{\\partial^2\\,V}{\\partial t\\partial z} + {\\left(V\\left(t, x, y, z\\right)^{2} + 1\\right)} \\frac{\\partial^2\\,V}{\\partial x\\partial z}}{16 \\, \\pi G} & \\frac{V\\left(t, x, y, z\\right) \\frac{\\partial^2\\,V}{\\partial x\\partial z} + 2 \\, \\frac{\\partial\\,V}{\\partial x} \\frac{\\partial\\,V}{\\partial z} + \\frac{\\partial^2\\,V}{\\partial t\\partial z}}{16 \\, \\pi G} & \\frac{\\frac{\\partial\\,V}{\\partial y} \\frac{\\partial\\,V}{\\partial z}}{16 \\, \\pi G} & -\\frac{4 \\, \\left(\\frac{\\partial\\,V}{\\partial x}\\right)^{2} + 4 \\, V\\left(t, x, y, z\\right) \\frac{\\partial^2\\,V}{\\partial x ^ 2} + \\left(\\frac{\\partial\\,V}{\\partial y}\\right)^{2} - \\left(\\frac{\\partial\\,V}{\\partial z}\\right)^{2} - 4 \\, \\Lambda + 4 \\, \\frac{\\partial^2\\,V}{\\partial t\\partial x}}{32 \\, \\pi G}\n",
       "\\end{array}\\right)$"
      ],
      "text/plain": [
       "[                                1/32*((d(V)/dy)^2 + 2*V(t, x, y, z)*d^2(V)/dy^2 + (d(V)/dz)^2 + 2*V(t, x, y, z)*d^2(V)/dz^2 + 4*Lambda_)/(pi*G)                                                                                                        -1/16*(d^2(V)/dy^2 + d^2(V)/dz^2)/(pi*G)                                                                                                                         1/16*d^2(V)/dxdy/(pi*G)                                                                                                                         1/16*d^2(V)/dxdz/(pi*G)]\n",
       "[1/16*(2*V(t, x, y, z)*(d(V)/dy)^2 + 2*V(t, x, y, z)*(d(V)/dz)^2 + (V(t, x, y, z)^2 + 1)*d^2(V)/dy^2 + (V(t, x, y, z)^2 + 1)*d^2(V)/dz^2)/(pi*G)                            -1/32*(3*(d(V)/dy)^2 + 2*V(t, x, y, z)*d^2(V)/dy^2 + 3*(d(V)/dz)^2 + 2*V(t, x, y, z)*d^2(V)/dz^2 - 4*Lambda_)/(pi*G)                                                                     1/16*(2*V(t, x, y, z)*d^2(V)/dxdy + 2*d(V)/dx*d(V)/dy + d^2(V)/dtdy)/(pi*G)                                                                     1/16*(2*V(t, x, y, z)*d^2(V)/dxdz + 2*d(V)/dx*d(V)/dz + d^2(V)/dtdz)/(pi*G)]\n",
       "[                                 -1/16*(2*V(t, x, y, z)*d(V)/dx*d(V)/dy + V(t, x, y, z)*d^2(V)/dtdy + (V(t, x, y, z)^2 + 1)*d^2(V)/dxdy)/(pi*G)                                                                       1/16*(V(t, x, y, z)*d^2(V)/dxdy + 2*d(V)/dx*d(V)/dy + d^2(V)/dtdy)/(pi*G)                              -1/32*(4*(d(V)/dx)^2 + 4*V(t, x, y, z)*d^2(V)/dx^2 - (d(V)/dy)^2 + (d(V)/dz)^2 - 4*Lambda_ + 4*d^2(V)/dtdx)/(pi*G)                                                                                                                     1/16*d(V)/dy*d(V)/dz/(pi*G)]\n",
       "[                                 -1/16*(2*V(t, x, y, z)*d(V)/dx*d(V)/dz + V(t, x, y, z)*d^2(V)/dtdz + (V(t, x, y, z)^2 + 1)*d^2(V)/dxdz)/(pi*G)                                                                       1/16*(V(t, x, y, z)*d^2(V)/dxdz + 2*d(V)/dx*d(V)/dz + d^2(V)/dtdz)/(pi*G)                                                                                                                     1/16*d(V)/dy*d(V)/dz/(pi*G)                              -1/32*(4*(d(V)/dx)^2 + 4*V(t, x, y, z)*d^2(V)/dx^2 + (d(V)/dy)^2 - (d(V)/dz)^2 - 4*Lambda_ + 4*d^2(V)/dtdx)/(pi*G)]"
      ]
     },
     "execution_count": 37,
     "metadata": {},
     "output_type": "execute_result"
    }
   ],
   "source": [
    "T_mixed = ginv['^{ik}'] * T['_{kj}'] \n",
    "T_mixed[:]"
   ]
  },
  {
   "cell_type": "code",
   "execution_count": 38,
   "id": "40993e61-a20e-4f21-85d6-6c132556147c",
   "metadata": {},
   "outputs": [
    {
     "data": {
      "text/html": [
       "<html>\\(\\displaystyle \\left(\\begin{array}{rrrr}\n",
       "-1 & -V\\left(t, x, y, z\\right) & 0 & 0 \\\\\n",
       "-V\\left(t, x, y, z\\right) & -V\\left(t, x, y, z\\right)^{2} + 1 & 0 & 0 \\\\\n",
       "0 & 0 & 1 & 0 \\\\\n",
       "0 & 0 & 0 & 1\n",
       "\\end{array}\\right)\\)</html>"
      ],
      "text/latex": [
       "$\\displaystyle \\left(\\begin{array}{rrrr}\n",
       "-1 & -V\\left(t, x, y, z\\right) & 0 & 0 \\\\\n",
       "-V\\left(t, x, y, z\\right) & -V\\left(t, x, y, z\\right)^{2} + 1 & 0 & 0 \\\\\n",
       "0 & 0 & 1 & 0 \\\\\n",
       "0 & 0 & 0 & 1\n",
       "\\end{array}\\right)$"
      ],
      "text/plain": [
       "[                  -1       -V(t, x, y, z)                    0                    0]\n",
       "[      -V(t, x, y, z) -V(t, x, y, z)^2 + 1                    0                    0]\n",
       "[                   0                    0                    1                    0]\n",
       "[                   0                    0                    0                    1]"
      ]
     },
     "execution_count": 38,
     "metadata": {},
     "output_type": "execute_result"
    }
   ],
   "source": [
    "ginv[:]"
   ]
  },
  {
   "cell_type": "code",
   "execution_count": 39,
   "id": "92cbe870-e246-4d1d-9bd1-2e22e4f0c4a0",
   "metadata": {},
   "outputs": [
    {
     "data": {
      "text/html": [
       "<html>\\(\\displaystyle \\left(\\begin{array}{rrrr}\n",
       "\\frac{4 \\, \\Lambda V\\left(t, x, y, z\\right)^{2} - {\\left(3 \\, V\\left(t, x, y, z\\right)^{2} + 1\\right)} \\left(\\frac{\\partial\\,V}{\\partial y}\\right)^{2} - {\\left(3 \\, V\\left(t, x, y, z\\right)^{2} + 1\\right)} \\left(\\frac{\\partial\\,V}{\\partial z}\\right)^{2} - 4 \\, V\\left(t, x, y, z\\right) \\frac{\\partial^2\\,V}{\\partial y ^ 2} - 4 \\, V\\left(t, x, y, z\\right) \\frac{\\partial^2\\,V}{\\partial z ^ 2} - 4 \\, \\Lambda}{32 \\, \\pi G} & \\frac{3 \\, V\\left(t, x, y, z\\right) \\left(\\frac{\\partial\\,V}{\\partial y}\\right)^{2} + 3 \\, V\\left(t, x, y, z\\right) \\left(\\frac{\\partial\\,V}{\\partial z}\\right)^{2} - 4 \\, \\Lambda V\\left(t, x, y, z\\right) + 2 \\, \\frac{\\partial^2\\,V}{\\partial y ^ 2} + 2 \\, \\frac{\\partial^2\\,V}{\\partial z ^ 2}}{32 \\, \\pi G} & -\\frac{2 \\, V\\left(t, x, y, z\\right) \\frac{\\partial\\,V}{\\partial x} \\frac{\\partial\\,V}{\\partial y} + V\\left(t, x, y, z\\right) \\frac{\\partial^2\\,V}{\\partial t\\partial y} + {\\left(V\\left(t, x, y, z\\right)^{2} + 1\\right)} \\frac{\\partial^2\\,V}{\\partial x\\partial y}}{16 \\, \\pi G} & -\\frac{2 \\, V\\left(t, x, y, z\\right) \\frac{\\partial\\,V}{\\partial x} \\frac{\\partial\\,V}{\\partial z} + V\\left(t, x, y, z\\right) \\frac{\\partial^2\\,V}{\\partial t\\partial z} + {\\left(V\\left(t, x, y, z\\right)^{2} + 1\\right)} \\frac{\\partial^2\\,V}{\\partial x\\partial z}}{16 \\, \\pi G} \\\\\n",
       "\\frac{3 \\, V\\left(t, x, y, z\\right) \\left(\\frac{\\partial\\,V}{\\partial y}\\right)^{2} + 3 \\, V\\left(t, x, y, z\\right) \\left(\\frac{\\partial\\,V}{\\partial z}\\right)^{2} - 4 \\, \\Lambda V\\left(t, x, y, z\\right) + 2 \\, \\frac{\\partial^2\\,V}{\\partial y ^ 2} + 2 \\, \\frac{\\partial^2\\,V}{\\partial z ^ 2}}{32 \\, \\pi G} & -\\frac{3 \\, \\left(\\frac{\\partial\\,V}{\\partial y}\\right)^{2} + 3 \\, \\left(\\frac{\\partial\\,V}{\\partial z}\\right)^{2} - 4 \\, \\Lambda}{32 \\, \\pi G} & \\frac{V\\left(t, x, y, z\\right) \\frac{\\partial^2\\,V}{\\partial x\\partial y} + 2 \\, \\frac{\\partial\\,V}{\\partial x} \\frac{\\partial\\,V}{\\partial y} + \\frac{\\partial^2\\,V}{\\partial t\\partial y}}{16 \\, \\pi G} & \\frac{V\\left(t, x, y, z\\right) \\frac{\\partial^2\\,V}{\\partial x\\partial z} + 2 \\, \\frac{\\partial\\,V}{\\partial x} \\frac{\\partial\\,V}{\\partial z} + \\frac{\\partial^2\\,V}{\\partial t\\partial z}}{16 \\, \\pi G} \\\\\n",
       "-\\frac{2 \\, V\\left(t, x, y, z\\right) \\frac{\\partial\\,V}{\\partial x} \\frac{\\partial\\,V}{\\partial y} + V\\left(t, x, y, z\\right) \\frac{\\partial^2\\,V}{\\partial t\\partial y} + {\\left(V\\left(t, x, y, z\\right)^{2} + 1\\right)} \\frac{\\partial^2\\,V}{\\partial x\\partial y}}{16 \\, \\pi G} & \\frac{V\\left(t, x, y, z\\right) \\frac{\\partial^2\\,V}{\\partial x\\partial y} + 2 \\, \\frac{\\partial\\,V}{\\partial x} \\frac{\\partial\\,V}{\\partial y} + \\frac{\\partial^2\\,V}{\\partial t\\partial y}}{16 \\, \\pi G} & -\\frac{4 \\, \\left(\\frac{\\partial\\,V}{\\partial x}\\right)^{2} + 4 \\, V\\left(t, x, y, z\\right) \\frac{\\partial^2\\,V}{\\partial x ^ 2} - \\left(\\frac{\\partial\\,V}{\\partial y}\\right)^{2} + \\left(\\frac{\\partial\\,V}{\\partial z}\\right)^{2} - 4 \\, \\Lambda + 4 \\, \\frac{\\partial^2\\,V}{\\partial t\\partial x}}{32 \\, \\pi G} & \\frac{\\frac{\\partial\\,V}{\\partial y} \\frac{\\partial\\,V}{\\partial z}}{16 \\, \\pi G} \\\\\n",
       "-\\frac{2 \\, V\\left(t, x, y, z\\right) \\frac{\\partial\\,V}{\\partial x} \\frac{\\partial\\,V}{\\partial z} + V\\left(t, x, y, z\\right) \\frac{\\partial^2\\,V}{\\partial t\\partial z} + {\\left(V\\left(t, x, y, z\\right)^{2} + 1\\right)} \\frac{\\partial^2\\,V}{\\partial x\\partial z}}{16 \\, \\pi G} & \\frac{V\\left(t, x, y, z\\right) \\frac{\\partial^2\\,V}{\\partial x\\partial z} + 2 \\, \\frac{\\partial\\,V}{\\partial x} \\frac{\\partial\\,V}{\\partial z} + \\frac{\\partial^2\\,V}{\\partial t\\partial z}}{16 \\, \\pi G} & \\frac{\\frac{\\partial\\,V}{\\partial y} \\frac{\\partial\\,V}{\\partial z}}{16 \\, \\pi G} & -\\frac{4 \\, \\left(\\frac{\\partial\\,V}{\\partial x}\\right)^{2} + 4 \\, V\\left(t, x, y, z\\right) \\frac{\\partial^2\\,V}{\\partial x ^ 2} + \\left(\\frac{\\partial\\,V}{\\partial y}\\right)^{2} - \\left(\\frac{\\partial\\,V}{\\partial z}\\right)^{2} - 4 \\, \\Lambda + 4 \\, \\frac{\\partial^2\\,V}{\\partial t\\partial x}}{32 \\, \\pi G}\n",
       "\\end{array}\\right)\\)</html>"
      ],
      "text/latex": [
       "$\\displaystyle \\left(\\begin{array}{rrrr}\n",
       "\\frac{4 \\, \\Lambda V\\left(t, x, y, z\\right)^{2} - {\\left(3 \\, V\\left(t, x, y, z\\right)^{2} + 1\\right)} \\left(\\frac{\\partial\\,V}{\\partial y}\\right)^{2} - {\\left(3 \\, V\\left(t, x, y, z\\right)^{2} + 1\\right)} \\left(\\frac{\\partial\\,V}{\\partial z}\\right)^{2} - 4 \\, V\\left(t, x, y, z\\right) \\frac{\\partial^2\\,V}{\\partial y ^ 2} - 4 \\, V\\left(t, x, y, z\\right) \\frac{\\partial^2\\,V}{\\partial z ^ 2} - 4 \\, \\Lambda}{32 \\, \\pi G} & \\frac{3 \\, V\\left(t, x, y, z\\right) \\left(\\frac{\\partial\\,V}{\\partial y}\\right)^{2} + 3 \\, V\\left(t, x, y, z\\right) \\left(\\frac{\\partial\\,V}{\\partial z}\\right)^{2} - 4 \\, \\Lambda V\\left(t, x, y, z\\right) + 2 \\, \\frac{\\partial^2\\,V}{\\partial y ^ 2} + 2 \\, \\frac{\\partial^2\\,V}{\\partial z ^ 2}}{32 \\, \\pi G} & -\\frac{2 \\, V\\left(t, x, y, z\\right) \\frac{\\partial\\,V}{\\partial x} \\frac{\\partial\\,V}{\\partial y} + V\\left(t, x, y, z\\right) \\frac{\\partial^2\\,V}{\\partial t\\partial y} + {\\left(V\\left(t, x, y, z\\right)^{2} + 1\\right)} \\frac{\\partial^2\\,V}{\\partial x\\partial y}}{16 \\, \\pi G} & -\\frac{2 \\, V\\left(t, x, y, z\\right) \\frac{\\partial\\,V}{\\partial x} \\frac{\\partial\\,V}{\\partial z} + V\\left(t, x, y, z\\right) \\frac{\\partial^2\\,V}{\\partial t\\partial z} + {\\left(V\\left(t, x, y, z\\right)^{2} + 1\\right)} \\frac{\\partial^2\\,V}{\\partial x\\partial z}}{16 \\, \\pi G} \\\\\n",
       "\\frac{3 \\, V\\left(t, x, y, z\\right) \\left(\\frac{\\partial\\,V}{\\partial y}\\right)^{2} + 3 \\, V\\left(t, x, y, z\\right) \\left(\\frac{\\partial\\,V}{\\partial z}\\right)^{2} - 4 \\, \\Lambda V\\left(t, x, y, z\\right) + 2 \\, \\frac{\\partial^2\\,V}{\\partial y ^ 2} + 2 \\, \\frac{\\partial^2\\,V}{\\partial z ^ 2}}{32 \\, \\pi G} & -\\frac{3 \\, \\left(\\frac{\\partial\\,V}{\\partial y}\\right)^{2} + 3 \\, \\left(\\frac{\\partial\\,V}{\\partial z}\\right)^{2} - 4 \\, \\Lambda}{32 \\, \\pi G} & \\frac{V\\left(t, x, y, z\\right) \\frac{\\partial^2\\,V}{\\partial x\\partial y} + 2 \\, \\frac{\\partial\\,V}{\\partial x} \\frac{\\partial\\,V}{\\partial y} + \\frac{\\partial^2\\,V}{\\partial t\\partial y}}{16 \\, \\pi G} & \\frac{V\\left(t, x, y, z\\right) \\frac{\\partial^2\\,V}{\\partial x\\partial z} + 2 \\, \\frac{\\partial\\,V}{\\partial x} \\frac{\\partial\\,V}{\\partial z} + \\frac{\\partial^2\\,V}{\\partial t\\partial z}}{16 \\, \\pi G} \\\\\n",
       "-\\frac{2 \\, V\\left(t, x, y, z\\right) \\frac{\\partial\\,V}{\\partial x} \\frac{\\partial\\,V}{\\partial y} + V\\left(t, x, y, z\\right) \\frac{\\partial^2\\,V}{\\partial t\\partial y} + {\\left(V\\left(t, x, y, z\\right)^{2} + 1\\right)} \\frac{\\partial^2\\,V}{\\partial x\\partial y}}{16 \\, \\pi G} & \\frac{V\\left(t, x, y, z\\right) \\frac{\\partial^2\\,V}{\\partial x\\partial y} + 2 \\, \\frac{\\partial\\,V}{\\partial x} \\frac{\\partial\\,V}{\\partial y} + \\frac{\\partial^2\\,V}{\\partial t\\partial y}}{16 \\, \\pi G} & -\\frac{4 \\, \\left(\\frac{\\partial\\,V}{\\partial x}\\right)^{2} + 4 \\, V\\left(t, x, y, z\\right) \\frac{\\partial^2\\,V}{\\partial x ^ 2} - \\left(\\frac{\\partial\\,V}{\\partial y}\\right)^{2} + \\left(\\frac{\\partial\\,V}{\\partial z}\\right)^{2} - 4 \\, \\Lambda + 4 \\, \\frac{\\partial^2\\,V}{\\partial t\\partial x}}{32 \\, \\pi G} & \\frac{\\frac{\\partial\\,V}{\\partial y} \\frac{\\partial\\,V}{\\partial z}}{16 \\, \\pi G} \\\\\n",
       "-\\frac{2 \\, V\\left(t, x, y, z\\right) \\frac{\\partial\\,V}{\\partial x} \\frac{\\partial\\,V}{\\partial z} + V\\left(t, x, y, z\\right) \\frac{\\partial^2\\,V}{\\partial t\\partial z} + {\\left(V\\left(t, x, y, z\\right)^{2} + 1\\right)} \\frac{\\partial^2\\,V}{\\partial x\\partial z}}{16 \\, \\pi G} & \\frac{V\\left(t, x, y, z\\right) \\frac{\\partial^2\\,V}{\\partial x\\partial z} + 2 \\, \\frac{\\partial\\,V}{\\partial x} \\frac{\\partial\\,V}{\\partial z} + \\frac{\\partial^2\\,V}{\\partial t\\partial z}}{16 \\, \\pi G} & \\frac{\\frac{\\partial\\,V}{\\partial y} \\frac{\\partial\\,V}{\\partial z}}{16 \\, \\pi G} & -\\frac{4 \\, \\left(\\frac{\\partial\\,V}{\\partial x}\\right)^{2} + 4 \\, V\\left(t, x, y, z\\right) \\frac{\\partial^2\\,V}{\\partial x ^ 2} + \\left(\\frac{\\partial\\,V}{\\partial y}\\right)^{2} - \\left(\\frac{\\partial\\,V}{\\partial z}\\right)^{2} - 4 \\, \\Lambda + 4 \\, \\frac{\\partial^2\\,V}{\\partial t\\partial x}}{32 \\, \\pi G}\n",
       "\\end{array}\\right)$"
      ],
      "text/plain": [
       "[1/32*(4*Lambda_*V(t, x, y, z)^2 - (3*V(t, x, y, z)^2 + 1)*(d(V)/dy)^2 - (3*V(t, x, y, z)^2 + 1)*(d(V)/dz)^2 - 4*V(t, x, y, z)*d^2(V)/dy^2 - 4*V(t, x, y, z)*d^2(V)/dz^2 - 4*Lambda_)/(pi*G)                                                           1/32*(3*V(t, x, y, z)*(d(V)/dy)^2 + 3*V(t, x, y, z)*(d(V)/dz)^2 - 4*Lambda_*V(t, x, y, z) + 2*d^2(V)/dy^2 + 2*d^2(V)/dz^2)/(pi*G)                                                                              -1/16*(2*V(t, x, y, z)*d(V)/dx*d(V)/dy + V(t, x, y, z)*d^2(V)/dtdy + (V(t, x, y, z)^2 + 1)*d^2(V)/dxdy)/(pi*G)                                                                              -1/16*(2*V(t, x, y, z)*d(V)/dx*d(V)/dz + V(t, x, y, z)*d^2(V)/dtdz + (V(t, x, y, z)^2 + 1)*d^2(V)/dxdz)/(pi*G)]\n",
       "[                                                          1/32*(3*V(t, x, y, z)*(d(V)/dy)^2 + 3*V(t, x, y, z)*(d(V)/dz)^2 - 4*Lambda_*V(t, x, y, z) + 2*d^2(V)/dy^2 + 2*d^2(V)/dz^2)/(pi*G)                                                                                                                                    -1/32*(3*(d(V)/dy)^2 + 3*(d(V)/dz)^2 - 4*Lambda_)/(pi*G)                                                                                                                   1/16*(V(t, x, y, z)*d^2(V)/dxdy + 2*d(V)/dx*d(V)/dy + d^2(V)/dtdy)/(pi*G)                                                                                                                   1/16*(V(t, x, y, z)*d^2(V)/dxdz + 2*d(V)/dx*d(V)/dz + d^2(V)/dtdz)/(pi*G)]\n",
       "[                                                                             -1/16*(2*V(t, x, y, z)*d(V)/dx*d(V)/dy + V(t, x, y, z)*d^2(V)/dtdy + (V(t, x, y, z)^2 + 1)*d^2(V)/dxdy)/(pi*G)                                                                                                                   1/16*(V(t, x, y, z)*d^2(V)/dxdy + 2*d(V)/dx*d(V)/dy + d^2(V)/dtdy)/(pi*G)                                                                          -1/32*(4*(d(V)/dx)^2 + 4*V(t, x, y, z)*d^2(V)/dx^2 - (d(V)/dy)^2 + (d(V)/dz)^2 - 4*Lambda_ + 4*d^2(V)/dtdx)/(pi*G)                                                                                                                                                                 1/16*d(V)/dy*d(V)/dz/(pi*G)]\n",
       "[                                                                             -1/16*(2*V(t, x, y, z)*d(V)/dx*d(V)/dz + V(t, x, y, z)*d^2(V)/dtdz + (V(t, x, y, z)^2 + 1)*d^2(V)/dxdz)/(pi*G)                                                                                                                   1/16*(V(t, x, y, z)*d^2(V)/dxdz + 2*d(V)/dx*d(V)/dz + d^2(V)/dtdz)/(pi*G)                                                                                                                                                                 1/16*d(V)/dy*d(V)/dz/(pi*G)                                                                          -1/32*(4*(d(V)/dx)^2 + 4*V(t, x, y, z)*d^2(V)/dx^2 + (d(V)/dy)^2 - (d(V)/dz)^2 - 4*Lambda_ + 4*d^2(V)/dtdx)/(pi*G)]"
      ]
     },
     "execution_count": 39,
     "metadata": {},
     "output_type": "execute_result"
    }
   ],
   "source": [
    "T[:]"
   ]
  },
  {
   "cell_type": "code",
   "execution_count": 47,
   "id": "2778d61e-f4c9-49e9-930a-84a4e1f72bfd",
   "metadata": {},
   "outputs": [
    {
     "data": {
      "text/html": [
       "<html>\\(\\displaystyle \\left(\\begin{array}{rrrr}\n",
       "-\\Lambda & 0 & 0 & 0 \\\\\n",
       "0 & -\\Lambda & 0 & 0 \\\\\n",
       "0 & 0 & -\\Lambda & 0 \\\\\n",
       "0 & 0 & 0 & -\\Lambda\n",
       "\\end{array}\\right)\\)</html>"
      ],
      "text/latex": [
       "$\\displaystyle \\left(\\begin{array}{rrrr}\n",
       "-\\Lambda & 0 & 0 & 0 \\\\\n",
       "0 & -\\Lambda & 0 & 0 \\\\\n",
       "0 & 0 & -\\Lambda & 0 \\\\\n",
       "0 & 0 & 0 & -\\Lambda\n",
       "\\end{array}\\right)$"
      ],
      "text/plain": [
       "[-Lambda_        0        0        0]\n",
       "[       0 -Lambda_        0        0]\n",
       "[       0        0 -Lambda_        0]\n",
       "[       0        0        0 -Lambda_]"
      ]
     },
     "execution_count": 47,
     "metadata": {},
     "output_type": "execute_result"
    }
   ],
   "source": [
    "Verif = Ein_mixed - 8*pi*G * T_mixed\n",
    "Verif[:]"
   ]
  },
  {
   "cell_type": "code",
   "execution_count": null,
   "id": "6093774c-f7c4-407f-8923-388e32817ac1",
   "metadata": {},
   "outputs": [],
   "source": []
  }
 ],
 "metadata": {
  "kernelspec": {
   "display_name": "SageMath 10.5",
   "language": "sage",
   "name": "sagemath"
  },
  "language_info": {
   "codemirror_mode": {
    "name": "ipython",
    "version": 3
   },
   "file_extension": ".py",
   "mimetype": "text/x-python",
   "name": "python",
   "nbconvert_exporter": "python",
   "pygments_lexer": "ipython3",
   "version": "3.11.11"
  }
 },
 "nbformat": 4,
 "nbformat_minor": 5
}

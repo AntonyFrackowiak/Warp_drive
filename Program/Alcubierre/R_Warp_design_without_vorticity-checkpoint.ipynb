{
 "cells": [
  {
   "cell_type": "markdown",
   "id": "14b0aaf5-0216-4bcf-82b9-fe81add8586a",
   "metadata": {},
   "source": [
    "# R-Warp design with one velocity component (case without vorticity)"
   ]
  },
  {
   "cell_type": "code",
   "execution_count": 1,
   "id": "aeb1e6e7-7132-4767-89c6-e9d4b40f25fb",
   "metadata": {},
   "outputs": [],
   "source": [
    "%display latex"
   ]
  },
  {
   "cell_type": "markdown",
   "id": "ef0d372f-2b42-4247-a4a5-3f996113cb0e",
   "metadata": {},
   "source": [
    "# 1. Manifold"
   ]
  },
  {
   "cell_type": "code",
   "execution_count": 2,
   "id": "120dda49-ed07-4ded-bca7-7b1cb3fe7144",
   "metadata": {},
   "outputs": [],
   "source": [
    "M = Manifold(4, 'M', structure=\"Lorentzian\")\n",
    "N = Manifold(3, 'N', ambient=M, structure=\"Riemannian\")"
   ]
  },
  {
   "cell_type": "markdown",
   "id": "c7c0b6cc-115a-4c6f-8be0-361b9e1aa677",
   "metadata": {},
   "source": [
    "# 2. Chart"
   ]
  },
  {
   "cell_type": "code",
   "execution_count": 3,
   "id": "a132654c-2748-44b6-99d6-14d9c80478b6",
   "metadata": {},
   "outputs": [],
   "source": [
    "C.<t,x,y,z> = M.chart(r't:(-oo,+oo) x:(-oo,+oo) y:(-oo,+oo) z:(-oo,+oo)')"
   ]
  },
  {
   "cell_type": "code",
   "execution_count": 4,
   "id": "7c678e37-c769-49a8-9c84-acbcfbe48912",
   "metadata": {},
   "outputs": [],
   "source": [
    "C0.<x0,y0,z0> = N.chart(r'x0:(-oo,+oo) y0:(-oo,+oo) z0:(-oo,+oo)')"
   ]
  },
  {
   "cell_type": "markdown",
   "id": "76847050-4861-4ec8-835c-875b4e723d49",
   "metadata": {},
   "source": [
    "# 3. Metric"
   ]
  },
  {
   "cell_type": "code",
   "execution_count": 5,
   "id": "687d27c1-d250-4b7f-a6e2-2bf80accf157",
   "metadata": {},
   "outputs": [],
   "source": [
    "g=M.metric(name='g')"
   ]
  },
  {
   "cell_type": "markdown",
   "id": "109333f8-ec00-44ed-8c68-dc12602a2e34",
   "metadata": {},
   "source": [
    "# 3.1. Functions"
   ]
  },
  {
   "cell_type": "code",
   "execution_count": 6,
   "id": "9d1f136e-04ce-4d48-8ccc-94c8487b222c",
   "metadata": {},
   "outputs": [],
   "source": [
    "V = M.scalar_field(function('V')(t,x), name='V')"
   ]
  },
  {
   "cell_type": "code",
   "execution_count": 7,
   "id": "8ce2b2a0-fe1b-486c-b584-e1d7dd90d8f8",
   "metadata": {},
   "outputs": [],
   "source": [
    "A = M.scalar_field(function('A')(t,x), name='A')"
   ]
  },
  {
   "cell_type": "markdown",
   "id": "35f1f2f5-b92d-4efe-8b36-09c6ab358cec",
   "metadata": {},
   "source": [
    "# 3.2. Components of the metric"
   ]
  },
  {
   "cell_type": "code",
   "execution_count": 8,
   "id": "3118e615-f622-4036-afdb-ca6293b895d3",
   "metadata": {},
   "outputs": [],
   "source": [
    "g[0,0]=-1 + V**2\n",
    "g[1,1]=1\n",
    "g[0,1]=-V\n",
    "g[2,2]=1\n",
    "g[3,3]=1"
   ]
  },
  {
   "cell_type": "code",
   "execution_count": 9,
   "id": "d06d04cb-dbde-46ae-930c-a1597f1bb348",
   "metadata": {},
   "outputs": [
    {
     "data": {
      "text/html": [
       "<html>\\(\\displaystyle g = \\left( V\\left(t, x\\right)^{2} - 1 \\right) \\mathrm{d} t\\otimes \\mathrm{d} t -V\\left(t, x\\right) \\mathrm{d} t\\otimes \\mathrm{d} x -V\\left(t, x\\right) \\mathrm{d} x\\otimes \\mathrm{d} t +\\mathrm{d} x\\otimes \\mathrm{d} x +\\mathrm{d} y\\otimes \\mathrm{d} y +\\mathrm{d} z\\otimes \\mathrm{d} z\\)</html>"
      ],
      "text/latex": [
       "$\\displaystyle g = \\left( V\\left(t, x\\right)^{2} - 1 \\right) \\mathrm{d} t\\otimes \\mathrm{d} t -V\\left(t, x\\right) \\mathrm{d} t\\otimes \\mathrm{d} x -V\\left(t, x\\right) \\mathrm{d} x\\otimes \\mathrm{d} t +\\mathrm{d} x\\otimes \\mathrm{d} x +\\mathrm{d} y\\otimes \\mathrm{d} y +\\mathrm{d} z\\otimes \\mathrm{d} z$"
      ],
      "text/plain": [
       "g = (V(t, x)^2 - 1) dt⊗dt - V(t, x) dt⊗dx - V(t, x) dx⊗dt + dx⊗dx + dy⊗dy + dz⊗dz"
      ]
     },
     "execution_count": 9,
     "metadata": {},
     "output_type": "execute_result"
    }
   ],
   "source": [
    "g.display()"
   ]
  },
  {
   "cell_type": "code",
   "execution_count": 10,
   "id": "dd43a02d-b87d-4af2-b831-2d0f0d1f6f69",
   "metadata": {},
   "outputs": [
    {
     "data": {
      "text/html": [
       "<html>\\(\\displaystyle \\left(\\begin{array}{rrrr}\n",
       "V\\left(t, x\\right)^{2} - 1 & -V\\left(t, x\\right) & 0 & 0 \\\\\n",
       "-V\\left(t, x\\right) & 1 & 0 & 0 \\\\\n",
       "0 & 0 & 1 & 0 \\\\\n",
       "0 & 0 & 0 & 1\n",
       "\\end{array}\\right)\\)</html>"
      ],
      "text/latex": [
       "$\\displaystyle \\left(\\begin{array}{rrrr}\n",
       "V\\left(t, x\\right)^{2} - 1 & -V\\left(t, x\\right) & 0 & 0 \\\\\n",
       "-V\\left(t, x\\right) & 1 & 0 & 0 \\\\\n",
       "0 & 0 & 1 & 0 \\\\\n",
       "0 & 0 & 0 & 1\n",
       "\\end{array}\\right)$"
      ],
      "text/plain": [
       "[V(t, x)^2 - 1      -V(t, x)             0             0]\n",
       "[     -V(t, x)             1             0             0]\n",
       "[            0             0             1             0]\n",
       "[            0             0             0             1]"
      ]
     },
     "execution_count": 10,
     "metadata": {},
     "output_type": "execute_result"
    }
   ],
   "source": [
    "g[:]"
   ]
  },
  {
   "cell_type": "markdown",
   "id": "27ed7182-5cb6-4dee-ab04-d7d4cb17607e",
   "metadata": {},
   "source": [
    "# 3.3. Inverse metrical"
   ]
  },
  {
   "cell_type": "code",
   "execution_count": 11,
   "id": "643acb77-d964-4572-a798-cc15bd447052",
   "metadata": {},
   "outputs": [
    {
     "data": {
      "text/html": [
       "<html>\\(\\displaystyle \\left(\\begin{array}{rrrr}\n",
       "-1 & -V\\left(t, x\\right) & 0 & 0 \\\\\n",
       "-V\\left(t, x\\right) & -V\\left(t, x\\right)^{2} + 1 & 0 & 0 \\\\\n",
       "0 & 0 & 1 & 0 \\\\\n",
       "0 & 0 & 0 & 1\n",
       "\\end{array}\\right)\\)</html>"
      ],
      "text/latex": [
       "$\\displaystyle \\left(\\begin{array}{rrrr}\n",
       "-1 & -V\\left(t, x\\right) & 0 & 0 \\\\\n",
       "-V\\left(t, x\\right) & -V\\left(t, x\\right)^{2} + 1 & 0 & 0 \\\\\n",
       "0 & 0 & 1 & 0 \\\\\n",
       "0 & 0 & 0 & 1\n",
       "\\end{array}\\right)$"
      ],
      "text/plain": [
       "[            -1       -V(t, x)              0              0]\n",
       "[      -V(t, x) -V(t, x)^2 + 1              0              0]\n",
       "[             0              0              1              0]\n",
       "[             0              0              0              1]"
      ]
     },
     "execution_count": 11,
     "metadata": {},
     "output_type": "execute_result"
    }
   ],
   "source": [
    "ginv = g.inverse()\n",
    "ginv[:]"
   ]
  },
  {
   "cell_type": "markdown",
   "id": "a4f5bc4b-1b48-4653-b24c-cead8cd03da2",
   "metadata": {},
   "source": [
    "# Replacement $A = \\frac{\\partial V}{\\partial t} + V \\frac{\\partial V}{\\partial x}$"
   ]
  },
  {
   "cell_type": "code",
   "execution_count": 12,
   "id": "69ccaf0b-d55a-42aa-a597-b2f8dd0977fc",
   "metadata": {},
   "outputs": [],
   "source": [
    "dV = V.differential()"
   ]
  },
  {
   "cell_type": "code",
   "execution_count": 13,
   "id": "236154fe-644d-4966-ab37-ad9abe2a3120",
   "metadata": {},
   "outputs": [],
   "source": [
    "ptV = dV[C.frame(),0]"
   ]
  },
  {
   "cell_type": "code",
   "execution_count": 14,
   "id": "546b6c9d-86fb-4a29-acb4-15ebfeb0a130",
   "metadata": {},
   "outputs": [],
   "source": [
    "pxV = dV[C.frame(),1]"
   ]
  },
  {
   "cell_type": "code",
   "execution_count": 15,
   "id": "c206faf8-a863-4312-ba69-3501143be663",
   "metadata": {},
   "outputs": [
    {
     "data": {
      "text/html": [
       "<html>\\(\\displaystyle \\frac{\\partial}{\\partial x}V\\left(t, x\\right)\\)</html>"
      ],
      "text/latex": [
       "$\\displaystyle \\frac{\\partial}{\\partial x}V\\left(t, x\\right)$"
      ],
      "text/plain": [
       "diff(V(t, x), x)"
      ]
     },
     "execution_count": 15,
     "metadata": {},
     "output_type": "execute_result"
    }
   ],
   "source": [
    "pxV.expr()"
   ]
  },
  {
   "cell_type": "code",
   "execution_count": 17,
   "id": "8a65807b-8c20-4851-98e8-313506edf4a2",
   "metadata": {},
   "outputs": [
    {
     "data": {
      "text/html": [
       "<html>\\(\\displaystyle -V\\left(t, x\\right) \\frac{\\partial}{\\partial x}V\\left(t, x\\right) + A\\left(t, x\\right)\\)</html>"
      ],
      "text/latex": [
       "$\\displaystyle -V\\left(t, x\\right) \\frac{\\partial}{\\partial x}V\\left(t, x\\right) + A\\left(t, x\\right)$"
      ],
      "text/plain": [
       "-V(t, x)*diff(V(t, x), x) + A(t, x)"
      ]
     },
     "metadata": {},
     "output_type": "display_data"
    }
   ],
   "source": [
    "repptV = A - V*pxV\n",
    "remplacement = { ptV.expr(): repptV.expr() } \n",
    "\n",
    "expr_modifiee = ptV.expr().subs(remplacement)  \n",
    "show(expr_modifiee)"
   ]
  },
  {
   "cell_type": "code",
   "execution_count": 18,
   "id": "28c12223-a4a9-42da-8050-073fd9420736",
   "metadata": {},
   "outputs": [
    {
     "data": {
      "text/html": [
       "<html>\\(\\displaystyle -V\\left(t, x\\right) \\frac{\\partial}{\\partial x}V\\left(t, x\\right) + A\\left(t, x\\right)\\)</html>"
      ],
      "text/latex": [
       "$\\displaystyle -V\\left(t, x\\right) \\frac{\\partial}{\\partial x}V\\left(t, x\\right) + A\\left(t, x\\right)$"
      ],
      "text/plain": [
       "-V(t, x)*diff(V(t, x), x) + A(t, x)"
      ]
     },
     "execution_count": 18,
     "metadata": {},
     "output_type": "execute_result"
    }
   ],
   "source": [
    "ptV.expr().subs(remplacement)"
   ]
  },
  {
   "cell_type": "markdown",
   "id": "b2809e84-1215-43ee-b8a4-99d7086cfb53",
   "metadata": {},
   "source": [
    "# 4. Connection"
   ]
  },
  {
   "cell_type": "code",
   "execution_count": 19,
   "id": "e57d0889-f491-435a-bc52-685343d07784",
   "metadata": {},
   "outputs": [],
   "source": [
    "nab = g.connection()"
   ]
  },
  {
   "cell_type": "markdown",
   "id": "947b05bd-7deb-4b91-967a-dc5abaf3fce6",
   "metadata": {},
   "source": [
    "# 5. Christoffel symbols"
   ]
  },
  {
   "cell_type": "code",
   "execution_count": 20,
   "id": "416c7c90-35db-4190-bc6e-9a7d7b0e15cb",
   "metadata": {},
   "outputs": [
    {
     "data": {
      "text/html": [
       "<html>\\(\\displaystyle \\begin{array}{lcl} \\Gamma_{ \\phantom{\\, t} \\, t \\, t }^{ \\, t \\phantom{\\, t} \\phantom{\\, t} } & = & V\\left(t, x\\right)^{2} \\frac{\\partial\\,V}{\\partial x} \\\\ \\Gamma_{ \\phantom{\\, t} \\, t \\, x }^{ \\, t \\phantom{\\, t} \\phantom{\\, x} } & = & -V\\left(t, x\\right) \\frac{\\partial\\,V}{\\partial x} \\\\ \\Gamma_{ \\phantom{\\, t} \\, x \\, x }^{ \\, t \\phantom{\\, x} \\phantom{\\, x} } & = & \\frac{\\partial\\,V}{\\partial x} \\\\ \\Gamma_{ \\phantom{\\, x} \\, t \\, t }^{ \\, x \\phantom{\\, t} \\phantom{\\, t} } & = & {\\left(V\\left(t, x\\right)^{3} - V\\left(t, x\\right)\\right)} \\frac{\\partial\\,V}{\\partial x} - \\frac{\\partial\\,V}{\\partial t} \\\\ \\Gamma_{ \\phantom{\\, x} \\, t \\, x }^{ \\, x \\phantom{\\, t} \\phantom{\\, x} } & = & -V\\left(t, x\\right)^{2} \\frac{\\partial\\,V}{\\partial x} \\\\ \\Gamma_{ \\phantom{\\, x} \\, x \\, x }^{ \\, x \\phantom{\\, x} \\phantom{\\, x} } & = & V\\left(t, x\\right) \\frac{\\partial\\,V}{\\partial x} \\end{array}\\)</html>"
      ],
      "text/latex": [
       "$\\displaystyle \\begin{array}{lcl} \\Gamma_{ \\phantom{\\, t} \\, t \\, t }^{ \\, t \\phantom{\\, t} \\phantom{\\, t} } & = & V\\left(t, x\\right)^{2} \\frac{\\partial\\,V}{\\partial x} \\\\ \\Gamma_{ \\phantom{\\, t} \\, t \\, x }^{ \\, t \\phantom{\\, t} \\phantom{\\, x} } & = & -V\\left(t, x\\right) \\frac{\\partial\\,V}{\\partial x} \\\\ \\Gamma_{ \\phantom{\\, t} \\, x \\, x }^{ \\, t \\phantom{\\, x} \\phantom{\\, x} } & = & \\frac{\\partial\\,V}{\\partial x} \\\\ \\Gamma_{ \\phantom{\\, x} \\, t \\, t }^{ \\, x \\phantom{\\, t} \\phantom{\\, t} } & = & {\\left(V\\left(t, x\\right)^{3} - V\\left(t, x\\right)\\right)} \\frac{\\partial\\,V}{\\partial x} - \\frac{\\partial\\,V}{\\partial t} \\\\ \\Gamma_{ \\phantom{\\, x} \\, t \\, x }^{ \\, x \\phantom{\\, t} \\phantom{\\, x} } & = & -V\\left(t, x\\right)^{2} \\frac{\\partial\\,V}{\\partial x} \\\\ \\Gamma_{ \\phantom{\\, x} \\, x \\, x }^{ \\, x \\phantom{\\, x} \\phantom{\\, x} } & = & V\\left(t, x\\right) \\frac{\\partial\\,V}{\\partial x} \\end{array}$"
      ],
      "text/plain": [
       "Gam^t_tt = V(t, x)^2*d(V)/dx \n",
       "Gam^t_tx = -V(t, x)*d(V)/dx \n",
       "Gam^t_xx = d(V)/dx \n",
       "Gam^x_tt = (V(t, x)^3 - V(t, x))*d(V)/dx - d(V)/dt \n",
       "Gam^x_tx = -V(t, x)^2*d(V)/dx \n",
       "Gam^x_xx = V(t, x)*d(V)/dx "
      ]
     },
     "execution_count": 20,
     "metadata": {},
     "output_type": "execute_result"
    }
   ],
   "source": [
    "nab.display(only_nonredundant=True)"
   ]
  },
  {
   "cell_type": "markdown",
   "id": "7f835050-2fe5-4a30-978a-94b3eb2e5c87",
   "metadata": {},
   "source": [
    "# 5.1. Curvature"
   ]
  },
  {
   "cell_type": "code",
   "execution_count": 21,
   "id": "575e297a-e4cf-4d12-b0d5-db14f04289b7",
   "metadata": {},
   "outputs": [],
   "source": [
    "Ric=g.ricci()\n",
    "Scal=Ric['_{ij}']*ginv['^{ij}']\n",
    "Ein = Ric-(Scal/2)*g\n",
    "Riem = g.riemann()"
   ]
  },
  {
   "cell_type": "markdown",
   "id": "e72d4763-d567-4e17-8169-17797e6824b1",
   "metadata": {},
   "source": [
    "# 5.2. Riemann and Ricci Tensors"
   ]
  },
  {
   "cell_type": "code",
   "execution_count": 22,
   "id": "24317064-790f-4a9e-b5b5-ed7804b6c49e",
   "metadata": {},
   "outputs": [
    {
     "data": {
      "text/html": [
       "<html>\\(\\displaystyle \\mathrm{Riem}\\left(g\\right) = \\left( -V\\left(t, x\\right) \\left(\\frac{\\partial\\,V}{\\partial x}\\right)^{2} - V\\left(t, x\\right)^{2} \\frac{\\partial^2\\,V}{\\partial x ^ 2} - V\\left(t, x\\right) \\frac{\\partial^2\\,V}{\\partial t\\partial x} \\right) \\frac{\\partial}{\\partial t }\\otimes \\mathrm{d} t\\otimes \\mathrm{d} t\\otimes \\mathrm{d} x + \\left( V\\left(t, x\\right) \\left(\\frac{\\partial\\,V}{\\partial x}\\right)^{2} + V\\left(t, x\\right)^{2} \\frac{\\partial^2\\,V}{\\partial x ^ 2} + V\\left(t, x\\right) \\frac{\\partial^2\\,V}{\\partial t\\partial x} \\right) \\frac{\\partial}{\\partial t }\\otimes \\mathrm{d} t\\otimes \\mathrm{d} x\\otimes \\mathrm{d} t + \\left( \\left(\\frac{\\partial\\,V}{\\partial x}\\right)^{2} + V\\left(t, x\\right) \\frac{\\partial^2\\,V}{\\partial x ^ 2} + \\frac{\\partial^2\\,V}{\\partial t\\partial x} \\right) \\frac{\\partial}{\\partial t }\\otimes \\mathrm{d} x\\otimes \\mathrm{d} t\\otimes \\mathrm{d} x + \\left( -\\left(\\frac{\\partial\\,V}{\\partial x}\\right)^{2} - V\\left(t, x\\right) \\frac{\\partial^2\\,V}{\\partial x ^ 2} - \\frac{\\partial^2\\,V}{\\partial t\\partial x} \\right) \\frac{\\partial}{\\partial t }\\otimes \\mathrm{d} x\\otimes \\mathrm{d} x\\otimes \\mathrm{d} t + \\left( -{\\left(V\\left(t, x\\right)^{2} - 1\\right)} \\left(\\frac{\\partial\\,V}{\\partial x}\\right)^{2} - {\\left(V\\left(t, x\\right)^{2} - 1\\right)} \\frac{\\partial^2\\,V}{\\partial t\\partial x} - {\\left(V\\left(t, x\\right)^{3} - V\\left(t, x\\right)\\right)} \\frac{\\partial^2\\,V}{\\partial x ^ 2} \\right) \\frac{\\partial}{\\partial x }\\otimes \\mathrm{d} t\\otimes \\mathrm{d} t\\otimes \\mathrm{d} x + \\left( {\\left(V\\left(t, x\\right)^{2} - 1\\right)} \\left(\\frac{\\partial\\,V}{\\partial x}\\right)^{2} + {\\left(V\\left(t, x\\right)^{2} - 1\\right)} \\frac{\\partial^2\\,V}{\\partial t\\partial x} + {\\left(V\\left(t, x\\right)^{3} - V\\left(t, x\\right)\\right)} \\frac{\\partial^2\\,V}{\\partial x ^ 2} \\right) \\frac{\\partial}{\\partial x }\\otimes \\mathrm{d} t\\otimes \\mathrm{d} x\\otimes \\mathrm{d} t + \\left( V\\left(t, x\\right) \\left(\\frac{\\partial\\,V}{\\partial x}\\right)^{2} + V\\left(t, x\\right)^{2} \\frac{\\partial^2\\,V}{\\partial x ^ 2} + V\\left(t, x\\right) \\frac{\\partial^2\\,V}{\\partial t\\partial x} \\right) \\frac{\\partial}{\\partial x }\\otimes \\mathrm{d} x\\otimes \\mathrm{d} t\\otimes \\mathrm{d} x + \\left( -V\\left(t, x\\right) \\left(\\frac{\\partial\\,V}{\\partial x}\\right)^{2} - V\\left(t, x\\right)^{2} \\frac{\\partial^2\\,V}{\\partial x ^ 2} - V\\left(t, x\\right) \\frac{\\partial^2\\,V}{\\partial t\\partial x} \\right) \\frac{\\partial}{\\partial x }\\otimes \\mathrm{d} x\\otimes \\mathrm{d} x\\otimes \\mathrm{d} t\\)</html>"
      ],
      "text/latex": [
       "$\\displaystyle \\mathrm{Riem}\\left(g\\right) = \\left( -V\\left(t, x\\right) \\left(\\frac{\\partial\\,V}{\\partial x}\\right)^{2} - V\\left(t, x\\right)^{2} \\frac{\\partial^2\\,V}{\\partial x ^ 2} - V\\left(t, x\\right) \\frac{\\partial^2\\,V}{\\partial t\\partial x} \\right) \\frac{\\partial}{\\partial t }\\otimes \\mathrm{d} t\\otimes \\mathrm{d} t\\otimes \\mathrm{d} x + \\left( V\\left(t, x\\right) \\left(\\frac{\\partial\\,V}{\\partial x}\\right)^{2} + V\\left(t, x\\right)^{2} \\frac{\\partial^2\\,V}{\\partial x ^ 2} + V\\left(t, x\\right) \\frac{\\partial^2\\,V}{\\partial t\\partial x} \\right) \\frac{\\partial}{\\partial t }\\otimes \\mathrm{d} t\\otimes \\mathrm{d} x\\otimes \\mathrm{d} t + \\left( \\left(\\frac{\\partial\\,V}{\\partial x}\\right)^{2} + V\\left(t, x\\right) \\frac{\\partial^2\\,V}{\\partial x ^ 2} + \\frac{\\partial^2\\,V}{\\partial t\\partial x} \\right) \\frac{\\partial}{\\partial t }\\otimes \\mathrm{d} x\\otimes \\mathrm{d} t\\otimes \\mathrm{d} x + \\left( -\\left(\\frac{\\partial\\,V}{\\partial x}\\right)^{2} - V\\left(t, x\\right) \\frac{\\partial^2\\,V}{\\partial x ^ 2} - \\frac{\\partial^2\\,V}{\\partial t\\partial x} \\right) \\frac{\\partial}{\\partial t }\\otimes \\mathrm{d} x\\otimes \\mathrm{d} x\\otimes \\mathrm{d} t + \\left( -{\\left(V\\left(t, x\\right)^{2} - 1\\right)} \\left(\\frac{\\partial\\,V}{\\partial x}\\right)^{2} - {\\left(V\\left(t, x\\right)^{2} - 1\\right)} \\frac{\\partial^2\\,V}{\\partial t\\partial x} - {\\left(V\\left(t, x\\right)^{3} - V\\left(t, x\\right)\\right)} \\frac{\\partial^2\\,V}{\\partial x ^ 2} \\right) \\frac{\\partial}{\\partial x }\\otimes \\mathrm{d} t\\otimes \\mathrm{d} t\\otimes \\mathrm{d} x + \\left( {\\left(V\\left(t, x\\right)^{2} - 1\\right)} \\left(\\frac{\\partial\\,V}{\\partial x}\\right)^{2} + {\\left(V\\left(t, x\\right)^{2} - 1\\right)} \\frac{\\partial^2\\,V}{\\partial t\\partial x} + {\\left(V\\left(t, x\\right)^{3} - V\\left(t, x\\right)\\right)} \\frac{\\partial^2\\,V}{\\partial x ^ 2} \\right) \\frac{\\partial}{\\partial x }\\otimes \\mathrm{d} t\\otimes \\mathrm{d} x\\otimes \\mathrm{d} t + \\left( V\\left(t, x\\right) \\left(\\frac{\\partial\\,V}{\\partial x}\\right)^{2} + V\\left(t, x\\right)^{2} \\frac{\\partial^2\\,V}{\\partial x ^ 2} + V\\left(t, x\\right) \\frac{\\partial^2\\,V}{\\partial t\\partial x} \\right) \\frac{\\partial}{\\partial x }\\otimes \\mathrm{d} x\\otimes \\mathrm{d} t\\otimes \\mathrm{d} x + \\left( -V\\left(t, x\\right) \\left(\\frac{\\partial\\,V}{\\partial x}\\right)^{2} - V\\left(t, x\\right)^{2} \\frac{\\partial^2\\,V}{\\partial x ^ 2} - V\\left(t, x\\right) \\frac{\\partial^2\\,V}{\\partial t\\partial x} \\right) \\frac{\\partial}{\\partial x }\\otimes \\mathrm{d} x\\otimes \\mathrm{d} x\\otimes \\mathrm{d} t$"
      ],
      "text/plain": [
       "Riem(g) = (-V(t, x)*(d(V)/dx)^2 - V(t, x)^2*d^2(V)/dx^2 - V(t, x)*d^2(V)/dtdx) ∂/∂t⊗dt⊗dt⊗dx + (V(t, x)*(d(V)/dx)^2 + V(t, x)^2*d^2(V)/dx^2 + V(t, x)*d^2(V)/dtdx) ∂/∂t⊗dt⊗dx⊗dt + ((d(V)/dx)^2 + V(t, x)*d^2(V)/dx^2 + d^2(V)/dtdx) ∂/∂t⊗dx⊗dt⊗dx + (-(d(V)/dx)^2 - V(t, x)*d^2(V)/dx^2 - d^2(V)/dtdx) ∂/∂t⊗dx⊗dx⊗dt + (-(V(t, x)^2 - 1)*(d(V)/dx)^2 - (V(t, x)^2 - 1)*d^2(V)/dtdx - (V(t, x)^3 - V(t, x))*d^2(V)/dx^2) ∂/∂x⊗dt⊗dt⊗dx + ((V(t, x)^2 - 1)*(d(V)/dx)^2 + (V(t, x)^2 - 1)*d^2(V)/dtdx + (V(t, x)^3 - V(t, x))*d^2(V)/dx^2) ∂/∂x⊗dt⊗dx⊗dt + (V(t, x)*(d(V)/dx)^2 + V(t, x)^2*d^2(V)/dx^2 + V(t, x)*d^2(V)/dtdx) ∂/∂x⊗dx⊗dt⊗dx + (-V(t, x)*(d(V)/dx)^2 - V(t, x)^2*d^2(V)/dx^2 - V(t, x)*d^2(V)/dtdx) ∂/∂x⊗dx⊗dx⊗dt"
      ]
     },
     "execution_count": 22,
     "metadata": {},
     "output_type": "execute_result"
    }
   ],
   "source": [
    "Riem.display()"
   ]
  },
  {
   "cell_type": "code",
   "execution_count": 23,
   "id": "2f8a9e97-4094-4219-be17-556f901e982a",
   "metadata": {},
   "outputs": [
    {
     "data": {
      "text/html": [
       "<html>\\(\\displaystyle \\mathrm{Ric}\\left(g\\right) = \\left( {\\left(V\\left(t, x\\right)^{2} - 1\\right)} \\left(\\frac{\\partial\\,V}{\\partial x}\\right)^{2} + {\\left(V\\left(t, x\\right)^{2} - 1\\right)} \\frac{\\partial^2\\,V}{\\partial t\\partial x} + {\\left(V\\left(t, x\\right)^{3} - V\\left(t, x\\right)\\right)} \\frac{\\partial^2\\,V}{\\partial x ^ 2} \\right) \\mathrm{d} t\\otimes \\mathrm{d} t + \\left( -V\\left(t, x\\right) \\left(\\frac{\\partial\\,V}{\\partial x}\\right)^{2} - V\\left(t, x\\right)^{2} \\frac{\\partial^2\\,V}{\\partial x ^ 2} - V\\left(t, x\\right) \\frac{\\partial^2\\,V}{\\partial t\\partial x} \\right) \\mathrm{d} t\\otimes \\mathrm{d} x + \\left( -V\\left(t, x\\right) \\left(\\frac{\\partial\\,V}{\\partial x}\\right)^{2} - V\\left(t, x\\right)^{2} \\frac{\\partial^2\\,V}{\\partial x ^ 2} - V\\left(t, x\\right) \\frac{\\partial^2\\,V}{\\partial t\\partial x} \\right) \\mathrm{d} x\\otimes \\mathrm{d} t + \\left( \\left(\\frac{\\partial\\,V}{\\partial x}\\right)^{2} + V\\left(t, x\\right) \\frac{\\partial^2\\,V}{\\partial x ^ 2} + \\frac{\\partial^2\\,V}{\\partial t\\partial x} \\right) \\mathrm{d} x\\otimes \\mathrm{d} x\\)</html>"
      ],
      "text/latex": [
       "$\\displaystyle \\mathrm{Ric}\\left(g\\right) = \\left( {\\left(V\\left(t, x\\right)^{2} - 1\\right)} \\left(\\frac{\\partial\\,V}{\\partial x}\\right)^{2} + {\\left(V\\left(t, x\\right)^{2} - 1\\right)} \\frac{\\partial^2\\,V}{\\partial t\\partial x} + {\\left(V\\left(t, x\\right)^{3} - V\\left(t, x\\right)\\right)} \\frac{\\partial^2\\,V}{\\partial x ^ 2} \\right) \\mathrm{d} t\\otimes \\mathrm{d} t + \\left( -V\\left(t, x\\right) \\left(\\frac{\\partial\\,V}{\\partial x}\\right)^{2} - V\\left(t, x\\right)^{2} \\frac{\\partial^2\\,V}{\\partial x ^ 2} - V\\left(t, x\\right) \\frac{\\partial^2\\,V}{\\partial t\\partial x} \\right) \\mathrm{d} t\\otimes \\mathrm{d} x + \\left( -V\\left(t, x\\right) \\left(\\frac{\\partial\\,V}{\\partial x}\\right)^{2} - V\\left(t, x\\right)^{2} \\frac{\\partial^2\\,V}{\\partial x ^ 2} - V\\left(t, x\\right) \\frac{\\partial^2\\,V}{\\partial t\\partial x} \\right) \\mathrm{d} x\\otimes \\mathrm{d} t + \\left( \\left(\\frac{\\partial\\,V}{\\partial x}\\right)^{2} + V\\left(t, x\\right) \\frac{\\partial^2\\,V}{\\partial x ^ 2} + \\frac{\\partial^2\\,V}{\\partial t\\partial x} \\right) \\mathrm{d} x\\otimes \\mathrm{d} x$"
      ],
      "text/plain": [
       "Ric(g) = ((V(t, x)^2 - 1)*(d(V)/dx)^2 + (V(t, x)^2 - 1)*d^2(V)/dtdx + (V(t, x)^3 - V(t, x))*d^2(V)/dx^2) dt⊗dt + (-V(t, x)*(d(V)/dx)^2 - V(t, x)^2*d^2(V)/dx^2 - V(t, x)*d^2(V)/dtdx) dt⊗dx + (-V(t, x)*(d(V)/dx)^2 - V(t, x)^2*d^2(V)/dx^2 - V(t, x)*d^2(V)/dtdx) dx⊗dt + ((d(V)/dx)^2 + V(t, x)*d^2(V)/dx^2 + d^2(V)/dtdx) dx⊗dx"
      ]
     },
     "execution_count": 23,
     "metadata": {},
     "output_type": "execute_result"
    }
   ],
   "source": [
    "Ric.display()"
   ]
  },
  {
   "cell_type": "markdown",
   "id": "2c34dd58-04e2-4c24-a289-b97fa808c6d7",
   "metadata": {},
   "source": [
    "# 5.3. Components of Ricci"
   ]
  },
  {
   "cell_type": "code",
   "execution_count": 24,
   "id": "1d4bfc1e-0b5f-473f-bc4e-15945ee1e3c4",
   "metadata": {},
   "outputs": [
    {
     "data": {
      "text/html": [
       "<html>\\(\\displaystyle {\\left(V\\left(t, x\\right)^{2} - 1\\right)} \\left(\\frac{\\partial\\,V}{\\partial x}\\right)^{2} + {\\left(V\\left(t, x\\right)^{2} - 1\\right)} \\frac{\\partial^2\\,V}{\\partial t\\partial x} + {\\left(V\\left(t, x\\right)^{3} - V\\left(t, x\\right)\\right)} \\frac{\\partial^2\\,V}{\\partial x ^ 2}\\)</html>"
      ],
      "text/latex": [
       "$\\displaystyle {\\left(V\\left(t, x\\right)^{2} - 1\\right)} \\left(\\frac{\\partial\\,V}{\\partial x}\\right)^{2} + {\\left(V\\left(t, x\\right)^{2} - 1\\right)} \\frac{\\partial^2\\,V}{\\partial t\\partial x} + {\\left(V\\left(t, x\\right)^{3} - V\\left(t, x\\right)\\right)} \\frac{\\partial^2\\,V}{\\partial x ^ 2}$"
      ],
      "text/plain": [
       "(V(t, x)^2 - 1)*(d(V)/dx)^2 + (V(t, x)^2 - 1)*d^2(V)/dtdx + (V(t, x)^3 - V(t, x))*d^2(V)/dx^2"
      ]
     },
     "execution_count": 24,
     "metadata": {},
     "output_type": "execute_result"
    }
   ],
   "source": [
    "Ric[0,0]"
   ]
  },
  {
   "cell_type": "code",
   "execution_count": 25,
   "id": "7e8d0914-45c1-4983-b01c-cd2e1cec69af",
   "metadata": {},
   "outputs": [
    {
     "data": {
      "text/html": [
       "<html>\\(\\displaystyle \\left(\\frac{\\partial\\,V}{\\partial x}\\right)^{2} + V\\left(t, x\\right) \\frac{\\partial^2\\,V}{\\partial x ^ 2} + \\frac{\\partial^2\\,V}{\\partial t\\partial x}\\)</html>"
      ],
      "text/latex": [
       "$\\displaystyle \\left(\\frac{\\partial\\,V}{\\partial x}\\right)^{2} + V\\left(t, x\\right) \\frac{\\partial^2\\,V}{\\partial x ^ 2} + \\frac{\\partial^2\\,V}{\\partial t\\partial x}$"
      ],
      "text/plain": [
       "(d(V)/dx)^2 + V(t, x)*d^2(V)/dx^2 + d^2(V)/dtdx"
      ]
     },
     "execution_count": 25,
     "metadata": {},
     "output_type": "execute_result"
    }
   ],
   "source": [
    "Ric[1,1]"
   ]
  },
  {
   "cell_type": "code",
   "execution_count": 26,
   "id": "40983758-e058-4d29-8669-688190284c29",
   "metadata": {},
   "outputs": [
    {
     "data": {
      "text/html": [
       "<html>\\(\\displaystyle \\frac{\\partial}{\\partial x}V\\left(t, x\\right)^{2} + V\\left(t, x\\right) \\frac{\\partial^{2}}{(\\partial x)^{2}}V\\left(t, x\\right) + \\frac{\\partial^{2}}{\\partial t\\partial x}V\\left(t, x\\right)\\)</html>"
      ],
      "text/latex": [
       "$\\displaystyle \\frac{\\partial}{\\partial x}V\\left(t, x\\right)^{2} + V\\left(t, x\\right) \\frac{\\partial^{2}}{(\\partial x)^{2}}V\\left(t, x\\right) + \\frac{\\partial^{2}}{\\partial t\\partial x}V\\left(t, x\\right)$"
      ],
      "text/plain": [
       "diff(V(t, x), x)^2 + V(t, x)*diff(V(t, x), x, x) + diff(V(t, x), t, x)"
      ]
     },
     "execution_count": 26,
     "metadata": {},
     "output_type": "execute_result"
    }
   ],
   "source": [
    "Ric[1,1].expr().subs(remplacement)"
   ]
  },
  {
   "cell_type": "code",
   "execution_count": 27,
   "id": "ace658db-384e-4aef-aed4-6b7780f5ddb7",
   "metadata": {},
   "outputs": [
    {
     "data": {
      "text/html": [
       "<html>\\(\\displaystyle 0\\)</html>"
      ],
      "text/latex": [
       "$\\displaystyle 0$"
      ],
      "text/plain": [
       "0"
      ]
     },
     "execution_count": 27,
     "metadata": {},
     "output_type": "execute_result"
    }
   ],
   "source": [
    "Ric[2,2]"
   ]
  },
  {
   "cell_type": "code",
   "execution_count": 28,
   "id": "66ace28d-fd74-4b94-9d6f-7fc804cd8738",
   "metadata": {},
   "outputs": [
    {
     "data": {
      "text/html": [
       "<html>\\(\\displaystyle 0\\)</html>"
      ],
      "text/latex": [
       "$\\displaystyle 0$"
      ],
      "text/plain": [
       "0"
      ]
     },
     "execution_count": 28,
     "metadata": {},
     "output_type": "execute_result"
    }
   ],
   "source": [
    "Ric[3,3]"
   ]
  },
  {
   "cell_type": "code",
   "execution_count": 29,
   "id": "74167bc6-01ba-43d3-b90c-96ea5df778b5",
   "metadata": {},
   "outputs": [
    {
     "data": {
      "text/html": [
       "<html>\\(\\displaystyle -V\\left(t, x\\right) \\left(\\frac{\\partial\\,V}{\\partial x}\\right)^{2} - V\\left(t, x\\right)^{2} \\frac{\\partial^2\\,V}{\\partial x ^ 2} - V\\left(t, x\\right) \\frac{\\partial^2\\,V}{\\partial t\\partial x}\\)</html>"
      ],
      "text/latex": [
       "$\\displaystyle -V\\left(t, x\\right) \\left(\\frac{\\partial\\,V}{\\partial x}\\right)^{2} - V\\left(t, x\\right)^{2} \\frac{\\partial^2\\,V}{\\partial x ^ 2} - V\\left(t, x\\right) \\frac{\\partial^2\\,V}{\\partial t\\partial x}$"
      ],
      "text/plain": [
       "-V(t, x)*(d(V)/dx)^2 - V(t, x)^2*d^2(V)/dx^2 - V(t, x)*d^2(V)/dtdx"
      ]
     },
     "execution_count": 29,
     "metadata": {},
     "output_type": "execute_result"
    }
   ],
   "source": [
    "Ric[0,1]"
   ]
  },
  {
   "cell_type": "code",
   "execution_count": 30,
   "id": "54c8317b-70b3-4203-9db9-3e9f300828a8",
   "metadata": {},
   "outputs": [
    {
     "data": {
      "text/html": [
       "<html>\\(\\displaystyle 0\\)</html>"
      ],
      "text/latex": [
       "$\\displaystyle 0$"
      ],
      "text/plain": [
       "0"
      ]
     },
     "execution_count": 30,
     "metadata": {},
     "output_type": "execute_result"
    }
   ],
   "source": [
    "Ric[0,2]"
   ]
  },
  {
   "cell_type": "code",
   "execution_count": 31,
   "id": "d5a0d0fe-1d14-453f-a3d0-5dc396a9c95b",
   "metadata": {},
   "outputs": [
    {
     "data": {
      "text/html": [
       "<html>\\(\\displaystyle 0\\)</html>"
      ],
      "text/latex": [
       "$\\displaystyle 0$"
      ],
      "text/plain": [
       "0"
      ]
     },
     "execution_count": 31,
     "metadata": {},
     "output_type": "execute_result"
    }
   ],
   "source": [
    "Ric[0,3]"
   ]
  },
  {
   "cell_type": "code",
   "execution_count": 32,
   "id": "e38fa05c-b757-4283-9401-4977b57dc0fe",
   "metadata": {},
   "outputs": [
    {
     "data": {
      "text/html": [
       "<html>\\(\\displaystyle 0\\)</html>"
      ],
      "text/latex": [
       "$\\displaystyle 0$"
      ],
      "text/plain": [
       "0"
      ]
     },
     "execution_count": 32,
     "metadata": {},
     "output_type": "execute_result"
    }
   ],
   "source": [
    "Ric[1,2]"
   ]
  },
  {
   "cell_type": "code",
   "execution_count": 33,
   "id": "7f40751f-1f76-4f8e-90b2-bffe1baca61a",
   "metadata": {},
   "outputs": [
    {
     "data": {
      "text/html": [
       "<html>\\(\\displaystyle 0\\)</html>"
      ],
      "text/latex": [
       "$\\displaystyle 0$"
      ],
      "text/plain": [
       "0"
      ]
     },
     "execution_count": 33,
     "metadata": {},
     "output_type": "execute_result"
    }
   ],
   "source": [
    "Ric[1,3]"
   ]
  },
  {
   "cell_type": "code",
   "execution_count": 34,
   "id": "f3956d64-6e0d-4a5c-9b02-cd4e247b1145",
   "metadata": {},
   "outputs": [
    {
     "data": {
      "text/html": [
       "<html>\\(\\displaystyle 0\\)</html>"
      ],
      "text/latex": [
       "$\\displaystyle 0$"
      ],
      "text/plain": [
       "0"
      ]
     },
     "execution_count": 34,
     "metadata": {},
     "output_type": "execute_result"
    }
   ],
   "source": [
    "Ric[2,3]"
   ]
  },
  {
   "cell_type": "markdown",
   "id": "d743cf68-afcc-445b-b2cd-ddbdad44db29",
   "metadata": {},
   "source": [
    "# 5.4. Ricci scalar"
   ]
  },
  {
   "cell_type": "code",
   "execution_count": 35,
   "id": "bc0c5ba7-0546-4b40-b021-84809deb7fa5",
   "metadata": {},
   "outputs": [
    {
     "data": {
      "text/html": [
       "<html>\\(\\displaystyle 2 \\, \\frac{\\partial}{\\partial x}V\\left(t, x\\right)^{2} + 2 \\, V\\left(t, x\\right) \\frac{\\partial^{2}}{(\\partial x)^{2}}V\\left(t, x\\right) + 2 \\, \\frac{\\partial^{2}}{\\partial t\\partial x}V\\left(t, x\\right)\\)</html>"
      ],
      "text/latex": [
       "$\\displaystyle 2 \\, \\frac{\\partial}{\\partial x}V\\left(t, x\\right)^{2} + 2 \\, V\\left(t, x\\right) \\frac{\\partial^{2}}{(\\partial x)^{2}}V\\left(t, x\\right) + 2 \\, \\frac{\\partial^{2}}{\\partial t\\partial x}V\\left(t, x\\right)$"
      ],
      "text/plain": [
       "2*diff(V(t, x), x)^2 + 2*V(t, x)*diff(V(t, x), x, x) + 2*diff(V(t, x), t, x)"
      ]
     },
     "execution_count": 35,
     "metadata": {},
     "output_type": "execute_result"
    }
   ],
   "source": [
    "Scal.expr()"
   ]
  },
  {
   "cell_type": "markdown",
   "id": "8b43b30a-33b3-4edb-9d94-c1e257f50826",
   "metadata": {},
   "source": [
    "# 5.5. Components of Einstein tensor"
   ]
  },
  {
   "cell_type": "code",
   "execution_count": 36,
   "id": "af1988c6-07ec-4ad9-b5bf-7d705e008340",
   "metadata": {},
   "outputs": [
    {
     "data": {
      "text/html": [
       "<html>\\(\\displaystyle \\mathrm{Ric}\\left(g\\right)-\\text{unnamed metric} = \\left( -\\left(\\frac{\\partial\\,V}{\\partial x}\\right)^{2} - V\\left(t, x\\right) \\frac{\\partial^2\\,V}{\\partial x ^ 2} - \\frac{\\partial^2\\,V}{\\partial t\\partial x} \\right) \\mathrm{d} y\\otimes \\mathrm{d} y + \\left( -\\left(\\frac{\\partial\\,V}{\\partial x}\\right)^{2} - V\\left(t, x\\right) \\frac{\\partial^2\\,V}{\\partial x ^ 2} - \\frac{\\partial^2\\,V}{\\partial t\\partial x} \\right) \\mathrm{d} z\\otimes \\mathrm{d} z\\)</html>"
      ],
      "text/latex": [
       "$\\displaystyle \\mathrm{Ric}\\left(g\\right)-\\text{unnamed metric} = \\left( -\\left(\\frac{\\partial\\,V}{\\partial x}\\right)^{2} - V\\left(t, x\\right) \\frac{\\partial^2\\,V}{\\partial x ^ 2} - \\frac{\\partial^2\\,V}{\\partial t\\partial x} \\right) \\mathrm{d} y\\otimes \\mathrm{d} y + \\left( -\\left(\\frac{\\partial\\,V}{\\partial x}\\right)^{2} - V\\left(t, x\\right) \\frac{\\partial^2\\,V}{\\partial x ^ 2} - \\frac{\\partial^2\\,V}{\\partial t\\partial x} \\right) \\mathrm{d} z\\otimes \\mathrm{d} z$"
      ],
      "text/plain": [
       "Ric(g)-unnamed metric = (-(d(V)/dx)^2 - V(t, x)*d^2(V)/dx^2 - d^2(V)/dtdx) dy⊗dy + (-(d(V)/dx)^2 - V(t, x)*d^2(V)/dx^2 - d^2(V)/dtdx) dz⊗dz"
      ]
     },
     "execution_count": 36,
     "metadata": {},
     "output_type": "execute_result"
    }
   ],
   "source": [
    "Ein[:]\n",
    "Ein.display()"
   ]
  },
  {
   "cell_type": "markdown",
   "id": "e3094598-f387-4e98-9c35-a13551f4a51d",
   "metadata": {},
   "source": [
    "# 6. Energy Momentum Tensor (EMT)"
   ]
  },
  {
   "cell_type": "code",
   "execution_count": 37,
   "id": "a21ebf12-54d1-4c65-a0f8-6037aa452cc4",
   "metadata": {},
   "outputs": [],
   "source": [
    "var('Lambda_')\n",
    "var('G')\n",
    "T = 1/(8*pi*G) * ( Ein + g*Lambda_ )"
   ]
  },
  {
   "cell_type": "code",
   "execution_count": 38,
   "id": "afdbc6e2-4c5d-4602-91d2-60938db9aad2",
   "metadata": {
    "scrolled": true
   },
   "outputs": [
    {
     "data": {
      "text/html": [
       "<html>\\(\\displaystyle \\left(\\begin{array}{rrrr}\n",
       "\\frac{\\Lambda V\\left(t, x\\right)^{2} - \\Lambda}{8 \\, \\pi G} & -\\frac{\\Lambda V\\left(t, x\\right)}{8 \\, \\pi G} & 0 & 0 \\\\\n",
       "-\\frac{\\Lambda V\\left(t, x\\right)}{8 \\, \\pi G} & \\frac{\\Lambda}{8 \\, \\pi G} & 0 & 0 \\\\\n",
       "0 & 0 & -\\frac{\\left(\\frac{\\partial\\,V}{\\partial x}\\right)^{2} + V\\left(t, x\\right) \\frac{\\partial^2\\,V}{\\partial x ^ 2} - \\Lambda + \\frac{\\partial^2\\,V}{\\partial t\\partial x}}{8 \\, \\pi G} & 0 \\\\\n",
       "0 & 0 & 0 & -\\frac{\\left(\\frac{\\partial\\,V}{\\partial x}\\right)^{2} + V\\left(t, x\\right) \\frac{\\partial^2\\,V}{\\partial x ^ 2} - \\Lambda + \\frac{\\partial^2\\,V}{\\partial t\\partial x}}{8 \\, \\pi G}\n",
       "\\end{array}\\right)\\)</html>"
      ],
      "text/latex": [
       "$\\displaystyle \\left(\\begin{array}{rrrr}\n",
       "\\frac{\\Lambda V\\left(t, x\\right)^{2} - \\Lambda}{8 \\, \\pi G} & -\\frac{\\Lambda V\\left(t, x\\right)}{8 \\, \\pi G} & 0 & 0 \\\\\n",
       "-\\frac{\\Lambda V\\left(t, x\\right)}{8 \\, \\pi G} & \\frac{\\Lambda}{8 \\, \\pi G} & 0 & 0 \\\\\n",
       "0 & 0 & -\\frac{\\left(\\frac{\\partial\\,V}{\\partial x}\\right)^{2} + V\\left(t, x\\right) \\frac{\\partial^2\\,V}{\\partial x ^ 2} - \\Lambda + \\frac{\\partial^2\\,V}{\\partial t\\partial x}}{8 \\, \\pi G} & 0 \\\\\n",
       "0 & 0 & 0 & -\\frac{\\left(\\frac{\\partial\\,V}{\\partial x}\\right)^{2} + V\\left(t, x\\right) \\frac{\\partial^2\\,V}{\\partial x ^ 2} - \\Lambda + \\frac{\\partial^2\\,V}{\\partial t\\partial x}}{8 \\, \\pi G}\n",
       "\\end{array}\\right)$"
      ],
      "text/plain": [
       "[                               1/8*(Lambda_*V(t, x)^2 - Lambda_)/(pi*G)                                             -1/8*Lambda_*V(t, x)/(pi*G)                                                                       0                                                                       0]\n",
       "[                                            -1/8*Lambda_*V(t, x)/(pi*G)                                                      1/8*Lambda_/(pi*G)                                                                       0                                                                       0]\n",
       "[                                                                      0                                                                       0 -1/8*((d(V)/dx)^2 + V(t, x)*d^2(V)/dx^2 - Lambda_ + d^2(V)/dtdx)/(pi*G)                                                                       0]\n",
       "[                                                                      0                                                                       0                                                                       0 -1/8*((d(V)/dx)^2 + V(t, x)*d^2(V)/dx^2 - Lambda_ + d^2(V)/dtdx)/(pi*G)]"
      ]
     },
     "execution_count": 38,
     "metadata": {},
     "output_type": "execute_result"
    }
   ],
   "source": [
    "T[:]"
   ]
  },
  {
   "cell_type": "markdown",
   "id": "2256e754-818a-435d-8d08-4384cdd61663",
   "metadata": {},
   "source": [
    "# 6.1. Components of EMT"
   ]
  },
  {
   "cell_type": "markdown",
   "id": "676a7355-c7b4-48f1-8587-d9cd9d010b86",
   "metadata": {},
   "source": [
    "# 6.1.1. Lapse function $N_0 = \\sqrt(|g^{00}|)$"
   ]
  },
  {
   "cell_type": "code",
   "execution_count": 39,
   "id": "9762be42-eb3a-4d88-aa33-b56bea2d9957",
   "metadata": {},
   "outputs": [
    {
     "data": {
      "text/html": [
       "<html>\\(\\displaystyle \\left(t, x, y, z\\right) \\mapsto 1\\)</html>"
      ],
      "text/latex": [
       "$\\displaystyle \\left(t, x, y, z\\right) \\mapsto 1$"
      ],
      "text/plain": [
       "(t, x, y, z) ↦ 1"
      ]
     },
     "execution_count": 39,
     "metadata": {},
     "output_type": "execute_result"
    }
   ],
   "source": [
    "N_0 = sqrt(abs(ginv[0,0]))\n",
    "N_0.display()"
   ]
  },
  {
   "cell_type": "markdown",
   "id": "21ed3076-d93b-4c70-83d9-d35d6c35f51d",
   "metadata": {},
   "source": [
    "# 6.1.2. Compute shift vector $N^i$"
   ]
  },
  {
   "cell_type": "code",
   "execution_count": 40,
   "id": "0b82e43f-c9f7-423e-9a8a-1e89e6395da6",
   "metadata": {},
   "outputs": [
    {
     "data": {
      "text/html": [
       "<html>\\(\\displaystyle \\left(-V\\left(t, x\\right), 0, 0\\right)\\)</html>"
      ],
      "text/latex": [
       "$\\displaystyle \\left(-V\\left(t, x\\right), 0, 0\\right)$"
      ],
      "text/plain": [
       "(-V(t, x), 0, 0)"
      ]
     },
     "execution_count": 40,
     "metadata": {},
     "output_type": "execute_result"
    }
   ],
   "source": [
    "N = [ginv[0, i] for i in range(1, 4)] \n",
    "N[0],N[1], N[2]"
   ]
  },
  {
   "cell_type": "markdown",
   "id": "386242b5-529b-4a94-9cf2-960d4e301ea2",
   "metadata": {},
   "source": [
    "# 6.1.3. Define the fluid 4-velocity $u^\\mu$"
   ]
  },
  {
   "cell_type": "code",
   "execution_count": 41,
   "id": "00a9310e-1e65-4f93-9315-369d42d4cbea",
   "metadata": {},
   "outputs": [
    {
     "data": {
      "text/html": [
       "<html>\\(\\displaystyle u = \\frac{\\partial}{\\partial t } + V\\left(t, x\\right) \\frac{\\partial}{\\partial x }\\)</html>"
      ],
      "text/latex": [
       "$\\displaystyle u = \\frac{\\partial}{\\partial t } + V\\left(t, x\\right) \\frac{\\partial}{\\partial x }$"
      ],
      "text/plain": [
       "u = ∂/∂t + V(t, x) ∂/∂x"
      ]
     },
     "execution_count": 41,
     "metadata": {},
     "output_type": "execute_result"
    }
   ],
   "source": [
    "u = M.vector_field(name=\"u\")\n",
    "u[0] = 1 / N_0 # u_MU = 1\n",
    "for i in range(1, 4):\n",
    "    u[i] = - N[i - 1]/ N_0  # Spatial components : u_MU[1]=-V(t,x), u_MU[2]=0, u_MU[3]=0\n",
    "u.display()"
   ]
  },
  {
   "cell_type": "code",
   "execution_count": 42,
   "id": "1f7cfaf9-8761-4634-81f8-a8f88667a564",
   "metadata": {},
   "outputs": [
    {
     "data": {
      "text/html": [
       "<html>\\(\\displaystyle \\left[-1, 0, 0, 0\\right]\\)</html>"
      ],
      "text/latex": [
       "$\\displaystyle \\left[-1, 0, 0, 0\\right]$"
      ],
      "text/plain": [
       "[-1, 0, 0, 0]"
      ]
     },
     "execution_count": 42,
     "metadata": {},
     "output_type": "execute_result"
    }
   ],
   "source": [
    "u_down = u.down(g)\n",
    "u_down[:]"
   ]
  },
  {
   "cell_type": "markdown",
   "id": "8e719eb7-3c07-4fda-9ba7-95e918b81b02",
   "metadata": {},
   "source": [
    "# 6.1.5. Energy density $\\epsilon$"
   ]
  },
  {
   "cell_type": "code",
   "execution_count": 43,
   "id": "83249b89-577d-41cf-a800-b977792a9764",
   "metadata": {},
   "outputs": [
    {
     "data": {
      "text/html": [
       "<html>\\(\\displaystyle \\left(\\begin{array}{rrrr}\n",
       "0 & 0 & 0 & 0 \\\\\n",
       "0 & 0 & 0 & 0 \\\\\n",
       "0 & 0 & -\\left(\\frac{\\partial\\,V}{\\partial x}\\right)^{2} - V\\left(t, x\\right) \\frac{\\partial^2\\,V}{\\partial x ^ 2} - \\frac{\\partial^2\\,V}{\\partial t\\partial x} & 0 \\\\\n",
       "0 & 0 & 0 & -\\left(\\frac{\\partial\\,V}{\\partial x}\\right)^{2} - V\\left(t, x\\right) \\frac{\\partial^2\\,V}{\\partial x ^ 2} - \\frac{\\partial^2\\,V}{\\partial t\\partial x}\n",
       "\\end{array}\\right)\\)</html>"
      ],
      "text/latex": [
       "$\\displaystyle \\left(\\begin{array}{rrrr}\n",
       "0 & 0 & 0 & 0 \\\\\n",
       "0 & 0 & 0 & 0 \\\\\n",
       "0 & 0 & -\\left(\\frac{\\partial\\,V}{\\partial x}\\right)^{2} - V\\left(t, x\\right) \\frac{\\partial^2\\,V}{\\partial x ^ 2} - \\frac{\\partial^2\\,V}{\\partial t\\partial x} & 0 \\\\\n",
       "0 & 0 & 0 & -\\left(\\frac{\\partial\\,V}{\\partial x}\\right)^{2} - V\\left(t, x\\right) \\frac{\\partial^2\\,V}{\\partial x ^ 2} - \\frac{\\partial^2\\,V}{\\partial t\\partial x}\n",
       "\\end{array}\\right)$"
      ],
      "text/plain": [
       "[                                               0                                                0                                                0                                                0]\n",
       "[                                               0                                                0                                                0                                                0]\n",
       "[                                               0                                                0 -(d(V)/dx)^2 - V(t, x)*d^2(V)/dx^2 - d^2(V)/dtdx                                                0]\n",
       "[                                               0                                                0                                                0 -(d(V)/dx)^2 - V(t, x)*d^2(V)/dx^2 - d^2(V)/dtdx]"
      ]
     },
     "execution_count": 43,
     "metadata": {},
     "output_type": "execute_result"
    }
   ],
   "source": [
    "Ein[:]"
   ]
  },
  {
   "cell_type": "code",
   "execution_count": 44,
   "id": "5d023e4d",
   "metadata": {
    "scrolled": true
   },
   "outputs": [
    {
     "data": {
      "text/html": [
       "<html>\\(\\displaystyle \\left(\\begin{array}{rrrr}\n",
       "1 & V\\left(t, x\\right) & 0 & 0 \\\\\n",
       "V\\left(t, x\\right) & V\\left(t, x\\right)^{2} & 0 & 0 \\\\\n",
       "0 & 0 & 0 & 0 \\\\\n",
       "0 & 0 & 0 & 0\n",
       "\\end{array}\\right)\\)</html>"
      ],
      "text/latex": [
       "$\\displaystyle \\left(\\begin{array}{rrrr}\n",
       "1 & V\\left(t, x\\right) & 0 & 0 \\\\\n",
       "V\\left(t, x\\right) & V\\left(t, x\\right)^{2} & 0 & 0 \\\\\n",
       "0 & 0 & 0 & 0 \\\\\n",
       "0 & 0 & 0 & 0\n",
       "\\end{array}\\right)$"
      ],
      "text/plain": [
       "[        1   V(t, x)         0         0]\n",
       "[  V(t, x) V(t, x)^2         0         0]\n",
       "[        0         0         0         0]\n",
       "[        0         0         0         0]"
      ]
     },
     "execution_count": 44,
     "metadata": {},
     "output_type": "execute_result"
    }
   ],
   "source": [
    "uu= u['^i'] * u['^j']\n",
    "uu[:]"
   ]
  },
  {
   "cell_type": "code",
   "execution_count": 45,
   "id": "2649d801-9ded-463e-b6f6-dd5f6b1406f0",
   "metadata": {},
   "outputs": [
    {
     "data": {
      "text/html": [
       "<html>\\(\\displaystyle \\begin{array}{llcl} & M & \\longrightarrow & \\mathbb{R} \\\\ & \\left(t, x, y, z\\right) & \\longmapsto & -\\frac{\\Lambda}{8 \\, \\pi G} \\end{array}\\)</html>"
      ],
      "text/latex": [
       "$\\displaystyle \\begin{array}{llcl} & M & \\longrightarrow & \\mathbb{R} \\\\ & \\left(t, x, y, z\\right) & \\longmapsto & -\\frac{\\Lambda}{8 \\, \\pi G} \\end{array}$"
      ],
      "text/plain": [
       "M → ℝ\n",
       "(t, x, y, z) ↦ -1/8*Lambda_/(pi*G)"
      ]
     },
     "execution_count": 45,
     "metadata": {},
     "output_type": "execute_result"
    }
   ],
   "source": [
    "epsilon=uu['^{ij}'] * T['_{ij}']\n",
    "epsilon.display()"
   ]
  },
  {
   "cell_type": "markdown",
   "id": "51d4d484-d147-494a-81d8-8d0ff1b0421f",
   "metadata": {},
   "source": [
    "# 6.1.6. Pressure tensor  $p_{ij}= p h_{ij}+ \\pi_{ij}$   \n"
   ]
  },
  {
   "cell_type": "code",
   "execution_count": 46,
   "id": "b011bfe4-de64-43b0-8372-fe4a2087a5a9",
   "metadata": {},
   "outputs": [
    {
     "data": {
      "text/html": [
       "<html>\\(\\displaystyle \\left(\\frac{\\Lambda}{8 \\, \\pi G}, 0, 0\\right)\\)</html>"
      ],
      "text/latex": [
       "$\\displaystyle \\left(\\frac{\\Lambda}{8 \\, \\pi G}, 0, 0\\right)$"
      ],
      "text/plain": [
       "(1/8*Lambda_/(pi*G), 0, 0)"
      ]
     },
     "execution_count": 46,
     "metadata": {},
     "output_type": "execute_result"
    }
   ],
   "source": [
    "T[1,1], T[1,2], T[1,3]"
   ]
  },
  {
   "cell_type": "code",
   "execution_count": 47,
   "id": "3b6c179f-f00f-453f-a859-e8ad4790a45b",
   "metadata": {},
   "outputs": [
    {
     "data": {
      "text/html": [
       "<html>\\(\\displaystyle \\left(0, -\\frac{\\left(\\frac{\\partial\\,V}{\\partial x}\\right)^{2} + V\\left(t, x\\right) \\frac{\\partial^2\\,V}{\\partial x ^ 2} - \\Lambda + \\frac{\\partial^2\\,V}{\\partial t\\partial x}}{8 \\, \\pi G}, 0\\right)\\)</html>"
      ],
      "text/latex": [
       "$\\displaystyle \\left(0, -\\frac{\\left(\\frac{\\partial\\,V}{\\partial x}\\right)^{2} + V\\left(t, x\\right) \\frac{\\partial^2\\,V}{\\partial x ^ 2} - \\Lambda + \\frac{\\partial^2\\,V}{\\partial t\\partial x}}{8 \\, \\pi G}, 0\\right)$"
      ],
      "text/plain": [
       "(0, -1/8*((d(V)/dx)^2 + V(t, x)*d^2(V)/dx^2 - Lambda_ + d^2(V)/dtdx)/(pi*G), 0)"
      ]
     },
     "execution_count": 47,
     "metadata": {},
     "output_type": "execute_result"
    }
   ],
   "source": [
    "T[2,1], T[2,2], T[2,3]"
   ]
  },
  {
   "cell_type": "code",
   "execution_count": 48,
   "id": "8c9d0474-7857-49b5-951d-c3fc93889933",
   "metadata": {},
   "outputs": [
    {
     "data": {
      "text/html": [
       "<html>\\(\\displaystyle \\left(0, 0, -\\frac{\\left(\\frac{\\partial\\,V}{\\partial x}\\right)^{2} + V\\left(t, x\\right) \\frac{\\partial^2\\,V}{\\partial x ^ 2} - \\Lambda + \\frac{\\partial^2\\,V}{\\partial t\\partial x}}{8 \\, \\pi G}\\right)\\)</html>"
      ],
      "text/latex": [
       "$\\displaystyle \\left(0, 0, -\\frac{\\left(\\frac{\\partial\\,V}{\\partial x}\\right)^{2} + V\\left(t, x\\right) \\frac{\\partial^2\\,V}{\\partial x ^ 2} - \\Lambda + \\frac{\\partial^2\\,V}{\\partial t\\partial x}}{8 \\, \\pi G}\\right)$"
      ],
      "text/plain": [
       "(0, 0, -1/8*((d(V)/dx)^2 + V(t, x)*d^2(V)/dx^2 - Lambda_ + d^2(V)/dtdx)/(pi*G))"
      ]
     },
     "execution_count": 48,
     "metadata": {},
     "output_type": "execute_result"
    }
   ],
   "source": [
    "T[3,1], T[3,2], T[3,3]"
   ]
  },
  {
   "cell_type": "markdown",
   "id": "dc5e9dc2-50bc-494d-af1d-56877ae1c99a",
   "metadata": {},
   "source": [
    "# 6.1.7. Define the spatial projector $b^{\\mu \\nu} = g^{\\mu\\nu} + u^\\mu u^\\nu = h^{\\mu\\nu}$"
   ]
  },
  {
   "cell_type": "code",
   "execution_count": 49,
   "id": "3853b97c-04e3-4978-ac14-3ea9a5e3a1df",
   "metadata": {},
   "outputs": [
    {
     "data": {
      "text/html": [
       "<html>\\(\\displaystyle \\left(\\begin{array}{rrrr}\n",
       "0 & 0 & 0 & 0 \\\\\n",
       "0 & 1 & 0 & 0 \\\\\n",
       "0 & 0 & 1 & 0 \\\\\n",
       "0 & 0 & 0 & 1\n",
       "\\end{array}\\right)\\)</html>"
      ],
      "text/latex": [
       "$\\displaystyle \\left(\\begin{array}{rrrr}\n",
       "0 & 0 & 0 & 0 \\\\\n",
       "0 & 1 & 0 & 0 \\\\\n",
       "0 & 0 & 1 & 0 \\\\\n",
       "0 & 0 & 0 & 1\n",
       "\\end{array}\\right)$"
      ],
      "text/plain": [
       "[0 0 0 0]\n",
       "[0 1 0 0]\n",
       "[0 0 1 0]\n",
       "[0 0 0 1]"
      ]
     },
     "execution_count": 49,
     "metadata": {},
     "output_type": "execute_result"
    }
   ],
   "source": [
    "b = u['^i'] * u['^j'] + ginv\n",
    "b[:]"
   ]
  },
  {
   "cell_type": "markdown",
   "id": "b171435c-b66a-4e4e-929d-e6a8c5cd992c",
   "metadata": {},
   "source": [
    "# 6.1.8. Spatial heat vector $q_k = -b^{ik}u^j T_{ij}$"
   ]
  },
  {
   "cell_type": "code",
   "execution_count": 50,
   "id": "68eabc39-1aa0-40ba-8e54-673833e14232",
   "metadata": {},
   "outputs": [
    {
     "data": {
      "text/html": [
       "<html>\\(\\displaystyle 0\\)</html>"
      ],
      "text/latex": [
       "$\\displaystyle 0$"
      ],
      "text/plain": [
       "0"
      ]
     },
     "execution_count": 50,
     "metadata": {},
     "output_type": "execute_result"
    }
   ],
   "source": [
    "bu = -b['^{ik}']*u['^j']\n",
    "q2 = bu['^{ikj}']*T['_{ij}']\n",
    "q2.display()"
   ]
  },
  {
   "cell_type": "code",
   "execution_count": 51,
   "id": "692de332-1529-41a2-86be-f7c4f567cfaf",
   "metadata": {},
   "outputs": [
    {
     "data": {
      "text/html": [
       "<html>\\(\\displaystyle \\left(\\begin{array}{rrrr}\n",
       "V\\left(t, x\\right)^{2} & -V\\left(t, x\\right) & 0 & 0 \\\\\n",
       "-V\\left(t, x\\right) & 1 & 0 & 0 \\\\\n",
       "0 & 0 & 1 & 0 \\\\\n",
       "0 & 0 & 0 & 1\n",
       "\\end{array}\\right)\\)</html>"
      ],
      "text/latex": [
       "$\\displaystyle \\left(\\begin{array}{rrrr}\n",
       "V\\left(t, x\\right)^{2} & -V\\left(t, x\\right) & 0 & 0 \\\\\n",
       "-V\\left(t, x\\right) & 1 & 0 & 0 \\\\\n",
       "0 & 0 & 1 & 0 \\\\\n",
       "0 & 0 & 0 & 1\n",
       "\\end{array}\\right)$"
      ],
      "text/plain": [
       "[V(t, x)^2  -V(t, x)         0         0]\n",
       "[ -V(t, x)         1         0         0]\n",
       "[        0         0         1         0]\n",
       "[        0         0         0         1]"
      ]
     },
     "execution_count": 51,
     "metadata": {},
     "output_type": "execute_result"
    }
   ],
   "source": [
    "d =  g+u_down['_i'] * u_down['_j']\n",
    "d[:]"
   ]
  },
  {
   "cell_type": "code",
   "execution_count": 52,
   "id": "d10ba329-0559-4b60-af70-087138eaa37a",
   "metadata": {},
   "outputs": [
    {
     "data": {
      "text/html": [
       "<html>\\(\\displaystyle \\left(\\begin{array}{rrrr}\n",
       "-1 & 0 & 0 & 0 \\\\\n",
       "-V\\left(t, x\\right) & 0 & 0 & 0 \\\\\n",
       "0 & 0 & 0 & 0 \\\\\n",
       "0 & 0 & 0 & 0\n",
       "\\end{array}\\right)\\)</html>"
      ],
      "text/latex": [
       "$\\displaystyle \\left(\\begin{array}{rrrr}\n",
       "-1 & 0 & 0 & 0 \\\\\n",
       "-V\\left(t, x\\right) & 0 & 0 & 0 \\\\\n",
       "0 & 0 & 0 & 0 \\\\\n",
       "0 & 0 & 0 & 0\n",
       "\\end{array}\\right)$"
      ],
      "text/plain": [
       "[      -1        0        0        0]\n",
       "[-V(t, x)        0        0        0]\n",
       "[       0        0        0        0]\n",
       "[       0        0        0        0]"
      ]
     },
     "execution_count": 52,
     "metadata": {},
     "output_type": "execute_result"
    }
   ],
   "source": [
    "r = u['^i'] * u_down['_j'] \n",
    "r[:]"
   ]
  },
  {
   "cell_type": "code",
   "execution_count": 53,
   "id": "9792e743-e957-47c8-a5d5-26f0c2679e27",
   "metadata": {},
   "outputs": [
    {
     "data": {
      "text/html": [
       "<html>\\(\\displaystyle \\left(\\begin{array}{rrrr}\n",
       "0 & 0 & 0 & 0 \\\\\n",
       "-V\\left(t, x\\right) & 1 & 0 & 0 \\\\\n",
       "0 & 0 & 1 & 0 \\\\\n",
       "0 & 0 & 0 & 1\n",
       "\\end{array}\\right)\\)</html>"
      ],
      "text/latex": [
       "$\\displaystyle \\left(\\begin{array}{rrrr}\n",
       "0 & 0 & 0 & 0 \\\\\n",
       "-V\\left(t, x\\right) & 1 & 0 & 0 \\\\\n",
       "0 & 0 & 1 & 0 \\\\\n",
       "0 & 0 & 0 & 1\n",
       "\\end{array}\\right)$"
      ],
      "text/plain": [
       "[       0        0        0        0]\n",
       "[-V(t, x)        1        0        0]\n",
       "[       0        0        1        0]\n",
       "[       0        0        0        1]"
      ]
     },
     "execution_count": 53,
     "metadata": {},
     "output_type": "execute_result"
    }
   ],
   "source": [
    "# f^i_j = u^i * u_j\n",
    "f = M.tensor_field(2, 0, name='f')  \n",
    "for i in range(4):\n",
    "    for j in range(4):\n",
    "        f[i, j] = u[i] * u_down[j]  # u^i * u_j\n",
    "\n",
    "# Ajout de delta^i_j\n",
    "for i in range(4):\n",
    "    f[i, i] += 1  \n",
    "f[:]"
   ]
  },
  {
   "cell_type": "code",
   "execution_count": 54,
   "id": "1967de5b-1006-45b2-bf76-c75cab9d5a80",
   "metadata": {},
   "outputs": [
    {
     "data": {
      "text/html": [
       "<html>\\(\\displaystyle \\left(\\begin{array}{rrrr}\n",
       "\\frac{\\Lambda V\\left(t, x\\right)^{2} - \\Lambda}{8 \\, \\pi G} & -\\frac{\\Lambda V\\left(t, x\\right)}{8 \\, \\pi G} & 0 & 0 \\\\\n",
       "-\\frac{\\Lambda V\\left(t, x\\right)}{8 \\, \\pi G} & \\frac{\\Lambda}{8 \\, \\pi G} & 0 & 0 \\\\\n",
       "0 & 0 & -\\frac{\\left(\\frac{\\partial\\,V}{\\partial x}\\right)^{2} + V\\left(t, x\\right) \\frac{\\partial^2\\,V}{\\partial x ^ 2} - \\Lambda + \\frac{\\partial^2\\,V}{\\partial t\\partial x}}{8 \\, \\pi G} & 0 \\\\\n",
       "0 & 0 & 0 & -\\frac{\\left(\\frac{\\partial\\,V}{\\partial x}\\right)^{2} + V\\left(t, x\\right) \\frac{\\partial^2\\,V}{\\partial x ^ 2} - \\Lambda + \\frac{\\partial^2\\,V}{\\partial t\\partial x}}{8 \\, \\pi G}\n",
       "\\end{array}\\right)\\)</html>"
      ],
      "text/latex": [
       "$\\displaystyle \\left(\\begin{array}{rrrr}\n",
       "\\frac{\\Lambda V\\left(t, x\\right)^{2} - \\Lambda}{8 \\, \\pi G} & -\\frac{\\Lambda V\\left(t, x\\right)}{8 \\, \\pi G} & 0 & 0 \\\\\n",
       "-\\frac{\\Lambda V\\left(t, x\\right)}{8 \\, \\pi G} & \\frac{\\Lambda}{8 \\, \\pi G} & 0 & 0 \\\\\n",
       "0 & 0 & -\\frac{\\left(\\frac{\\partial\\,V}{\\partial x}\\right)^{2} + V\\left(t, x\\right) \\frac{\\partial^2\\,V}{\\partial x ^ 2} - \\Lambda + \\frac{\\partial^2\\,V}{\\partial t\\partial x}}{8 \\, \\pi G} & 0 \\\\\n",
       "0 & 0 & 0 & -\\frac{\\left(\\frac{\\partial\\,V}{\\partial x}\\right)^{2} + V\\left(t, x\\right) \\frac{\\partial^2\\,V}{\\partial x ^ 2} - \\Lambda + \\frac{\\partial^2\\,V}{\\partial t\\partial x}}{8 \\, \\pi G}\n",
       "\\end{array}\\right)$"
      ],
      "text/plain": [
       "[                               1/8*(Lambda_*V(t, x)^2 - Lambda_)/(pi*G)                                             -1/8*Lambda_*V(t, x)/(pi*G)                                                                       0                                                                       0]\n",
       "[                                            -1/8*Lambda_*V(t, x)/(pi*G)                                                      1/8*Lambda_/(pi*G)                                                                       0                                                                       0]\n",
       "[                                                                      0                                                                       0 -1/8*((d(V)/dx)^2 + V(t, x)*d^2(V)/dx^2 - Lambda_ + d^2(V)/dtdx)/(pi*G)                                                                       0]\n",
       "[                                                                      0                                                                       0                                                                       0 -1/8*((d(V)/dx)^2 + V(t, x)*d^2(V)/dx^2 - Lambda_ + d^2(V)/dtdx)/(pi*G)]"
      ]
     },
     "execution_count": 54,
     "metadata": {},
     "output_type": "execute_result"
    }
   ],
   "source": [
    "T[:]"
   ]
  },
  {
   "cell_type": "code",
   "execution_count": 55,
   "id": "ee35cdc8-30a3-4a97-86af-973057371286",
   "metadata": {},
   "outputs": [
    {
     "data": {
      "text/html": [
       "<html>\\(\\displaystyle \\left(\\begin{array}{rrrr}\n",
       "\\frac{\\Lambda}{8 \\, \\pi G} & 0 & 0 & 0 \\\\\n",
       "0 & \\frac{\\Lambda}{8 \\, \\pi G} & 0 & 0 \\\\\n",
       "0 & 0 & -\\frac{\\left(\\frac{\\partial\\,V}{\\partial x}\\right)^{2} + V\\left(t, x\\right) \\frac{\\partial^2\\,V}{\\partial x ^ 2} - \\Lambda + \\frac{\\partial^2\\,V}{\\partial t\\partial x}}{8 \\, \\pi G} & 0 \\\\\n",
       "0 & 0 & 0 & -\\frac{\\left(\\frac{\\partial\\,V}{\\partial x}\\right)^{2} + V\\left(t, x\\right) \\frac{\\partial^2\\,V}{\\partial x ^ 2} - \\Lambda + \\frac{\\partial^2\\,V}{\\partial t\\partial x}}{8 \\, \\pi G}\n",
       "\\end{array}\\right)\\)</html>"
      ],
      "text/latex": [
       "$\\displaystyle \\left(\\begin{array}{rrrr}\n",
       "\\frac{\\Lambda}{8 \\, \\pi G} & 0 & 0 & 0 \\\\\n",
       "0 & \\frac{\\Lambda}{8 \\, \\pi G} & 0 & 0 \\\\\n",
       "0 & 0 & -\\frac{\\left(\\frac{\\partial\\,V}{\\partial x}\\right)^{2} + V\\left(t, x\\right) \\frac{\\partial^2\\,V}{\\partial x ^ 2} - \\Lambda + \\frac{\\partial^2\\,V}{\\partial t\\partial x}}{8 \\, \\pi G} & 0 \\\\\n",
       "0 & 0 & 0 & -\\frac{\\left(\\frac{\\partial\\,V}{\\partial x}\\right)^{2} + V\\left(t, x\\right) \\frac{\\partial^2\\,V}{\\partial x ^ 2} - \\Lambda + \\frac{\\partial^2\\,V}{\\partial t\\partial x}}{8 \\, \\pi G}\n",
       "\\end{array}\\right)$"
      ],
      "text/plain": [
       "[                                                     1/8*Lambda_/(pi*G)                                                                       0                                                                       0                                                                       0]\n",
       "[                                                                      0                                                      1/8*Lambda_/(pi*G)                                                                       0                                                                       0]\n",
       "[                                                                      0                                                                       0 -1/8*((d(V)/dx)^2 + V(t, x)*d^2(V)/dx^2 - Lambda_ + d^2(V)/dtdx)/(pi*G)                                                                       0]\n",
       "[                                                                      0                                                                       0                                                                       0 -1/8*((d(V)/dx)^2 + V(t, x)*d^2(V)/dx^2 - Lambda_ + d^2(V)/dtdx)/(pi*G)]"
      ]
     },
     "execution_count": 55,
     "metadata": {},
     "output_type": "execute_result"
    }
   ],
   "source": [
    "p_mixed = ginv['^{ik}'] * T['_{kj}']\n",
    "p_mixed[:]"
   ]
  },
  {
   "cell_type": "code",
   "execution_count": 56,
   "id": "02809686-20c1-4160-99ce-468260567543",
   "metadata": {},
   "outputs": [
    {
     "data": {
      "text/html": [
       "<html>\\(\\displaystyle \\frac{\\Lambda}{8 \\, \\pi G}\\)</html>"
      ],
      "text/latex": [
       "$\\displaystyle \\frac{\\Lambda}{8 \\, \\pi G}$"
      ],
      "text/plain": [
       "1/8*Lambda_/(pi*G)"
      ]
     },
     "execution_count": 56,
     "metadata": {},
     "output_type": "execute_result"
    }
   ],
   "source": [
    "T11 = ginv[1,1] * T[1,1] +ginv[1,0] * T[0,1] \n",
    "T11"
   ]
  },
  {
   "cell_type": "code",
   "execution_count": 57,
   "id": "44adbf42-7d5b-41e3-acca-b61931ac5272",
   "metadata": {},
   "outputs": [
    {
     "data": {
      "text/html": [
       "<html>\\(\\displaystyle -\\frac{\\left(\\frac{\\partial\\,V}{\\partial x}\\right)^{2} + V\\left(t, x\\right) \\frac{\\partial^2\\,V}{\\partial x ^ 2} - \\Lambda + \\frac{\\partial^2\\,V}{\\partial t\\partial x}}{8 \\, \\pi G}\\)</html>"
      ],
      "text/latex": [
       "$\\displaystyle -\\frac{\\left(\\frac{\\partial\\,V}{\\partial x}\\right)^{2} + V\\left(t, x\\right) \\frac{\\partial^2\\,V}{\\partial x ^ 2} - \\Lambda + \\frac{\\partial^2\\,V}{\\partial t\\partial x}}{8 \\, \\pi G}$"
      ],
      "text/plain": [
       "-1/8*((d(V)/dx)^2 + V(t, x)*d^2(V)/dx^2 - Lambda_ + d^2(V)/dtdx)/(pi*G)"
      ]
     },
     "execution_count": 57,
     "metadata": {},
     "output_type": "execute_result"
    }
   ],
   "source": [
    "T22 = ginv[2,2] * T[2,2]\n",
    "T22"
   ]
  },
  {
   "cell_type": "code",
   "execution_count": 58,
   "id": "e01b85d6-26a8-430d-97a6-dc71903d51b8",
   "metadata": {},
   "outputs": [
    {
     "data": {
      "text/html": [
       "<html>\\(\\displaystyle \\left(\\begin{array}{rrrr}\n",
       "0 & 0 & 0 & 0 \\\\\n",
       "0 & 0 & 0 & 0 \\\\\n",
       "0 & 0 & -\\left(\\frac{\\partial\\,V}{\\partial x}\\right)^{2} - V\\left(t, x\\right) \\frac{\\partial^2\\,V}{\\partial x ^ 2} - \\frac{\\partial^2\\,V}{\\partial t\\partial x} & 0 \\\\\n",
       "0 & 0 & 0 & -\\left(\\frac{\\partial\\,V}{\\partial x}\\right)^{2} - V\\left(t, x\\right) \\frac{\\partial^2\\,V}{\\partial x ^ 2} - \\frac{\\partial^2\\,V}{\\partial t\\partial x}\n",
       "\\end{array}\\right)\\)</html>"
      ],
      "text/latex": [
       "$\\displaystyle \\left(\\begin{array}{rrrr}\n",
       "0 & 0 & 0 & 0 \\\\\n",
       "0 & 0 & 0 & 0 \\\\\n",
       "0 & 0 & -\\left(\\frac{\\partial\\,V}{\\partial x}\\right)^{2} - V\\left(t, x\\right) \\frac{\\partial^2\\,V}{\\partial x ^ 2} - \\frac{\\partial^2\\,V}{\\partial t\\partial x} & 0 \\\\\n",
       "0 & 0 & 0 & -\\left(\\frac{\\partial\\,V}{\\partial x}\\right)^{2} - V\\left(t, x\\right) \\frac{\\partial^2\\,V}{\\partial x ^ 2} - \\frac{\\partial^2\\,V}{\\partial t\\partial x}\n",
       "\\end{array}\\right)$"
      ],
      "text/plain": [
       "[                                               0                                                0                                                0                                                0]\n",
       "[                                               0                                                0                                                0                                                0]\n",
       "[                                               0                                                0 -(d(V)/dx)^2 - V(t, x)*d^2(V)/dx^2 - d^2(V)/dtdx                                                0]\n",
       "[                                               0                                                0                                                0 -(d(V)/dx)^2 - V(t, x)*d^2(V)/dx^2 - d^2(V)/dtdx]"
      ]
     },
     "execution_count": 58,
     "metadata": {},
     "output_type": "execute_result"
    }
   ],
   "source": [
    "Ein_mixed = ginv['^{ik}'] * Ein['_{kj}']\n",
    "Ein_mixed[:]"
   ]
  },
  {
   "cell_type": "code",
   "execution_count": 59,
   "id": "adb7ce37-74c4-4cfe-822e-96e78a364dbe",
   "metadata": {},
   "outputs": [
    {
     "data": {
      "text/html": [
       "<html>\\(\\displaystyle \\left(\\begin{array}{rrrr}\n",
       "0 & 0 & 0 & 0 \\\\\n",
       "-\\frac{\\Lambda V\\left(t, x\\right)}{8 \\, \\pi G} & \\frac{\\Lambda}{8 \\, \\pi G} & 0 & 0 \\\\\n",
       "0 & 0 & -\\frac{\\left(\\frac{\\partial\\,V}{\\partial x}\\right)^{2} + V\\left(t, x\\right) \\frac{\\partial^2\\,V}{\\partial x ^ 2} - \\Lambda + \\frac{\\partial^2\\,V}{\\partial t\\partial x}}{8 \\, \\pi G} & 0 \\\\\n",
       "0 & 0 & 0 & -\\frac{\\left(\\frac{\\partial\\,V}{\\partial x}\\right)^{2} + V\\left(t, x\\right) \\frac{\\partial^2\\,V}{\\partial x ^ 2} - \\Lambda + \\frac{\\partial^2\\,V}{\\partial t\\partial x}}{8 \\, \\pi G}\n",
       "\\end{array}\\right)\\)</html>"
      ],
      "text/latex": [
       "$\\displaystyle \\left(\\begin{array}{rrrr}\n",
       "0 & 0 & 0 & 0 \\\\\n",
       "-\\frac{\\Lambda V\\left(t, x\\right)}{8 \\, \\pi G} & \\frac{\\Lambda}{8 \\, \\pi G} & 0 & 0 \\\\\n",
       "0 & 0 & -\\frac{\\left(\\frac{\\partial\\,V}{\\partial x}\\right)^{2} + V\\left(t, x\\right) \\frac{\\partial^2\\,V}{\\partial x ^ 2} - \\Lambda + \\frac{\\partial^2\\,V}{\\partial t\\partial x}}{8 \\, \\pi G} & 0 \\\\\n",
       "0 & 0 & 0 & -\\frac{\\left(\\frac{\\partial\\,V}{\\partial x}\\right)^{2} + V\\left(t, x\\right) \\frac{\\partial^2\\,V}{\\partial x ^ 2} - \\Lambda + \\frac{\\partial^2\\,V}{\\partial t\\partial x}}{8 \\, \\pi G}\n",
       "\\end{array}\\right)$"
      ],
      "text/plain": [
       "[                                                                      0                                                                       0                                                                       0                                                                       0]\n",
       "[                                            -1/8*Lambda_*V(t, x)/(pi*G)                                                      1/8*Lambda_/(pi*G)                                                                       0                                                                       0]\n",
       "[                                                                      0                                                                       0 -1/8*((d(V)/dx)^2 + V(t, x)*d^2(V)/dx^2 - Lambda_ + d^2(V)/dtdx)/(pi*G)                                                                       0]\n",
       "[                                                                      0                                                                       0                                                                       0 -1/8*((d(V)/dx)^2 + V(t, x)*d^2(V)/dx^2 - Lambda_ + d^2(V)/dtdx)/(pi*G)]"
      ]
     },
     "execution_count": 59,
     "metadata": {},
     "output_type": "execute_result"
    }
   ],
   "source": [
    "p_mixed = b['^{ik}'] * T['_{kj}']\n",
    "p_mixed[:]"
   ]
  },
  {
   "cell_type": "code",
   "execution_count": 60,
   "id": "76a017dc-8364-49ea-ba94-ddcc1be55492",
   "metadata": {},
   "outputs": [
    {
     "data": {
      "text/html": [
       "<html>\\(\\displaystyle \\left(\\begin{array}{rrrr}\n",
       "\\frac{\\Lambda V\\left(t, x\\right)^{2} - \\Lambda}{8 \\, \\pi G} & -\\frac{\\Lambda V\\left(t, x\\right)}{8 \\, \\pi G} & 0 & 0 \\\\\n",
       "-\\frac{\\Lambda V\\left(t, x\\right)}{8 \\, \\pi G} & \\frac{\\Lambda}{8 \\, \\pi G} & 0 & 0 \\\\\n",
       "0 & 0 & -\\frac{\\left(\\frac{\\partial\\,V}{\\partial x}\\right)^{2} + V\\left(t, x\\right) \\frac{\\partial^2\\,V}{\\partial x ^ 2} - \\Lambda + \\frac{\\partial^2\\,V}{\\partial t\\partial x}}{8 \\, \\pi G} & 0 \\\\\n",
       "0 & 0 & 0 & -\\frac{\\left(\\frac{\\partial\\,V}{\\partial x}\\right)^{2} + V\\left(t, x\\right) \\frac{\\partial^2\\,V}{\\partial x ^ 2} - \\Lambda + \\frac{\\partial^2\\,V}{\\partial t\\partial x}}{8 \\, \\pi G}\n",
       "\\end{array}\\right)\\)</html>"
      ],
      "text/latex": [
       "$\\displaystyle \\left(\\begin{array}{rrrr}\n",
       "\\frac{\\Lambda V\\left(t, x\\right)^{2} - \\Lambda}{8 \\, \\pi G} & -\\frac{\\Lambda V\\left(t, x\\right)}{8 \\, \\pi G} & 0 & 0 \\\\\n",
       "-\\frac{\\Lambda V\\left(t, x\\right)}{8 \\, \\pi G} & \\frac{\\Lambda}{8 \\, \\pi G} & 0 & 0 \\\\\n",
       "0 & 0 & -\\frac{\\left(\\frac{\\partial\\,V}{\\partial x}\\right)^{2} + V\\left(t, x\\right) \\frac{\\partial^2\\,V}{\\partial x ^ 2} - \\Lambda + \\frac{\\partial^2\\,V}{\\partial t\\partial x}}{8 \\, \\pi G} & 0 \\\\\n",
       "0 & 0 & 0 & -\\frac{\\left(\\frac{\\partial\\,V}{\\partial x}\\right)^{2} + V\\left(t, x\\right) \\frac{\\partial^2\\,V}{\\partial x ^ 2} - \\Lambda + \\frac{\\partial^2\\,V}{\\partial t\\partial x}}{8 \\, \\pi G}\n",
       "\\end{array}\\right)$"
      ],
      "text/plain": [
       "[                               1/8*(Lambda_*V(t, x)^2 - Lambda_)/(pi*G)                                             -1/8*Lambda_*V(t, x)/(pi*G)                                                                       0                                                                       0]\n",
       "[                                            -1/8*Lambda_*V(t, x)/(pi*G)                                                      1/8*Lambda_/(pi*G)                                                                       0                                                                       0]\n",
       "[                                                                      0                                                                       0 -1/8*((d(V)/dx)^2 + V(t, x)*d^2(V)/dx^2 - Lambda_ + d^2(V)/dtdx)/(pi*G)                                                                       0]\n",
       "[                                                                      0                                                                       0                                                                       0 -1/8*((d(V)/dx)^2 + V(t, x)*d^2(V)/dx^2 - Lambda_ + d^2(V)/dtdx)/(pi*G)]"
      ]
     },
     "execution_count": 60,
     "metadata": {},
     "output_type": "execute_result"
    }
   ],
   "source": [
    "T[:]"
   ]
  },
  {
   "cell_type": "code",
   "execution_count": 61,
   "id": "2e3ac92e-1f00-4f46-a590-22b79a0c7353",
   "metadata": {},
   "outputs": [
    {
     "data": {
      "text/html": [
       "<html>\\(\\displaystyle \\left(\\begin{array}{rrrr}\n",
       "V\\left(t, x\\right)^{2} - 1 & -V\\left(t, x\\right) & 0 & 0 \\\\\n",
       "-V\\left(t, x\\right) & 1 & 0 & 0 \\\\\n",
       "0 & 0 & 1 & 0 \\\\\n",
       "0 & 0 & 0 & 1\n",
       "\\end{array}\\right)\\)</html>"
      ],
      "text/latex": [
       "$\\displaystyle \\left(\\begin{array}{rrrr}\n",
       "V\\left(t, x\\right)^{2} - 1 & -V\\left(t, x\\right) & 0 & 0 \\\\\n",
       "-V\\left(t, x\\right) & 1 & 0 & 0 \\\\\n",
       "0 & 0 & 1 & 0 \\\\\n",
       "0 & 0 & 0 & 1\n",
       "\\end{array}\\right)$"
      ],
      "text/plain": [
       "[V(t, x)^2 - 1      -V(t, x)             0             0]\n",
       "[     -V(t, x)             1             0             0]\n",
       "[            0             0             1             0]\n",
       "[            0             0             0             1]"
      ]
     },
     "execution_count": 61,
     "metadata": {},
     "output_type": "execute_result"
    }
   ],
   "source": [
    "g[:]"
   ]
  },
  {
   "cell_type": "code",
   "execution_count": 62,
   "id": "ed277f43-dcce-48a9-8101-05f28f1f1d22",
   "metadata": {},
   "outputs": [
    {
     "data": {
      "text/html": [
       "<html>\\(\\displaystyle \\left(\\begin{array}{rrrr}\n",
       "-1 & -V\\left(t, x\\right) & 0 & 0 \\\\\n",
       "-V\\left(t, x\\right) & -V\\left(t, x\\right)^{2} + 1 & 0 & 0 \\\\\n",
       "0 & 0 & 1 & 0 \\\\\n",
       "0 & 0 & 0 & 1\n",
       "\\end{array}\\right)\\)</html>"
      ],
      "text/latex": [
       "$\\displaystyle \\left(\\begin{array}{rrrr}\n",
       "-1 & -V\\left(t, x\\right) & 0 & 0 \\\\\n",
       "-V\\left(t, x\\right) & -V\\left(t, x\\right)^{2} + 1 & 0 & 0 \\\\\n",
       "0 & 0 & 1 & 0 \\\\\n",
       "0 & 0 & 0 & 1\n",
       "\\end{array}\\right)$"
      ],
      "text/plain": [
       "[            -1       -V(t, x)              0              0]\n",
       "[      -V(t, x) -V(t, x)^2 + 1              0              0]\n",
       "[             0              0              1              0]\n",
       "[             0              0              0              1]"
      ]
     },
     "execution_count": 62,
     "metadata": {},
     "output_type": "execute_result"
    }
   ],
   "source": [
    "ginv[:]"
   ]
  }
 ],
 "metadata": {
  "kernelspec": {
   "display_name": "SageMath 10.5",
   "language": "sage",
   "name": "sagemath"
  },
  "language_info": {
   "codemirror_mode": {
    "name": "ipython",
    "version": 3
   },
   "file_extension": ".py",
   "mimetype": "text/x-python",
   "name": "python",
   "nbconvert_exporter": "python",
   "pygments_lexer": "ipython3",
   "version": "3.11.11"
  }
 },
 "nbformat": 4,
 "nbformat_minor": 5
}
